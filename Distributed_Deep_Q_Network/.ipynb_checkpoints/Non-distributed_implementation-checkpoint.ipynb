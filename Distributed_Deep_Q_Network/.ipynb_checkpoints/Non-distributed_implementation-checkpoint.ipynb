{
 "cells": [
  {
   "cell_type": "markdown",
   "metadata": {},
   "source": [
    "# Distributed Deep Q-Learning \n",
    "\n",
    "The goal of this assignment is to implement and experiment with both single-core and distributed versions of the deep reinforcement learning algorithm Deep Q Networks (DQN). In particular, DQN will be run in the classic RL benchmark Cart-Pole and abblation experiments will be run to observe the impact of the different DQN components. \n",
    "\n",
    "The relevant content about DQN can be found Q-Learning and SARSA are in the following course notes from CS533.\n",
    "\n",
    "https://oregonstate.instructure.com/courses/1719746/files/75047394/download?wrap=1\n",
    "\n",
    "The full pseudo-code for DQN is on slide 45 with prior slides introducing the individual components. \n",
    "\n",
    "\n",
    "## Recap of DQN \n",
    "\n",
    "From the course slides it can be seen that DQN is simply the standard table-based Q-learning algorithm but with three extensions:\n",
    "\n",
    "1) Use of function approximation via a neural network instead of a Q-table. \n",
    "2) Use of experience replay. \n",
    "3) Use of a target network. \n",
    "\n",
    "Extension (1) allows for scaling to problems with enormous state spaces, such as when the states correspond to images or sequences of images. Extensions (2) and (3) are claimed to improve the robustness and effectiveness of DQN compared. \n",
    "\n",
    "(2) adjusts Q-learning so that updates are not just performed on individual experiences as they arrive. But rather, experiences are stored in a memory buffer and updates are performed by sampling random mini-batches of experience tuples from the memory buffer and updating the network based on the mini-batch. This allows for reuse of experience as well as helping to reduce correlation between successive updates, which is claimed to be beneficial. \n",
    "\n",
    "(3) adjusts the way that target values are computed for the Q-learning updates. Let $Q_{\\theta}(s,a)$ be the function approximation network with parameters $\\theta$ for representing the Q-function. Given an experience tuple $(s, a, r, s')$ the origional Q-learning algorithm updates the parameters so that $Q_{\\theta}(s,a)$ moves closer to the target value: \n",
    "\\begin{equation}\n",
    "r + \\beta \\max_a' Q_{\\theta}(s',a') \n",
    "\\end{equation}\n",
    "Rather, DQN stores two function approximation networks. The first is the update network with parameters $\\theta$, which is the network that is continually updated during learning. The second is a target network with parameters $\\theta'$. Given the same experience tuple, DQN will update the parameters $\\theta$ so that $Q_{\\theta}(s,a)$ moves toward a target value based on the target network:\n",
    "\\begin{equation}\n",
    "r + \\beta \\max_a' Q_{\\theta'}(s',a') \n",
    "\\end{equation}\n",
    "Periodically the target network is updated with the most recent parameters $\\theta' \\leftarrow \\theta$. This use of a target network is claimed to stabilize learning.\n",
    "\n",
    "In the assignment you will get to see an example of the impact of both the target network and experience replay.\n",
    "\n",
    "Further reading about DQN and its application to learning to play Atari games can be found in the following paper. \n",
    "\n",
    "Mnih, V., Kavukcuoglu, K., Silver, D., Rusu, A.A., Veness, J., Bellemare, M.G., Graves, A., Riedmiller, M., Fidjeland, A.K., Ostrovski, G. and Petersen, S., 2015. Human-level control through deep reinforcement learning. Nature, 518(7540), p.529.\n",
    "https://oregonstate.instructure.com/courses/1719746/files/75234294/download?wrap=1"
   ]
  },
  {
   "cell_type": "code",
   "execution_count": 1,
   "metadata": {},
   "outputs": [
    {
     "name": "stdout",
     "output_type": "stream",
     "text": [
      "Requirement already satisfied: gym[Box2D] in /home/u25867/.local/lib/python3.6/site-packages\n",
      "Requirement already satisfied: scipy in /glob/intel-python/versions/2018u2/intelpython3/lib/python3.6/site-packages (from gym[Box2D])\n",
      "Requirement already satisfied: requests>=2.0 in /glob/intel-python/versions/2018u2/intelpython3/lib/python3.6/site-packages (from gym[Box2D])\n",
      "Requirement already satisfied: numpy>=1.10.4 in /home/u25867/.local/lib/python3.6/site-packages (from gym[Box2D])\n",
      "Requirement already satisfied: pyglet>=1.2.0 in /home/u25867/.local/lib/python3.6/site-packages (from gym[Box2D])\n",
      "Requirement already satisfied: six in /home/u25867/.local/lib/python3.6/site-packages (from gym[Box2D])\n",
      "Requirement already satisfied: box2d-py>=2.3.5; extra == \"box2d\" in /home/u25867/.local/lib/python3.6/site-packages (from gym[Box2D])\n",
      "Requirement already satisfied: chardet<3.1.0,>=3.0.2 in /glob/intel-python/versions/2018u2/intelpython3/lib/python3.6/site-packages (from requests>=2.0->gym[Box2D])\n",
      "Requirement already satisfied: idna<2.7,>=2.5 in /glob/intel-python/versions/2018u2/intelpython3/lib/python3.6/site-packages (from requests>=2.0->gym[Box2D])\n",
      "Requirement already satisfied: urllib3<1.23,>=1.21.1 in /glob/intel-python/versions/2018u2/intelpython3/lib/python3.6/site-packages (from requests>=2.0->gym[Box2D])\n",
      "Requirement already satisfied: certifi>=2017.4.17 in /glob/intel-python/versions/2018u2/intelpython3/lib/python3.6/site-packages (from requests>=2.0->gym[Box2D])\n",
      "Requirement already satisfied: future in /home/u25867/.local/lib/python3.6/site-packages (from pyglet>=1.2.0->gym[Box2D])\n",
      "\u001b[33mYou are using pip version 9.0.1, however version 19.1.1 is available.\n",
      "You should consider upgrading via the 'pip install --upgrade pip' command.\u001b[0m\n",
      "Requirement already satisfied: torch in /home/u25867/.local/lib/python3.6/site-packages\n",
      "Requirement already satisfied: numpy in /home/u25867/.local/lib/python3.6/site-packages (from torch)\n",
      "\u001b[33mYou are using pip version 9.0.1, however version 19.1.1 is available.\n",
      "You should consider upgrading via the 'pip install --upgrade pip' command.\u001b[0m\n",
      "Requirement already satisfied: JSAnimation in /home/u25867/.local/lib/python3.6/site-packages\n",
      "\u001b[33mYou are using pip version 9.0.1, however version 19.1.1 is available.\n",
      "You should consider upgrading via the 'pip install --upgrade pip' command.\u001b[0m\n",
      "Requirement already satisfied: matplotlib in /glob/intel-python/versions/2018u2/intelpython3/lib/python3.6/site-packages\n",
      "Requirement already satisfied: numpy>=1.7.1 in /home/u25867/.local/lib/python3.6/site-packages (from matplotlib)\n",
      "Requirement already satisfied: six>=1.10 in /home/u25867/.local/lib/python3.6/site-packages (from matplotlib)\n",
      "Requirement already satisfied: python-dateutil>=2.0 in /glob/intel-python/versions/2018u2/intelpython3/lib/python3.6/site-packages (from matplotlib)\n",
      "Requirement already satisfied: pytz in /glob/intel-python/versions/2018u2/intelpython3/lib/python3.6/site-packages (from matplotlib)\n",
      "Requirement already satisfied: cycler>=0.10 in /glob/intel-python/versions/2018u2/intelpython3/lib/python3.6/site-packages (from matplotlib)\n",
      "Requirement already satisfied: pyparsing!=2.0.4,!=2.1.2,!=2.1.6,>=2.0.1 in /glob/intel-python/versions/2018u2/intelpython3/lib/python3.6/site-packages (from matplotlib)\n",
      "\u001b[33mYou are using pip version 9.0.1, however version 19.1.1 is available.\n",
      "You should consider upgrading via the 'pip install --upgrade pip' command.\u001b[0m\n"
     ]
    }
   ],
   "source": [
    "!pip install --user gym[Box2D]\n",
    "!pip install --user torch\n",
    "!pip install --user JSAnimation\n",
    "!pip install --user matplotlib"
   ]
  },
  {
   "cell_type": "markdown",
   "metadata": {},
   "source": [
    "Install the packages for enviroment"
   ]
  },
  {
   "cell_type": "code",
   "execution_count": 1,
   "metadata": {},
   "outputs": [],
   "source": [
    "import gym\n",
    "import torch\n",
    "import time\n",
    "import os\n",
    "import ray\n",
    "import numpy as np\n",
    "\n",
    "from tqdm import tqdm\n",
    "from random import uniform, randint\n",
    "\n",
    "import io\n",
    "import base64\n",
    "from IPython.display import HTML\n",
    "\n",
    "from dqn_model import DQNModel\n",
    "from dqn_model import _DQNModel\n",
    "from memory import ReplayBuffer\n",
    "\n",
    "import matplotlib.pyplot as plt\n",
    "%matplotlib inline\n",
    "\n",
    "FloatTensor = torch.FloatTensor"
   ]
  },
  {
   "cell_type": "markdown",
   "metadata": {},
   "source": [
    "## Useful PyTorch functions"
   ]
  },
  {
   "cell_type": "markdown",
   "metadata": {},
   "source": [
    "### Tensors\n",
    "\n",
    "This assignment will use the PyTorch library for the required neural network functionality. You do not need to be familiar with the details of PyTorch or neural network training. However, the assignment will require dealing with data in the form of tensors.  \n",
    "\n",
    "The mini-batches used to train the PyTorch neural network is expected to be represented as a tensor matrix. The function `FloatTensor` can convert a list or NumPy matrix into a tensor matrix if needed. \n",
    "\n",
    "You can find more infomation here: https://pytorch.org/docs/stable/tensors.html"
   ]
  },
  {
   "cell_type": "code",
   "execution_count": 2,
   "metadata": {},
   "outputs": [
    {
     "name": "stdout",
     "output_type": "stream",
     "text": [
      "[[3, 2, 1], [6, 4, 5], [7, 8, 9]]\n",
      "<class 'torch.Tensor'>\n",
      "tensor([[3., 2., 1.],\n",
      "        [6., 4., 5.],\n",
      "        [7., 8., 9.]])\n"
     ]
    }
   ],
   "source": [
    "# list\n",
    "m = [[3,2,1],[6,4,5],[7,8,9]]\n",
    "print(m)\n",
    "\n",
    "# tensor matrix\n",
    "m_tensor = FloatTensor(m)\n",
    "print(type(m_tensor))\n",
    "print(m_tensor)"
   ]
  },
  {
   "cell_type": "markdown",
   "metadata": {},
   "source": [
    "### Tensor.max()\n",
    "Once you have a tenosr maxtrix, you can use torch.max(m_tensor, dim) to get the max value and max index corresponding to the dimension you choose.\n",
    "```\n",
    ">>> a = torch.randn(4, 4)\n",
    ">>> a\n",
    "tensor([[-1.2360, -0.2942, -0.1222,  0.8475],\n",
    "        [ 1.1949, -1.1127, -2.2379, -0.6702],\n",
    "        [ 1.5717, -0.9207,  0.1297, -1.8768],\n",
    "        [-0.6172,  1.0036, -0.6060, -0.2432]])\n",
    ">>> torch.max(a, 1)\n",
    "torch.return_types.max(values=tensor([0.8475, 1.1949, 1.5717, 1.0036]), indices=tensor([3, 0, 0, 1]))\n",
    "```\n",
    "You can find more infomation here: https://pytorch.org/docs/stable/torch.html#torch.max"
   ]
  },
  {
   "cell_type": "code",
   "execution_count": 3,
   "metadata": {},
   "outputs": [
    {
     "name": "stdout",
     "output_type": "stream",
     "text": [
      "tensor([3., 6., 9.]) tensor([0, 0, 2])\n"
     ]
    }
   ],
   "source": [
    "max_value, index = torch.max(m_tensor, dim = 1)\n",
    "print(max_value, index)"
   ]
  },
  {
   "cell_type": "markdown",
   "metadata": {},
   "source": [
    "## Initialize Environment\n",
    "### CartPole-v0:  \n",
    "CartPole is a classic control task that is often used as an introductory reinforcement learning benchmark. The environment involves controlling a 2d cart that can move in either the left or right direction on a frictionless track. A pole is attached to the cart via an unactuated joint. The system is controlled by applying a force of +1 or -1 to the cart. The pendulum starts upright, and the goal is to prevent it from falling over. A reward of +1 is provided for every timestep that the pole remains upright. The episode ends when the pole is more than 15 degrees from vertical, or the cart moves more than 2.4 units from the center.  \n",
    "(You can find more infomation by this Link: https://gym.openai.com/envs/CartPole-v0/)  \n",
    "  \n"
   ]
  },
  {
   "cell_type": "code",
   "execution_count": 4,
   "metadata": {},
   "outputs": [],
   "source": [
    "# Set the Env name and action space for CartPole\n",
    "ENV_NAME = 'CartPole-v0'\n",
    "# Move left, Move right\n",
    "ACTION_DICT = {\n",
    "    \"LEFT\": 0,\n",
    "    \"RIGHT\":1\n",
    "}\n",
    "# Register the environment\n",
    "env_CartPole = gym.make(ENV_NAME)"
   ]
  },
  {
   "cell_type": "code",
   "execution_count": 5,
   "metadata": {},
   "outputs": [],
   "source": [
    "# Set result saving folder\n",
    "result_folder = ENV_NAME\n",
    "result_file = ENV_NAME + \"/results.txt\"\n",
    "if not os.path.isdir(result_folder):\n",
    "    os.mkdir(result_folder)"
   ]
  },
  {
   "cell_type": "markdown",
   "metadata": {},
   "source": [
    "## Helper Function\n",
    "Plot results."
   ]
  },
  {
   "cell_type": "code",
   "execution_count": 6,
   "metadata": {},
   "outputs": [],
   "source": [
    "def plot_result(total_rewards ,learning_num, legend):\n",
    "    print(\"\\nLearning Performance:\\n\")\n",
    "    episodes = []\n",
    "    for i in range(len(total_rewards)):\n",
    "        episodes.append(i * learning_num + 1)\n",
    "        \n",
    "    plt.figure(num = 1)\n",
    "    fig, ax = plt.subplots()\n",
    "    plt.plot(episodes, total_rewards)\n",
    "    plt.title('performance')\n",
    "    plt.legend(legend)\n",
    "    plt.xlabel(\"Episodes\")\n",
    "    plt.ylabel(\"total rewards\")\n",
    "    plt.show()"
   ]
  },
  {
   "cell_type": "markdown",
   "metadata": {},
   "source": [
    "## Hyperparams\n",
    "When function approximation is involved, especially neural networks, additional hyper parameters are inroduced and setting the parameters can require experience. Below is a list of the hyperparameters used in this assignment and values for the parameters that have worked well for a basic DQN implementation. You will adjust these values for particular parts of the assignment. For example, experiments that do not use the target network will set 'use_target_model' to False. \n",
    "\n",
    "You can find the more infomation about these hyperparameters in the notation of DQN_agent.init() function."
   ]
  },
  {
   "cell_type": "code",
   "execution_count": 7,
   "metadata": {},
   "outputs": [],
   "source": [
    "hyperparams_CartPole = {\n",
    "    'epsilon_decay_steps' : 100000, \n",
    "    'final_epsilon' : 0.1,\n",
    "    'batch_size' : 32, \n",
    "    'update_steps' : 10, \n",
    "    'memory_size' : 2000, \n",
    "    'beta' : 0.99, \n",
    "    'model_replace_freq' : 2000,\n",
    "    'learning_rate' : 0.0003,\n",
    "    'use_target_model': True\n",
    "}"
   ]
  },
  {
   "cell_type": "markdown",
   "metadata": {},
   "source": [
    "***\n",
    "# Part 1: Non-distributed DQN\n",
    "\n",
    "In this part, you will complete an implementation of DQN and run experiments on the CartPole environment from OpenAI Gym.  \n",
    "Note that OpenAI Gym has many other environments that use the same interface---so this experience will allow the curious student to easily explore these algorithms more widely. \n",
    "\n",
    "Below you need to fill in the missing code for the DQN implementation. \n",
    "\n",
    "The Run function below can then be used to generate learning curves. \n",
    "\n",
    "You should conduct the following experiments involving different features of DQN. \n",
    "\n",
    "1. DQN without a replay buffer and without a target network. This is just standard Q-learning with a function approximator.\n",
    "    The corresponding parameters are: memory_size = 1, update_steps = 1, batch_size = 1, use_target_model = False  \n",
    "    \n",
    "2. DQN without a replay buffer (but including the target network).   \n",
    "    The corresponding parameters are: memory_size = 1, update_steps = 1, batch_size = 1, use_target_model = True  \n",
    "\n",
    "3. DQN with a replay buffer, but without a target network.   \n",
    "    Here you set use_target_model = False and otherwise set the replay memory parameters to the above suggested values \n",
    "   \n",
    "4. Full DQN\n",
    "\n",
    "For each experiment, record the parameters that you used, plot the resulting learning curves, and give a summary of your observations regarding the differences you observed. \n",
    "***\n"
   ]
  },
  {
   "cell_type": "markdown",
   "metadata": {},
   "source": [
    "\n",
    "## DQN Agent\n",
    "\n",
    "The full DQN agent involves a number of functions, the neural network, and the replay memory. Interfaces to a neural network model and memory are provided. \n",
    "\n",
    "Some useful information is below:   \n",
    "- Neural Network Model: The network is used to represent the Q-function $Q(s,a)$. It takes a state $s$ as input and returns a vector of Q-values, one value for each action. The following interface functions are used for predicting Q-values, actions, and updating the neural network model parameters. \n",
    "    1. Model.predict(state) --- Returns the action that has the best Q-value in 'state'.\n",
    "    2. Model.predict_batch(states) --- This is used to predict both the Q-values and best actions for a batch of states. Given a batch of states, the function returns: 1) 'best_actions' a vector containing the best action for each input state, and 2) 'q_values' a matrix where each row gives the Q-value for all actions of each state (one row per state).   \n",
    "    3. Model.fit(q_values, q_target) --- It is used to update the neural network (via back-propagation). 'q_values' is a vector containing the Q-value predictions for a list of state-action pairs (e.g. from a batch of experience tuples). 'q_target' is a vector containing target values that we would like the correspoinding predictions to get closer to. This function updates the network in a way that the network predictions will ideally be closer to the targets. There is no return value.  \n",
    "    4. Model.replace(another_model) --- It takes another model as input, and replace the weight of itself by the input model.\n",
    "- Memory: This is the buffer used to store experience tuples for experience replay.\n",
    "    1. Memory.add(state, action, reward, state', is_terminal) --- It takes one example as input, and store it into its storage.  \n",
    "    2. Memory.sample(batch_size) --- It takes a batch_size int number as input. Return 'batch_size' number of randomly selected examples from the current memory buffer. The batch takes the form (states, actions, rewards, states', is_terminals) with each component being a vector/list of size equal to batch_size. "
   ]
  },
  {
   "cell_type": "raw",
   "metadata": {},
   "source": [
    "DQN without a replay buffer and without a target network. \n",
    "This is just standard Q-learning with a function approximator. \n",
    "The corresponding parameters are: memory_size = 1, update_steps = 1, batch_size = 1, use_target_model = False"
   ]
  },
  {
   "cell_type": "code",
   "execution_count": 8,
   "metadata": {},
   "outputs": [],
   "source": [
    "hyperparams_CartPole = {\n",
    "    'epsilon_decay_steps' : 100000, \n",
    "    'final_epsilon' : 0.1,\n",
    "    'batch_size' : 1, \n",
    "    'update_steps' : 1, \n",
    "    'memory_size' : 1, \n",
    "    'beta' : 0.99, \n",
    "    'model_replace_freq' : 2000,\n",
    "    'learning_rate' : 0.0003,\n",
    "    'use_target_model': False\n",
    "}"
   ]
  },
  {
   "cell_type": "code",
   "execution_count": 14,
   "metadata": {},
   "outputs": [],
   "source": [
    "class DQN_agent(object):\n",
    "    def __init__(self, env, hyper_params, action_space = len(ACTION_DICT)):\n",
    "        \n",
    "        self.env = env\n",
    "        self.max_episode_steps = env._max_episode_steps\n",
    "        \n",
    "        \"\"\"\n",
    "            beta: The discounted factor of Q-value function\n",
    "            (epsilon): The explore or exploit policy epsilon. \n",
    "            initial_epsilon: When the 'steps' is 0, the epsilon is initial_epsilon, 1\n",
    "            final_epsilon: After the number of 'steps' reach 'epsilon_decay_steps', \n",
    "                The epsilon set to the 'final_epsilon' determinately.\n",
    "            epsilon_decay_steps: The epsilon will decrease linearly along with the steps from 0 to 'epsilon_decay_steps'.\n",
    "        \"\"\"\n",
    "        self.beta = hyper_params['beta']\n",
    "        self.initial_epsilon = 1\n",
    "        self.final_epsilon = hyper_params['final_epsilon']\n",
    "        self.epsilon_decay_steps = hyper_params['epsilon_decay_steps']\n",
    "\n",
    "        \"\"\"\n",
    "            episode: Record training episode\n",
    "            steps: Add 1 when predicting an action\n",
    "            learning: The trigger of agent learning. It is on while training agent. It is off while testing agent.\n",
    "            action_space: The action space of the current environment, e.g 2.\n",
    "        \"\"\"\n",
    "        self.episode = 0\n",
    "        self.steps = 0\n",
    "        self.best_reward = 0#-------------may be recording the max reward obtained in an episode\n",
    "        self.learning = True\n",
    "        self.action_space = action_space\n",
    "\n",
    "        \"\"\"\n",
    "            input_len The input length of the neural network. It equals to the length of the state vector.\n",
    "            output_len: The output length of the neural network. It is equal to the action space.\n",
    "            eval_model: The model for predicting action for the agent.\n",
    "            target_model: The model for calculating Q-value of next_state to update 'eval_model'.\n",
    "            use_target_model: Trigger for turn 'target_model' on/off\n",
    "        \"\"\"\n",
    "        state = env.reset()\n",
    "        \n",
    "        input_len = len(state)\n",
    "        output_len = action_space#---------action_space here is the length of the action space\n",
    "        self.eval_model = DQNModel(input_len, output_len, learning_rate = hyper_params['learning_rate'])\n",
    "        self.use_target_model = hyper_params['use_target_model']\n",
    "        if self.use_target_model:\n",
    "            self.target_model = DQNModel(input_len, output_len)#-----------each agent has one DQNModel()\n",
    "#         memory: Store and sample experience replay.\n",
    "        self.memory = ReplayBuffer(hyper_params['memory_size'])\n",
    "        \n",
    "        \"\"\"\n",
    "            batch_size: Mini batch size for training model.\n",
    "            update_steps: The frequence of traning model\n",
    "            model_replace_freq: The frequence of replacing 'target_model' by 'eval_model'\n",
    "        \"\"\"\n",
    "        self.batch_size = hyper_params['batch_size']\n",
    "        self.update_steps = hyper_params['update_steps']\n",
    "        self.model_replace_freq = hyper_params['model_replace_freq']#---------for each agent\n",
    "        \n",
    "    # Linear decrease function for epsilon for each agent\n",
    "    def linear_decrease(self, initial_value, final_value, curr_steps, final_decay_steps):\n",
    "        decay_rate = curr_steps / final_decay_steps\n",
    "        if decay_rate > 1:\n",
    "            decay_rate = 1\n",
    "        return initial_value - (initial_value - final_value) * decay_rate\n",
    "    \n",
    "    def explore_or_exploit_policy(self, state):#-----------Note:Experience generated by the learning network\n",
    "        p = uniform(0, 1)\n",
    "        # Get decreased epsilon\n",
    "        epsilon = self.linear_decrease(self.initial_epsilon, \n",
    "                               self.final_epsilon,\n",
    "                               self.steps,\n",
    "                               self.epsilon_decay_steps)\n",
    "        \n",
    "        if p < epsilon:\n",
    "            #return action\n",
    "            return randint(0, self.action_space - 1)#---Return random integers from low (inclusive) to high (exclusive).\n",
    "        else:\n",
    "            #return action\n",
    "            return self.greedy_policy(state)\n",
    "        \n",
    "    def greedy_policy(self, state):\n",
    "        return self.eval_model.predict(state)\n",
    "    \n",
    "    # This next function will be called in the main RL loop to update the neural network model given a batch of\n",
    "    #experience\n",
    "    # 1) Sample a 'batch_size' batch of experiences from the memory.\n",
    "    # 2) Predict the Q-value from the 'eval_model' based on (states, actions)\n",
    "    # 3) Predict the Q-value from the 'target_model' base on (next_states), and take the max of each Q-value \n",
    "    # vector, Q_max\n",
    "    # 4)  If is_terminal == 0 for a sample in the batch u took from the replay buffer,\n",
    "            #q_target = reward + discounted factor * Q_max, otherwise, q_target = reward\n",
    "    # 5) Call fit() to do the back-propagation for 'eval_model'.\n",
    "    \n",
    "    def update_batch(self):\n",
    "        if len(self.memory) < self.batch_size or self.steps % self.update_steps != 0:\n",
    "            return #means return if either you dont have sufficient number of experiences to batch from or this\n",
    "                    #timestep is not a multiple of the frequency of time steps because u need to do this after only\n",
    "                    #a certain number of timesteps in an episode\n",
    "\n",
    "        batch = self.memory.sample(self.batch_size) #get samples from the experience replay\n",
    "\n",
    "        (states, actions, reward, next_states, is_terminal) = batch\n",
    "        #each of these is a vector of length the same as the length of a batch sampled from the replay buffer\n",
    "        \n",
    "        states = states\n",
    "        next_states = next_states\n",
    "        reward = FloatTensor(reward) \n",
    "        \n",
    "        #create an array to denote if the next state is terminal or not so as to assign approirate target\n",
    "        terminal = FloatTensor([1 if t else 0 for t in is_terminal])\n",
    "        #need to do this conversion because its not 1 and 0 in the is_terminal vector but it is True and False\n",
    "        \n",
    "        \n",
    "        \n",
    "        \n",
    "        batch_index = torch.arange(self.batch_size, dtype=torch.long)\n",
    "        #Returns a 1-D tensor of size ((end-start)/step) with values from the interval (start,end) taken \n",
    "        #with common difference \"step\" beginning from start\n",
    "        #default --> torch.arange(start=0, end, step=1)\n",
    "        #dtype parameter is the desired data type of returned tensor\n",
    "        #end is a non-optional argument for arange()\n",
    "        #by default, the step is 1\n",
    "        \n",
    "        # Current Q Values\n",
    "        _, q_values = self.eval_model.predict_batch(states)#used to predict both the Q-values and best actions for a batch of states. \n",
    "        #returns a matrix, each row is the set of Q values for all the actions in this particular state\n",
    "                \n",
    "        \n",
    "        q_values = q_values[batch_index, actions]\n",
    "        \n",
    "        \n",
    "        # Calculate target\n",
    "        # predict_batch() : This is used to predict both the Q-values and best actions for a batch of states. \n",
    "        #Given a batch of states, the function returns: 1) 'best_actions' a vector containing the best action \n",
    "        #for each input state, and 2) 'q_values' a matrix where each row gives the Q-value for all actions of \n",
    "        #each state (one row per state).\n",
    "        \n",
    "        if self.use_target_model:\n",
    "            actions, q_next = self.target_model.predict_batch(next_states) #to get the training samples as well as \n",
    "            #the Q value of the next state we can bootstrap from\n",
    "        else:   \n",
    "            actions, q_next = self.eval_model.predict_batch(next_states) #use the learning model for getting\n",
    "            #the q values of the current state\n",
    "        #--------------------------------------------------------------------------\n",
    "        \n",
    "        #INSERT YOUR CODE HERE --- neet to compute 'q_targets' used below\n",
    "        \n",
    "        #calculate the Qmax from next_states that you need to calculate the target in the update equation\n",
    "        \n",
    "        #q_next calculated above is a matrix\n",
    "        max_Q_per_state, index_of_argmax = torch.max(q_next,dim = 1)\n",
    "        \n",
    "        q_target_list= []\n",
    "        import time\n",
    "       \n",
    "        for item in range(len(terminal)):\n",
    "            #print(batch[0])\n",
    "            #time.sleep(2222)\n",
    "            if terminal[item]==1:\n",
    "                q_target_list.append(reward[item])\n",
    "            else:\n",
    "                q_target_list.append(reward[item]+ self.beta * max_Q_per_state[item] )\n",
    "        \n",
    "        \n",
    "        \n",
    "        #----------------------------------------------------------------------------\n",
    "        q_target_list = FloatTensor(q_target_list)\n",
    "        # update model\n",
    "        self.eval_model.fit(q_values, q_target_list)\n",
    "    \n",
    "    def learn_and_evaluate(self, training_episodes, test_interval):\n",
    "        test_number = training_episodes // test_interval\n",
    "        all_results = []\n",
    "        \n",
    "        for i in range(test_number):\n",
    "            # learn\n",
    "            self.learn(test_interval)\n",
    "            \n",
    "            # evaluate\n",
    "            avg_reward = self.evaluate()\n",
    "            all_results.append(avg_reward)\n",
    "            \n",
    "        return all_results\n",
    "    \n",
    "        \n",
    "    \n",
    "    def learn(self, test_interval):\n",
    "        for episode in tqdm(range(test_interval), desc=\"Training\"):\n",
    "            state = self.env.reset()\n",
    "            done = False\n",
    "            steps = 0\n",
    "            self.episode += 1\n",
    "            while steps < self.max_episode_steps and not done: \n",
    "                #INSERT YOUR CODE HERE\n",
    "                # add experience from explore-exploit policy to memory\n",
    "                #put this state action pair into the replay buffer\n",
    "                #memory.add(state, action, reward, state', is_terminal) takes one example as input, and store it into its storage.\n",
    "                # update the model every 'update_steps' of experience\n",
    "                \n",
    "                action = self.explore_or_exploit_policy(state)\n",
    "                new_state,reward, done,_ = self.env.step(action)\n",
    "                self.memory.add(state, action,reward,new_state,done)\n",
    "                \n",
    "                self.steps = self.steps + 1\n",
    "                steps = steps + 1\n",
    "                if (self.steps % self.update_steps) == 0 :\n",
    "                    self.update_batch()\n",
    "                \n",
    "                # update the target network (if the target network is being used) every 'model_replace_freq' of experiences \n",
    "#                 if (self.steps % self.model_replace_freq) == 0:\n",
    "#                     self.target_model.replace(self.eval_model)\n",
    "                \n",
    "                \n",
    "                #------------update the state to new state\n",
    "                state = new_state\n",
    "                \n",
    "                \n",
    "                #----------------------------------------------------------------------------\n",
    "    def evaluate(self, trials = 30):\n",
    "        total_reward = 0\n",
    "        for _ in tqdm(range(trials), desc=\"Evaluating\"):\n",
    "            state = self.env.reset()\n",
    "            done = False\n",
    "            steps = 0\n",
    "\n",
    "            while steps < self.max_episode_steps and not done:\n",
    "                steps += 1\n",
    "                action = self.greedy_policy(state)\n",
    "                state, reward, done, _ = self.env.step(action)\n",
    "                total_reward += reward\n",
    "\n",
    "        avg_reward = total_reward / trials\n",
    "        print(avg_reward)\n",
    "        f = open(result_file, \"a+\")\n",
    "        f.write(str(avg_reward) + \"\\n\")\n",
    "        f.close()\n",
    "        if avg_reward >= self.best_reward:\n",
    "            self.best_reward = avg_reward\n",
    "            self.save_model()\n",
    "        return avg_reward\n",
    "\n",
    "    # save model\n",
    "    def save_model(self):\n",
    "        self.eval_model.save(result_folder + '/best_model.pt')\n",
    "        \n",
    "    # load model\n",
    "    def load_model(self):\n",
    "        self.eval_model.load(result_folder + '/best_model.pt')"
   ]
  },
  {
   "cell_type": "markdown",
   "metadata": {},
   "source": [
    "## Run function"
   ]
  },
  {
   "cell_type": "code",
   "execution_count": 11,
   "metadata": {},
   "outputs": [
    {
     "name": "stderr",
     "output_type": "stream",
     "text": [
      "Training: 100%|██████████| 50/50 [00:08<00:00,  4.37it/s]\n",
      "Evaluating: 100%|██████████| 30/30 [00:00<00:00, 190.43it/s]\n",
      "Training:   2%|▏         | 1/50 [00:00<00:07,  6.71it/s]"
     ]
    },
    {
     "name": "stdout",
     "output_type": "stream",
     "text": [
      "32.666666666666664\n"
     ]
    },
    {
     "name": "stderr",
     "output_type": "stream",
     "text": [
      "Training: 100%|██████████| 50/50 [00:07<00:00,  6.54it/s]\n",
      "Evaluating: 100%|██████████| 30/30 [00:00<00:00, 629.31it/s]\n",
      "Training:   2%|▏         | 1/50 [00:00<00:05,  9.32it/s]"
     ]
    },
    {
     "name": "stdout",
     "output_type": "stream",
     "text": [
      "9.466666666666667\n"
     ]
    },
    {
     "name": "stderr",
     "output_type": "stream",
     "text": [
      "Training: 100%|██████████| 50/50 [00:07<00:00,  6.76it/s]\n",
      "Evaluating: 100%|██████████| 30/30 [00:00<00:00, 558.18it/s]\n",
      "Training:   0%|          | 0/50 [00:00<?, ?it/s]"
     ]
    },
    {
     "name": "stdout",
     "output_type": "stream",
     "text": [
      "9.5\n"
     ]
    },
    {
     "name": "stderr",
     "output_type": "stream",
     "text": [
      "Training: 100%|██████████| 50/50 [00:07<00:00,  4.47it/s]\n",
      "Evaluating: 100%|██████████| 30/30 [00:00<00:00, 468.24it/s]\n",
      "Training:   2%|▏         | 1/50 [00:00<00:05,  8.55it/s]"
     ]
    },
    {
     "name": "stdout",
     "output_type": "stream",
     "text": [
      "9.6\n"
     ]
    },
    {
     "name": "stderr",
     "output_type": "stream",
     "text": [
      "Training: 100%|██████████| 50/50 [00:07<00:00,  7.10it/s]\n",
      "Evaluating: 100%|██████████| 30/30 [00:00<00:00, 708.45it/s]\n",
      "Training:   0%|          | 0/50 [00:00<?, ?it/s]"
     ]
    },
    {
     "name": "stdout",
     "output_type": "stream",
     "text": [
      "9.533333333333333\n"
     ]
    },
    {
     "name": "stderr",
     "output_type": "stream",
     "text": [
      "Training: 100%|██████████| 50/50 [00:06<00:00,  8.31it/s]\n",
      "Evaluating: 100%|██████████| 30/30 [00:00<00:00, 695.33it/s]\n",
      "Training:   4%|▍         | 2/50 [00:00<00:04, 10.88it/s]"
     ]
    },
    {
     "name": "stdout",
     "output_type": "stream",
     "text": [
      "9.533333333333333\n"
     ]
    },
    {
     "name": "stderr",
     "output_type": "stream",
     "text": [
      "Training: 100%|██████████| 50/50 [00:06<00:00,  7.40it/s]\n",
      "Evaluating: 100%|██████████| 30/30 [00:00<00:00, 685.50it/s]\n",
      "Training:   4%|▍         | 2/50 [00:00<00:04, 11.46it/s]"
     ]
    },
    {
     "name": "stdout",
     "output_type": "stream",
     "text": [
      "9.2\n"
     ]
    },
    {
     "name": "stderr",
     "output_type": "stream",
     "text": [
      "Training: 100%|██████████| 50/50 [00:07<00:00,  5.71it/s]\n",
      "Evaluating: 100%|██████████| 30/30 [00:00<00:00, 663.29it/s]\n",
      "Training:   0%|          | 0/50 [00:00<?, ?it/s]"
     ]
    },
    {
     "name": "stdout",
     "output_type": "stream",
     "text": [
      "9.3\n"
     ]
    },
    {
     "name": "stderr",
     "output_type": "stream",
     "text": [
      "Training: 100%|██████████| 50/50 [00:07<00:00,  3.44it/s]\n",
      "Evaluating: 100%|██████████| 30/30 [00:00<00:00, 584.21it/s]\n",
      "Training:   0%|          | 0/50 [00:00<?, ?it/s]"
     ]
    },
    {
     "name": "stdout",
     "output_type": "stream",
     "text": [
      "9.433333333333334\n"
     ]
    },
    {
     "name": "stderr",
     "output_type": "stream",
     "text": [
      "Training: 100%|██████████| 50/50 [00:08<00:00,  6.08it/s]\n",
      "Evaluating: 100%|██████████| 30/30 [00:00<00:00, 746.11it/s]\n",
      "Training:   2%|▏         | 1/50 [00:00<00:09,  5.20it/s]"
     ]
    },
    {
     "name": "stdout",
     "output_type": "stream",
     "text": [
      "9.5\n"
     ]
    },
    {
     "name": "stderr",
     "output_type": "stream",
     "text": [
      "Training: 100%|██████████| 50/50 [00:07<00:00,  6.71it/s]\n",
      "Evaluating: 100%|██████████| 30/30 [00:00<00:00, 589.95it/s]\n",
      "Training:   2%|▏         | 1/50 [00:00<00:06,  7.23it/s]"
     ]
    },
    {
     "name": "stdout",
     "output_type": "stream",
     "text": [
      "9.566666666666666\n"
     ]
    },
    {
     "name": "stderr",
     "output_type": "stream",
     "text": [
      "Training: 100%|██████████| 50/50 [00:07<00:00,  7.32it/s]\n",
      "Evaluating: 100%|██████████| 30/30 [00:00<00:00, 709.50it/s]\n",
      "Training:   0%|          | 0/50 [00:00<?, ?it/s]"
     ]
    },
    {
     "name": "stdout",
     "output_type": "stream",
     "text": [
      "9.6\n"
     ]
    },
    {
     "name": "stderr",
     "output_type": "stream",
     "text": [
      "Training: 100%|██████████| 50/50 [00:06<00:00,  7.96it/s]\n",
      "Evaluating: 100%|██████████| 30/30 [00:00<00:00, 541.90it/s]\n",
      "Training:   2%|▏         | 1/50 [00:00<00:06,  7.88it/s]"
     ]
    },
    {
     "name": "stdout",
     "output_type": "stream",
     "text": [
      "9.233333333333333\n"
     ]
    },
    {
     "name": "stderr",
     "output_type": "stream",
     "text": [
      "Training: 100%|██████████| 50/50 [00:07<00:00,  6.35it/s]\n",
      "Evaluating: 100%|██████████| 30/30 [00:00<00:00, 713.41it/s]\n",
      "Training:   2%|▏         | 1/50 [00:00<00:05,  8.38it/s]"
     ]
    },
    {
     "name": "stdout",
     "output_type": "stream",
     "text": [
      "9.1\n"
     ]
    },
    {
     "name": "stderr",
     "output_type": "stream",
     "text": [
      "Training: 100%|██████████| 50/50 [00:06<00:00,  7.09it/s]\n",
      "Evaluating: 100%|██████████| 30/30 [00:00<00:00, 740.21it/s]\n",
      "Training:   4%|▍         | 2/50 [00:00<00:04, 10.74it/s]"
     ]
    },
    {
     "name": "stdout",
     "output_type": "stream",
     "text": [
      "9.3\n"
     ]
    },
    {
     "name": "stderr",
     "output_type": "stream",
     "text": [
      "Training: 100%|██████████| 50/50 [00:08<00:00,  5.60it/s]\n",
      "Evaluating: 100%|██████████| 30/30 [00:00<00:00, 65.14it/s]\n",
      "Training:   2%|▏         | 1/50 [00:00<00:05,  8.44it/s]"
     ]
    },
    {
     "name": "stdout",
     "output_type": "stream",
     "text": [
      "106.63333333333334\n"
     ]
    },
    {
     "name": "stderr",
     "output_type": "stream",
     "text": [
      "Training: 100%|██████████| 50/50 [00:11<00:00,  3.47it/s]\n",
      "Evaluating: 100%|██████████| 30/30 [00:00<00:00, 82.82it/s]\n",
      "Training:   2%|▏         | 1/50 [00:00<00:05,  9.01it/s]"
     ]
    },
    {
     "name": "stdout",
     "output_type": "stream",
     "text": [
      "83.23333333333333\n"
     ]
    },
    {
     "name": "stderr",
     "output_type": "stream",
     "text": [
      "Training: 100%|██████████| 50/50 [00:11<00:00,  4.27it/s]\n",
      "Evaluating: 100%|██████████| 30/30 [00:00<00:00, 52.35it/s]\n",
      "Training:   2%|▏         | 1/50 [00:00<00:05,  9.36it/s]"
     ]
    },
    {
     "name": "stdout",
     "output_type": "stream",
     "text": [
      "129.83333333333334\n"
     ]
    },
    {
     "name": "stderr",
     "output_type": "stream",
     "text": [
      "Training: 100%|██████████| 50/50 [00:09<00:00,  6.73it/s]\n",
      "Evaluating: 100%|██████████| 30/30 [00:00<00:00, 64.34it/s]\n",
      "Training:   0%|          | 0/50 [00:00<?, ?it/s]"
     ]
    },
    {
     "name": "stdout",
     "output_type": "stream",
     "text": [
      "107.86666666666666\n"
     ]
    },
    {
     "name": "stderr",
     "output_type": "stream",
     "text": [
      "Training: 100%|██████████| 50/50 [00:11<00:00,  4.48it/s]\n",
      "Evaluating: 100%|██████████| 30/30 [00:00<00:00, 50.03it/s]\n",
      "Training:   2%|▏         | 1/50 [00:00<00:08,  5.97it/s]"
     ]
    },
    {
     "name": "stdout",
     "output_type": "stream",
     "text": [
      "124.43333333333334\n"
     ]
    },
    {
     "name": "stderr",
     "output_type": "stream",
     "text": [
      "Training: 100%|██████████| 50/50 [00:10<00:00,  6.59it/s]\n",
      "Evaluating: 100%|██████████| 30/30 [00:00<00:00, 393.99it/s]\n",
      "Training:   2%|▏         | 1/50 [00:00<00:07,  6.17it/s]"
     ]
    },
    {
     "name": "stdout",
     "output_type": "stream",
     "text": [
      "17.366666666666667\n"
     ]
    },
    {
     "name": "stderr",
     "output_type": "stream",
     "text": [
      "Training: 100%|██████████| 50/50 [00:09<00:00,  3.15it/s]\n",
      "Evaluating: 100%|██████████| 30/30 [00:00<00:00, 473.37it/s]\n",
      "Training:   2%|▏         | 1/50 [00:00<00:07,  6.72it/s]"
     ]
    },
    {
     "name": "stdout",
     "output_type": "stream",
     "text": [
      "13.866666666666667\n"
     ]
    },
    {
     "name": "stderr",
     "output_type": "stream",
     "text": [
      "Training: 100%|██████████| 50/50 [00:15<00:00,  3.39it/s]\n",
      "Evaluating: 100%|██████████| 30/30 [00:00<00:00, 82.27it/s]\n",
      "Training:   0%|          | 0/50 [00:00<?, ?it/s]"
     ]
    },
    {
     "name": "stdout",
     "output_type": "stream",
     "text": [
      "65.76666666666667\n"
     ]
    },
    {
     "name": "stderr",
     "output_type": "stream",
     "text": [
      "Training: 100%|██████████| 50/50 [00:10<00:00,  6.49it/s]\n",
      "Evaluating: 100%|██████████| 30/30 [00:00<00:00, 41.70it/s]\n",
      "Training:   0%|          | 0/50 [00:00<?, ?it/s]"
     ]
    },
    {
     "name": "stdout",
     "output_type": "stream",
     "text": [
      "158.56666666666666\n"
     ]
    },
    {
     "name": "stderr",
     "output_type": "stream",
     "text": [
      "Training: 100%|██████████| 50/50 [00:15<00:00,  3.19it/s]\n",
      "Evaluating: 100%|██████████| 30/30 [00:00<00:00, 76.06it/s]\n",
      "Training:   0%|          | 0/50 [00:00<?, ?it/s]"
     ]
    },
    {
     "name": "stdout",
     "output_type": "stream",
     "text": [
      "89.53333333333333\n"
     ]
    },
    {
     "name": "stderr",
     "output_type": "stream",
     "text": [
      "Training: 100%|██████████| 50/50 [00:15<00:00,  4.45it/s]\n",
      "Evaluating: 100%|██████████| 30/30 [00:00<00:00, 53.30it/s]\n",
      "Training:   2%|▏         | 1/50 [00:00<00:05,  9.61it/s]"
     ]
    },
    {
     "name": "stdout",
     "output_type": "stream",
     "text": [
      "126.63333333333334\n"
     ]
    },
    {
     "name": "stderr",
     "output_type": "stream",
     "text": [
      "Training: 100%|██████████| 50/50 [00:14<00:00,  6.28it/s]\n",
      "Evaluating: 100%|██████████| 30/30 [00:00<00:00, 73.46it/s]\n",
      "Training:   2%|▏         | 1/50 [00:00<00:08,  5.85it/s]"
     ]
    },
    {
     "name": "stdout",
     "output_type": "stream",
     "text": [
      "96.6\n"
     ]
    },
    {
     "name": "stderr",
     "output_type": "stream",
     "text": [
      "Training: 100%|██████████| 50/50 [00:11<00:00,  5.18it/s]\n",
      "Evaluating: 100%|██████████| 30/30 [00:00<00:00, 69.47it/s]\n",
      "Training:   2%|▏         | 1/50 [00:00<00:08,  5.92it/s]"
     ]
    },
    {
     "name": "stdout",
     "output_type": "stream",
     "text": [
      "88.76666666666667\n"
     ]
    },
    {
     "name": "stderr",
     "output_type": "stream",
     "text": [
      "Training: 100%|██████████| 50/50 [00:12<00:00,  5.68it/s]\n",
      "Evaluating: 100%|██████████| 30/30 [00:00<00:00, 43.05it/s]\n",
      "Training:   0%|          | 0/50 [00:00<?, ?it/s]"
     ]
    },
    {
     "name": "stdout",
     "output_type": "stream",
     "text": [
      "159.83333333333334\n"
     ]
    },
    {
     "name": "stderr",
     "output_type": "stream",
     "text": [
      "Training: 100%|██████████| 50/50 [00:15<00:00,  5.00it/s]\n",
      "Evaluating: 100%|██████████| 30/30 [00:00<00:00, 33.33it/s]\n",
      "Training:   0%|          | 0/50 [00:00<?, ?it/s]"
     ]
    },
    {
     "name": "stdout",
     "output_type": "stream",
     "text": [
      "198.86666666666667\n"
     ]
    },
    {
     "name": "stderr",
     "output_type": "stream",
     "text": [
      "Training: 100%|██████████| 50/50 [00:13<00:00,  3.80it/s]\n",
      "Evaluating: 100%|██████████| 30/30 [00:00<00:00, 97.83it/s]\n",
      "Training:   0%|          | 0/50 [00:00<?, ?it/s]"
     ]
    },
    {
     "name": "stdout",
     "output_type": "stream",
     "text": [
      "68.43333333333334\n"
     ]
    },
    {
     "name": "stderr",
     "output_type": "stream",
     "text": [
      "Training: 100%|██████████| 50/50 [00:17<00:00,  3.33it/s]\n",
      "Evaluating: 100%|██████████| 30/30 [00:00<00:00, 229.72it/s]\n",
      "Training:   2%|▏         | 1/50 [00:00<00:06,  8.07it/s]"
     ]
    },
    {
     "name": "stdout",
     "output_type": "stream",
     "text": [
      "29.6\n"
     ]
    },
    {
     "name": "stderr",
     "output_type": "stream",
     "text": [
      "Training: 100%|██████████| 50/50 [00:13<00:00,  3.70it/s]\n",
      "Evaluating: 100%|██████████| 30/30 [00:00<00:00, 66.11it/s]\n",
      "Training:   0%|          | 0/50 [00:00<?, ?it/s]"
     ]
    },
    {
     "name": "stdout",
     "output_type": "stream",
     "text": [
      "99.0\n"
     ]
    },
    {
     "name": "stderr",
     "output_type": "stream",
     "text": [
      "Training: 100%|██████████| 50/50 [00:06<00:00,  8.64it/s]\n",
      "Evaluating: 100%|██████████| 30/30 [00:00<00:00, 361.98it/s]\n",
      "Training:   2%|▏         | 1/50 [00:00<00:09,  5.25it/s]"
     ]
    },
    {
     "name": "stdout",
     "output_type": "stream",
     "text": [
      "14.633333333333333\n"
     ]
    },
    {
     "name": "stderr",
     "output_type": "stream",
     "text": [
      "Training: 100%|██████████| 50/50 [00:08<00:00,  6.14it/s]\n",
      "Evaluating: 100%|██████████| 30/30 [00:00<00:00, 53.69it/s]\n",
      "Training:   0%|          | 0/50 [00:00<?, ?it/s]"
     ]
    },
    {
     "name": "stdout",
     "output_type": "stream",
     "text": [
      "124.83333333333333\n"
     ]
    },
    {
     "name": "stderr",
     "output_type": "stream",
     "text": [
      "Training: 100%|██████████| 50/50 [00:12<00:00,  2.91it/s]\n",
      "Evaluating: 100%|██████████| 30/30 [00:00<00:00, 83.48it/s]\n",
      "Training:   0%|          | 0/50 [00:00<?, ?it/s]"
     ]
    },
    {
     "name": "stdout",
     "output_type": "stream",
     "text": [
      "85.93333333333334\n"
     ]
    },
    {
     "name": "stderr",
     "output_type": "stream",
     "text": [
      "Training: 100%|██████████| 50/50 [00:12<00:00,  3.72it/s]\n",
      "Evaluating: 100%|██████████| 30/30 [00:00<00:00, 48.09it/s]\n",
      "Training:   2%|▏         | 1/50 [00:00<00:07,  6.21it/s]"
     ]
    },
    {
     "name": "stdout",
     "output_type": "stream",
     "text": [
      "136.06666666666666\n"
     ]
    },
    {
     "name": "stderr",
     "output_type": "stream",
     "text": [
      "Training: 100%|██████████| 50/50 [00:16<00:00,  1.92it/s]\n",
      "Evaluating: 100%|██████████| 30/30 [00:00<00:00, 72.77it/s]\n",
      "Training:   0%|          | 0/50 [00:00<?, ?it/s]"
     ]
    },
    {
     "name": "stdout",
     "output_type": "stream",
     "text": [
      "92.16666666666667\n"
     ]
    },
    {
     "name": "stderr",
     "output_type": "stream",
     "text": [
      "Training: 100%|██████████| 50/50 [00:11<00:00,  4.22it/s]\n",
      "Evaluating: 100%|██████████| 30/30 [00:00<00:00, 117.39it/s]\n",
      "Training:   2%|▏         | 1/50 [00:00<00:05,  9.04it/s]"
     ]
    },
    {
     "name": "stdout",
     "output_type": "stream",
     "text": [
      "63.3\n"
     ]
    },
    {
     "name": "stderr",
     "output_type": "stream",
     "text": [
      "Training: 100%|██████████| 50/50 [00:15<00:00,  1.47it/s]\n",
      "Evaluating: 100%|██████████| 30/30 [00:00<00:00, 87.33it/s]\n",
      "Training:   0%|          | 0/50 [00:00<?, ?it/s]"
     ]
    },
    {
     "name": "stdout",
     "output_type": "stream",
     "text": [
      "65.63333333333334\n"
     ]
    },
    {
     "name": "stderr",
     "output_type": "stream",
     "text": [
      "Training: 100%|██████████| 50/50 [00:17<00:00,  4.15it/s]\n",
      "Evaluating: 100%|██████████| 30/30 [00:00<00:00, 94.95it/s]\n",
      "Training:   2%|▏         | 1/50 [00:00<00:05,  9.14it/s]"
     ]
    },
    {
     "name": "stdout",
     "output_type": "stream",
     "text": [
      "71.36666666666666\n"
     ]
    },
    {
     "name": "stderr",
     "output_type": "stream",
     "text": [
      "Training: 100%|██████████| 50/50 [00:13<00:00,  5.35it/s]\n",
      "Evaluating: 100%|██████████| 30/30 [00:00<00:00, 282.97it/s]\n",
      "Training:   0%|          | 0/50 [00:00<?, ?it/s]"
     ]
    },
    {
     "name": "stdout",
     "output_type": "stream",
     "text": [
      "24.466666666666665\n"
     ]
    },
    {
     "name": "stderr",
     "output_type": "stream",
     "text": [
      "Training: 100%|██████████| 50/50 [00:17<00:00,  2.77it/s]\n",
      "Evaluating: 100%|██████████| 30/30 [00:00<00:00, 110.36it/s]\n",
      "Training:   0%|          | 0/50 [00:00<?, ?it/s]"
     ]
    },
    {
     "name": "stdout",
     "output_type": "stream",
     "text": [
      "58.166666666666664\n"
     ]
    },
    {
     "name": "stderr",
     "output_type": "stream",
     "text": [
      "Training: 100%|██████████| 50/50 [00:13<00:00,  5.07it/s]\n",
      "Evaluating: 100%|██████████| 30/30 [00:00<00:00, 99.47it/s]\n",
      "Training:   0%|          | 0/50 [00:00<?, ?it/s]"
     ]
    },
    {
     "name": "stdout",
     "output_type": "stream",
     "text": [
      "62.7\n"
     ]
    },
    {
     "name": "stderr",
     "output_type": "stream",
     "text": [
      "Training: 100%|██████████| 50/50 [00:15<00:00,  3.68it/s]\n",
      "Evaluating: 100%|██████████| 30/30 [00:00<00:00, 113.58it/s]\n",
      "Training:   0%|          | 0/50 [00:00<?, ?it/s]"
     ]
    },
    {
     "name": "stdout",
     "output_type": "stream",
     "text": [
      "48.266666666666666\n"
     ]
    },
    {
     "name": "stderr",
     "output_type": "stream",
     "text": [
      "Training: 100%|██████████| 50/50 [00:11<00:00,  2.27it/s]\n",
      "Evaluating: 100%|██████████| 30/30 [00:00<00:00, 234.59it/s]\n",
      "Training:   2%|▏         | 1/50 [00:00<00:05,  9.41it/s]"
     ]
    },
    {
     "name": "stdout",
     "output_type": "stream",
     "text": [
      "28.033333333333335\n"
     ]
    },
    {
     "name": "stderr",
     "output_type": "stream",
     "text": [
      "Training: 100%|██████████| 50/50 [00:09<00:00,  6.79it/s]\n",
      "Evaluating: 100%|██████████| 30/30 [00:00<00:00, 207.03it/s]\n",
      "Training:   0%|          | 0/50 [00:00<?, ?it/s]"
     ]
    },
    {
     "name": "stdout",
     "output_type": "stream",
     "text": [
      "33.7\n"
     ]
    },
    {
     "name": "stderr",
     "output_type": "stream",
     "text": [
      "Training: 100%|██████████| 50/50 [00:21<00:00,  2.49it/s]\n",
      "Evaluating: 100%|██████████| 30/30 [00:00<00:00, 653.57it/s]\n",
      "Training:   0%|          | 0/50 [00:00<?, ?it/s]"
     ]
    },
    {
     "name": "stdout",
     "output_type": "stream",
     "text": [
      "9.7\n"
     ]
    },
    {
     "name": "stderr",
     "output_type": "stream",
     "text": [
      "Training: 100%|██████████| 50/50 [00:36<00:00,  1.16s/it]\n",
      "Evaluating: 100%|██████████| 30/30 [00:00<00:00, 34.08it/s]\n",
      "Training:   0%|          | 0/50 [00:00<?, ?it/s]"
     ]
    },
    {
     "name": "stdout",
     "output_type": "stream",
     "text": [
      "200.0\n"
     ]
    },
    {
     "name": "stderr",
     "output_type": "stream",
     "text": [
      "Training: 100%|██████████| 50/50 [00:59<00:00,  1.16s/it]\n",
      "Evaluating: 100%|██████████| 30/30 [00:00<00:00, 241.61it/s]\n",
      "Training:   2%|▏         | 1/50 [00:00<00:07,  6.83it/s]"
     ]
    },
    {
     "name": "stdout",
     "output_type": "stream",
     "text": [
      "23.533333333333335\n"
     ]
    },
    {
     "name": "stderr",
     "output_type": "stream",
     "text": [
      "Training: 100%|██████████| 50/50 [00:50<00:00,  1.32s/it]\n",
      "Evaluating: 100%|██████████| 30/30 [00:00<00:00, 34.41it/s]\n",
      "Training:   0%|          | 0/50 [00:00<?, ?it/s]"
     ]
    },
    {
     "name": "stdout",
     "output_type": "stream",
     "text": [
      "200.0\n"
     ]
    },
    {
     "name": "stderr",
     "output_type": "stream",
     "text": [
      "Training: 100%|██████████| 50/50 [00:44<00:00,  1.20s/it]\n",
      "Evaluating: 100%|██████████| 30/30 [00:00<00:00, 30.29it/s]\n",
      "Training:   0%|          | 0/50 [00:00<?, ?it/s]"
     ]
    },
    {
     "name": "stdout",
     "output_type": "stream",
     "text": [
      "200.0\n"
     ]
    },
    {
     "name": "stderr",
     "output_type": "stream",
     "text": [
      "Training: 100%|██████████| 50/50 [00:53<00:00,  1.12s/it]\n",
      "Evaluating: 100%|██████████| 30/30 [00:00<00:00, 32.53it/s]\n",
      "Training:   0%|          | 0/50 [00:00<?, ?it/s]"
     ]
    },
    {
     "name": "stdout",
     "output_type": "stream",
     "text": [
      "200.0\n"
     ]
    },
    {
     "name": "stderr",
     "output_type": "stream",
     "text": [
      "Training: 100%|██████████| 50/50 [00:56<00:00,  1.21s/it]\n",
      "Evaluating: 100%|██████████| 30/30 [00:00<00:00, 32.85it/s]\n",
      "Training:   0%|          | 0/50 [00:00<?, ?it/s]"
     ]
    },
    {
     "name": "stdout",
     "output_type": "stream",
     "text": [
      "200.0\n"
     ]
    },
    {
     "name": "stderr",
     "output_type": "stream",
     "text": [
      "Training: 100%|██████████| 50/50 [00:54<00:00,  1.15it/s]\n",
      "Evaluating: 100%|██████████| 30/30 [00:00<00:00, 33.25it/s]\n",
      "Training:   0%|          | 0/50 [00:00<?, ?it/s]"
     ]
    },
    {
     "name": "stdout",
     "output_type": "stream",
     "text": [
      "200.0\n"
     ]
    },
    {
     "name": "stderr",
     "output_type": "stream",
     "text": [
      "Training: 100%|██████████| 50/50 [00:50<00:00,  1.08it/s]\n",
      "Evaluating: 100%|██████████| 30/30 [00:00<00:00, 38.76it/s]\n",
      "Training:   0%|          | 0/50 [00:00<?, ?it/s]"
     ]
    },
    {
     "name": "stdout",
     "output_type": "stream",
     "text": [
      "174.76666666666668\n"
     ]
    },
    {
     "name": "stderr",
     "output_type": "stream",
     "text": [
      "Training: 100%|██████████| 50/50 [00:56<00:00,  2.13it/s]\n",
      "Evaluating: 100%|██████████| 30/30 [00:01<00:00, 27.63it/s]\n",
      "Training:   0%|          | 0/50 [00:00<?, ?it/s]"
     ]
    },
    {
     "name": "stdout",
     "output_type": "stream",
     "text": [
      "194.23333333333332\n"
     ]
    },
    {
     "name": "stderr",
     "output_type": "stream",
     "text": [
      "Training: 100%|██████████| 50/50 [00:49<00:00,  1.29s/it]\n",
      "Evaluating: 100%|██████████| 30/30 [00:00<00:00, 33.39it/s]\n",
      "Training:   0%|          | 0/50 [00:00<?, ?it/s]"
     ]
    },
    {
     "name": "stdout",
     "output_type": "stream",
     "text": [
      "200.0\n"
     ]
    },
    {
     "name": "stderr",
     "output_type": "stream",
     "text": [
      "Training: 100%|██████████| 50/50 [01:01<00:00,  1.26s/it]\n",
      "Evaluating: 100%|██████████| 30/30 [00:01<00:00, 26.01it/s]\n",
      "Training:   0%|          | 0/50 [00:00<?, ?it/s]"
     ]
    },
    {
     "name": "stdout",
     "output_type": "stream",
     "text": [
      "200.0\n"
     ]
    },
    {
     "name": "stderr",
     "output_type": "stream",
     "text": [
      "Training: 100%|██████████| 50/50 [00:58<00:00,  1.43it/s]\n",
      "Evaluating: 100%|██████████| 30/30 [00:01<00:00, 26.12it/s]\n",
      "Training:   0%|          | 0/50 [00:00<?, ?it/s]"
     ]
    },
    {
     "name": "stdout",
     "output_type": "stream",
     "text": [
      "200.0\n"
     ]
    },
    {
     "name": "stderr",
     "output_type": "stream",
     "text": [
      "Training: 100%|██████████| 50/50 [00:58<00:00,  1.28s/it]\n",
      "Evaluating: 100%|██████████| 30/30 [00:00<00:00, 33.64it/s]\n",
      "Training:   0%|          | 0/50 [00:00<?, ?it/s]"
     ]
    },
    {
     "name": "stdout",
     "output_type": "stream",
     "text": [
      "200.0\n"
     ]
    },
    {
     "name": "stderr",
     "output_type": "stream",
     "text": [
      "Training: 100%|██████████| 50/50 [01:01<00:00,  1.27s/it]\n",
      "Evaluating: 100%|██████████| 30/30 [00:00<00:00, 33.74it/s]\n",
      "Training:   0%|          | 0/50 [00:00<?, ?it/s]"
     ]
    },
    {
     "name": "stdout",
     "output_type": "stream",
     "text": [
      "200.0\n"
     ]
    },
    {
     "name": "stderr",
     "output_type": "stream",
     "text": [
      "Training: 100%|██████████| 50/50 [00:55<00:00,  1.07s/it]\n",
      "Evaluating: 100%|██████████| 30/30 [00:00<00:00, 33.44it/s]\n",
      "Training:   0%|          | 0/50 [00:00<?, ?it/s]"
     ]
    },
    {
     "name": "stdout",
     "output_type": "stream",
     "text": [
      "200.0\n"
     ]
    },
    {
     "name": "stderr",
     "output_type": "stream",
     "text": [
      "Training: 100%|██████████| 50/50 [00:51<00:00,  1.26s/it]\n",
      "Evaluating: 100%|██████████| 30/30 [00:00<00:00, 33.79it/s]\n",
      "Training:   0%|          | 0/50 [00:00<?, ?it/s]"
     ]
    },
    {
     "name": "stdout",
     "output_type": "stream",
     "text": [
      "200.0\n"
     ]
    },
    {
     "name": "stderr",
     "output_type": "stream",
     "text": [
      "Training: 100%|██████████| 50/50 [00:55<00:00,  1.06it/s]\n",
      "Evaluating: 100%|██████████| 30/30 [00:00<00:00, 44.27it/s]\n",
      "Training:   0%|          | 0/50 [00:00<?, ?it/s]"
     ]
    },
    {
     "name": "stdout",
     "output_type": "stream",
     "text": [
      "137.4\n"
     ]
    },
    {
     "name": "stderr",
     "output_type": "stream",
     "text": [
      "Training: 100%|██████████| 50/50 [01:00<00:00,  1.28s/it]\n",
      "Evaluating: 100%|██████████| 30/30 [00:00<00:00, 33.64it/s]\n",
      "Training:   0%|          | 0/50 [00:00<?, ?it/s]"
     ]
    },
    {
     "name": "stdout",
     "output_type": "stream",
     "text": [
      "200.0\n"
     ]
    },
    {
     "name": "stderr",
     "output_type": "stream",
     "text": [
      "Training: 100%|██████████| 50/50 [00:59<00:00,  1.28s/it]\n",
      "Evaluating: 100%|██████████| 30/30 [00:00<00:00, 33.73it/s]\n",
      "Training:   0%|          | 0/50 [00:00<?, ?it/s]"
     ]
    },
    {
     "name": "stdout",
     "output_type": "stream",
     "text": [
      "200.0\n"
     ]
    },
    {
     "name": "stderr",
     "output_type": "stream",
     "text": [
      "Training: 100%|██████████| 50/50 [00:57<00:00,  1.28it/s]\n",
      "Evaluating: 100%|██████████| 30/30 [00:00<00:00, 142.84it/s]\n",
      "Training:   0%|          | 0/50 [00:00<?, ?it/s]"
     ]
    },
    {
     "name": "stdout",
     "output_type": "stream",
     "text": [
      "44.166666666666664\n"
     ]
    },
    {
     "name": "stderr",
     "output_type": "stream",
     "text": [
      "Training: 100%|██████████| 50/50 [00:08<00:00,  3.92it/s]\n",
      "Evaluating: 100%|██████████| 30/30 [00:00<00:00, 159.28it/s]\n",
      "Training:   0%|          | 0/50 [00:00<?, ?it/s]"
     ]
    },
    {
     "name": "stdout",
     "output_type": "stream",
     "text": [
      "43.36666666666667\n"
     ]
    },
    {
     "name": "stderr",
     "output_type": "stream",
     "text": [
      "Training: 100%|██████████| 50/50 [00:14<00:00,  2.64it/s]\n",
      "Evaluating: 100%|██████████| 30/30 [00:00<00:00, 112.72it/s]\n",
      "Training:   0%|          | 0/50 [00:00<?, ?it/s]"
     ]
    },
    {
     "name": "stdout",
     "output_type": "stream",
     "text": [
      "59.13333333333333\n"
     ]
    },
    {
     "name": "stderr",
     "output_type": "stream",
     "text": [
      "Training: 100%|██████████| 50/50 [00:20<00:00,  2.45it/s]\n",
      "Evaluating: 100%|██████████| 30/30 [00:00<00:00, 82.43it/s]\n",
      "Training:   0%|          | 0/50 [00:00<?, ?it/s]"
     ]
    },
    {
     "name": "stdout",
     "output_type": "stream",
     "text": [
      "64.63333333333334\n"
     ]
    },
    {
     "name": "stderr",
     "output_type": "stream",
     "text": [
      "Training: 100%|██████████| 50/50 [00:22<00:00,  1.93it/s]\n",
      "Evaluating: 100%|██████████| 30/30 [00:00<00:00, 86.45it/s]\n",
      "Training:   0%|          | 0/50 [00:00<?, ?it/s]"
     ]
    },
    {
     "name": "stdout",
     "output_type": "stream",
     "text": [
      "77.43333333333334\n"
     ]
    },
    {
     "name": "stderr",
     "output_type": "stream",
     "text": [
      "Training: 100%|██████████| 50/50 [00:25<00:00,  1.63it/s]\n",
      "Evaluating: 100%|██████████| 30/30 [00:00<00:00, 38.78it/s]\n",
      "Training:   2%|▏         | 1/50 [00:00<00:05,  9.48it/s]"
     ]
    },
    {
     "name": "stdout",
     "output_type": "stream",
     "text": [
      "179.1\n"
     ]
    },
    {
     "name": "stderr",
     "output_type": "stream",
     "text": [
      "Training: 100%|██████████| 50/50 [00:21<00:00,  1.44it/s]\n",
      "Evaluating: 100%|██████████| 30/30 [00:00<00:00, 76.07it/s]\n",
      "Training:   0%|          | 0/50 [00:00<?, ?it/s]"
     ]
    },
    {
     "name": "stdout",
     "output_type": "stream",
     "text": [
      "84.96666666666667\n"
     ]
    },
    {
     "name": "stderr",
     "output_type": "stream",
     "text": [
      "Training: 100%|██████████| 50/50 [00:25<00:00,  2.05it/s]\n",
      "Evaluating: 100%|██████████| 30/30 [00:00<00:00, 242.38it/s]\n",
      "Training:   2%|▏         | 1/50 [00:00<00:08,  6.04it/s]"
     ]
    },
    {
     "name": "stdout",
     "output_type": "stream",
     "text": [
      "25.8\n"
     ]
    },
    {
     "name": "stderr",
     "output_type": "stream",
     "text": [
      "Training: 100%|██████████| 50/50 [00:31<00:00,  2.18it/s]\n",
      "Evaluating: 100%|██████████| 30/30 [00:00<00:00, 118.77it/s]\n",
      "Training:   0%|          | 0/50 [00:00<?, ?it/s]"
     ]
    },
    {
     "name": "stdout",
     "output_type": "stream",
     "text": [
      "58.3\n"
     ]
    },
    {
     "name": "stderr",
     "output_type": "stream",
     "text": [
      "Training: 100%|██████████| 50/50 [00:27<00:00,  2.33it/s]\n",
      "Evaluating: 100%|██████████| 30/30 [00:00<00:00, 101.89it/s]\n",
      "Training:   0%|          | 0/50 [00:00<?, ?it/s]"
     ]
    },
    {
     "name": "stdout",
     "output_type": "stream",
     "text": [
      "63.233333333333334\n"
     ]
    },
    {
     "name": "stderr",
     "output_type": "stream",
     "text": [
      "Training: 100%|██████████| 50/50 [00:29<00:00,  1.30it/s]\n",
      "Evaluating: 100%|██████████| 30/30 [00:00<00:00, 46.36it/s]\n",
      "Training:   0%|          | 0/50 [00:00<?, ?it/s]"
     ]
    },
    {
     "name": "stdout",
     "output_type": "stream",
     "text": [
      "129.3\n"
     ]
    },
    {
     "name": "stderr",
     "output_type": "stream",
     "text": [
      "Training: 100%|██████████| 50/50 [00:36<00:00,  1.41it/s]\n",
      "Evaluating: 100%|██████████| 30/30 [00:00<00:00, 50.83it/s]\n",
      "Training:   0%|          | 0/50 [00:00<?, ?it/s]"
     ]
    },
    {
     "name": "stdout",
     "output_type": "stream",
     "text": [
      "131.06666666666666\n"
     ]
    },
    {
     "name": "stderr",
     "output_type": "stream",
     "text": [
      "Training: 100%|██████████| 50/50 [00:30<00:00,  4.53it/s]\n",
      "Evaluating: 100%|██████████| 30/30 [00:00<00:00, 466.22it/s]\n",
      "Training:   4%|▍         | 2/50 [00:00<00:03, 15.49it/s]"
     ]
    },
    {
     "name": "stdout",
     "output_type": "stream",
     "text": [
      "13.8\n"
     ]
    },
    {
     "name": "stderr",
     "output_type": "stream",
     "text": [
      "Training: 100%|██████████| 50/50 [00:43<00:00,  1.08s/it]\n",
      "Evaluating: 100%|██████████| 30/30 [00:00<00:00, 35.47it/s]\n",
      "Training:   0%|          | 0/50 [00:00<?, ?it/s]"
     ]
    },
    {
     "name": "stdout",
     "output_type": "stream",
     "text": [
      "188.96666666666667\n"
     ]
    },
    {
     "name": "stderr",
     "output_type": "stream",
     "text": [
      "Training: 100%|██████████| 50/50 [00:48<00:00,  1.21s/it]\n",
      "Evaluating: 100%|██████████| 30/30 [00:00<00:00, 33.33it/s]\n",
      "Training:   0%|          | 0/50 [00:00<?, ?it/s]"
     ]
    },
    {
     "name": "stdout",
     "output_type": "stream",
     "text": [
      "200.0\n"
     ]
    },
    {
     "name": "stderr",
     "output_type": "stream",
     "text": [
      "Training: 100%|██████████| 50/50 [00:34<00:00,  1.45it/s]\n",
      "Evaluating: 100%|██████████| 30/30 [00:00<00:00, 130.82it/s]\n",
      "Training:   0%|          | 0/50 [00:00<?, ?it/s]"
     ]
    },
    {
     "name": "stdout",
     "output_type": "stream",
     "text": [
      "49.1\n"
     ]
    },
    {
     "name": "stderr",
     "output_type": "stream",
     "text": [
      "Training: 100%|██████████| 50/50 [00:15<00:00,  2.33it/s]\n",
      "Evaluating: 100%|██████████| 30/30 [00:00<00:00, 75.89it/s]\n",
      "Training:   0%|          | 0/50 [00:00<?, ?it/s]"
     ]
    },
    {
     "name": "stdout",
     "output_type": "stream",
     "text": [
      "66.6\n"
     ]
    },
    {
     "name": "stderr",
     "output_type": "stream",
     "text": [
      "Training: 100%|██████████| 50/50 [00:26<00:00,  1.58it/s]\n",
      "Evaluating: 100%|██████████| 30/30 [00:00<00:00, 58.93it/s]\n",
      "Training:   0%|          | 0/50 [00:00<?, ?it/s]"
     ]
    },
    {
     "name": "stdout",
     "output_type": "stream",
     "text": [
      "112.1\n"
     ]
    },
    {
     "name": "stderr",
     "output_type": "stream",
     "text": [
      "Training: 100%|██████████| 50/50 [00:26<00:00,  4.06it/s]\n",
      "Evaluating: 100%|██████████| 30/30 [00:00<00:00, 90.26it/s]\n",
      "Training:   0%|          | 0/50 [00:00<?, ?it/s]"
     ]
    },
    {
     "name": "stdout",
     "output_type": "stream",
     "text": [
      "60.833333333333336\n"
     ]
    },
    {
     "name": "stderr",
     "output_type": "stream",
     "text": [
      "Training: 100%|██████████| 50/50 [00:28<00:00,  1.17s/it]\n",
      "Evaluating: 100%|██████████| 30/30 [00:00<00:00, 33.16it/s]\n",
      "Training:   0%|          | 0/50 [00:00<?, ?it/s]"
     ]
    },
    {
     "name": "stdout",
     "output_type": "stream",
     "text": [
      "200.0\n"
     ]
    },
    {
     "name": "stderr",
     "output_type": "stream",
     "text": [
      "Training: 100%|██████████| 50/50 [00:46<00:00,  1.09s/it]\n",
      "Evaluating: 100%|██████████| 30/30 [00:00<00:00, 43.29it/s]\n",
      "Training:   0%|          | 0/50 [00:00<?, ?it/s]"
     ]
    },
    {
     "name": "stdout",
     "output_type": "stream",
     "text": [
      "160.5\n"
     ]
    },
    {
     "name": "stderr",
     "output_type": "stream",
     "text": [
      "Training: 100%|██████████| 50/50 [00:20<00:00,  2.59it/s]\n",
      "Evaluating: 100%|██████████| 30/30 [00:00<00:00, 90.74it/s]\n",
      "Training:   2%|▏         | 1/50 [00:00<00:06,  8.14it/s]"
     ]
    },
    {
     "name": "stdout",
     "output_type": "stream",
     "text": [
      "60.733333333333334\n"
     ]
    },
    {
     "name": "stderr",
     "output_type": "stream",
     "text": [
      "Training: 100%|██████████| 50/50 [00:15<00:00,  3.50it/s]\n",
      "Evaluating: 100%|██████████| 30/30 [00:00<00:00, 324.09it/s]\n",
      "Training:   0%|          | 0/50 [00:00<?, ?it/s]"
     ]
    },
    {
     "name": "stdout",
     "output_type": "stream",
     "text": [
      "20.633333333333333\n"
     ]
    },
    {
     "name": "stderr",
     "output_type": "stream",
     "text": [
      "Training: 100%|██████████| 50/50 [00:14<00:00,  2.28it/s]\n",
      "Evaluating: 100%|██████████| 30/30 [00:00<00:00, 761.31it/s]\n",
      "Training:   0%|          | 0/50 [00:00<?, ?it/s]"
     ]
    },
    {
     "name": "stdout",
     "output_type": "stream",
     "text": [
      "9.166666666666666\n"
     ]
    },
    {
     "name": "stderr",
     "output_type": "stream",
     "text": [
      "Training: 100%|██████████| 50/50 [00:18<00:00,  2.64it/s]\n",
      "Evaluating: 100%|██████████| 30/30 [00:00<00:00, 136.68it/s]\n",
      "Training:   0%|          | 0/50 [00:00<?, ?it/s]"
     ]
    },
    {
     "name": "stdout",
     "output_type": "stream",
     "text": [
      "46.2\n"
     ]
    },
    {
     "name": "stderr",
     "output_type": "stream",
     "text": [
      "Training: 100%|██████████| 50/50 [00:39<00:00,  1.02s/it]\n",
      "Evaluating: 100%|██████████| 30/30 [00:00<00:00, 31.41it/s]\n",
      "Training:   0%|          | 0/50 [00:00<?, ?it/s]"
     ]
    },
    {
     "name": "stdout",
     "output_type": "stream",
     "text": [
      "200.0\n"
     ]
    },
    {
     "name": "stderr",
     "output_type": "stream",
     "text": [
      "Training: 100%|██████████| 50/50 [01:03<00:00,  1.25s/it]\n",
      "Evaluating: 100%|██████████| 30/30 [00:00<00:00, 32.81it/s]\n",
      "Training:   0%|          | 0/50 [00:00<?, ?it/s]"
     ]
    },
    {
     "name": "stdout",
     "output_type": "stream",
     "text": [
      "200.0\n"
     ]
    },
    {
     "name": "stderr",
     "output_type": "stream",
     "text": [
      "Training: 100%|██████████| 50/50 [00:55<00:00,  1.29s/it]\n",
      "Evaluating: 100%|██████████| 30/30 [00:01<00:00, 26.21it/s]\n",
      "Training:   0%|          | 0/50 [00:00<?, ?it/s]"
     ]
    },
    {
     "name": "stdout",
     "output_type": "stream",
     "text": [
      "200.0\n"
     ]
    },
    {
     "name": "stderr",
     "output_type": "stream",
     "text": [
      "Training: 100%|██████████| 50/50 [01:02<00:00,  1.26s/it]\n",
      "Evaluating: 100%|██████████| 30/30 [00:00<00:00, 34.67it/s]\n",
      "Training:   0%|          | 0/50 [00:00<?, ?it/s]"
     ]
    },
    {
     "name": "stdout",
     "output_type": "stream",
     "text": [
      "200.0\n"
     ]
    },
    {
     "name": "stderr",
     "output_type": "stream",
     "text": [
      "Training: 100%|██████████| 50/50 [00:57<00:00,  1.03it/s]\n",
      "Evaluating: 100%|██████████| 30/30 [00:00<00:00, 60.90it/s]\n",
      "Training:   0%|          | 0/50 [00:00<?, ?it/s]"
     ]
    },
    {
     "name": "stdout",
     "output_type": "stream",
     "text": [
      "111.96666666666667\n"
     ]
    },
    {
     "name": "stderr",
     "output_type": "stream",
     "text": [
      "Training: 100%|██████████| 50/50 [00:53<00:00,  1.30it/s]\n",
      "Evaluating: 100%|██████████| 30/30 [00:00<00:00, 33.57it/s]\n",
      "Training:   0%|          | 0/50 [00:00<?, ?it/s]"
     ]
    },
    {
     "name": "stdout",
     "output_type": "stream",
     "text": [
      "200.0\n"
     ]
    },
    {
     "name": "stderr",
     "output_type": "stream",
     "text": [
      "Training: 100%|██████████| 50/50 [00:53<00:00,  1.11s/it]\n",
      "Evaluating: 100%|██████████| 30/30 [00:00<00:00, 33.62it/s]\n",
      "Training:   0%|          | 0/50 [00:00<?, ?it/s]"
     ]
    },
    {
     "name": "stdout",
     "output_type": "stream",
     "text": [
      "200.0\n"
     ]
    },
    {
     "name": "stderr",
     "output_type": "stream",
     "text": [
      "Training: 100%|██████████| 50/50 [01:02<00:00,  1.29s/it]\n",
      "Evaluating: 100%|██████████| 30/30 [00:00<00:00, 33.88it/s]\n",
      "Training:   0%|          | 0/50 [00:00<?, ?it/s]"
     ]
    },
    {
     "name": "stdout",
     "output_type": "stream",
     "text": [
      "200.0\n"
     ]
    },
    {
     "name": "stderr",
     "output_type": "stream",
     "text": [
      "Training: 100%|██████████| 50/50 [00:56<00:00,  1.18s/it]\n",
      "Evaluating: 100%|██████████| 30/30 [00:00<00:00, 33.42it/s]\n",
      "Training:   0%|          | 0/50 [00:00<?, ?it/s]"
     ]
    },
    {
     "name": "stdout",
     "output_type": "stream",
     "text": [
      "200.0\n"
     ]
    },
    {
     "name": "stderr",
     "output_type": "stream",
     "text": [
      "Training: 100%|██████████| 50/50 [00:55<00:00,  1.12s/it]\n",
      "Evaluating: 100%|██████████| 30/30 [00:00<00:00, 138.37it/s]\n",
      "Training:   0%|          | 0/50 [00:00<?, ?it/s]"
     ]
    },
    {
     "name": "stdout",
     "output_type": "stream",
     "text": [
      "50.266666666666666\n"
     ]
    },
    {
     "name": "stderr",
     "output_type": "stream",
     "text": [
      "Training: 100%|██████████| 50/50 [00:53<00:00,  1.07it/s]\n",
      "Evaluating: 100%|██████████| 30/30 [00:00<00:00, 33.81it/s]\n",
      "Training:   0%|          | 0/50 [00:00<?, ?it/s]"
     ]
    },
    {
     "name": "stdout",
     "output_type": "stream",
     "text": [
      "200.0\n"
     ]
    },
    {
     "name": "stderr",
     "output_type": "stream",
     "text": [
      "Training: 100%|██████████| 50/50 [00:43<00:00,  1.30it/s]\n",
      "Evaluating: 100%|██████████| 30/30 [00:00<00:00, 137.41it/s]\n",
      "Training:   0%|          | 0/50 [00:00<?, ?it/s]"
     ]
    },
    {
     "name": "stdout",
     "output_type": "stream",
     "text": [
      "49.93333333333333\n"
     ]
    },
    {
     "name": "stderr",
     "output_type": "stream",
     "text": [
      "Training: 100%|██████████| 50/50 [00:37<00:00,  1.03s/it]\n",
      "Evaluating: 100%|██████████| 30/30 [00:00<00:00, 32.98it/s]\n",
      "Training:   0%|          | 0/50 [00:00<?, ?it/s]"
     ]
    },
    {
     "name": "stdout",
     "output_type": "stream",
     "text": [
      "200.0\n"
     ]
    },
    {
     "name": "stderr",
     "output_type": "stream",
     "text": [
      "Training: 100%|██████████| 50/50 [00:49<00:00,  1.09s/it]\n",
      "Evaluating: 100%|██████████| 30/30 [00:00<00:00, 472.42it/s]\n",
      "Training:   0%|          | 0/50 [00:00<?, ?it/s]"
     ]
    },
    {
     "name": "stdout",
     "output_type": "stream",
     "text": [
      "14.266666666666667\n"
     ]
    },
    {
     "name": "stderr",
     "output_type": "stream",
     "text": [
      "Training: 100%|██████████| 50/50 [00:38<00:00,  2.49it/s]\n",
      "Evaluating: 100%|██████████| 30/30 [00:00<00:00, 138.31it/s]\n",
      "Training:   0%|          | 0/50 [00:00<?, ?it/s]"
     ]
    },
    {
     "name": "stdout",
     "output_type": "stream",
     "text": [
      "39.733333333333334\n"
     ]
    },
    {
     "name": "stderr",
     "output_type": "stream",
     "text": [
      "Training: 100%|██████████| 50/50 [00:32<00:00,  2.13it/s]\n",
      "Evaluating: 100%|██████████| 30/30 [00:00<00:00, 164.25it/s]\n",
      "Training:   0%|          | 0/50 [00:00<?, ?it/s]"
     ]
    },
    {
     "name": "stdout",
     "output_type": "stream",
     "text": [
      "41.03333333333333\n"
     ]
    },
    {
     "name": "stderr",
     "output_type": "stream",
     "text": [
      "Training: 100%|██████████| 50/50 [00:12<00:00,  2.32it/s]\n",
      "Evaluating: 100%|██████████| 30/30 [00:00<00:00, 84.57it/s]\n",
      "Training:   0%|          | 0/50 [00:00<?, ?it/s]"
     ]
    },
    {
     "name": "stdout",
     "output_type": "stream",
     "text": [
      "78.6\n"
     ]
    },
    {
     "name": "stderr",
     "output_type": "stream",
     "text": [
      "Training: 100%|██████████| 50/50 [00:27<00:00,  1.05it/s]\n",
      "Evaluating: 100%|██████████| 30/30 [00:00<00:00, 108.25it/s]\n",
      "Training:   0%|          | 0/50 [00:00<?, ?it/s]"
     ]
    },
    {
     "name": "stdout",
     "output_type": "stream",
     "text": [
      "63.96666666666667\n"
     ]
    },
    {
     "name": "stderr",
     "output_type": "stream",
     "text": [
      "Training: 100%|██████████| 50/50 [00:53<00:00,  1.07s/it]\n",
      "Evaluating: 100%|██████████| 30/30 [00:00<00:00, 34.63it/s]\n",
      "Training:   0%|          | 0/50 [00:00<?, ?it/s]"
     ]
    },
    {
     "name": "stdout",
     "output_type": "stream",
     "text": [
      "193.9\n"
     ]
    },
    {
     "name": "stderr",
     "output_type": "stream",
     "text": [
      "Training: 100%|██████████| 50/50 [00:45<00:00,  1.22s/it]\n",
      "Evaluating: 100%|██████████| 30/30 [00:00<00:00, 33.80it/s]\n",
      "Training:   0%|          | 0/50 [00:00<?, ?it/s]"
     ]
    },
    {
     "name": "stdout",
     "output_type": "stream",
     "text": [
      "200.0\n"
     ]
    },
    {
     "name": "stderr",
     "output_type": "stream",
     "text": [
      "Training: 100%|██████████| 50/50 [00:54<00:00,  1.24s/it]\n",
      "Evaluating: 100%|██████████| 30/30 [00:01<00:00, 25.94it/s]\n",
      "Training:   0%|          | 0/50 [00:00<?, ?it/s]"
     ]
    },
    {
     "name": "stdout",
     "output_type": "stream",
     "text": [
      "200.0\n"
     ]
    },
    {
     "name": "stderr",
     "output_type": "stream",
     "text": [
      "Training: 100%|██████████| 50/50 [00:50<00:00,  1.14s/it]\n",
      "Evaluating: 100%|██████████| 30/30 [00:00<00:00, 33.10it/s]\n",
      "Training:   0%|          | 0/50 [00:00<?, ?it/s]"
     ]
    },
    {
     "name": "stdout",
     "output_type": "stream",
     "text": [
      "200.0\n"
     ]
    },
    {
     "name": "stderr",
     "output_type": "stream",
     "text": [
      "Training: 100%|██████████| 50/50 [00:58<00:00,  1.28s/it]\n",
      "Evaluating: 100%|██████████| 30/30 [00:00<00:00, 32.93it/s]\n",
      "Training:   0%|          | 0/50 [00:00<?, ?it/s]"
     ]
    },
    {
     "name": "stdout",
     "output_type": "stream",
     "text": [
      "200.0\n"
     ]
    },
    {
     "name": "stderr",
     "output_type": "stream",
     "text": [
      "Training: 100%|██████████| 50/50 [00:56<00:00,  1.13s/it]\n",
      "Evaluating: 100%|██████████| 30/30 [00:00<00:00, 520.07it/s]\n",
      "Training:   0%|          | 0/50 [00:00<?, ?it/s]"
     ]
    },
    {
     "name": "stdout",
     "output_type": "stream",
     "text": [
      "13.0\n"
     ]
    },
    {
     "name": "stderr",
     "output_type": "stream",
     "text": [
      "Training: 100%|██████████| 50/50 [00:52<00:00,  1.26s/it]\n",
      "Evaluating: 100%|██████████| 30/30 [00:00<00:00, 67.53it/s]\n",
      "Training:   0%|          | 0/50 [00:00<?, ?it/s]"
     ]
    },
    {
     "name": "stdout",
     "output_type": "stream",
     "text": [
      "98.8\n"
     ]
    },
    {
     "name": "stderr",
     "output_type": "stream",
     "text": [
      "Training: 100%|██████████| 50/50 [00:58<00:00,  1.26s/it]\n",
      "Evaluating: 100%|██████████| 30/30 [00:00<00:00, 32.11it/s]\n",
      "Training:   0%|          | 0/50 [00:00<?, ?it/s]"
     ]
    },
    {
     "name": "stdout",
     "output_type": "stream",
     "text": [
      "200.0\n"
     ]
    },
    {
     "name": "stderr",
     "output_type": "stream",
     "text": [
      "Training: 100%|██████████| 50/50 [00:46<00:00,  1.24s/it]\n",
      "Evaluating: 100%|██████████| 30/30 [00:00<00:00, 54.10it/s]\n",
      "Training:   0%|          | 0/50 [00:00<?, ?it/s]"
     ]
    },
    {
     "name": "stdout",
     "output_type": "stream",
     "text": [
      "123.96666666666667\n"
     ]
    },
    {
     "name": "stderr",
     "output_type": "stream",
     "text": [
      "Training: 100%|██████████| 50/50 [01:01<00:00,  1.20s/it]\n",
      "Evaluating: 100%|██████████| 30/30 [00:00<00:00, 32.62it/s]\n",
      "Training:   0%|          | 0/50 [00:00<?, ?it/s]"
     ]
    },
    {
     "name": "stdout",
     "output_type": "stream",
     "text": [
      "200.0\n"
     ]
    },
    {
     "name": "stderr",
     "output_type": "stream",
     "text": [
      "Training: 100%|██████████| 50/50 [01:01<00:00,  1.24s/it]\n",
      "Evaluating: 100%|██████████| 30/30 [00:00<00:00, 132.46it/s]\n",
      "Training:   0%|          | 0/50 [00:00<?, ?it/s]"
     ]
    },
    {
     "name": "stdout",
     "output_type": "stream",
     "text": [
      "49.43333333333333\n"
     ]
    },
    {
     "name": "stderr",
     "output_type": "stream",
     "text": [
      "Training: 100%|██████████| 50/50 [00:55<00:00,  1.23s/it]\n",
      "Evaluating: 100%|██████████| 30/30 [00:00<00:00, 34.98it/s]\n",
      "Training:   0%|          | 0/50 [00:00<?, ?it/s]"
     ]
    },
    {
     "name": "stdout",
     "output_type": "stream",
     "text": [
      "181.4\n"
     ]
    },
    {
     "name": "stderr",
     "output_type": "stream",
     "text": [
      "Training: 100%|██████████| 50/50 [00:47<00:00,  1.24s/it]\n",
      "Evaluating: 100%|██████████| 30/30 [00:00<00:00, 32.96it/s]\n",
      "Training:   0%|          | 0/50 [00:00<?, ?it/s]"
     ]
    },
    {
     "name": "stdout",
     "output_type": "stream",
     "text": [
      "200.0\n"
     ]
    },
    {
     "name": "stderr",
     "output_type": "stream",
     "text": [
      "Training: 100%|██████████| 50/50 [00:41<00:00,  2.10it/s]\n",
      "Evaluating: 100%|██████████| 30/30 [00:00<00:00, 122.73it/s]\n",
      "Training:   4%|▍         | 2/50 [00:00<00:03, 12.24it/s]"
     ]
    },
    {
     "name": "stdout",
     "output_type": "stream",
     "text": [
      "42.4\n"
     ]
    },
    {
     "name": "stderr",
     "output_type": "stream",
     "text": [
      "Training: 100%|██████████| 50/50 [00:18<00:00,  2.71it/s]\n",
      "Evaluating: 100%|██████████| 30/30 [00:00<00:00, 278.28it/s]\n",
      "Training:   2%|▏         | 1/50 [00:00<00:07,  6.94it/s]"
     ]
    },
    {
     "name": "stdout",
     "output_type": "stream",
     "text": [
      "24.266666666666666\n"
     ]
    },
    {
     "name": "stderr",
     "output_type": "stream",
     "text": [
      "Training: 100%|██████████| 50/50 [00:24<00:00,  2.11it/s]\n",
      "Evaluating: 100%|██████████| 30/30 [00:00<00:00, 91.28it/s]\n",
      "Training:   0%|          | 0/50 [00:00<?, ?it/s]"
     ]
    },
    {
     "name": "stdout",
     "output_type": "stream",
     "text": [
      "72.83333333333333\n"
     ]
    },
    {
     "name": "stderr",
     "output_type": "stream",
     "text": [
      "Training: 100%|██████████| 50/50 [00:23<00:00,  1.81it/s]\n",
      "Evaluating: 100%|██████████| 30/30 [00:00<00:00, 43.42it/s]\n",
      "Training:   0%|          | 0/50 [00:00<?, ?it/s]"
     ]
    },
    {
     "name": "stdout",
     "output_type": "stream",
     "text": [
      "155.9\n"
     ]
    },
    {
     "name": "stderr",
     "output_type": "stream",
     "text": [
      "Training: 100%|██████████| 50/50 [00:31<00:00,  1.37it/s]\n",
      "Evaluating: 100%|██████████| 30/30 [00:00<00:00, 50.94it/s]\n",
      "Training:   0%|          | 0/50 [00:00<?, ?it/s]"
     ]
    },
    {
     "name": "stdout",
     "output_type": "stream",
     "text": [
      "129.56666666666666\n"
     ]
    },
    {
     "name": "stderr",
     "output_type": "stream",
     "text": [
      "Training: 100%|██████████| 50/50 [00:35<00:00,  1.52it/s]\n",
      "Evaluating: 100%|██████████| 30/30 [00:00<00:00, 72.56it/s]\n",
      "Training:   0%|          | 0/50 [00:00<?, ?it/s]"
     ]
    },
    {
     "name": "stdout",
     "output_type": "stream",
     "text": [
      "88.86666666666666\n"
     ]
    },
    {
     "name": "stderr",
     "output_type": "stream",
     "text": [
      "Training: 100%|██████████| 50/50 [00:21<00:00,  2.32it/s]\n",
      "Evaluating: 100%|██████████| 30/30 [00:00<00:00, 380.98it/s]\n",
      "Training:   0%|          | 0/50 [00:00<?, ?it/s]"
     ]
    },
    {
     "name": "stdout",
     "output_type": "stream",
     "text": [
      "17.266666666666666\n"
     ]
    },
    {
     "name": "stderr",
     "output_type": "stream",
     "text": [
      "Training: 100%|██████████| 50/50 [00:22<00:00,  2.32it/s]\n",
      "Evaluating: 100%|██████████| 30/30 [00:00<00:00, 127.78it/s]\n",
      "Training:   0%|          | 0/50 [00:00<?, ?it/s]"
     ]
    },
    {
     "name": "stdout",
     "output_type": "stream",
     "text": [
      "47.8\n"
     ]
    },
    {
     "name": "stderr",
     "output_type": "stream",
     "text": [
      "Training: 100%|██████████| 50/50 [00:20<00:00,  3.18it/s]\n",
      "Evaluating: 100%|██████████| 30/30 [00:00<00:00, 183.99it/s]\n",
      "Training:   2%|▏         | 1/50 [00:00<00:05,  8.98it/s]"
     ]
    },
    {
     "name": "stdout",
     "output_type": "stream",
     "text": [
      "36.5\n"
     ]
    },
    {
     "name": "stderr",
     "output_type": "stream",
     "text": [
      "Training: 100%|██████████| 50/50 [00:09<00:00,  2.25it/s]\n",
      "Evaluating: 100%|██████████| 30/30 [00:00<00:00, 59.63it/s]\n",
      "Training:   0%|          | 0/50 [00:00<?, ?it/s]"
     ]
    },
    {
     "name": "stdout",
     "output_type": "stream",
     "text": [
      "85.66666666666667\n"
     ]
    },
    {
     "name": "stderr",
     "output_type": "stream",
     "text": [
      "Training: 100%|██████████| 50/50 [00:27<00:00,  1.30it/s]\n",
      "Evaluating: 100%|██████████| 30/30 [00:00<00:00, 70.21it/s]\n",
      "Training:   0%|          | 0/50 [00:00<?, ?it/s]"
     ]
    },
    {
     "name": "stdout",
     "output_type": "stream",
     "text": [
      "94.73333333333333\n"
     ]
    },
    {
     "name": "stderr",
     "output_type": "stream",
     "text": [
      "Training: 100%|██████████| 50/50 [00:34<00:00,  2.42it/s]\n",
      "Evaluating: 100%|██████████| 30/30 [00:00<00:00, 80.84it/s]\n",
      "Training:   0%|          | 0/50 [00:00<?, ?it/s]"
     ]
    },
    {
     "name": "stdout",
     "output_type": "stream",
     "text": [
      "82.4\n"
     ]
    },
    {
     "name": "stderr",
     "output_type": "stream",
     "text": [
      "Training: 100%|██████████| 50/50 [00:34<00:00,  1.14it/s]\n",
      "Evaluating: 100%|██████████| 30/30 [00:00<00:00, 55.01it/s]\n",
      "Training:   0%|          | 0/50 [00:00<?, ?it/s]"
     ]
    },
    {
     "name": "stdout",
     "output_type": "stream",
     "text": [
      "120.46666666666667\n"
     ]
    },
    {
     "name": "stderr",
     "output_type": "stream",
     "text": [
      "Training: 100%|██████████| 50/50 [00:21<00:00,  3.02it/s]\n",
      "Evaluating: 100%|██████████| 30/30 [00:00<00:00, 74.09it/s]\n",
      "Training:   0%|          | 0/50 [00:00<?, ?it/s]"
     ]
    },
    {
     "name": "stdout",
     "output_type": "stream",
     "text": [
      "86.23333333333333\n"
     ]
    },
    {
     "name": "stderr",
     "output_type": "stream",
     "text": [
      "Training: 100%|██████████| 50/50 [00:21<00:00,  3.93it/s]\n",
      "Evaluating: 100%|██████████| 30/30 [00:00<00:00, 699.36it/s]\n",
      "Training:   4%|▍         | 2/50 [00:00<00:02, 17.07it/s]"
     ]
    },
    {
     "name": "stdout",
     "output_type": "stream",
     "text": [
      "9.633333333333333\n"
     ]
    },
    {
     "name": "stderr",
     "output_type": "stream",
     "text": [
      "Training: 100%|██████████| 50/50 [00:16<00:00,  4.79it/s]\n",
      "Evaluating: 100%|██████████| 30/30 [00:00<00:00, 352.73it/s]\n",
      "Training:   0%|          | 0/50 [00:00<?, ?it/s]"
     ]
    },
    {
     "name": "stdout",
     "output_type": "stream",
     "text": [
      "18.466666666666665\n"
     ]
    },
    {
     "name": "stderr",
     "output_type": "stream",
     "text": [
      "Training: 100%|██████████| 50/50 [00:08<00:00,  6.24it/s]\n",
      "Evaluating: 100%|██████████| 30/30 [00:00<00:00, 368.35it/s]\n",
      "Training:   2%|▏         | 1/50 [00:00<00:09,  5.19it/s]"
     ]
    },
    {
     "name": "stdout",
     "output_type": "stream",
     "text": [
      "18.133333333333333\n"
     ]
    },
    {
     "name": "stderr",
     "output_type": "stream",
     "text": [
      "Training: 100%|██████████| 50/50 [00:21<00:00,  1.71it/s]\n",
      "Evaluating: 100%|██████████| 30/30 [00:00<00:00, 98.68it/s] \n",
      "Training:   0%|          | 0/50 [00:00<?, ?it/s]"
     ]
    },
    {
     "name": "stdout",
     "output_type": "stream",
     "text": [
      "65.4\n"
     ]
    },
    {
     "name": "stderr",
     "output_type": "stream",
     "text": [
      "Training: 100%|██████████| 50/50 [00:25<00:00,  2.66it/s]\n",
      "Evaluating: 100%|██████████| 30/30 [00:00<00:00, 107.65it/s]\n",
      "Training:   0%|          | 0/50 [00:00<?, ?it/s]"
     ]
    },
    {
     "name": "stdout",
     "output_type": "stream",
     "text": [
      "57.46666666666667\n"
     ]
    },
    {
     "name": "stderr",
     "output_type": "stream",
     "text": [
      "Training: 100%|██████████| 50/50 [00:23<00:00,  1.14it/s]\n",
      "Evaluating: 100%|██████████| 30/30 [00:00<00:00, 34.63it/s]\n",
      "Training:   0%|          | 0/50 [00:00<?, ?it/s]"
     ]
    },
    {
     "name": "stdout",
     "output_type": "stream",
     "text": [
      "188.93333333333334\n"
     ]
    },
    {
     "name": "stderr",
     "output_type": "stream",
     "text": [
      "Training: 100%|██████████| 50/50 [00:16<00:00,  4.71it/s]\n",
      "Evaluating: 100%|██████████| 30/30 [00:00<00:00, 91.27it/s]\n",
      "Training:   0%|          | 0/50 [00:00<?, ?it/s]"
     ]
    },
    {
     "name": "stdout",
     "output_type": "stream",
     "text": [
      "65.66666666666667\n"
     ]
    },
    {
     "name": "stderr",
     "output_type": "stream",
     "text": [
      "Training: 100%|██████████| 50/50 [00:34<00:00,  1.15it/s]\n",
      "Evaluating: 100%|██████████| 30/30 [00:00<00:00, 34.40it/s]\n",
      "Training:   0%|          | 0/50 [00:00<?, ?it/s]"
     ]
    },
    {
     "name": "stdout",
     "output_type": "stream",
     "text": [
      "191.5\n"
     ]
    },
    {
     "name": "stderr",
     "output_type": "stream",
     "text": [
      "Training: 100%|██████████| 50/50 [00:35<00:00,  1.51it/s]\n",
      "Evaluating: 100%|██████████| 30/30 [00:00<00:00, 98.41it/s]\n",
      "Training:   0%|          | 0/50 [00:00<?, ?it/s]"
     ]
    },
    {
     "name": "stdout",
     "output_type": "stream",
     "text": [
      "67.53333333333333\n"
     ]
    },
    {
     "name": "stderr",
     "output_type": "stream",
     "text": [
      "Training: 100%|██████████| 50/50 [00:27<00:00,  1.35it/s]\n",
      "Evaluating: 100%|██████████| 30/30 [00:00<00:00, 306.10it/s]\n",
      "Training:   0%|          | 0/50 [00:00<?, ?it/s]"
     ]
    },
    {
     "name": "stdout",
     "output_type": "stream",
     "text": [
      "18.133333333333333\n"
     ]
    },
    {
     "name": "stderr",
     "output_type": "stream",
     "text": [
      "Training: 100%|██████████| 50/50 [00:44<00:00,  1.20it/s]\n",
      "Evaluating: 100%|██████████| 30/30 [00:00<00:00, 499.96it/s]\n",
      "Training:   2%|▏         | 1/50 [00:00<00:05,  9.38it/s]"
     ]
    },
    {
     "name": "stdout",
     "output_type": "stream",
     "text": [
      "10.066666666666666\n"
     ]
    },
    {
     "name": "stderr",
     "output_type": "stream",
     "text": [
      "Training: 100%|██████████| 50/50 [00:43<00:00,  1.02it/s]\n",
      "Evaluating: 100%|██████████| 30/30 [00:00<00:00, 60.97it/s]\n",
      "Training:   0%|          | 0/50 [00:00<?, ?it/s]"
     ]
    },
    {
     "name": "stdout",
     "output_type": "stream",
     "text": [
      "110.06666666666666\n"
     ]
    },
    {
     "name": "stderr",
     "output_type": "stream",
     "text": [
      "Training: 100%|██████████| 50/50 [00:43<00:00,  1.27s/it]\n",
      "Evaluating: 100%|██████████| 30/30 [00:00<00:00, 33.41it/s]\n",
      "Training:   0%|          | 0/50 [00:00<?, ?it/s]"
     ]
    },
    {
     "name": "stdout",
     "output_type": "stream",
     "text": [
      "200.0\n"
     ]
    },
    {
     "name": "stderr",
     "output_type": "stream",
     "text": [
      "Training: 100%|██████████| 50/50 [00:59<00:00,  1.22s/it]\n",
      "Evaluating: 100%|██████████| 30/30 [00:00<00:00, 32.13it/s]\n",
      "Training:   0%|          | 0/50 [00:00<?, ?it/s]"
     ]
    },
    {
     "name": "stdout",
     "output_type": "stream",
     "text": [
      "200.0\n"
     ]
    },
    {
     "name": "stderr",
     "output_type": "stream",
     "text": [
      "Training: 100%|██████████| 50/50 [00:59<00:00,  1.32s/it]\n",
      "Evaluating: 100%|██████████| 30/30 [00:01<00:00, 29.84it/s]\n",
      "Training:   0%|          | 0/50 [00:00<?, ?it/s]"
     ]
    },
    {
     "name": "stdout",
     "output_type": "stream",
     "text": [
      "200.0\n"
     ]
    },
    {
     "name": "stderr",
     "output_type": "stream",
     "text": [
      "Training: 100%|██████████| 50/50 [00:57<00:00,  1.20s/it]\n",
      "Evaluating: 100%|██████████| 30/30 [00:00<00:00, 32.43it/s]\n",
      "Training:   0%|          | 0/50 [00:00<?, ?it/s]"
     ]
    },
    {
     "name": "stdout",
     "output_type": "stream",
     "text": [
      "200.0\n"
     ]
    },
    {
     "name": "stderr",
     "output_type": "stream",
     "text": [
      "Training: 100%|██████████| 50/50 [00:52<00:00,  1.20s/it]\n",
      "Evaluating: 100%|██████████| 30/30 [00:00<00:00, 33.83it/s]\n",
      "Training:   0%|          | 0/50 [00:00<?, ?it/s]"
     ]
    },
    {
     "name": "stdout",
     "output_type": "stream",
     "text": [
      "200.0\n"
     ]
    },
    {
     "name": "stderr",
     "output_type": "stream",
     "text": [
      "Training: 100%|██████████| 50/50 [00:51<00:00,  2.13it/s]\n",
      "Evaluating: 100%|██████████| 30/30 [00:00<00:00, 125.46it/s]\n",
      "Training:   0%|          | 0/50 [00:00<?, ?it/s]"
     ]
    },
    {
     "name": "stdout",
     "output_type": "stream",
     "text": [
      "52.46666666666667\n"
     ]
    },
    {
     "name": "stderr",
     "output_type": "stream",
     "text": [
      "Training: 100%|██████████| 50/50 [00:24<00:00,  1.71it/s]\n",
      "Evaluating: 100%|██████████| 30/30 [00:00<00:00, 114.95it/s]\n",
      "Training:   0%|          | 0/50 [00:00<?, ?it/s]"
     ]
    },
    {
     "name": "stdout",
     "output_type": "stream",
     "text": [
      "52.53333333333333\n"
     ]
    },
    {
     "name": "stderr",
     "output_type": "stream",
     "text": [
      "Training: 100%|██████████| 50/50 [00:27<00:00,  1.80it/s]\n",
      "Evaluating: 100%|██████████| 30/30 [00:00<00:00, 518.58it/s]\n",
      "Training:   0%|          | 0/50 [00:00<?, ?it/s]"
     ]
    },
    {
     "name": "stdout",
     "output_type": "stream",
     "text": [
      "9.3\n"
     ]
    },
    {
     "name": "stderr",
     "output_type": "stream",
     "text": [
      "Training: 100%|██████████| 50/50 [00:26<00:00,  1.77it/s]\n",
      "Evaluating: 100%|██████████| 30/30 [00:00<00:00, 671.53it/s]\n",
      "Training:   0%|          | 0/50 [00:00<?, ?it/s]"
     ]
    },
    {
     "name": "stdout",
     "output_type": "stream",
     "text": [
      "9.4\n"
     ]
    },
    {
     "name": "stderr",
     "output_type": "stream",
     "text": [
      "Training: 100%|██████████| 50/50 [00:33<00:00,  1.50it/s]\n",
      "Evaluating: 100%|██████████| 30/30 [00:00<00:00, 707.35it/s]\n",
      "Training:   0%|          | 0/50 [00:00<?, ?it/s]"
     ]
    },
    {
     "name": "stdout",
     "output_type": "stream",
     "text": [
      "9.533333333333333\n"
     ]
    },
    {
     "name": "stderr",
     "output_type": "stream",
     "text": [
      "Training: 100%|██████████| 50/50 [00:22<00:00,  2.06it/s]\n",
      "Evaluating: 100%|██████████| 30/30 [00:00<00:00, 32.86it/s]\n",
      "Training:   4%|▍         | 2/50 [00:00<00:03, 13.13it/s]"
     ]
    },
    {
     "name": "stdout",
     "output_type": "stream",
     "text": [
      "200.0\n"
     ]
    },
    {
     "name": "stderr",
     "output_type": "stream",
     "text": [
      "Training: 100%|██████████| 50/50 [00:15<00:00,  3.25it/s]\n",
      "Evaluating: 100%|██████████| 30/30 [00:00<00:00, 58.61it/s]\n",
      "Training:   0%|          | 0/50 [00:00<?, ?it/s]"
     ]
    },
    {
     "name": "stdout",
     "output_type": "stream",
     "text": [
      "97.53333333333333\n"
     ]
    },
    {
     "name": "stderr",
     "output_type": "stream",
     "text": [
      "Training: 100%|██████████| 50/50 [00:25<00:00,  3.72it/s]\n",
      "Evaluating: 100%|██████████| 30/30 [00:00<00:00, 645.79it/s]\n",
      "Training:   4%|▍         | 2/50 [00:00<00:03, 14.22it/s]"
     ]
    },
    {
     "name": "stdout",
     "output_type": "stream",
     "text": [
      "9.233333333333333\n"
     ]
    },
    {
     "name": "stderr",
     "output_type": "stream",
     "text": [
      "Training: 100%|██████████| 50/50 [00:36<00:00,  1.12s/it]\n",
      "Evaluating: 100%|██████████| 30/30 [00:00<00:00, 50.49it/s]\n",
      "Training:   0%|          | 0/50 [00:00<?, ?it/s]"
     ]
    },
    {
     "name": "stdout",
     "output_type": "stream",
     "text": [
      "129.63333333333333\n"
     ]
    },
    {
     "name": "stderr",
     "output_type": "stream",
     "text": [
      "Training: 100%|██████████| 50/50 [00:38<00:00,  1.34it/s]\n",
      "Evaluating: 100%|██████████| 30/30 [00:00<00:00, 709.70it/s]\n",
      "Training:   0%|          | 0/50 [00:00<?, ?it/s]"
     ]
    },
    {
     "name": "stdout",
     "output_type": "stream",
     "text": [
      "9.6\n"
     ]
    },
    {
     "name": "stderr",
     "output_type": "stream",
     "text": [
      "Training: 100%|██████████| 50/50 [00:38<00:00,  1.07it/s]\n",
      "Evaluating: 100%|██████████| 30/30 [00:00<00:00, 32.56it/s]\n",
      "Training:   0%|          | 0/50 [00:00<?, ?it/s]"
     ]
    },
    {
     "name": "stdout",
     "output_type": "stream",
     "text": [
      "200.0\n"
     ]
    },
    {
     "name": "stderr",
     "output_type": "stream",
     "text": [
      "Training: 100%|██████████| 50/50 [00:35<00:00,  1.39it/s]\n",
      "Evaluating: 100%|██████████| 30/30 [00:00<00:00, 317.56it/s]\n",
      "Training:   2%|▏         | 1/50 [00:00<00:06,  7.60it/s]"
     ]
    },
    {
     "name": "stdout",
     "output_type": "stream",
     "text": [
      "18.5\n"
     ]
    },
    {
     "name": "stderr",
     "output_type": "stream",
     "text": [
      "Training: 100%|██████████| 50/50 [00:43<00:00,  1.05it/s]\n",
      "Evaluating: 100%|██████████| 30/30 [00:00<00:00, 86.98it/s]\n",
      "Training:   2%|▏         | 1/50 [00:00<00:05,  8.77it/s]"
     ]
    },
    {
     "name": "stdout",
     "output_type": "stream",
     "text": [
      "58.7\n"
     ]
    },
    {
     "name": "stderr",
     "output_type": "stream",
     "text": [
      "Training: 100%|██████████| 50/50 [00:30<00:00,  1.54it/s]\n",
      "Evaluating: 100%|██████████| 30/30 [00:00<00:00, 97.03it/s]\n",
      "Training:   0%|          | 0/50 [00:00<?, ?it/s]"
     ]
    },
    {
     "name": "stdout",
     "output_type": "stream",
     "text": [
      "68.76666666666667\n"
     ]
    },
    {
     "name": "stderr",
     "output_type": "stream",
     "text": [
      "Training: 100%|██████████| 50/50 [00:21<00:00,  2.36it/s]\n",
      "Evaluating: 100%|██████████| 30/30 [00:00<00:00, 587.16it/s]\n",
      "Training:   4%|▍         | 2/50 [00:00<00:02, 16.89it/s]"
     ]
    },
    {
     "name": "stdout",
     "output_type": "stream",
     "text": [
      "9.366666666666667\n"
     ]
    },
    {
     "name": "stderr",
     "output_type": "stream",
     "text": [
      "Training: 100%|██████████| 50/50 [00:24<00:00,  1.62it/s]\n",
      "Evaluating: 100%|██████████| 30/30 [00:00<00:00, 53.33it/s]\n",
      "Training:   0%|          | 0/50 [00:00<?, ?it/s]"
     ]
    },
    {
     "name": "stdout",
     "output_type": "stream",
     "text": [
      "126.76666666666667\n"
     ]
    },
    {
     "name": "stderr",
     "output_type": "stream",
     "text": [
      "Training: 100%|██████████| 50/50 [00:25<00:00,  1.70it/s]\n",
      "Evaluating: 100%|██████████| 30/30 [00:00<00:00, 54.77it/s]\n",
      "Training:   0%|          | 0/50 [00:00<?, ?it/s]"
     ]
    },
    {
     "name": "stdout",
     "output_type": "stream",
     "text": [
      "126.3\n"
     ]
    },
    {
     "name": "stderr",
     "output_type": "stream",
     "text": [
      "Training: 100%|██████████| 50/50 [00:26<00:00,  2.39it/s]\n",
      "Evaluating: 100%|██████████| 30/30 [00:00<00:00, 677.25it/s]\n",
      "Training:   0%|          | 0/50 [00:00<?, ?it/s]"
     ]
    },
    {
     "name": "stdout",
     "output_type": "stream",
     "text": [
      "9.3\n"
     ]
    },
    {
     "name": "stderr",
     "output_type": "stream",
     "text": [
      "Training: 100%|██████████| 50/50 [00:21<00:00,  4.81it/s]\n",
      "Evaluating: 100%|██████████| 30/30 [00:00<00:00, 227.13it/s]\n",
      "Training:   0%|          | 0/50 [00:00<?, ?it/s]"
     ]
    },
    {
     "name": "stdout",
     "output_type": "stream",
     "text": [
      "27.6\n"
     ]
    },
    {
     "name": "stderr",
     "output_type": "stream",
     "text": [
      "Training: 100%|██████████| 50/50 [00:22<00:00,  4.05it/s]\n",
      "Evaluating: 100%|██████████| 30/30 [00:00<00:00, 119.02it/s]\n",
      "Training:   2%|▏         | 1/50 [00:00<00:07,  6.66it/s]"
     ]
    },
    {
     "name": "stdout",
     "output_type": "stream",
     "text": [
      "56.666666666666664\n"
     ]
    },
    {
     "name": "stderr",
     "output_type": "stream",
     "text": [
      "Training: 100%|██████████| 50/50 [00:19<00:00,  2.05it/s]\n",
      "Evaluating: 100%|██████████| 30/30 [00:00<00:00, 97.88it/s]\n",
      "Training:   0%|          | 0/50 [00:00<?, ?it/s]"
     ]
    },
    {
     "name": "stdout",
     "output_type": "stream",
     "text": [
      "68.1\n"
     ]
    },
    {
     "name": "stderr",
     "output_type": "stream",
     "text": [
      "Training: 100%|██████████| 50/50 [00:18<00:00,  3.75it/s]\n",
      "Evaluating: 100%|██████████| 30/30 [00:00<00:00, 149.95it/s]\n",
      "Training:   0%|          | 0/50 [00:00<?, ?it/s]"
     ]
    },
    {
     "name": "stdout",
     "output_type": "stream",
     "text": [
      "35.6\n"
     ]
    },
    {
     "name": "stderr",
     "output_type": "stream",
     "text": [
      "Training: 100%|██████████| 50/50 [00:10<00:00,  4.85it/s]\n",
      "Evaluating: 100%|██████████| 30/30 [00:00<00:00, 178.25it/s]\n",
      "Training:   0%|          | 0/50 [00:00<?, ?it/s]"
     ]
    },
    {
     "name": "stdout",
     "output_type": "stream",
     "text": [
      "32.36666666666667\n"
     ]
    },
    {
     "name": "stderr",
     "output_type": "stream",
     "text": [
      "Training: 100%|██████████| 50/50 [00:10<00:00,  5.85it/s]\n",
      "Evaluating: 100%|██████████| 30/30 [00:00<00:00, 220.54it/s]\n",
      "Training:   2%|▏         | 1/50 [00:00<00:09,  5.37it/s]"
     ]
    },
    {
     "name": "stdout",
     "output_type": "stream",
     "text": [
      "30.0\n"
     ]
    },
    {
     "name": "stderr",
     "output_type": "stream",
     "text": [
      "Training: 100%|██████████| 50/50 [00:20<00:00,  3.40it/s]\n",
      "Evaluating: 100%|██████████| 30/30 [00:00<00:00, 171.03it/s]\n",
      "Training:   0%|          | 0/50 [00:00<?, ?it/s]"
     ]
    },
    {
     "name": "stdout",
     "output_type": "stream",
     "text": [
      "38.56666666666667\n"
     ]
    },
    {
     "name": "stderr",
     "output_type": "stream",
     "text": [
      "Training: 100%|██████████| 50/50 [00:21<00:00,  1.41it/s]\n",
      "Evaluating: 100%|██████████| 30/30 [00:00<00:00, 60.39it/s]\n",
      "Training:   0%|          | 0/50 [00:00<?, ?it/s]"
     ]
    },
    {
     "name": "stdout",
     "output_type": "stream",
     "text": [
      "102.56666666666666\n"
     ]
    },
    {
     "name": "stderr",
     "output_type": "stream",
     "text": [
      "Training: 100%|██████████| 50/50 [00:29<00:00,  1.63it/s]\n",
      "Evaluating: 100%|██████████| 30/30 [00:00<00:00, 55.71it/s]\n",
      "Training:   0%|          | 0/50 [00:00<?, ?it/s]"
     ]
    },
    {
     "name": "stdout",
     "output_type": "stream",
     "text": [
      "91.93333333333334\n"
     ]
    },
    {
     "name": "stderr",
     "output_type": "stream",
     "text": [
      "Training: 100%|██████████| 50/50 [00:18<00:00,  2.79it/s]\n",
      "Evaluating: 100%|██████████| 30/30 [00:00<00:00, 150.48it/s]\n",
      "Training:   0%|          | 0/50 [00:00<?, ?it/s]"
     ]
    },
    {
     "name": "stdout",
     "output_type": "stream",
     "text": [
      "45.9\n"
     ]
    },
    {
     "name": "stderr",
     "output_type": "stream",
     "text": [
      "Training: 100%|██████████| 50/50 [00:20<00:00,  3.51it/s]\n",
      "Evaluating: 100%|██████████| 30/30 [00:00<00:00, 114.23it/s]\n",
      "Training:   0%|          | 0/50 [00:00<?, ?it/s]"
     ]
    },
    {
     "name": "stdout",
     "output_type": "stream",
     "text": [
      "55.9\n"
     ]
    },
    {
     "name": "stderr",
     "output_type": "stream",
     "text": [
      "Training: 100%|██████████| 50/50 [00:12<00:00,  2.74it/s]\n",
      "Evaluating: 100%|██████████| 30/30 [00:00<00:00, 141.57it/s]\n",
      "Training:   0%|          | 0/50 [00:00<?, ?it/s]"
     ]
    },
    {
     "name": "stdout",
     "output_type": "stream",
     "text": [
      "36.233333333333334\n"
     ]
    },
    {
     "name": "stderr",
     "output_type": "stream",
     "text": [
      "Training: 100%|██████████| 50/50 [00:16<00:00,  1.86it/s]\n",
      "Evaluating: 100%|██████████| 30/30 [00:00<00:00, 60.91it/s]\n",
      "Training:   0%|          | 0/50 [00:00<?, ?it/s]"
     ]
    },
    {
     "name": "stdout",
     "output_type": "stream",
     "text": [
      "105.93333333333334\n"
     ]
    },
    {
     "name": "stderr",
     "output_type": "stream",
     "text": [
      "Training: 100%|██████████| 50/50 [00:34<00:00,  1.72it/s]\n",
      "Evaluating: 100%|██████████| 30/30 [00:00<00:00, 58.26it/s]\n",
      "Training:   0%|          | 0/50 [00:00<?, ?it/s]"
     ]
    },
    {
     "name": "stdout",
     "output_type": "stream",
     "text": [
      "115.96666666666667\n"
     ]
    },
    {
     "name": "stderr",
     "output_type": "stream",
     "text": [
      "Training: 100%|██████████| 50/50 [00:40<00:00,  1.36it/s]\n",
      "Evaluating: 100%|██████████| 30/30 [00:00<00:00, 39.78it/s]\n",
      "Training:   0%|          | 0/50 [00:00<?, ?it/s]"
     ]
    },
    {
     "name": "stdout",
     "output_type": "stream",
     "text": [
      "163.46666666666667\n"
     ]
    },
    {
     "name": "stderr",
     "output_type": "stream",
     "text": [
      "Training: 100%|██████████| 50/50 [00:55<00:00,  1.26s/it]\n",
      "Evaluating: 100%|██████████| 30/30 [00:01<00:00, 26.00it/s]\n",
      "Training:   0%|          | 0/50 [00:00<?, ?it/s]"
     ]
    },
    {
     "name": "stdout",
     "output_type": "stream",
     "text": [
      "200.0\n"
     ]
    },
    {
     "name": "stderr",
     "output_type": "stream",
     "text": [
      "Training: 100%|██████████| 50/50 [00:52<00:00,  1.34it/s]\n",
      "Evaluating: 100%|██████████| 30/30 [00:00<00:00, 45.66it/s]\n",
      "Training:   0%|          | 0/50 [00:00<?, ?it/s]"
     ]
    },
    {
     "name": "stdout",
     "output_type": "stream",
     "text": [
      "139.53333333333333\n"
     ]
    },
    {
     "name": "stderr",
     "output_type": "stream",
     "text": [
      "Training: 100%|██████████| 50/50 [00:57<00:00,  1.22s/it]\n",
      "Evaluating: 100%|██████████| 30/30 [00:00<00:00, 33.11it/s]\n",
      "Training:   0%|          | 0/50 [00:00<?, ?it/s]"
     ]
    },
    {
     "name": "stdout",
     "output_type": "stream",
     "text": [
      "200.0\n"
     ]
    },
    {
     "name": "stderr",
     "output_type": "stream",
     "text": [
      "Training: 100%|██████████| 50/50 [00:28<00:00,  1.84it/s]\n",
      "Evaluating: 100%|██████████| 30/30 [00:00<00:00, 88.23it/s]\n",
      "Training:   0%|          | 0/50 [00:00<?, ?it/s]"
     ]
    },
    {
     "name": "stdout",
     "output_type": "stream",
     "text": [
      "76.03333333333333\n"
     ]
    },
    {
     "name": "stderr",
     "output_type": "stream",
     "text": [
      "Training: 100%|██████████| 50/50 [00:17<00:00,  3.31it/s]\n",
      "Evaluating: 100%|██████████| 30/30 [00:00<00:00, 93.79it/s]\n",
      "Training:   0%|          | 0/50 [00:00<?, ?it/s]"
     ]
    },
    {
     "name": "stdout",
     "output_type": "stream",
     "text": [
      "55.4\n"
     ]
    },
    {
     "name": "stderr",
     "output_type": "stream",
     "text": [
      "Training: 100%|██████████| 50/50 [00:52<00:00,  1.28s/it]\n",
      "Evaluating: 100%|██████████| 30/30 [00:00<00:00, 32.19it/s]\n",
      "Training:   0%|          | 0/50 [00:00<?, ?it/s]"
     ]
    },
    {
     "name": "stdout",
     "output_type": "stream",
     "text": [
      "200.0\n"
     ]
    },
    {
     "name": "stderr",
     "output_type": "stream",
     "text": [
      "Training: 100%|██████████| 50/50 [00:57<00:00,  1.25s/it]\n",
      "Evaluating: 100%|██████████| 30/30 [00:01<00:00, 25.95it/s]\n",
      "Training:   0%|          | 0/50 [00:00<?, ?it/s]"
     ]
    },
    {
     "name": "stdout",
     "output_type": "stream",
     "text": [
      "200.0\n"
     ]
    },
    {
     "name": "stderr",
     "output_type": "stream",
     "text": [
      "Training: 100%|██████████| 50/50 [00:47<00:00,  1.23s/it]\n",
      "Evaluating: 100%|██████████| 30/30 [00:00<00:00, 32.91it/s]\n",
      "Training:   0%|          | 0/50 [00:00<?, ?it/s]"
     ]
    },
    {
     "name": "stdout",
     "output_type": "stream",
     "text": [
      "200.0\n"
     ]
    },
    {
     "name": "stderr",
     "output_type": "stream",
     "text": [
      "Training: 100%|██████████| 50/50 [00:31<00:00,  4.15it/s]\n",
      "Evaluating: 100%|██████████| 30/30 [00:00<00:00, 241.71it/s]\n",
      "Training:   2%|▏         | 1/50 [00:00<00:07,  6.67it/s]"
     ]
    },
    {
     "name": "stdout",
     "output_type": "stream",
     "text": [
      "21.233333333333334\n"
     ]
    },
    {
     "name": "stderr",
     "output_type": "stream",
     "text": [
      "Training: 100%|██████████| 50/50 [00:16<00:00,  2.92it/s]\n",
      "Evaluating: 100%|██████████| 30/30 [00:00<00:00, 82.86it/s]\n",
      "Training:   0%|          | 0/50 [00:00<?, ?it/s]"
     ]
    },
    {
     "name": "stdout",
     "output_type": "stream",
     "text": [
      "64.96666666666667\n"
     ]
    },
    {
     "name": "stderr",
     "output_type": "stream",
     "text": [
      "Training: 100%|██████████| 50/50 [00:25<00:00,  1.22s/it]\n",
      "Evaluating: 100%|██████████| 30/30 [00:00<00:00, 130.71it/s]\n",
      "Training:   0%|          | 0/50 [00:00<?, ?it/s]"
     ]
    },
    {
     "name": "stdout",
     "output_type": "stream",
     "text": [
      "47.9\n"
     ]
    },
    {
     "name": "stderr",
     "output_type": "stream",
     "text": [
      "Training: 100%|██████████| 50/50 [00:26<00:00,  2.64it/s]\n",
      "Evaluating: 100%|██████████| 30/30 [00:00<00:00, 71.61it/s]\n",
      "Training:   0%|          | 0/50 [00:00<?, ?it/s]"
     ]
    },
    {
     "name": "stdout",
     "output_type": "stream",
     "text": [
      "92.13333333333334\n"
     ]
    },
    {
     "name": "stderr",
     "output_type": "stream",
     "text": [
      "Training: 100%|██████████| 50/50 [00:36<00:00,  1.05it/s]\n",
      "Evaluating: 100%|██████████| 30/30 [00:00<00:00, 32.62it/s]"
     ]
    },
    {
     "name": "stdout",
     "output_type": "stream",
     "text": [
      "199.66666666666666\n",
      "\n",
      "Learning Performance:\n",
      "\n"
     ]
    },
    {
     "name": "stderr",
     "output_type": "stream",
     "text": [
      "\n"
     ]
    },
    {
     "data": {
      "text/plain": [
       "<Figure size 432x288 with 0 Axes>"
      ]
     },
     "metadata": {},
     "output_type": "display_data"
    },
    {
     "data": {
      "image/png": "[encoded data removed]",
      "text/plain": [
       "<Figure size 432x288 with 1 Axes>"
      ]
     },
     "metadata": {},
     "output_type": "display_data"
    }
   ],
   "source": [
    "training_episodes, test_interval = 10000, 50\n",
    "agent = DQN_agent(env_CartPole, hyperparams_CartPole)\n",
    "result = agent.learn_and_evaluate(training_episodes, test_interval)\n",
    "plot_result(result, test_interval, [\"batch_update with target_model\"])"
   ]
  },
  {
   "cell_type": "raw",
   "metadata": {},
   "source": [
    "DQN without a replay buffer (but including the target network).\n",
    "The corresponding parameters are: memory_size = 1, update_steps = 1, batch_size = 1, use_target_model = True"
   ]
  },
  {
   "cell_type": "code",
   "execution_count": 12,
   "metadata": {},
   "outputs": [],
   "source": [
    "hyperparams_CartPole = {\n",
    "    'epsilon_decay_steps' : 100000, \n",
    "    'final_epsilon' : 0.1,\n",
    "    'batch_size' : 1, \n",
    "    'update_steps' : 1, \n",
    "    'memory_size' : 1, \n",
    "    'beta' : 0.99, \n",
    "    'model_replace_freq' : 2000,\n",
    "    'learning_rate' : 0.0003,\n",
    "    'use_target_model': True\n",
    "}"
   ]
  },
  {
   "cell_type": "code",
   "execution_count": 13,
   "metadata": {},
   "outputs": [],
   "source": [
    "class DQN_agent(object):\n",
    "    def __init__(self, env, hyper_params, action_space = len(ACTION_DICT)):\n",
    "        \n",
    "        self.env = env\n",
    "        self.max_episode_steps = env._max_episode_steps\n",
    "        \n",
    "        \"\"\"\n",
    "            beta: The discounted factor of Q-value function\n",
    "            (epsilon): The explore or exploit policy epsilon. \n",
    "            initial_epsilon: When the 'steps' is 0, the epsilon is initial_epsilon, 1\n",
    "            final_epsilon: After the number of 'steps' reach 'epsilon_decay_steps', \n",
    "                The epsilon set to the 'final_epsilon' determinately.\n",
    "            epsilon_decay_steps: The epsilon will decrease linearly along with the steps from 0 to 'epsilon_decay_steps'.\n",
    "        \"\"\"\n",
    "        self.beta = hyper_params['beta']\n",
    "        self.initial_epsilon = 1\n",
    "        self.final_epsilon = hyper_params['final_epsilon']\n",
    "        self.epsilon_decay_steps = hyper_params['epsilon_decay_steps']\n",
    "\n",
    "        \"\"\"\n",
    "            episode: Record training episode\n",
    "            steps: Add 1 when predicting an action\n",
    "            learning: The trigger of agent learning. It is on while training agent. It is off while testing agent.\n",
    "            action_space: The action space of the current environment, e.g 2.\n",
    "        \"\"\"\n",
    "        self.episode = 0\n",
    "        self.steps = 0\n",
    "        self.best_reward = 0#-------------may be recording the max reward obtained in an episode\n",
    "        self.learning = True\n",
    "        self.action_space = action_space\n",
    "\n",
    "        \"\"\"\n",
    "            input_len The input length of the neural network. It equals to the length of the state vector.\n",
    "            output_len: The output length of the neural network. It is equal to the action space.\n",
    "            eval_model: The model for predicting action for the agent.\n",
    "            target_model: The model for calculating Q-value of next_state to update 'eval_model'.\n",
    "            use_target_model: Trigger for turn 'target_model' on/off\n",
    "        \"\"\"\n",
    "        state = env.reset()\n",
    "        \n",
    "        input_len = len(state)\n",
    "        output_len = action_space#---------action_space here is the length of the action space\n",
    "        self.eval_model = DQNModel(input_len, output_len, learning_rate = hyper_params['learning_rate'])\n",
    "        self.use_target_model = hyper_params['use_target_model']\n",
    "        if self.use_target_model:\n",
    "            self.target_model = DQNModel(input_len, output_len)#-----------each agent has one DQNModel()\n",
    "#         memory: Store and sample experience replay.\n",
    "        self.memory = ReplayBuffer(hyper_params['memory_size'])\n",
    "        \n",
    "        \"\"\"\n",
    "            batch_size: Mini batch size for training model.\n",
    "            update_steps: The frequence of traning model\n",
    "            model_replace_freq: The frequence of replacing 'target_model' by 'eval_model'\n",
    "        \"\"\"\n",
    "        self.batch_size = hyper_params['batch_size']\n",
    "        self.update_steps = hyper_params['update_steps']\n",
    "        self.model_replace_freq = hyper_params['model_replace_freq']#---------for each agent\n",
    "        \n",
    "    # Linear decrease function for epsilon for each agent\n",
    "    def linear_decrease(self, initial_value, final_value, curr_steps, final_decay_steps):\n",
    "        decay_rate = curr_steps / final_decay_steps\n",
    "        if decay_rate > 1:\n",
    "            decay_rate = 1\n",
    "        return initial_value - (initial_value - final_value) * decay_rate\n",
    "    \n",
    "    def explore_or_exploit_policy(self, state):#-----------Note:Experience generated by the learning network\n",
    "        p = uniform(0, 1)\n",
    "        # Get decreased epsilon\n",
    "        epsilon = self.linear_decrease(self.initial_epsilon, \n",
    "                               self.final_epsilon,\n",
    "                               self.steps,\n",
    "                               self.epsilon_decay_steps)\n",
    "        \n",
    "        if p < epsilon:\n",
    "            #return action\n",
    "            return randint(0, self.action_space - 1)#---Return random integers from low (inclusive) to high (exclusive).\n",
    "        else:\n",
    "            #return action\n",
    "            return self.greedy_policy(state)\n",
    "        \n",
    "    def greedy_policy(self, state):\n",
    "        return self.eval_model.predict(state)\n",
    "    \n",
    "    # This next function will be called in the main RL loop to update the neural network model given a batch of\n",
    "    #experience\n",
    "    # 1) Sample a 'batch_size' batch of experiences from the memory.\n",
    "    # 2) Predict the Q-value from the 'eval_model' based on (states, actions)\n",
    "    # 3) Predict the Q-value from the 'target_model' base on (next_states), and take the max of each Q-value \n",
    "    # vector, Q_max\n",
    "    # 4)  If is_terminal == 0 for a sample in the batch u took from the replay buffer,\n",
    "            #q_target = reward + discounted factor * Q_max, otherwise, q_target = reward\n",
    "    # 5) Call fit() to do the back-propagation for 'eval_model'.\n",
    "    \n",
    "    def update_batch(self):\n",
    "        if len(self.memory) < self.batch_size or self.steps % self.update_steps != 0:\n",
    "            return #means return if either you dont have sufficient number of experiences to batch from or this\n",
    "                    #timestep is not a multiple of the frequency of time steps because u need to do this after only\n",
    "                    #a certain number of timesteps in an episode\n",
    "\n",
    "        batch = self.memory.sample(self.batch_size) #get samples from the experience replay\n",
    "\n",
    "        (states, actions, reward, next_states, is_terminal) = batch\n",
    "        #each of these is a vector of length the same as the length of a batch sampled from the replay buffer\n",
    "        \n",
    "        states = states\n",
    "        next_states = next_states\n",
    "        reward = FloatTensor(reward) \n",
    "        \n",
    "        #create an array to denote if the next state is terminal or not so as to assign approirate target\n",
    "        terminal = FloatTensor([1 if t else 0 for t in is_terminal])\n",
    "        #need to do this conversion because its not 1 and 0 in the is_terminal vector but it is True and False\n",
    "        \n",
    "        \n",
    "        \n",
    "        \n",
    "        batch_index = torch.arange(self.batch_size, dtype=torch.long)\n",
    "        #Returns a 1-D tensor of size ((end-start)/step) with values from the interval (start,end) taken \n",
    "        #with common difference \"step\" beginning from start\n",
    "        #default --> torch.arange(start=0, end, step=1)\n",
    "        #dtype parameter is the desired data type of returned tensor\n",
    "        #end is a non-optional argument for arange()\n",
    "        #by default, the step is 1\n",
    "        \n",
    "        # Current Q Values\n",
    "        _, q_values = self.eval_model.predict_batch(states)#used to predict both the Q-values and best actions for a batch of states. \n",
    "        #returns a matrix, each row is the set of Q values for all the actions in this particular state\n",
    "                \n",
    "        \n",
    "        q_values = q_values[batch_index, actions]\n",
    "        \n",
    "        \n",
    "        # Calculate target\n",
    "        # predict_batch() : This is used to predict both the Q-values and best actions for a batch of states. \n",
    "        #Given a batch of states, the function returns: 1) 'best_actions' a vector containing the best action \n",
    "        #for each input state, and 2) 'q_values' a matrix where each row gives the Q-value for all actions of \n",
    "        #each state (one row per state).\n",
    "        \n",
    "        if self.use_target_model:\n",
    "            actions, q_next = self.target_model.predict_batch(next_states) #to get the training samples as well as \n",
    "            #the Q value of the next state we can bootstrap from\n",
    "        else:   \n",
    "            actions, q_next = self.eval_model.predict_batch(next_states) #use the learning model for getting\n",
    "            #the q values of the current state\n",
    "        #--------------------------------------------------------------------------\n",
    "        \n",
    "        #INSERT YOUR CODE HERE --- neet to compute 'q_targets' used below\n",
    "        \n",
    "        #calculate the Qmax from next_states that you need to calculate the target in the update equation\n",
    "        \n",
    "        #q_next calculated above is a matrix\n",
    "        max_Q_per_state, index_of_argmax = torch.max(q_next,dim = 1)\n",
    "        \n",
    "        q_target_list= []\n",
    "        import time\n",
    "       \n",
    "        for item in range(len(terminal)):\n",
    "            #print(batch[0])\n",
    "            #time.sleep(2222)\n",
    "            if terminal[item]==1:\n",
    "                q_target_list.append(reward[item])\n",
    "            else:\n",
    "                q_target_list.append(reward[item]+ self.beta * max_Q_per_state[item] )\n",
    "        \n",
    "        \n",
    "        \n",
    "        #----------------------------------------------------------------------------\n",
    "        q_target_list = FloatTensor(q_target_list)\n",
    "        # update model\n",
    "        self.eval_model.fit(q_values, q_target_list)\n",
    "    \n",
    "    def learn_and_evaluate(self, training_episodes, test_interval):\n",
    "        test_number = training_episodes // test_interval\n",
    "        all_results = []\n",
    "        \n",
    "        for i in range(test_number):\n",
    "            # learn\n",
    "            self.learn(test_interval)\n",
    "            \n",
    "            # evaluate\n",
    "            avg_reward = self.evaluate()\n",
    "            all_results.append(avg_reward)\n",
    "            \n",
    "        return all_results\n",
    "    \n",
    "        \n",
    "    \n",
    "    def learn(self, test_interval):\n",
    "        for episode in tqdm(range(test_interval), desc=\"Training\"):\n",
    "            state = self.env.reset()\n",
    "            done = False\n",
    "            steps = 0\n",
    "            self.episode += 1\n",
    "            while steps < self.max_episode_steps and not done: \n",
    "                #INSERT YOUR CODE HERE\n",
    "                # add experience from explore-exploit policy to memory\n",
    "                #put this state action pair into the replay buffer\n",
    "                #memory.add(state, action, reward, state', is_terminal) takes one example as input, and store it into its storage.\n",
    "                # update the model every 'update_steps' of experience\n",
    "                \n",
    "                action = self.explore_or_exploit_policy(state)\n",
    "                new_state,reward, done,_ = self.env.step(action)\n",
    "                self.memory.add(state, action,reward,new_state,done)\n",
    "                \n",
    "                self.steps = self.steps + 1\n",
    "                steps = steps + 1\n",
    "                if (self.steps % self.update_steps) == 0 :\n",
    "                    self.update_batch()\n",
    "                \n",
    "                # update the target network (if the target network is being used) every 'model_replace_freq' of experiences \n",
    "                if (self.steps % self.model_replace_freq) == 0:\n",
    "                    self.target_model.replace(self.eval_model)\n",
    "                \n",
    "                \n",
    "                #------------update the state to new state\n",
    "                state = new_state\n",
    "                \n",
    "                \n",
    "                #----------------------------------------------------------------------------\n",
    "    def evaluate(self, trials = 30):\n",
    "        total_reward = 0\n",
    "        for _ in tqdm(range(trials), desc=\"Evaluating\"):\n",
    "            state = self.env.reset()\n",
    "            done = False\n",
    "            steps = 0\n",
    "\n",
    "            while steps < self.max_episode_steps and not done:\n",
    "                steps += 1\n",
    "                action = self.greedy_policy(state)\n",
    "                state, reward, done, _ = self.env.step(action)\n",
    "                total_reward += reward\n",
    "\n",
    "        avg_reward = total_reward / trials\n",
    "        print(avg_reward)\n",
    "        f = open(result_file, \"a+\")\n",
    "        f.write(str(avg_reward) + \"\\n\")\n",
    "        f.close()\n",
    "        if avg_reward >= self.best_reward:\n",
    "            self.best_reward = avg_reward\n",
    "            self.save_model()\n",
    "        return avg_reward\n",
    "\n",
    "    # save model\n",
    "    def save_model(self):\n",
    "        self.eval_model.save(result_folder + '/best_model.pt')\n",
    "        \n",
    "    # load model\n",
    "    def load_model(self):\n",
    "        self.eval_model.load(result_folder + '/best_model.pt')"
   ]
  },
  {
   "cell_type": "code",
   "execution_count": 14,
   "metadata": {},
   "outputs": [
    {
     "name": "stderr",
     "output_type": "stream",
     "text": [
      "Training: 100%|██████████| 50/50 [00:07<00:00,  6.57it/s]\n",
      "Evaluating: 100%|██████████| 30/30 [00:00<00:00, 600.62it/s]\n",
      "Training:   0%|          | 0/50 [00:00<?, ?it/s]"
     ]
    },
    {
     "name": "stdout",
     "output_type": "stream",
     "text": [
      "9.166666666666666\n"
     ]
    },
    {
     "name": "stderr",
     "output_type": "stream",
     "text": [
      "Training: 100%|██████████| 50/50 [00:07<00:00,  9.19it/s]\n",
      "Evaluating: 100%|██████████| 30/30 [00:00<00:00, 616.47it/s]\n",
      "Training:   2%|▏         | 1/50 [00:00<00:08,  5.95it/s]"
     ]
    },
    {
     "name": "stdout",
     "output_type": "stream",
     "text": [
      "9.533333333333333\n"
     ]
    },
    {
     "name": "stderr",
     "output_type": "stream",
     "text": [
      "Training: 100%|██████████| 50/50 [00:06<00:00,  7.97it/s]\n",
      "Evaluating: 100%|██████████| 30/30 [00:00<00:00, 678.61it/s]\n",
      "Training:   2%|▏         | 1/50 [00:00<00:08,  6.11it/s]"
     ]
    },
    {
     "name": "stdout",
     "output_type": "stream",
     "text": [
      "9.566666666666666\n"
     ]
    },
    {
     "name": "stderr",
     "output_type": "stream",
     "text": [
      "Training: 100%|██████████| 50/50 [00:07<00:00,  6.85it/s]\n",
      "Evaluating: 100%|██████████| 30/30 [00:00<00:00, 375.92it/s]\n",
      "Training:   0%|          | 0/50 [00:00<?, ?it/s]"
     ]
    },
    {
     "name": "stdout",
     "output_type": "stream",
     "text": [
      "17.2\n"
     ]
    },
    {
     "name": "stderr",
     "output_type": "stream",
     "text": [
      "Training: 100%|██████████| 50/50 [00:06<00:00,  7.46it/s]\n",
      "Evaluating: 100%|██████████| 30/30 [00:00<00:00, 671.01it/s]\n",
      "Training:   2%|▏         | 1/50 [00:00<00:07,  6.38it/s]"
     ]
    },
    {
     "name": "stdout",
     "output_type": "stream",
     "text": [
      "9.366666666666667\n"
     ]
    },
    {
     "name": "stderr",
     "output_type": "stream",
     "text": [
      "Training: 100%|██████████| 50/50 [00:06<00:00,  7.25it/s]\n",
      "Evaluating: 100%|██████████| 30/30 [00:00<00:00, 126.39it/s]\n",
      "Training:   0%|          | 0/50 [00:00<?, ?it/s]"
     ]
    },
    {
     "name": "stdout",
     "output_type": "stream",
     "text": [
      "46.766666666666666\n"
     ]
    },
    {
     "name": "stderr",
     "output_type": "stream",
     "text": [
      "Training: 100%|██████████| 50/50 [00:07<00:00,  6.16it/s]\n",
      "Evaluating: 100%|██████████| 30/30 [00:00<00:00, 343.36it/s]\n",
      "Training:   4%|▍         | 2/50 [00:00<00:04, 11.53it/s]"
     ]
    },
    {
     "name": "stdout",
     "output_type": "stream",
     "text": [
      "19.2\n"
     ]
    },
    {
     "name": "stderr",
     "output_type": "stream",
     "text": [
      "Training: 100%|██████████| 50/50 [00:07<00:00,  5.81it/s]\n",
      "Evaluating: 100%|██████████| 30/30 [00:00<00:00, 151.38it/s]\n",
      "Training:   0%|          | 0/50 [00:00<?, ?it/s]"
     ]
    },
    {
     "name": "stdout",
     "output_type": "stream",
     "text": [
      "45.6\n"
     ]
    },
    {
     "name": "stderr",
     "output_type": "stream",
     "text": [
      "Training: 100%|██████████| 50/50 [00:08<00:00,  5.79it/s]\n",
      "Evaluating: 100%|██████████| 30/30 [00:00<00:00, 266.76it/s]\n",
      "Training:   2%|▏         | 1/50 [00:00<00:05,  9.24it/s]"
     ]
    },
    {
     "name": "stdout",
     "output_type": "stream",
     "text": [
      "25.133333333333333\n"
     ]
    },
    {
     "name": "stderr",
     "output_type": "stream",
     "text": [
      "Training: 100%|██████████| 50/50 [00:07<00:00,  6.69it/s]\n",
      "Evaluating: 100%|██████████| 30/30 [00:00<00:00, 57.12it/s]\n",
      "Training:   2%|▏         | 1/50 [00:00<00:08,  5.67it/s]"
     ]
    },
    {
     "name": "stdout",
     "output_type": "stream",
     "text": [
      "111.53333333333333\n"
     ]
    },
    {
     "name": "stderr",
     "output_type": "stream",
     "text": [
      "Training: 100%|██████████| 50/50 [00:08<00:00,  5.43it/s]\n",
      "Evaluating: 100%|██████████| 30/30 [00:00<00:00, 43.28it/s]\n",
      "Training:   0%|          | 0/50 [00:00<?, ?it/s]"
     ]
    },
    {
     "name": "stdout",
     "output_type": "stream",
     "text": [
      "146.06666666666666\n"
     ]
    },
    {
     "name": "stderr",
     "output_type": "stream",
     "text": [
      "Training: 100%|██████████| 50/50 [00:08<00:00,  6.28it/s]\n",
      "Evaluating: 100%|██████████| 30/30 [00:00<00:00, 536.34it/s]\n",
      "Training:   4%|▍         | 2/50 [00:00<00:04, 11.95it/s]"
     ]
    },
    {
     "name": "stdout",
     "output_type": "stream",
     "text": [
      "10.766666666666667\n"
     ]
    },
    {
     "name": "stderr",
     "output_type": "stream",
     "text": [
      "Training: 100%|██████████| 50/50 [00:07<00:00,  5.85it/s]\n",
      "Evaluating: 100%|██████████| 30/30 [00:00<00:00, 85.13it/s]\n",
      "Training:   2%|▏         | 1/50 [00:00<00:05,  8.44it/s]"
     ]
    },
    {
     "name": "stdout",
     "output_type": "stream",
     "text": [
      "78.6\n"
     ]
    },
    {
     "name": "stderr",
     "output_type": "stream",
     "text": [
      "Training: 100%|██████████| 50/50 [00:09<00:00,  3.93it/s]\n",
      "Evaluating: 100%|██████████| 30/30 [00:00<00:00, 34.47it/s]\n",
      "Training:   2%|▏         | 1/50 [00:00<00:07,  6.46it/s]"
     ]
    },
    {
     "name": "stdout",
     "output_type": "stream",
     "text": [
      "193.3\n"
     ]
    },
    {
     "name": "stderr",
     "output_type": "stream",
     "text": [
      "Training: 100%|██████████| 50/50 [00:10<00:00,  4.37it/s]\n",
      "Evaluating: 100%|██████████| 30/30 [00:00<00:00, 31.05it/s]\n",
      "Training:   0%|          | 0/50 [00:00<?, ?it/s]"
     ]
    },
    {
     "name": "stdout",
     "output_type": "stream",
     "text": [
      "192.26666666666668\n"
     ]
    },
    {
     "name": "stderr",
     "output_type": "stream",
     "text": [
      "Training: 100%|██████████| 50/50 [00:12<00:00,  3.90it/s]\n",
      "Evaluating: 100%|██████████| 30/30 [00:00<00:00, 36.71it/s]\n",
      "Training:   0%|          | 0/50 [00:00<?, ?it/s]"
     ]
    },
    {
     "name": "stdout",
     "output_type": "stream",
     "text": [
      "177.2\n"
     ]
    },
    {
     "name": "stderr",
     "output_type": "stream",
     "text": [
      "Training: 100%|██████████| 50/50 [00:10<00:00,  4.63it/s]\n",
      "Evaluating: 100%|██████████| 30/30 [00:00<00:00, 33.07it/s]\n",
      "Training:   2%|▏         | 1/50 [00:00<00:09,  5.19it/s]"
     ]
    },
    {
     "name": "stdout",
     "output_type": "stream",
     "text": [
      "200.0\n"
     ]
    },
    {
     "name": "stderr",
     "output_type": "stream",
     "text": [
      "Training: 100%|██████████| 50/50 [00:10<00:00,  5.36it/s]\n",
      "Evaluating: 100%|██████████| 30/30 [00:00<00:00, 33.54it/s]\n",
      "Training:   2%|▏         | 1/50 [00:00<00:06,  8.03it/s]"
     ]
    },
    {
     "name": "stdout",
     "output_type": "stream",
     "text": [
      "190.46666666666667\n"
     ]
    },
    {
     "name": "stderr",
     "output_type": "stream",
     "text": [
      "Training: 100%|██████████| 50/50 [00:09<00:00,  5.14it/s]\n",
      "Evaluating: 100%|██████████| 30/30 [00:01<00:00, 26.74it/s]\n",
      "Training:   0%|          | 0/50 [00:00<?, ?it/s]"
     ]
    },
    {
     "name": "stdout",
     "output_type": "stream",
     "text": [
      "199.96666666666667\n"
     ]
    },
    {
     "name": "stderr",
     "output_type": "stream",
     "text": [
      "Training: 100%|██████████| 50/50 [00:13<00:00,  3.09it/s]\n",
      "Evaluating: 100%|██████████| 30/30 [00:00<00:00, 33.67it/s]\n",
      "Training:   0%|          | 0/50 [00:00<?, ?it/s]"
     ]
    },
    {
     "name": "stdout",
     "output_type": "stream",
     "text": [
      "198.16666666666666\n"
     ]
    },
    {
     "name": "stderr",
     "output_type": "stream",
     "text": [
      "Training: 100%|██████████| 50/50 [00:15<00:00,  3.23it/s]\n",
      "Evaluating: 100%|██████████| 30/30 [00:00<00:00, 33.34it/s]\n",
      "Training:   0%|          | 0/50 [00:00<?, ?it/s]"
     ]
    },
    {
     "name": "stdout",
     "output_type": "stream",
     "text": [
      "200.0\n"
     ]
    },
    {
     "name": "stderr",
     "output_type": "stream",
     "text": [
      "Training: 100%|██████████| 50/50 [00:12<00:00,  3.88it/s]\n",
      "Evaluating: 100%|██████████| 30/30 [00:01<00:00, 26.63it/s]\n",
      "Training:   2%|▏         | 1/50 [00:00<00:05,  9.29it/s]"
     ]
    },
    {
     "name": "stdout",
     "output_type": "stream",
     "text": [
      "194.76666666666668\n"
     ]
    },
    {
     "name": "stderr",
     "output_type": "stream",
     "text": [
      "Training: 100%|██████████| 50/50 [00:14<00:00,  3.77it/s]\n",
      "Evaluating: 100%|██████████| 30/30 [00:01<00:00, 25.90it/s]\n",
      "Training:   2%|▏         | 1/50 [00:00<00:05,  8.45it/s]"
     ]
    },
    {
     "name": "stdout",
     "output_type": "stream",
     "text": [
      "198.3\n"
     ]
    },
    {
     "name": "stderr",
     "output_type": "stream",
     "text": [
      "Training: 100%|██████████| 50/50 [00:14<00:00,  3.34it/s]\n",
      "Evaluating: 100%|██████████| 30/30 [00:01<00:00, 25.97it/s]\n",
      "Training:   2%|▏         | 1/50 [00:00<00:08,  6.06it/s]"
     ]
    },
    {
     "name": "stdout",
     "output_type": "stream",
     "text": [
      "199.73333333333332\n"
     ]
    },
    {
     "name": "stderr",
     "output_type": "stream",
     "text": [
      "Training: 100%|██████████| 50/50 [00:18<00:00,  2.10it/s]\n",
      "Evaluating: 100%|██████████| 30/30 [00:00<00:00, 33.15it/s]\n",
      "Training:   0%|          | 0/50 [00:00<?, ?it/s]"
     ]
    },
    {
     "name": "stdout",
     "output_type": "stream",
     "text": [
      "199.53333333333333\n"
     ]
    },
    {
     "name": "stderr",
     "output_type": "stream",
     "text": [
      "Training: 100%|██████████| 50/50 [00:16<00:00,  2.91it/s]\n",
      "Evaluating: 100%|██████████| 30/30 [00:00<00:00, 41.50it/s]\n",
      "Training:   0%|          | 0/50 [00:00<?, ?it/s]"
     ]
    },
    {
     "name": "stdout",
     "output_type": "stream",
     "text": [
      "161.1\n"
     ]
    },
    {
     "name": "stderr",
     "output_type": "stream",
     "text": [
      "Training: 100%|██████████| 50/50 [00:18<00:00,  2.44it/s]\n",
      "Evaluating: 100%|██████████| 30/30 [00:00<00:00, 33.23it/s]\n",
      "Training:   0%|          | 0/50 [00:00<?, ?it/s]"
     ]
    },
    {
     "name": "stdout",
     "output_type": "stream",
     "text": [
      "190.43333333333334\n"
     ]
    },
    {
     "name": "stderr",
     "output_type": "stream",
     "text": [
      "Training: 100%|██████████| 50/50 [00:19<00:00,  2.51it/s]\n",
      "Evaluating: 100%|██████████| 30/30 [00:00<00:00, 42.10it/s]\n",
      "Training:   2%|▏         | 1/50 [00:00<00:05,  9.52it/s]"
     ]
    },
    {
     "name": "stdout",
     "output_type": "stream",
     "text": [
      "158.76666666666668\n"
     ]
    },
    {
     "name": "stderr",
     "output_type": "stream",
     "text": [
      "Training: 100%|██████████| 50/50 [00:15<00:00,  3.71it/s]\n",
      "Evaluating: 100%|██████████| 30/30 [00:00<00:00, 62.21it/s]\n",
      "Training:   2%|▏         | 1/50 [00:00<00:07,  6.14it/s]"
     ]
    },
    {
     "name": "stdout",
     "output_type": "stream",
     "text": [
      "102.53333333333333\n"
     ]
    },
    {
     "name": "stderr",
     "output_type": "stream",
     "text": [
      "Training: 100%|██████████| 50/50 [00:23<00:00,  2.02it/s]\n",
      "Evaluating: 100%|██████████| 30/30 [00:00<00:00, 56.69it/s]\n",
      "Training:   0%|          | 0/50 [00:00<?, ?it/s]"
     ]
    },
    {
     "name": "stdout",
     "output_type": "stream",
     "text": [
      "115.16666666666667\n"
     ]
    },
    {
     "name": "stderr",
     "output_type": "stream",
     "text": [
      "Training: 100%|██████████| 50/50 [00:16<00:00,  4.05it/s]\n",
      "Evaluating: 100%|██████████| 30/30 [00:00<00:00, 60.38it/s]\n",
      "Training:   0%|          | 0/50 [00:00<?, ?it/s]"
     ]
    },
    {
     "name": "stdout",
     "output_type": "stream",
     "text": [
      "104.2\n"
     ]
    },
    {
     "name": "stderr",
     "output_type": "stream",
     "text": [
      "Training: 100%|██████████| 50/50 [00:22<00:00,  2.41it/s]\n",
      "Evaluating: 100%|██████████| 30/30 [00:00<00:00, 58.82it/s]\n",
      "Training:   0%|          | 0/50 [00:00<?, ?it/s]"
     ]
    },
    {
     "name": "stdout",
     "output_type": "stream",
     "text": [
      "112.93333333333334\n"
     ]
    },
    {
     "name": "stderr",
     "output_type": "stream",
     "text": [
      "Training: 100%|██████████| 50/50 [00:19<00:00,  1.69it/s]\n",
      "Evaluating: 100%|██████████| 30/30 [00:00<00:00, 53.47it/s]\n",
      "Training:   2%|▏         | 1/50 [00:00<00:05,  8.69it/s]"
     ]
    },
    {
     "name": "stdout",
     "output_type": "stream",
     "text": [
      "120.2\n"
     ]
    },
    {
     "name": "stderr",
     "output_type": "stream",
     "text": [
      "Training: 100%|██████████| 50/50 [00:12<00:00,  2.39it/s]\n",
      "Evaluating: 100%|██████████| 30/30 [00:00<00:00, 66.28it/s]\n",
      "Training:   2%|▏         | 1/50 [00:00<00:05,  9.50it/s]"
     ]
    },
    {
     "name": "stdout",
     "output_type": "stream",
     "text": [
      "99.86666666666666\n"
     ]
    },
    {
     "name": "stderr",
     "output_type": "stream",
     "text": [
      "Training: 100%|██████████| 50/50 [00:12<00:00,  4.23it/s]\n",
      "Evaluating: 100%|██████████| 30/30 [00:00<00:00, 64.61it/s]\n",
      "Training:   2%|▏         | 1/50 [00:00<00:05,  9.18it/s]"
     ]
    },
    {
     "name": "stdout",
     "output_type": "stream",
     "text": [
      "103.13333333333334\n"
     ]
    },
    {
     "name": "stderr",
     "output_type": "stream",
     "text": [
      "Training: 100%|██████████| 50/50 [00:20<00:00,  3.57it/s]\n",
      "Evaluating: 100%|██████████| 30/30 [00:00<00:00, 67.90it/s]\n",
      "Training:   2%|▏         | 1/50 [00:00<00:06,  8.15it/s]"
     ]
    },
    {
     "name": "stdout",
     "output_type": "stream",
     "text": [
      "97.7\n"
     ]
    },
    {
     "name": "stderr",
     "output_type": "stream",
     "text": [
      "Training: 100%|██████████| 50/50 [00:18<00:00,  3.58it/s]\n",
      "Evaluating: 100%|██████████| 30/30 [00:00<00:00, 49.48it/s]\n",
      "Training:   0%|          | 0/50 [00:00<?, ?it/s]"
     ]
    },
    {
     "name": "stdout",
     "output_type": "stream",
     "text": [
      "128.03333333333333\n"
     ]
    },
    {
     "name": "stderr",
     "output_type": "stream",
     "text": [
      "Training: 100%|██████████| 50/50 [00:20<00:00,  6.53it/s]\n",
      "Evaluating: 100%|██████████| 30/30 [00:00<00:00, 68.85it/s]\n",
      "Training:   2%|▏         | 1/50 [00:00<00:08,  5.91it/s]"
     ]
    },
    {
     "name": "stdout",
     "output_type": "stream",
     "text": [
      "95.4\n"
     ]
    },
    {
     "name": "stderr",
     "output_type": "stream",
     "text": [
      "Training: 100%|██████████| 50/50 [00:15<00:00,  2.22it/s]\n",
      "Evaluating: 100%|██████████| 30/30 [00:00<00:00, 33.35it/s]\n",
      "Training:   2%|▏         | 1/50 [00:00<00:09,  5.33it/s]"
     ]
    },
    {
     "name": "stdout",
     "output_type": "stream",
     "text": [
      "197.93333333333334\n"
     ]
    },
    {
     "name": "stderr",
     "output_type": "stream",
     "text": [
      "Training: 100%|██████████| 50/50 [00:12<00:00,  4.01it/s]\n",
      "Evaluating: 100%|██████████| 30/30 [00:00<00:00, 63.83it/s]\n",
      "Training:   2%|▏         | 1/50 [00:00<00:07,  7.00it/s]"
     ]
    },
    {
     "name": "stdout",
     "output_type": "stream",
     "text": [
      "103.96666666666667\n"
     ]
    },
    {
     "name": "stderr",
     "output_type": "stream",
     "text": [
      "Training: 100%|██████████| 50/50 [00:08<00:00,  5.29it/s]\n",
      "Evaluating: 100%|██████████| 30/30 [00:00<00:00, 67.61it/s]\n",
      "Training:   0%|          | 0/50 [00:00<?, ?it/s]"
     ]
    },
    {
     "name": "stdout",
     "output_type": "stream",
     "text": [
      "95.2\n"
     ]
    },
    {
     "name": "stderr",
     "output_type": "stream",
     "text": [
      "Training: 100%|██████████| 50/50 [00:10<00:00,  4.32it/s]\n",
      "Evaluating: 100%|██████████| 30/30 [00:00<00:00, 287.19it/s]\n",
      "Training:   2%|▏         | 1/50 [00:00<00:07,  6.15it/s]"
     ]
    },
    {
     "name": "stdout",
     "output_type": "stream",
     "text": [
      "22.733333333333334\n"
     ]
    },
    {
     "name": "stderr",
     "output_type": "stream",
     "text": [
      "Training: 100%|██████████| 50/50 [00:11<00:00,  2.55it/s]\n",
      "Evaluating: 100%|██████████| 30/30 [00:00<00:00, 49.30it/s]\n",
      "Training:   0%|          | 0/50 [00:00<?, ?it/s]"
     ]
    },
    {
     "name": "stdout",
     "output_type": "stream",
     "text": [
      "105.2\n"
     ]
    },
    {
     "name": "stderr",
     "output_type": "stream",
     "text": [
      "Training: 100%|██████████| 50/50 [00:12<00:00,  2.52it/s]\n",
      "Evaluating: 100%|██████████| 30/30 [00:00<00:00, 84.20it/s]\n",
      "Training:   4%|▍         | 2/50 [00:00<00:04, 11.78it/s]"
     ]
    },
    {
     "name": "stdout",
     "output_type": "stream",
     "text": [
      "79.36666666666666\n"
     ]
    },
    {
     "name": "stderr",
     "output_type": "stream",
     "text": [
      "Training: 100%|██████████| 50/50 [00:09<00:00,  2.53it/s]\n",
      "Evaluating: 100%|██████████| 30/30 [00:00<00:00, 134.30it/s]\n",
      "Training:   2%|▏         | 1/50 [00:00<00:06,  8.14it/s]"
     ]
    },
    {
     "name": "stdout",
     "output_type": "stream",
     "text": [
      "47.9\n"
     ]
    },
    {
     "name": "stderr",
     "output_type": "stream",
     "text": [
      "Training: 100%|██████████| 50/50 [00:17<00:00,  2.18it/s]\n",
      "Evaluating: 100%|██████████| 30/30 [00:00<00:00, 67.66it/s]\n",
      "Training:   2%|▏         | 1/50 [00:00<00:06,  8.02it/s]"
     ]
    },
    {
     "name": "stdout",
     "output_type": "stream",
     "text": [
      "97.16666666666667\n"
     ]
    },
    {
     "name": "stderr",
     "output_type": "stream",
     "text": [
      "Training: 100%|██████████| 50/50 [00:11<00:00,  4.37it/s]\n",
      "Evaluating: 100%|██████████| 30/30 [00:00<00:00, 62.98it/s]\n",
      "Training:   0%|          | 0/50 [00:00<?, ?it/s]"
     ]
    },
    {
     "name": "stdout",
     "output_type": "stream",
     "text": [
      "103.93333333333334\n"
     ]
    },
    {
     "name": "stderr",
     "output_type": "stream",
     "text": [
      "Training: 100%|██████████| 50/50 [00:29<00:00,  1.30it/s]\n",
      "Evaluating: 100%|██████████| 30/30 [00:00<00:00, 37.13it/s]\n",
      "Training:   0%|          | 0/50 [00:00<?, ?it/s]"
     ]
    },
    {
     "name": "stdout",
     "output_type": "stream",
     "text": [
      "140.8\n"
     ]
    },
    {
     "name": "stderr",
     "output_type": "stream",
     "text": [
      "Training: 100%|██████████| 50/50 [00:30<00:00,  1.55it/s]\n",
      "Evaluating: 100%|██████████| 30/30 [00:00<00:00, 65.46it/s]\n",
      "Training:   0%|          | 0/50 [00:00<?, ?it/s]"
     ]
    },
    {
     "name": "stdout",
     "output_type": "stream",
     "text": [
      "93.5\n"
     ]
    },
    {
     "name": "stderr",
     "output_type": "stream",
     "text": [
      "Training: 100%|██████████| 50/50 [00:12<00:00,  3.75it/s]\n",
      "Evaluating: 100%|██████████| 30/30 [00:00<00:00, 394.70it/s]\n",
      "Training:   0%|          | 0/50 [00:00<?, ?it/s]"
     ]
    },
    {
     "name": "stdout",
     "output_type": "stream",
     "text": [
      "16.3\n"
     ]
    },
    {
     "name": "stderr",
     "output_type": "stream",
     "text": [
      "Training: 100%|██████████| 50/50 [00:05<00:00,  9.35it/s]\n",
      "Evaluating: 100%|██████████| 30/30 [00:00<00:00, 387.61it/s]\n",
      "Training:   4%|▍         | 2/50 [00:00<00:04, 10.75it/s]"
     ]
    },
    {
     "name": "stdout",
     "output_type": "stream",
     "text": [
      "18.666666666666668\n"
     ]
    },
    {
     "name": "stderr",
     "output_type": "stream",
     "text": [
      "Training: 100%|██████████| 50/50 [00:07<00:00,  2.68it/s]\n",
      "Evaluating: 100%|██████████| 30/30 [00:00<00:00, 71.89it/s]\n",
      "Training:   0%|          | 0/50 [00:00<?, ?it/s]"
     ]
    },
    {
     "name": "stdout",
     "output_type": "stream",
     "text": [
      "73.13333333333334\n"
     ]
    },
    {
     "name": "stderr",
     "output_type": "stream",
     "text": [
      "Training: 100%|██████████| 50/50 [00:11<00:00,  4.50it/s]\n",
      "Evaluating: 100%|██████████| 30/30 [00:00<00:00, 320.05it/s]\n",
      "Training:   2%|▏         | 1/50 [00:00<00:05,  8.50it/s]"
     ]
    },
    {
     "name": "stdout",
     "output_type": "stream",
     "text": [
      "15.433333333333334\n"
     ]
    },
    {
     "name": "stderr",
     "output_type": "stream",
     "text": [
      "Training: 100%|██████████| 50/50 [00:22<00:00,  1.11it/s]\n",
      "Evaluating: 100%|██████████| 30/30 [00:01<00:00, 27.15it/s]\n",
      "Training:   0%|          | 0/50 [00:00<?, ?it/s]"
     ]
    },
    {
     "name": "stdout",
     "output_type": "stream",
     "text": [
      "200.0\n"
     ]
    },
    {
     "name": "stderr",
     "output_type": "stream",
     "text": [
      "Training: 100%|██████████| 50/50 [00:20<00:00,  5.07it/s]\n",
      "Evaluating: 100%|██████████| 30/30 [00:00<00:00, 279.59it/s]\n",
      "Training:   2%|▏         | 1/50 [00:00<00:06,  7.15it/s]"
     ]
    },
    {
     "name": "stdout",
     "output_type": "stream",
     "text": [
      "19.133333333333333\n"
     ]
    },
    {
     "name": "stderr",
     "output_type": "stream",
     "text": [
      "Training: 100%|██████████| 50/50 [00:18<00:00,  1.49it/s]\n",
      "Evaluating: 100%|██████████| 30/30 [00:00<00:00, 171.12it/s]\n",
      "Training:   0%|          | 0/50 [00:00<?, ?it/s]"
     ]
    },
    {
     "name": "stdout",
     "output_type": "stream",
     "text": [
      "34.1\n"
     ]
    },
    {
     "name": "stderr",
     "output_type": "stream",
     "text": [
      "Training: 100%|██████████| 50/50 [00:19<00:00,  1.10it/s]\n",
      "Evaluating: 100%|██████████| 30/30 [00:00<00:00, 32.48it/s]\n",
      "Training:   0%|          | 0/50 [00:00<?, ?it/s]"
     ]
    },
    {
     "name": "stdout",
     "output_type": "stream",
     "text": [
      "200.0\n"
     ]
    },
    {
     "name": "stderr",
     "output_type": "stream",
     "text": [
      "Training: 100%|██████████| 50/50 [00:28<00:00,  1.23it/s]\n",
      "Evaluating: 100%|██████████| 30/30 [00:00<00:00, 44.13it/s]\n",
      "Training:   0%|          | 0/50 [00:00<?, ?it/s]"
     ]
    },
    {
     "name": "stdout",
     "output_type": "stream",
     "text": [
      "151.46666666666667\n"
     ]
    },
    {
     "name": "stderr",
     "output_type": "stream",
     "text": [
      "Training: 100%|██████████| 50/50 [00:09<00:00,  5.01it/s]\n",
      "Evaluating: 100%|██████████| 30/30 [00:00<00:00, 173.19it/s]\n",
      "Training:   2%|▏         | 1/50 [00:00<00:08,  5.93it/s]"
     ]
    },
    {
     "name": "stdout",
     "output_type": "stream",
     "text": [
      "34.53333333333333\n"
     ]
    },
    {
     "name": "stderr",
     "output_type": "stream",
     "text": [
      "Training: 100%|██████████| 50/50 [00:20<00:00,  2.64it/s]\n",
      "Evaluating: 100%|██████████| 30/30 [00:00<00:00, 89.28it/s]\n",
      "Training:   0%|          | 0/50 [00:00<?, ?it/s]"
     ]
    },
    {
     "name": "stdout",
     "output_type": "stream",
     "text": [
      "73.7\n"
     ]
    },
    {
     "name": "stderr",
     "output_type": "stream",
     "text": [
      "Training: 100%|██████████| 50/50 [00:20<00:00,  1.61it/s]\n",
      "Evaluating: 100%|██████████| 30/30 [00:00<00:00, 59.14it/s]\n",
      "Training:   0%|          | 0/50 [00:00<?, ?it/s]"
     ]
    },
    {
     "name": "stdout",
     "output_type": "stream",
     "text": [
      "97.86666666666666\n"
     ]
    },
    {
     "name": "stderr",
     "output_type": "stream",
     "text": [
      "Training: 100%|██████████| 50/50 [00:21<00:00,  1.57it/s]\n",
      "Evaluating: 100%|██████████| 30/30 [00:00<00:00, 49.13it/s]\n",
      "Training:   0%|          | 0/50 [00:00<?, ?it/s]"
     ]
    },
    {
     "name": "stdout",
     "output_type": "stream",
     "text": [
      "99.5\n"
     ]
    },
    {
     "name": "stderr",
     "output_type": "stream",
     "text": [
      "Training: 100%|██████████| 50/50 [00:29<00:00,  1.72it/s]\n",
      "Evaluating: 100%|██████████| 30/30 [00:00<00:00, 321.03it/s]\n",
      "Training:   2%|▏         | 1/50 [00:00<00:05,  8.86it/s]"
     ]
    },
    {
     "name": "stdout",
     "output_type": "stream",
     "text": [
      "15.033333333333333\n"
     ]
    },
    {
     "name": "stderr",
     "output_type": "stream",
     "text": [
      "Training: 100%|██████████| 50/50 [00:27<00:00,  4.50it/s]\n",
      "Evaluating: 100%|██████████| 30/30 [00:00<00:00, 69.71it/s]\n",
      "Training:   2%|▏         | 1/50 [00:00<00:08,  6.11it/s]"
     ]
    },
    {
     "name": "stdout",
     "output_type": "stream",
     "text": [
      "93.0\n"
     ]
    },
    {
     "name": "stderr",
     "output_type": "stream",
     "text": [
      "Training: 100%|██████████| 50/50 [00:23<00:00,  2.09it/s]\n",
      "Evaluating: 100%|██████████| 30/30 [00:00<00:00, 115.65it/s]\n",
      "Training:   0%|          | 0/50 [00:00<?, ?it/s]"
     ]
    },
    {
     "name": "stdout",
     "output_type": "stream",
     "text": [
      "55.86666666666667\n"
     ]
    },
    {
     "name": "stderr",
     "output_type": "stream",
     "text": [
      "Training: 100%|██████████| 50/50 [00:11<00:00,  8.55it/s]\n",
      "Evaluating: 100%|██████████| 30/30 [00:00<00:00, 410.27it/s]\n",
      "Training:   0%|          | 0/50 [00:00<?, ?it/s]"
     ]
    },
    {
     "name": "stdout",
     "output_type": "stream",
     "text": [
      "17.1\n"
     ]
    },
    {
     "name": "stderr",
     "output_type": "stream",
     "text": [
      "Training: 100%|██████████| 50/50 [00:10<00:00,  5.90it/s]\n",
      "Evaluating: 100%|██████████| 30/30 [00:00<00:00, 318.89it/s]\n",
      "Training:   2%|▏         | 1/50 [00:00<00:07,  6.39it/s]"
     ]
    },
    {
     "name": "stdout",
     "output_type": "stream",
     "text": [
      "19.466666666666665\n"
     ]
    },
    {
     "name": "stderr",
     "output_type": "stream",
     "text": [
      "Training: 100%|██████████| 50/50 [00:12<00:00,  3.35it/s]\n",
      "Evaluating: 100%|██████████| 30/30 [00:00<00:00, 73.50it/s]\n",
      "Training:   0%|          | 0/50 [00:00<?, ?it/s]"
     ]
    },
    {
     "name": "stdout",
     "output_type": "stream",
     "text": [
      "89.7\n"
     ]
    },
    {
     "name": "stderr",
     "output_type": "stream",
     "text": [
      "Training: 100%|██████████| 50/50 [00:18<00:00,  3.15it/s]\n",
      "Evaluating: 100%|██████████| 30/30 [00:00<00:00, 319.04it/s]\n",
      "Training:   2%|▏         | 1/50 [00:00<00:09,  5.27it/s]"
     ]
    },
    {
     "name": "stdout",
     "output_type": "stream",
     "text": [
      "19.866666666666667\n"
     ]
    },
    {
     "name": "stderr",
     "output_type": "stream",
     "text": [
      "Training: 100%|██████████| 50/50 [00:21<00:00,  3.32it/s]\n",
      "Evaluating: 100%|██████████| 30/30 [00:00<00:00, 85.59it/s]\n",
      "Training:   0%|          | 0/50 [00:00<?, ?it/s]"
     ]
    },
    {
     "name": "stdout",
     "output_type": "stream",
     "text": [
      "76.4\n"
     ]
    },
    {
     "name": "stderr",
     "output_type": "stream",
     "text": [
      "Training: 100%|██████████| 50/50 [00:12<00:00,  4.42it/s]\n",
      "Evaluating: 100%|██████████| 30/30 [00:00<00:00, 32.42it/s]\n",
      "Training:   0%|          | 0/50 [00:00<?, ?it/s]"
     ]
    },
    {
     "name": "stdout",
     "output_type": "stream",
     "text": [
      "200.0\n"
     ]
    },
    {
     "name": "stderr",
     "output_type": "stream",
     "text": [
      "Training: 100%|██████████| 50/50 [00:25<00:00,  1.80it/s]\n",
      "Evaluating: 100%|██████████| 30/30 [00:00<00:00, 55.30it/s]\n",
      "Training:   0%|          | 0/50 [00:00<?, ?it/s]"
     ]
    },
    {
     "name": "stdout",
     "output_type": "stream",
     "text": [
      "116.7\n"
     ]
    },
    {
     "name": "stderr",
     "output_type": "stream",
     "text": [
      "Training: 100%|██████████| 50/50 [00:27<00:00,  3.36it/s]\n",
      "Evaluating: 100%|██████████| 30/30 [00:00<00:00, 33.19it/s]\n",
      "Training:   0%|          | 0/50 [00:00<?, ?it/s]"
     ]
    },
    {
     "name": "stdout",
     "output_type": "stream",
     "text": [
      "200.0\n"
     ]
    },
    {
     "name": "stderr",
     "output_type": "stream",
     "text": [
      "Training: 100%|██████████| 50/50 [00:25<00:00,  2.06it/s]\n",
      "Evaluating: 100%|██████████| 30/30 [00:00<00:00, 65.08it/s]\n",
      "Training:   0%|          | 0/50 [00:00<?, ?it/s]"
     ]
    },
    {
     "name": "stdout",
     "output_type": "stream",
     "text": [
      "96.3\n"
     ]
    },
    {
     "name": "stderr",
     "output_type": "stream",
     "text": [
      "Training: 100%|██████████| 50/50 [00:21<00:00,  1.73it/s]\n",
      "Evaluating: 100%|██████████| 30/30 [00:00<00:00, 44.18it/s]\n",
      "Training:   0%|          | 0/50 [00:00<?, ?it/s]"
     ]
    },
    {
     "name": "stdout",
     "output_type": "stream",
     "text": [
      "137.33333333333334\n"
     ]
    },
    {
     "name": "stderr",
     "output_type": "stream",
     "text": [
      "Training: 100%|██████████| 50/50 [00:37<00:00,  1.63it/s]\n",
      "Evaluating: 100%|██████████| 30/30 [00:00<00:00, 67.24it/s]\n",
      "Training:   0%|          | 0/50 [00:00<?, ?it/s]"
     ]
    },
    {
     "name": "stdout",
     "output_type": "stream",
     "text": [
      "90.8\n"
     ]
    },
    {
     "name": "stderr",
     "output_type": "stream",
     "text": [
      "Training: 100%|██████████| 50/50 [00:33<00:00,  1.97it/s]\n",
      "Evaluating: 100%|██████████| 30/30 [00:00<00:00, 73.83it/s]\n",
      "Training:   0%|          | 0/50 [00:00<?, ?it/s]"
     ]
    },
    {
     "name": "stdout",
     "output_type": "stream",
     "text": [
      "89.03333333333333\n"
     ]
    },
    {
     "name": "stderr",
     "output_type": "stream",
     "text": [
      "Training: 100%|██████████| 50/50 [00:18<00:00,  4.84it/s]\n",
      "Evaluating: 100%|██████████| 30/30 [00:00<00:00, 144.42it/s]\n",
      "Training:   0%|          | 0/50 [00:00<?, ?it/s]"
     ]
    },
    {
     "name": "stdout",
     "output_type": "stream",
     "text": [
      "45.96666666666667\n"
     ]
    },
    {
     "name": "stderr",
     "output_type": "stream",
     "text": [
      "Training: 100%|██████████| 50/50 [00:12<00:00,  3.18it/s]\n",
      "Evaluating: 100%|██████████| 30/30 [00:00<00:00, 97.15it/s] \n",
      "Training:   0%|          | 0/50 [00:00<?, ?it/s]"
     ]
    },
    {
     "name": "stdout",
     "output_type": "stream",
     "text": [
      "58.06666666666667\n"
     ]
    },
    {
     "name": "stderr",
     "output_type": "stream",
     "text": [
      "Training: 100%|██████████| 50/50 [00:14<00:00,  4.62it/s]\n",
      "Evaluating: 100%|██████████| 30/30 [00:00<00:00, 318.99it/s]\n",
      "Training:   2%|▏         | 1/50 [00:00<00:07,  6.89it/s]"
     ]
    },
    {
     "name": "stdout",
     "output_type": "stream",
     "text": [
      "20.266666666666666\n"
     ]
    },
    {
     "name": "stderr",
     "output_type": "stream",
     "text": [
      "Training: 100%|██████████| 50/50 [00:09<00:00,  5.29it/s]\n",
      "Evaluating: 100%|██████████| 30/30 [00:00<00:00, 562.48it/s]\n",
      "Training:   2%|▏         | 1/50 [00:00<00:05,  9.17it/s]"
     ]
    },
    {
     "name": "stdout",
     "output_type": "stream",
     "text": [
      "11.8\n"
     ]
    },
    {
     "name": "stderr",
     "output_type": "stream",
     "text": [
      "Training: 100%|██████████| 50/50 [00:09<00:00,  5.15it/s]\n",
      "Evaluating: 100%|██████████| 30/30 [00:00<00:00, 450.97it/s]\n",
      "Training:   4%|▍         | 2/50 [00:00<00:03, 12.85it/s]"
     ]
    },
    {
     "name": "stdout",
     "output_type": "stream",
     "text": [
      "14.066666666666666\n"
     ]
    },
    {
     "name": "stderr",
     "output_type": "stream",
     "text": [
      "Training: 100%|██████████| 50/50 [00:24<00:00,  1.09it/s]\n",
      "Evaluating: 100%|██████████| 30/30 [00:00<00:00, 64.88it/s]\n",
      "Training:   0%|          | 0/50 [00:00<?, ?it/s]"
     ]
    },
    {
     "name": "stdout",
     "output_type": "stream",
     "text": [
      "101.7\n"
     ]
    },
    {
     "name": "stderr",
     "output_type": "stream",
     "text": [
      "Training: 100%|██████████| 50/50 [00:26<00:00,  2.08it/s]\n",
      "Evaluating: 100%|██████████| 30/30 [00:00<00:00, 71.67it/s]\n",
      "Training:   0%|          | 0/50 [00:00<?, ?it/s]"
     ]
    },
    {
     "name": "stdout",
     "output_type": "stream",
     "text": [
      "88.13333333333334\n"
     ]
    },
    {
     "name": "stderr",
     "output_type": "stream",
     "text": [
      "Training: 100%|██████████| 50/50 [00:15<00:00,  3.86it/s]\n",
      "Evaluating: 100%|██████████| 30/30 [00:00<00:00, 81.76it/s]\n",
      "Training:   0%|          | 0/50 [00:00<?, ?it/s]"
     ]
    },
    {
     "name": "stdout",
     "output_type": "stream",
     "text": [
      "63.8\n"
     ]
    },
    {
     "name": "stderr",
     "output_type": "stream",
     "text": [
      "Training: 100%|██████████| 50/50 [00:18<00:00,  2.09it/s]\n",
      "Evaluating: 100%|██████████| 30/30 [00:00<00:00, 90.07it/s]\n",
      "Training:   0%|          | 0/50 [00:00<?, ?it/s]"
     ]
    },
    {
     "name": "stdout",
     "output_type": "stream",
     "text": [
      "74.13333333333334\n"
     ]
    },
    {
     "name": "stderr",
     "output_type": "stream",
     "text": [
      "Training: 100%|██████████| 50/50 [00:17<00:00,  4.84it/s]\n",
      "Evaluating: 100%|██████████| 30/30 [00:00<00:00, 231.11it/s]\n",
      "Training:   2%|▏         | 1/50 [00:00<00:07,  6.30it/s]"
     ]
    },
    {
     "name": "stdout",
     "output_type": "stream",
     "text": [
      "28.333333333333332\n"
     ]
    },
    {
     "name": "stderr",
     "output_type": "stream",
     "text": [
      "Training: 100%|██████████| 50/50 [00:17<00:00,  2.90it/s]\n",
      "Evaluating: 100%|██████████| 30/30 [00:00<00:00, 249.54it/s]\n",
      "Training:   0%|          | 0/50 [00:00<?, ?it/s]"
     ]
    },
    {
     "name": "stdout",
     "output_type": "stream",
     "text": [
      "21.866666666666667\n"
     ]
    },
    {
     "name": "stderr",
     "output_type": "stream",
     "text": [
      "Training: 100%|██████████| 50/50 [00:18<00:00,  2.44it/s]\n",
      "Evaluating: 100%|██████████| 30/30 [00:00<00:00, 145.61it/s]\n",
      "Training:   2%|▏         | 1/50 [00:00<00:07,  6.49it/s]"
     ]
    },
    {
     "name": "stdout",
     "output_type": "stream",
     "text": [
      "41.766666666666666\n"
     ]
    },
    {
     "name": "stderr",
     "output_type": "stream",
     "text": [
      "Training: 100%|██████████| 50/50 [00:10<00:00,  4.56it/s]\n",
      "Evaluating: 100%|██████████| 30/30 [00:00<00:00, 281.45it/s]\n",
      "Training:   2%|▏         | 1/50 [00:00<00:05,  8.51it/s]"
     ]
    },
    {
     "name": "stdout",
     "output_type": "stream",
     "text": [
      "20.366666666666667\n"
     ]
    },
    {
     "name": "stderr",
     "output_type": "stream",
     "text": [
      "Training: 100%|██████████| 50/50 [00:06<00:00,  7.81it/s]\n",
      "Evaluating: 100%|██████████| 30/30 [00:00<00:00, 292.81it/s]\n",
      "Training:   0%|          | 0/50 [00:00<?, ?it/s]"
     ]
    },
    {
     "name": "stdout",
     "output_type": "stream",
     "text": [
      "16.8\n"
     ]
    },
    {
     "name": "stderr",
     "output_type": "stream",
     "text": [
      "Training: 100%|██████████| 50/50 [00:04<00:00, 10.06it/s]\n",
      "Evaluating: 100%|██████████| 30/30 [00:00<00:00, 249.08it/s]\n",
      "Training:   2%|▏         | 1/50 [00:00<00:06,  8.13it/s]"
     ]
    },
    {
     "name": "stdout",
     "output_type": "stream",
     "text": [
      "23.833333333333332\n"
     ]
    },
    {
     "name": "stderr",
     "output_type": "stream",
     "text": [
      "Training: 100%|██████████| 50/50 [00:09<00:00,  5.40it/s]\n",
      "Evaluating: 100%|██████████| 30/30 [00:00<00:00, 432.74it/s]\n",
      "Training:   4%|▍         | 2/50 [00:00<00:03, 12.95it/s]"
     ]
    },
    {
     "name": "stdout",
     "output_type": "stream",
     "text": [
      "12.066666666666666\n"
     ]
    },
    {
     "name": "stderr",
     "output_type": "stream",
     "text": [
      "Training: 100%|██████████| 50/50 [00:13<00:00,  3.51it/s]\n",
      "Evaluating: 100%|██████████| 30/30 [00:00<00:00, 113.74it/s]\n",
      "Training:   2%|▏         | 1/50 [00:00<00:07,  6.50it/s]"
     ]
    },
    {
     "name": "stdout",
     "output_type": "stream",
     "text": [
      "49.233333333333334\n"
     ]
    },
    {
     "name": "stderr",
     "output_type": "stream",
     "text": [
      "Training: 100%|██████████| 50/50 [00:22<00:00,  2.35it/s]\n",
      "Evaluating: 100%|██████████| 30/30 [00:00<00:00, 74.29it/s]\n",
      "Training:   0%|          | 0/50 [00:00<?, ?it/s]"
     ]
    },
    {
     "name": "stdout",
     "output_type": "stream",
     "text": [
      "88.96666666666667\n"
     ]
    },
    {
     "name": "stderr",
     "output_type": "stream",
     "text": [
      "Training: 100%|██████████| 50/50 [00:13<00:00,  3.37it/s]\n",
      "Evaluating: 100%|██████████| 30/30 [00:00<00:00, 71.54it/s]\n",
      "Training:   0%|          | 0/50 [00:00<?, ?it/s]"
     ]
    },
    {
     "name": "stdout",
     "output_type": "stream",
     "text": [
      "87.83333333333333\n"
     ]
    },
    {
     "name": "stderr",
     "output_type": "stream",
     "text": [
      "Training: 100%|██████████| 50/50 [00:23<00:00,  1.44it/s]\n",
      "Evaluating: 100%|██████████| 30/30 [00:00<00:00, 72.68it/s]\n",
      "Training:   0%|          | 0/50 [00:00<?, ?it/s]"
     ]
    },
    {
     "name": "stdout",
     "output_type": "stream",
     "text": [
      "93.1\n"
     ]
    },
    {
     "name": "stderr",
     "output_type": "stream",
     "text": [
      "Training: 100%|██████████| 50/50 [00:20<00:00,  2.31it/s]\n",
      "Evaluating: 100%|██████████| 30/30 [00:00<00:00, 76.82it/s]\n",
      "Training:   0%|          | 0/50 [00:00<?, ?it/s]"
     ]
    },
    {
     "name": "stdout",
     "output_type": "stream",
     "text": [
      "88.2\n"
     ]
    },
    {
     "name": "stderr",
     "output_type": "stream",
     "text": [
      "Training: 100%|██████████| 50/50 [00:27<00:00,  1.56it/s]\n",
      "Evaluating: 100%|██████████| 30/30 [00:00<00:00, 68.60it/s]\n",
      "Training:   2%|▏         | 1/50 [00:00<00:06,  7.66it/s]"
     ]
    },
    {
     "name": "stdout",
     "output_type": "stream",
     "text": [
      "94.33333333333333\n"
     ]
    },
    {
     "name": "stderr",
     "output_type": "stream",
     "text": [
      "Training: 100%|██████████| 50/50 [00:16<00:00,  3.44it/s]\n",
      "Evaluating: 100%|██████████| 30/30 [00:00<00:00, 134.05it/s]\n",
      "Training:   0%|          | 0/50 [00:00<?, ?it/s]"
     ]
    },
    {
     "name": "stdout",
     "output_type": "stream",
     "text": [
      "48.166666666666664\n"
     ]
    },
    {
     "name": "stderr",
     "output_type": "stream",
     "text": [
      "Training: 100%|██████████| 50/50 [00:20<00:00,  3.81it/s]\n",
      "Evaluating: 100%|██████████| 30/30 [00:00<00:00, 231.53it/s]\n",
      "Training:   2%|▏         | 1/50 [00:00<00:05,  9.02it/s]"
     ]
    },
    {
     "name": "stdout",
     "output_type": "stream",
     "text": [
      "21.866666666666667\n"
     ]
    },
    {
     "name": "stderr",
     "output_type": "stream",
     "text": [
      "Training: 100%|██████████| 50/50 [00:10<00:00,  7.57it/s]\n",
      "Evaluating: 100%|██████████| 30/30 [00:00<00:00, 364.21it/s]\n",
      "Training:   0%|          | 0/50 [00:00<?, ?it/s]"
     ]
    },
    {
     "name": "stdout",
     "output_type": "stream",
     "text": [
      "17.366666666666667\n"
     ]
    },
    {
     "name": "stderr",
     "output_type": "stream",
     "text": [
      "Training: 100%|██████████| 50/50 [00:09<00:00,  5.49it/s]\n",
      "Evaluating: 100%|██████████| 30/30 [00:00<00:00, 404.05it/s]\n",
      "Training:   0%|          | 0/50 [00:00<?, ?it/s]"
     ]
    },
    {
     "name": "stdout",
     "output_type": "stream",
     "text": [
      "14.766666666666667\n"
     ]
    },
    {
     "name": "stderr",
     "output_type": "stream",
     "text": [
      "Training: 100%|██████████| 50/50 [00:05<00:00,  9.56it/s]\n",
      "Evaluating: 100%|██████████| 30/30 [00:00<00:00, 551.55it/s]\n",
      "Training:   4%|▍         | 2/50 [00:00<00:04, 11.55it/s]"
     ]
    },
    {
     "name": "stdout",
     "output_type": "stream",
     "text": [
      "12.266666666666667\n"
     ]
    },
    {
     "name": "stderr",
     "output_type": "stream",
     "text": [
      "Training: 100%|██████████| 50/50 [00:06<00:00,  8.90it/s]\n",
      "Evaluating: 100%|██████████| 30/30 [00:00<00:00, 138.70it/s]\n",
      "Training:   0%|          | 0/50 [00:00<?, ?it/s]"
     ]
    },
    {
     "name": "stdout",
     "output_type": "stream",
     "text": [
      "46.833333333333336\n"
     ]
    },
    {
     "name": "stderr",
     "output_type": "stream",
     "text": [
      "Training: 100%|██████████| 50/50 [00:13<00:00,  3.69it/s]\n",
      "Evaluating: 100%|██████████| 30/30 [00:00<00:00, 518.37it/s]\n",
      "Training:   4%|▍         | 2/50 [00:00<00:03, 13.16it/s]"
     ]
    },
    {
     "name": "stdout",
     "output_type": "stream",
     "text": [
      "13.0\n"
     ]
    },
    {
     "name": "stderr",
     "output_type": "stream",
     "text": [
      "Training: 100%|██████████| 50/50 [00:22<00:00,  8.02it/s]\n",
      "Evaluating: 100%|██████████| 30/30 [00:00<00:00, 342.41it/s]\n",
      "Training:   0%|          | 0/50 [00:00<?, ?it/s]"
     ]
    },
    {
     "name": "stdout",
     "output_type": "stream",
     "text": [
      "18.933333333333334\n"
     ]
    },
    {
     "name": "stderr",
     "output_type": "stream",
     "text": [
      "Training: 100%|██████████| 50/50 [00:21<00:00,  4.23it/s]\n",
      "Evaluating: 100%|██████████| 30/30 [00:00<00:00, 381.06it/s]\n",
      "Training:   0%|          | 0/50 [00:00<?, ?it/s]"
     ]
    },
    {
     "name": "stdout",
     "output_type": "stream",
     "text": [
      "17.066666666666666\n"
     ]
    },
    {
     "name": "stderr",
     "output_type": "stream",
     "text": [
      "Training: 100%|██████████| 50/50 [00:21<00:00,  1.86it/s]\n",
      "Evaluating: 100%|██████████| 30/30 [00:00<00:00, 33.30it/s]\n",
      "Training:   0%|          | 0/50 [00:00<?, ?it/s]"
     ]
    },
    {
     "name": "stdout",
     "output_type": "stream",
     "text": [
      "200.0\n"
     ]
    },
    {
     "name": "stderr",
     "output_type": "stream",
     "text": [
      "Training: 100%|██████████| 50/50 [00:22<00:00,  2.93it/s]\n",
      "Evaluating: 100%|██████████| 30/30 [00:00<00:00, 94.23it/s]\n",
      "Training:   0%|          | 0/50 [00:00<?, ?it/s]"
     ]
    },
    {
     "name": "stdout",
     "output_type": "stream",
     "text": [
      "73.56666666666666\n"
     ]
    },
    {
     "name": "stderr",
     "output_type": "stream",
     "text": [
      "Training: 100%|██████████| 50/50 [00:18<00:00,  2.33it/s]\n",
      "Evaluating: 100%|██████████| 30/30 [00:00<00:00, 33.47it/s]\n",
      "Training:   0%|          | 0/50 [00:00<?, ?it/s]"
     ]
    },
    {
     "name": "stdout",
     "output_type": "stream",
     "text": [
      "200.0\n"
     ]
    },
    {
     "name": "stderr",
     "output_type": "stream",
     "text": [
      "Training: 100%|██████████| 50/50 [00:23<00:00,  2.04it/s]\n",
      "Evaluating: 100%|██████████| 30/30 [00:00<00:00, 90.58it/s]\n",
      "Training:   0%|          | 0/50 [00:00<?, ?it/s]"
     ]
    },
    {
     "name": "stdout",
     "output_type": "stream",
     "text": [
      "78.16666666666667\n"
     ]
    },
    {
     "name": "stderr",
     "output_type": "stream",
     "text": [
      "Training: 100%|██████████| 50/50 [00:18<00:00,  2.77it/s]\n",
      "Evaluating: 100%|██████████| 30/30 [00:00<00:00, 378.49it/s]\n",
      "Training:   2%|▏         | 1/50 [00:00<00:04,  9.82it/s]"
     ]
    },
    {
     "name": "stdout",
     "output_type": "stream",
     "text": [
      "17.166666666666668\n"
     ]
    },
    {
     "name": "stderr",
     "output_type": "stream",
     "text": [
      "Training: 100%|██████████| 50/50 [00:17<00:00,  4.61it/s]\n",
      "Evaluating: 100%|██████████| 30/30 [00:00<00:00, 69.96it/s]\n",
      "Training:   0%|          | 0/50 [00:00<?, ?it/s]"
     ]
    },
    {
     "name": "stdout",
     "output_type": "stream",
     "text": [
      "98.8\n"
     ]
    },
    {
     "name": "stderr",
     "output_type": "stream",
     "text": [
      "Training: 100%|██████████| 50/50 [00:24<00:00,  2.18it/s]\n",
      "Evaluating: 100%|██████████| 30/30 [00:00<00:00, 67.50it/s]\n",
      "Training:   0%|          | 0/50 [00:00<?, ?it/s]"
     ]
    },
    {
     "name": "stdout",
     "output_type": "stream",
     "text": [
      "97.5\n"
     ]
    },
    {
     "name": "stderr",
     "output_type": "stream",
     "text": [
      "Training: 100%|██████████| 50/50 [00:15<00:00,  3.21it/s]\n",
      "Evaluating: 100%|██████████| 30/30 [00:00<00:00, 70.74it/s]\n",
      "Training:   0%|          | 0/50 [00:00<?, ?it/s]"
     ]
    },
    {
     "name": "stdout",
     "output_type": "stream",
     "text": [
      "94.03333333333333\n"
     ]
    },
    {
     "name": "stderr",
     "output_type": "stream",
     "text": [
      "Training: 100%|██████████| 50/50 [00:19<00:00,  5.79it/s]\n",
      "Evaluating: 100%|██████████| 30/30 [00:00<00:00, 369.88it/s]\n",
      "Training:   2%|▏         | 1/50 [00:00<00:07,  6.76it/s]"
     ]
    },
    {
     "name": "stdout",
     "output_type": "stream",
     "text": [
      "17.7\n"
     ]
    },
    {
     "name": "stderr",
     "output_type": "stream",
     "text": [
      "Training: 100%|██████████| 50/50 [00:12<00:00,  4.25it/s]\n",
      "Evaluating: 100%|██████████| 30/30 [00:00<00:00, 691.48it/s]\n",
      "Training:   4%|▍         | 2/50 [00:00<00:02, 16.86it/s]"
     ]
    },
    {
     "name": "stdout",
     "output_type": "stream",
     "text": [
      "9.733333333333333\n"
     ]
    },
    {
     "name": "stderr",
     "output_type": "stream",
     "text": [
      "Training: 100%|██████████| 50/50 [00:10<00:00,  7.03it/s]\n",
      "Evaluating: 100%|██████████| 30/30 [00:00<00:00, 470.47it/s]\n",
      "Training:   2%|▏         | 1/50 [00:00<00:05,  9.57it/s]"
     ]
    },
    {
     "name": "stdout",
     "output_type": "stream",
     "text": [
      "11.333333333333334\n"
     ]
    },
    {
     "name": "stderr",
     "output_type": "stream",
     "text": [
      "Training: 100%|██████████| 50/50 [00:07<00:00,  7.01it/s]\n",
      "Evaluating: 100%|██████████| 30/30 [00:00<00:00, 646.38it/s]\n",
      "Training:   4%|▍         | 2/50 [00:00<00:02, 16.77it/s]"
     ]
    },
    {
     "name": "stdout",
     "output_type": "stream",
     "text": [
      "9.233333333333333\n"
     ]
    },
    {
     "name": "stderr",
     "output_type": "stream",
     "text": [
      "Training: 100%|██████████| 50/50 [00:03<00:00, 15.75it/s]\n",
      "Evaluating: 100%|██████████| 30/30 [00:00<00:00, 602.48it/s]\n",
      "Training:   4%|▍         | 2/50 [00:00<00:03, 14.87it/s]"
     ]
    },
    {
     "name": "stdout",
     "output_type": "stream",
     "text": [
      "9.566666666666666\n"
     ]
    },
    {
     "name": "stderr",
     "output_type": "stream",
     "text": [
      "Training: 100%|██████████| 50/50 [00:02<00:00, 18.05it/s]\n",
      "Evaluating: 100%|██████████| 30/30 [00:00<00:00, 443.18it/s]\n",
      "Training:   4%|▍         | 2/50 [00:00<00:03, 15.89it/s]"
     ]
    },
    {
     "name": "stdout",
     "output_type": "stream",
     "text": [
      "9.4\n"
     ]
    },
    {
     "name": "stderr",
     "output_type": "stream",
     "text": [
      "Training: 100%|██████████| 50/50 [00:02<00:00, 17.29it/s]\n",
      "Evaluating: 100%|██████████| 30/30 [00:00<00:00, 658.03it/s]\n",
      "Training:   4%|▍         | 2/50 [00:00<00:03, 14.71it/s]"
     ]
    },
    {
     "name": "stdout",
     "output_type": "stream",
     "text": [
      "9.133333333333333\n"
     ]
    },
    {
     "name": "stderr",
     "output_type": "stream",
     "text": [
      "Training: 100%|██████████| 50/50 [00:02<00:00, 16.89it/s]\n",
      "Evaluating: 100%|██████████| 30/30 [00:00<00:00, 704.37it/s]\n",
      "Training:   4%|▍         | 2/50 [00:00<00:02, 16.18it/s]"
     ]
    },
    {
     "name": "stdout",
     "output_type": "stream",
     "text": [
      "9.466666666666667\n"
     ]
    },
    {
     "name": "stderr",
     "output_type": "stream",
     "text": [
      "Training: 100%|██████████| 50/50 [00:02<00:00, 17.67it/s]\n",
      "Evaluating: 100%|██████████| 30/30 [00:00<00:00, 708.71it/s]\n",
      "Training:   4%|▍         | 2/50 [00:00<00:02, 19.25it/s]"
     ]
    },
    {
     "name": "stdout",
     "output_type": "stream",
     "text": [
      "9.466666666666667\n"
     ]
    },
    {
     "name": "stderr",
     "output_type": "stream",
     "text": [
      "Training: 100%|██████████| 50/50 [00:09<00:00,  3.05it/s]\n",
      "Evaluating: 100%|██████████| 30/30 [00:00<00:00, 78.26it/s] \n",
      "Training:   0%|          | 0/50 [00:00<?, ?it/s]"
     ]
    },
    {
     "name": "stdout",
     "output_type": "stream",
     "text": [
      "89.13333333333334\n"
     ]
    },
    {
     "name": "stderr",
     "output_type": "stream",
     "text": [
      "Training: 100%|██████████| 50/50 [00:08<00:00,  5.73it/s]\n",
      "Evaluating: 100%|██████████| 30/30 [00:00<00:00, 304.05it/s]\n",
      "Training:   2%|▏         | 1/50 [00:00<00:07,  6.52it/s]"
     ]
    },
    {
     "name": "stdout",
     "output_type": "stream",
     "text": [
      "22.9\n"
     ]
    },
    {
     "name": "stderr",
     "output_type": "stream",
     "text": [
      "Training: 100%|██████████| 50/50 [00:09<00:00,  9.04it/s]\n",
      "Evaluating: 100%|██████████| 30/30 [00:00<00:00, 652.76it/s]\n",
      "Training:   4%|▍         | 2/50 [00:00<00:03, 14.58it/s]"
     ]
    },
    {
     "name": "stdout",
     "output_type": "stream",
     "text": [
      "10.333333333333334\n"
     ]
    },
    {
     "name": "stderr",
     "output_type": "stream",
     "text": [
      "Training: 100%|██████████| 50/50 [00:08<00:00,  3.96it/s]\n",
      "Evaluating: 100%|██████████| 30/30 [00:00<00:00, 358.46it/s]\n",
      "Training:   2%|▏         | 1/50 [00:00<00:06,  7.06it/s]"
     ]
    },
    {
     "name": "stdout",
     "output_type": "stream",
     "text": [
      "17.166666666666668\n"
     ]
    },
    {
     "name": "stderr",
     "output_type": "stream",
     "text": [
      "Training: 100%|██████████| 50/50 [00:06<00:00,  8.38it/s]\n",
      "Evaluating: 100%|██████████| 30/30 [00:00<00:00, 492.93it/s]\n",
      "Training:   4%|▍         | 2/50 [00:00<00:03, 14.33it/s]"
     ]
    },
    {
     "name": "stdout",
     "output_type": "stream",
     "text": [
      "11.066666666666666\n"
     ]
    },
    {
     "name": "stderr",
     "output_type": "stream",
     "text": [
      "Training: 100%|██████████| 50/50 [00:11<00:00,  4.25it/s]\n",
      "Evaluating: 100%|██████████| 30/30 [00:00<00:00, 636.91it/s]\n",
      "Training:   4%|▍         | 2/50 [00:00<00:03, 14.21it/s]"
     ]
    },
    {
     "name": "stdout",
     "output_type": "stream",
     "text": [
      "10.6\n"
     ]
    },
    {
     "name": "stderr",
     "output_type": "stream",
     "text": [
      "Training: 100%|██████████| 50/50 [00:10<00:00,  6.04it/s]\n",
      "Evaluating: 100%|██████████| 30/30 [00:00<00:00, 221.94it/s]\n",
      "Training:   0%|          | 0/50 [00:00<?, ?it/s]"
     ]
    },
    {
     "name": "stdout",
     "output_type": "stream",
     "text": [
      "30.633333333333333\n"
     ]
    },
    {
     "name": "stderr",
     "output_type": "stream",
     "text": [
      "Training: 100%|██████████| 50/50 [00:12<00:00,  3.88it/s]\n",
      "Evaluating: 100%|██████████| 30/30 [00:00<00:00, 504.81it/s]\n",
      "Training:   2%|▏         | 1/50 [00:00<00:08,  5.50it/s]"
     ]
    },
    {
     "name": "stdout",
     "output_type": "stream",
     "text": [
      "10.4\n"
     ]
    },
    {
     "name": "stderr",
     "output_type": "stream",
     "text": [
      "Training: 100%|██████████| 50/50 [00:09<00:00,  2.43it/s]\n",
      "Evaluating: 100%|██████████| 30/30 [00:00<00:00, 65.23it/s]\n",
      "Training:   0%|          | 0/50 [00:00<?, ?it/s]"
     ]
    },
    {
     "name": "stdout",
     "output_type": "stream",
     "text": [
      "105.0\n"
     ]
    },
    {
     "name": "stderr",
     "output_type": "stream",
     "text": [
      "Training: 100%|██████████| 50/50 [00:14<00:00,  1.73it/s]\n",
      "Evaluating: 100%|██████████| 30/30 [00:00<00:00, 125.29it/s]\n",
      "Training:   0%|          | 0/50 [00:00<?, ?it/s]"
     ]
    },
    {
     "name": "stdout",
     "output_type": "stream",
     "text": [
      "52.1\n"
     ]
    },
    {
     "name": "stderr",
     "output_type": "stream",
     "text": [
      "Training: 100%|██████████| 50/50 [00:10<00:00, 12.90it/s]\n",
      "Evaluating: 100%|██████████| 30/30 [00:00<00:00, 278.38it/s]\n",
      "Training:   4%|▍         | 2/50 [00:00<00:04, 10.84it/s]"
     ]
    },
    {
     "name": "stdout",
     "output_type": "stream",
     "text": [
      "16.2\n"
     ]
    },
    {
     "name": "stderr",
     "output_type": "stream",
     "text": [
      "Training: 100%|██████████| 50/50 [00:12<00:00,  3.74it/s]\n",
      "Evaluating: 100%|██████████| 30/30 [00:00<00:00, 689.46it/s]\n",
      "Training:   4%|▍         | 2/50 [00:00<00:03, 13.34it/s]"
     ]
    },
    {
     "name": "stdout",
     "output_type": "stream",
     "text": [
      "9.766666666666667\n"
     ]
    },
    {
     "name": "stderr",
     "output_type": "stream",
     "text": [
      "Training: 100%|██████████| 50/50 [00:03<00:00, 15.95it/s]\n",
      "Evaluating: 100%|██████████| 30/30 [00:00<00:00, 682.17it/s]\n",
      "Training:   4%|▍         | 2/50 [00:00<00:03, 12.23it/s]"
     ]
    },
    {
     "name": "stdout",
     "output_type": "stream",
     "text": [
      "9.8\n"
     ]
    },
    {
     "name": "stderr",
     "output_type": "stream",
     "text": [
      "Training: 100%|██████████| 50/50 [00:08<00:00,  2.84it/s]\n",
      "Evaluating: 100%|██████████| 30/30 [00:00<00:00, 84.22it/s]\n",
      "Training:   0%|          | 0/50 [00:00<?, ?it/s]"
     ]
    },
    {
     "name": "stdout",
     "output_type": "stream",
     "text": [
      "78.8\n"
     ]
    },
    {
     "name": "stderr",
     "output_type": "stream",
     "text": [
      "Training: 100%|██████████| 50/50 [00:12<00:00,  4.07it/s]\n",
      "Evaluating: 100%|██████████| 30/30 [00:00<00:00, 669.91it/s]\n",
      "Training:   0%|          | 0/50 [00:00<?, ?it/s]"
     ]
    },
    {
     "name": "stdout",
     "output_type": "stream",
     "text": [
      "10.3\n"
     ]
    },
    {
     "name": "stderr",
     "output_type": "stream",
     "text": [
      "Training: 100%|██████████| 50/50 [00:05<00:00,  9.20it/s]\n",
      "Evaluating: 100%|██████████| 30/30 [00:00<00:00, 551.12it/s]\n",
      "Training:   4%|▍         | 2/50 [00:00<00:03, 13.11it/s]"
     ]
    },
    {
     "name": "stdout",
     "output_type": "stream",
     "text": [
      "10.233333333333333\n"
     ]
    },
    {
     "name": "stderr",
     "output_type": "stream",
     "text": [
      "Training: 100%|██████████| 50/50 [00:07<00:00,  6.24it/s]\n",
      "Evaluating: 100%|██████████| 30/30 [00:00<00:00, 391.96it/s]\n",
      "Training:   4%|▍         | 2/50 [00:00<00:03, 12.24it/s]"
     ]
    },
    {
     "name": "stdout",
     "output_type": "stream",
     "text": [
      "17.433333333333334\n"
     ]
    },
    {
     "name": "stderr",
     "output_type": "stream",
     "text": [
      "Training: 100%|██████████| 50/50 [00:08<00:00,  3.87it/s]\n",
      "Evaluating: 100%|██████████| 30/30 [00:00<00:00, 128.50it/s]\n",
      "Training:   0%|          | 0/50 [00:00<?, ?it/s]"
     ]
    },
    {
     "name": "stdout",
     "output_type": "stream",
     "text": [
      "51.233333333333334\n"
     ]
    },
    {
     "name": "stderr",
     "output_type": "stream",
     "text": [
      "Training: 100%|██████████| 50/50 [00:08<00:00,  5.72it/s]\n",
      "Evaluating: 100%|██████████| 30/30 [00:00<00:00, 233.11it/s]\n",
      "Training:   2%|▏         | 1/50 [00:00<00:05,  8.28it/s]"
     ]
    },
    {
     "name": "stdout",
     "output_type": "stream",
     "text": [
      "28.4\n"
     ]
    },
    {
     "name": "stderr",
     "output_type": "stream",
     "text": [
      "Training: 100%|██████████| 50/50 [00:08<00:00,  4.36it/s]\n",
      "Evaluating: 100%|██████████| 30/30 [00:00<00:00, 178.97it/s]\n",
      "Training:   2%|▏         | 1/50 [00:00<00:05,  8.45it/s]"
     ]
    },
    {
     "name": "stdout",
     "output_type": "stream",
     "text": [
      "30.933333333333334\n"
     ]
    },
    {
     "name": "stderr",
     "output_type": "stream",
     "text": [
      "Training: 100%|██████████| 50/50 [00:11<00:00,  4.62it/s]\n",
      "Evaluating: 100%|██████████| 30/30 [00:00<00:00, 105.30it/s]\n",
      "Training:   0%|          | 0/50 [00:00<?, ?it/s]"
     ]
    },
    {
     "name": "stdout",
     "output_type": "stream",
     "text": [
      "60.5\n"
     ]
    },
    {
     "name": "stderr",
     "output_type": "stream",
     "text": [
      "Training: 100%|██████████| 50/50 [00:12<00:00,  3.14it/s]\n",
      "Evaluating: 100%|██████████| 30/30 [00:00<00:00, 142.30it/s]\n",
      "Training:   0%|          | 0/50 [00:00<?, ?it/s]"
     ]
    },
    {
     "name": "stdout",
     "output_type": "stream",
     "text": [
      "46.96666666666667\n"
     ]
    },
    {
     "name": "stderr",
     "output_type": "stream",
     "text": [
      "Training: 100%|██████████| 50/50 [00:13<00:00,  3.38it/s]\n",
      "Evaluating: 100%|██████████| 30/30 [00:00<00:00, 138.31it/s]\n",
      "Training:   0%|          | 0/50 [00:00<?, ?it/s]"
     ]
    },
    {
     "name": "stdout",
     "output_type": "stream",
     "text": [
      "48.233333333333334\n"
     ]
    },
    {
     "name": "stderr",
     "output_type": "stream",
     "text": [
      "Training: 100%|██████████| 50/50 [00:12<00:00,  3.93it/s]\n",
      "Evaluating: 100%|██████████| 30/30 [00:00<00:00, 125.68it/s]\n",
      "Training:   2%|▏         | 1/50 [00:00<00:04,  9.95it/s]"
     ]
    },
    {
     "name": "stdout",
     "output_type": "stream",
     "text": [
      "40.63333333333333\n"
     ]
    },
    {
     "name": "stderr",
     "output_type": "stream",
     "text": [
      "Training: 100%|██████████| 50/50 [00:12<00:00,  2.22it/s]\n",
      "Evaluating: 100%|██████████| 30/30 [00:00<00:00, 63.39it/s]\n",
      "Training:   0%|          | 0/50 [00:00<?, ?it/s]"
     ]
    },
    {
     "name": "stdout",
     "output_type": "stream",
     "text": [
      "98.33333333333333\n"
     ]
    },
    {
     "name": "stderr",
     "output_type": "stream",
     "text": [
      "Training: 100%|██████████| 50/50 [00:17<00:00,  3.34it/s]\n",
      "Evaluating: 100%|██████████| 30/30 [00:00<00:00, 103.90it/s]\n",
      "Training:   0%|          | 0/50 [00:00<?, ?it/s]"
     ]
    },
    {
     "name": "stdout",
     "output_type": "stream",
     "text": [
      "64.96666666666667\n"
     ]
    },
    {
     "name": "stderr",
     "output_type": "stream",
     "text": [
      "Training: 100%|██████████| 50/50 [00:14<00:00,  3.42it/s]\n",
      "Evaluating: 100%|██████████| 30/30 [00:00<00:00, 100.39it/s]\n",
      "Training:   0%|          | 0/50 [00:00<?, ?it/s]"
     ]
    },
    {
     "name": "stdout",
     "output_type": "stream",
     "text": [
      "62.4\n"
     ]
    },
    {
     "name": "stderr",
     "output_type": "stream",
     "text": [
      "Training: 100%|██████████| 50/50 [00:12<00:00,  5.40it/s]\n",
      "Evaluating: 100%|██████████| 30/30 [00:00<00:00, 144.39it/s]\n",
      "Training:   0%|          | 0/50 [00:00<?, ?it/s]"
     ]
    },
    {
     "name": "stdout",
     "output_type": "stream",
     "text": [
      "36.266666666666666\n"
     ]
    },
    {
     "name": "stderr",
     "output_type": "stream",
     "text": [
      "Training: 100%|██████████| 50/50 [00:12<00:00,  3.31it/s]\n",
      "Evaluating: 100%|██████████| 30/30 [00:00<00:00, 174.11it/s]\n",
      "Training:   0%|          | 0/50 [00:00<?, ?it/s]"
     ]
    },
    {
     "name": "stdout",
     "output_type": "stream",
     "text": [
      "37.7\n"
     ]
    },
    {
     "name": "stderr",
     "output_type": "stream",
     "text": [
      "Training: 100%|██████████| 50/50 [00:16<00:00,  2.23it/s]\n",
      "Evaluating: 100%|██████████| 30/30 [00:00<00:00, 80.53it/s]\n",
      "Training:   2%|▏         | 1/50 [00:00<00:07,  6.92it/s]"
     ]
    },
    {
     "name": "stdout",
     "output_type": "stream",
     "text": [
      "83.03333333333333\n"
     ]
    },
    {
     "name": "stderr",
     "output_type": "stream",
     "text": [
      "Training: 100%|██████████| 50/50 [00:15<00:00,  3.19it/s]\n",
      "Evaluating: 100%|██████████| 30/30 [00:00<00:00, 58.71it/s]\n",
      "Training:   0%|          | 0/50 [00:00<?, ?it/s]"
     ]
    },
    {
     "name": "stdout",
     "output_type": "stream",
     "text": [
      "110.23333333333333\n"
     ]
    },
    {
     "name": "stderr",
     "output_type": "stream",
     "text": [
      "Training: 100%|██████████| 50/50 [00:12<00:00,  3.30it/s]\n",
      "Evaluating: 100%|██████████| 30/30 [00:00<00:00, 416.29it/s]\n",
      "Training:   4%|▍         | 2/50 [00:00<00:03, 13.61it/s]"
     ]
    },
    {
     "name": "stdout",
     "output_type": "stream",
     "text": [
      "12.366666666666667\n"
     ]
    },
    {
     "name": "stderr",
     "output_type": "stream",
     "text": [
      "Training: 100%|██████████| 50/50 [00:10<00:00,  3.26it/s]\n",
      "Evaluating: 100%|██████████| 30/30 [00:00<00:00, 60.22it/s]\n",
      "Training:   2%|▏         | 1/50 [00:00<00:07,  6.82it/s]"
     ]
    },
    {
     "name": "stdout",
     "output_type": "stream",
     "text": [
      "90.33333333333333\n"
     ]
    },
    {
     "name": "stderr",
     "output_type": "stream",
     "text": [
      "Training: 100%|██████████| 50/50 [00:10<00:00,  7.28it/s]\n",
      "Evaluating: 100%|██████████| 30/30 [00:00<00:00, 307.80it/s]\n",
      "Training:   4%|▍         | 2/50 [00:00<00:04, 11.04it/s]"
     ]
    },
    {
     "name": "stdout",
     "output_type": "stream",
     "text": [
      "21.633333333333333\n"
     ]
    },
    {
     "name": "stderr",
     "output_type": "stream",
     "text": [
      "Training: 100%|██████████| 50/50 [00:08<00:00,  5.94it/s]\n",
      "Evaluating: 100%|██████████| 30/30 [00:00<00:00, 274.45it/s]\n",
      "Training:   2%|▏         | 1/50 [00:00<00:05,  9.51it/s]"
     ]
    },
    {
     "name": "stdout",
     "output_type": "stream",
     "text": [
      "24.1\n"
     ]
    },
    {
     "name": "stderr",
     "output_type": "stream",
     "text": [
      "Training: 100%|██████████| 50/50 [00:09<00:00,  5.01it/s]\n",
      "Evaluating: 100%|██████████| 30/30 [00:00<00:00, 158.10it/s]\n",
      "Training:   2%|▏         | 1/50 [00:00<00:07,  6.24it/s]"
     ]
    },
    {
     "name": "stdout",
     "output_type": "stream",
     "text": [
      "40.833333333333336\n"
     ]
    },
    {
     "name": "stderr",
     "output_type": "stream",
     "text": [
      "Training: 100%|██████████| 50/50 [00:10<00:00,  2.90it/s]\n",
      "Evaluating: 100%|██████████| 30/30 [00:00<00:00, 429.50it/s]\n",
      "Training:   2%|▏         | 1/50 [00:00<00:05,  9.26it/s]"
     ]
    },
    {
     "name": "stdout",
     "output_type": "stream",
     "text": [
      "14.933333333333334\n"
     ]
    },
    {
     "name": "stderr",
     "output_type": "stream",
     "text": [
      "Training: 100%|██████████| 50/50 [00:14<00:00,  2.66it/s]\n",
      "Evaluating: 100%|██████████| 30/30 [00:00<00:00, 92.34it/s]\n",
      "Training:   0%|          | 0/50 [00:00<?, ?it/s]"
     ]
    },
    {
     "name": "stdout",
     "output_type": "stream",
     "text": [
      "68.53333333333333\n"
     ]
    },
    {
     "name": "stderr",
     "output_type": "stream",
     "text": [
      "Training: 100%|██████████| 50/50 [00:17<00:00,  1.60it/s]\n",
      "Evaluating: 100%|██████████| 30/30 [00:00<00:00, 346.98it/s]\n",
      "Training:   2%|▏         | 1/50 [00:00<00:06,  7.34it/s]"
     ]
    },
    {
     "name": "stdout",
     "output_type": "stream",
     "text": [
      "14.566666666666666\n"
     ]
    },
    {
     "name": "stderr",
     "output_type": "stream",
     "text": [
      "Training: 100%|██████████| 50/50 [00:22<00:00,  1.87it/s]\n",
      "Evaluating: 100%|██████████| 30/30 [00:00<00:00, 30.10it/s]\n",
      "Training:   0%|          | 0/50 [00:00<?, ?it/s]"
     ]
    },
    {
     "name": "stdout",
     "output_type": "stream",
     "text": [
      "200.0\n"
     ]
    },
    {
     "name": "stderr",
     "output_type": "stream",
     "text": [
      "Training: 100%|██████████| 50/50 [00:39<00:00,  1.52it/s]\n",
      "Evaluating: 100%|██████████| 30/30 [00:00<00:00, 404.74it/s]\n",
      "Training:   0%|          | 0/50 [00:00<?, ?it/s]"
     ]
    },
    {
     "name": "stdout",
     "output_type": "stream",
     "text": [
      "15.0\n"
     ]
    },
    {
     "name": "stderr",
     "output_type": "stream",
     "text": [
      "Training: 100%|██████████| 50/50 [00:30<00:00,  1.52it/s]\n",
      "Evaluating: 100%|██████████| 30/30 [00:00<00:00, 112.44it/s]\n",
      "Training:   2%|▏         | 1/50 [00:00<00:05,  9.59it/s]"
     ]
    },
    {
     "name": "stdout",
     "output_type": "stream",
     "text": [
      "58.9\n"
     ]
    },
    {
     "name": "stderr",
     "output_type": "stream",
     "text": [
      "Training: 100%|██████████| 50/50 [00:12<00:00,  8.36it/s]\n",
      "Evaluating: 100%|██████████| 30/30 [00:00<00:00, 505.37it/s]\n",
      "Training:   4%|▍         | 2/50 [00:00<00:03, 13.38it/s]"
     ]
    },
    {
     "name": "stdout",
     "output_type": "stream",
     "text": [
      "12.766666666666667\n"
     ]
    },
    {
     "name": "stderr",
     "output_type": "stream",
     "text": [
      "Training: 100%|██████████| 50/50 [00:13<00:00,  3.70it/s]\n",
      "Evaluating: 100%|██████████| 30/30 [00:00<00:00, 87.67it/s]\n",
      "Training:   0%|          | 0/50 [00:00<?, ?it/s]"
     ]
    },
    {
     "name": "stdout",
     "output_type": "stream",
     "text": [
      "82.4\n"
     ]
    },
    {
     "name": "stderr",
     "output_type": "stream",
     "text": [
      "Training: 100%|██████████| 50/50 [00:20<00:00,  3.80it/s]\n",
      "Evaluating: 100%|██████████| 30/30 [00:00<00:00, 523.18it/s]\n",
      "Training:   2%|▏         | 1/50 [00:00<00:05,  9.05it/s]"
     ]
    },
    {
     "name": "stdout",
     "output_type": "stream",
     "text": [
      "12.833333333333334\n"
     ]
    },
    {
     "name": "stderr",
     "output_type": "stream",
     "text": [
      "Training: 100%|██████████| 50/50 [00:27<00:00,  1.55it/s]\n",
      "Evaluating: 100%|██████████| 30/30 [00:00<00:00, 53.55it/s]\n",
      "Training:   0%|          | 0/50 [00:00<?, ?it/s]"
     ]
    },
    {
     "name": "stdout",
     "output_type": "stream",
     "text": [
      "121.9\n"
     ]
    },
    {
     "name": "stderr",
     "output_type": "stream",
     "text": [
      "Training: 100%|██████████| 50/50 [00:31<00:00,  1.33it/s]\n",
      "Evaluating: 100%|██████████| 30/30 [00:00<00:00, 63.52it/s]\n",
      "Training:   0%|          | 0/50 [00:00<?, ?it/s]"
     ]
    },
    {
     "name": "stdout",
     "output_type": "stream",
     "text": [
      "108.46666666666667\n"
     ]
    },
    {
     "name": "stderr",
     "output_type": "stream",
     "text": [
      "Training: 100%|██████████| 50/50 [00:28<00:00,  1.19it/s]\n",
      "Evaluating: 100%|██████████| 30/30 [00:00<00:00, 33.39it/s]\n",
      "Training:   2%|▏         | 1/50 [00:00<00:05,  8.67it/s]"
     ]
    },
    {
     "name": "stdout",
     "output_type": "stream",
     "text": [
      "200.0\n"
     ]
    },
    {
     "name": "stderr",
     "output_type": "stream",
     "text": [
      "Training: 100%|██████████| 50/50 [00:22<00:00,  2.25it/s]\n",
      "Evaluating: 100%|██████████| 30/30 [00:00<00:00, 165.83it/s]\n",
      "Training:   0%|          | 0/50 [00:00<?, ?it/s]"
     ]
    },
    {
     "name": "stdout",
     "output_type": "stream",
     "text": [
      "38.0\n"
     ]
    },
    {
     "name": "stderr",
     "output_type": "stream",
     "text": [
      "Training: 100%|██████████| 50/50 [00:15<00:00,  2.40it/s]\n",
      "Evaluating: 100%|██████████| 30/30 [00:00<00:00, 366.70it/s]\n",
      "Training:   0%|          | 0/50 [00:00<?, ?it/s]"
     ]
    },
    {
     "name": "stdout",
     "output_type": "stream",
     "text": [
      "15.166666666666666\n"
     ]
    },
    {
     "name": "stderr",
     "output_type": "stream",
     "text": [
      "Training: 100%|██████████| 50/50 [00:18<00:00,  2.85it/s]\n",
      "Evaluating: 100%|██████████| 30/30 [00:00<00:00, 55.90it/s]\n",
      "Training:   0%|          | 0/50 [00:00<?, ?it/s]"
     ]
    },
    {
     "name": "stdout",
     "output_type": "stream",
     "text": [
      "92.76666666666667\n"
     ]
    },
    {
     "name": "stderr",
     "output_type": "stream",
     "text": [
      "Training: 100%|██████████| 50/50 [00:20<00:00,  1.21it/s]\n",
      "Evaluating: 100%|██████████| 30/30 [00:00<00:00, 51.16it/s]\n",
      "Training:   0%|          | 0/50 [00:00<?, ?it/s]"
     ]
    },
    {
     "name": "stdout",
     "output_type": "stream",
     "text": [
      "125.03333333333333\n"
     ]
    },
    {
     "name": "stderr",
     "output_type": "stream",
     "text": [
      "Training: 100%|██████████| 50/50 [00:19<00:00,  2.61it/s]\n",
      "Evaluating: 100%|██████████| 30/30 [00:00<00:00, 405.31it/s]\n",
      "Training:   0%|          | 0/50 [00:00<?, ?it/s]"
     ]
    },
    {
     "name": "stdout",
     "output_type": "stream",
     "text": [
      "17.4\n"
     ]
    },
    {
     "name": "stderr",
     "output_type": "stream",
     "text": [
      "Training: 100%|██████████| 50/50 [00:22<00:00,  1.61it/s]\n",
      "Evaluating: 100%|██████████| 30/30 [00:00<00:00, 33.13it/s]\n",
      "Training:   0%|          | 0/50 [00:00<?, ?it/s]"
     ]
    },
    {
     "name": "stdout",
     "output_type": "stream",
     "text": [
      "200.0\n"
     ]
    },
    {
     "name": "stderr",
     "output_type": "stream",
     "text": [
      "Training: 100%|██████████| 50/50 [00:23<00:00,  1.23it/s]\n",
      "Evaluating: 100%|██████████| 30/30 [00:00<00:00, 33.37it/s]\n",
      "Training:   2%|▏         | 1/50 [00:00<00:08,  5.71it/s]"
     ]
    },
    {
     "name": "stdout",
     "output_type": "stream",
     "text": [
      "200.0\n"
     ]
    },
    {
     "name": "stderr",
     "output_type": "stream",
     "text": [
      "Training: 100%|██████████| 50/50 [00:37<00:00,  1.06it/s]\n",
      "Evaluating: 100%|██████████| 30/30 [00:00<00:00, 375.12it/s]\n",
      "Training:   2%|▏         | 1/50 [00:00<00:05,  9.36it/s]"
     ]
    },
    {
     "name": "stdout",
     "output_type": "stream",
     "text": [
      "14.9\n"
     ]
    },
    {
     "name": "stderr",
     "output_type": "stream",
     "text": [
      "Training: 100%|██████████| 50/50 [00:36<00:00,  1.46it/s]\n",
      "Evaluating: 100%|██████████| 30/30 [00:00<00:00, 484.18it/s]\n",
      "Training:   0%|          | 0/50 [00:00<?, ?it/s]"
     ]
    },
    {
     "name": "stdout",
     "output_type": "stream",
     "text": [
      "13.533333333333333\n"
     ]
    },
    {
     "name": "stderr",
     "output_type": "stream",
     "text": [
      "Training: 100%|██████████| 50/50 [00:39<00:00,  1.16it/s]\n",
      "Evaluating: 100%|██████████| 30/30 [00:00<00:00, 268.38it/s]\n",
      "Training:   2%|▏         | 1/50 [00:00<00:06,  7.45it/s]"
     ]
    },
    {
     "name": "stdout",
     "output_type": "stream",
     "text": [
      "20.066666666666666\n"
     ]
    },
    {
     "name": "stderr",
     "output_type": "stream",
     "text": [
      "Training: 100%|██████████| 50/50 [00:25<00:00,  2.49it/s]\n",
      "Evaluating: 100%|██████████| 30/30 [00:00<00:00, 31.82it/s]\n",
      "Training:   2%|▏         | 1/50 [00:00<00:09,  5.40it/s]"
     ]
    },
    {
     "name": "stdout",
     "output_type": "stream",
     "text": [
      "200.0\n"
     ]
    },
    {
     "name": "stderr",
     "output_type": "stream",
     "text": [
      "Training: 100%|██████████| 50/50 [00:37<00:00,  1.00it/s]\n",
      "Evaluating: 100%|██████████| 30/30 [00:00<00:00, 33.30it/s]\n",
      "Training:   0%|          | 0/50 [00:00<?, ?it/s]"
     ]
    },
    {
     "name": "stdout",
     "output_type": "stream",
     "text": [
      "200.0\n"
     ]
    },
    {
     "name": "stderr",
     "output_type": "stream",
     "text": [
      "Training: 100%|██████████| 50/50 [00:29<00:00,  1.67it/s]\n",
      "Evaluating: 100%|██████████| 30/30 [00:00<00:00, 51.77it/s]\n",
      "Training:   0%|          | 0/50 [00:00<?, ?it/s]"
     ]
    },
    {
     "name": "stdout",
     "output_type": "stream",
     "text": [
      "109.5\n"
     ]
    },
    {
     "name": "stderr",
     "output_type": "stream",
     "text": [
      "Training: 100%|██████████| 50/50 [00:17<00:00,  2.79it/s]\n",
      "Evaluating: 100%|██████████| 30/30 [00:00<00:00, 58.56it/s]\n",
      "Training:   0%|          | 0/50 [00:00<?, ?it/s]"
     ]
    },
    {
     "name": "stdout",
     "output_type": "stream",
     "text": [
      "113.86666666666666\n"
     ]
    },
    {
     "name": "stderr",
     "output_type": "stream",
     "text": [
      "Training: 100%|██████████| 50/50 [00:31<00:00,  1.96it/s]\n",
      "Evaluating: 100%|██████████| 30/30 [00:00<00:00, 33.21it/s]\n",
      "Training:   0%|          | 0/50 [00:00<?, ?it/s]"
     ]
    },
    {
     "name": "stdout",
     "output_type": "stream",
     "text": [
      "200.0\n"
     ]
    },
    {
     "name": "stderr",
     "output_type": "stream",
     "text": [
      "Training: 100%|██████████| 50/50 [00:12<00:00,  6.84it/s]\n",
      "Evaluating: 100%|██████████| 30/30 [00:00<00:00, 208.77it/s]\n",
      "Training:   2%|▏         | 1/50 [00:00<00:05,  8.40it/s]"
     ]
    },
    {
     "name": "stdout",
     "output_type": "stream",
     "text": [
      "29.666666666666668\n"
     ]
    },
    {
     "name": "stderr",
     "output_type": "stream",
     "text": [
      "Training: 100%|██████████| 50/50 [00:20<00:00,  1.15it/s]\n",
      "Evaluating: 100%|██████████| 30/30 [00:00<00:00, 30.99it/s]\n",
      "Training:   0%|          | 0/50 [00:00<?, ?it/s]"
     ]
    },
    {
     "name": "stdout",
     "output_type": "stream",
     "text": [
      "200.0\n"
     ]
    },
    {
     "name": "stderr",
     "output_type": "stream",
     "text": [
      "Training: 100%|██████████| 50/50 [00:21<00:00,  2.38it/s]\n",
      "Evaluating: 100%|██████████| 30/30 [00:00<00:00, 414.60it/s]\n",
      "Training:   4%|▍         | 2/50 [00:00<00:03, 12.16it/s]"
     ]
    },
    {
     "name": "stdout",
     "output_type": "stream",
     "text": [
      "14.433333333333334\n"
     ]
    },
    {
     "name": "stderr",
     "output_type": "stream",
     "text": [
      "Training: 100%|██████████| 50/50 [00:19<00:00,  1.35it/s]\n",
      "Evaluating: 100%|██████████| 30/30 [00:00<00:00, 33.31it/s]\n",
      "Training:   0%|          | 0/50 [00:00<?, ?it/s]"
     ]
    },
    {
     "name": "stdout",
     "output_type": "stream",
     "text": [
      "200.0\n"
     ]
    },
    {
     "name": "stderr",
     "output_type": "stream",
     "text": [
      "Training: 100%|██████████| 50/50 [00:37<00:00,  1.11s/it]\n",
      "Evaluating: 100%|██████████| 30/30 [00:00<00:00, 32.14it/s]\n",
      "Training:   0%|          | 0/50 [00:00<?, ?it/s]"
     ]
    },
    {
     "name": "stdout",
     "output_type": "stream",
     "text": [
      "200.0\n"
     ]
    },
    {
     "name": "stderr",
     "output_type": "stream",
     "text": [
      "Training: 100%|██████████| 50/50 [00:32<00:00,  3.51it/s]\n",
      "Evaluating: 100%|██████████| 30/30 [00:00<00:00, 94.94it/s] \n",
      "Training:   2%|▏         | 1/50 [00:00<00:06,  7.16it/s]"
     ]
    },
    {
     "name": "stdout",
     "output_type": "stream",
     "text": [
      "69.56666666666666\n"
     ]
    },
    {
     "name": "stderr",
     "output_type": "stream",
     "text": [
      "Training: 100%|██████████| 50/50 [00:25<00:00,  1.48it/s]\n",
      "Evaluating: 100%|██████████| 30/30 [00:00<00:00, 33.37it/s]\n",
      "Training:   0%|          | 0/50 [00:00<?, ?it/s]"
     ]
    },
    {
     "name": "stdout",
     "output_type": "stream",
     "text": [
      "200.0\n"
     ]
    },
    {
     "name": "stderr",
     "output_type": "stream",
     "text": [
      "Training: 100%|██████████| 50/50 [00:27<00:00,  1.67it/s]\n",
      "Evaluating: 100%|██████████| 30/30 [00:00<00:00, 33.55it/s]\n",
      "Training:   0%|          | 0/50 [00:00<?, ?it/s]"
     ]
    },
    {
     "name": "stdout",
     "output_type": "stream",
     "text": [
      "200.0\n"
     ]
    },
    {
     "name": "stderr",
     "output_type": "stream",
     "text": [
      "Training: 100%|██████████| 50/50 [00:40<00:00,  1.16it/s]\n",
      "Evaluating: 100%|██████████| 30/30 [00:00<00:00, 54.70it/s]\n",
      "Training:   0%|          | 0/50 [00:00<?, ?it/s]"
     ]
    },
    {
     "name": "stdout",
     "output_type": "stream",
     "text": [
      "123.2\n"
     ]
    },
    {
     "name": "stderr",
     "output_type": "stream",
     "text": [
      "Training: 100%|██████████| 50/50 [00:46<00:00,  1.03s/it]\n",
      "Evaluating: 100%|██████████| 30/30 [00:00<00:00, 33.19it/s]\n",
      "Training:   2%|▏         | 1/50 [00:00<00:06,  7.19it/s]"
     ]
    },
    {
     "name": "stdout",
     "output_type": "stream",
     "text": [
      "200.0\n"
     ]
    },
    {
     "name": "stderr",
     "output_type": "stream",
     "text": [
      "Training: 100%|██████████| 50/50 [00:26<00:00,  1.90it/s]\n",
      "Evaluating: 100%|██████████| 30/30 [00:00<00:00, 421.96it/s]\n",
      "Training:   0%|          | 0/50 [00:00<?, ?it/s]"
     ]
    },
    {
     "name": "stdout",
     "output_type": "stream",
     "text": [
      "15.733333333333333\n"
     ]
    },
    {
     "name": "stderr",
     "output_type": "stream",
     "text": [
      "Training: 100%|██████████| 50/50 [00:25<00:00,  2.32it/s]\n",
      "Evaluating: 100%|██████████| 30/30 [00:00<00:00, 59.07it/s]\n"
     ]
    },
    {
     "name": "stdout",
     "output_type": "stream",
     "text": [
      "109.46666666666667\n",
      "\n",
      "Learning Performance:\n",
      "\n"
     ]
    },
    {
     "data": {
      "text/plain": [
       "<Figure size 432x288 with 0 Axes>"
      ]
     },
     "metadata": {},
     "output_type": "display_data"
    },
    {
     "data": {
      "image/png": "[encoded data removed]",
      "text/plain": [
       "<Figure size 432x288 with 1 Axes>"
      ]
     },
     "metadata": {},
     "output_type": "display_data"
    }
   ],
   "source": [
    "#-----------------------------------------------------RUN-----------------------------------\n",
    "training_episodes, test_interval = 10000, 50\n",
    "agent = DQN_agent(env_CartPole, hyperparams_CartPole)\n",
    "result = agent.learn_and_evaluate(training_episodes, test_interval)\n",
    "plot_result(result, test_interval, [\"batch_update with target_model\"])"
   ]
  },
  {
   "cell_type": "raw",
   "metadata": {},
   "source": [
    "DQN with a replay buffer, but without a target network.\n",
    "Here you set use_target_model = False and otherwise set the replay memory parameters to the above suggested values"
   ]
  },
  {
   "cell_type": "code",
   "execution_count": 10,
   "metadata": {},
   "outputs": [],
   "source": [
    "hyperparams_CartPole = {\n",
    "    'epsilon_decay_steps' : 100000, \n",
    "    'final_epsilon' : 0.1,\n",
    "    'batch_size' : 32, \n",
    "    'update_steps' : 10, \n",
    "    'memory_size' : 2000, \n",
    "    'beta' : 0.99, \n",
    "    'model_replace_freq' : 2000,\n",
    "    'learning_rate' : 0.0003,\n",
    "    'use_target_model': False\n",
    "}"
   ]
  },
  {
   "cell_type": "code",
   "execution_count": 11,
   "metadata": {},
   "outputs": [
    {
     "name": "stderr",
     "output_type": "stream",
     "text": [
      "Training: 100%|██████████| 50/50 [00:00<00:00, 115.05it/s]\n",
      "Evaluating: 100%|██████████| 30/30 [00:00<00:00, 721.03it/s]\n",
      "Training:  34%|███▍      | 17/50 [00:00<00:00, 167.75it/s]"
     ]
    },
    {
     "name": "stdout",
     "output_type": "stream",
     "text": [
      "9.566666666666666\n"
     ]
    },
    {
     "name": "stderr",
     "output_type": "stream",
     "text": [
      "Training: 100%|██████████| 50/50 [00:00<00:00, 168.24it/s]\n",
      "Evaluating: 100%|██████████| 30/30 [00:00<00:00, 734.91it/s]\n",
      "Training:  26%|██▌       | 13/50 [00:00<00:00, 125.03it/s]"
     ]
    },
    {
     "name": "stdout",
     "output_type": "stream",
     "text": [
      "9.2\n"
     ]
    },
    {
     "name": "stderr",
     "output_type": "stream",
     "text": [
      "Training: 100%|██████████| 50/50 [00:00<00:00, 135.87it/s]\n",
      "Evaluating: 100%|██████████| 30/30 [00:00<00:00, 570.08it/s]\n",
      "Training:  24%|██▍       | 12/50 [00:00<00:00, 119.70it/s]"
     ]
    },
    {
     "name": "stdout",
     "output_type": "stream",
     "text": [
      "9.466666666666667\n"
     ]
    },
    {
     "name": "stderr",
     "output_type": "stream",
     "text": [
      "Training: 100%|██████████| 50/50 [00:00<00:00, 134.21it/s]\n",
      "Evaluating: 100%|██████████| 30/30 [00:00<00:00, 738.76it/s]\n",
      "Training:  22%|██▏       | 11/50 [00:00<00:00, 105.00it/s]"
     ]
    },
    {
     "name": "stdout",
     "output_type": "stream",
     "text": [
      "9.233333333333333\n"
     ]
    },
    {
     "name": "stderr",
     "output_type": "stream",
     "text": [
      "Training: 100%|██████████| 50/50 [00:00<00:00, 126.11it/s]\n",
      "Evaluating: 100%|██████████| 30/30 [00:00<00:00, 592.12it/s]\n",
      "Training:  26%|██▌       | 13/50 [00:00<00:00, 126.79it/s]"
     ]
    },
    {
     "name": "stdout",
     "output_type": "stream",
     "text": [
      "9.3\n"
     ]
    },
    {
     "name": "stderr",
     "output_type": "stream",
     "text": [
      "Training: 100%|██████████| 50/50 [00:00<00:00, 150.37it/s]\n",
      "Evaluating: 100%|██████████| 30/30 [00:00<00:00, 799.77it/s]\n",
      "Training:  20%|██        | 10/50 [00:00<00:00, 98.30it/s]"
     ]
    },
    {
     "name": "stdout",
     "output_type": "stream",
     "text": [
      "9.2\n"
     ]
    },
    {
     "name": "stderr",
     "output_type": "stream",
     "text": [
      "Training: 100%|██████████| 50/50 [00:00<00:00, 142.98it/s]\n",
      "Evaluating: 100%|██████████| 30/30 [00:00<00:00, 752.81it/s]\n",
      "Training:  36%|███▌      | 18/50 [00:00<00:00, 171.91it/s]"
     ]
    },
    {
     "name": "stdout",
     "output_type": "stream",
     "text": [
      "9.266666666666667\n"
     ]
    },
    {
     "name": "stderr",
     "output_type": "stream",
     "text": [
      "Training: 100%|██████████| 50/50 [00:00<00:00, 179.87it/s]\n",
      "Evaluating: 100%|██████████| 30/30 [00:00<00:00, 746.36it/s]\n",
      "Training:  34%|███▍      | 17/50 [00:00<00:00, 149.97it/s]"
     ]
    },
    {
     "name": "stdout",
     "output_type": "stream",
     "text": [
      "9.366666666666667\n"
     ]
    },
    {
     "name": "stderr",
     "output_type": "stream",
     "text": [
      "Training: 100%|██████████| 50/50 [00:00<00:00, 152.33it/s]\n",
      "Evaluating: 100%|██████████| 30/30 [00:00<00:00, 735.63it/s]\n",
      "Training:  16%|█▌        | 8/50 [00:00<00:00, 78.99it/s]"
     ]
    },
    {
     "name": "stdout",
     "output_type": "stream",
     "text": [
      "9.533333333333333\n"
     ]
    },
    {
     "name": "stderr",
     "output_type": "stream",
     "text": [
      "Training: 100%|██████████| 50/50 [00:00<00:00, 114.28it/s]\n",
      "Evaluating: 100%|██████████| 30/30 [00:00<00:00, 607.18it/s]\n",
      "Training:  32%|███▏      | 16/50 [00:00<00:00, 145.12it/s]"
     ]
    },
    {
     "name": "stdout",
     "output_type": "stream",
     "text": [
      "9.1\n"
     ]
    },
    {
     "name": "stderr",
     "output_type": "stream",
     "text": [
      "Training: 100%|██████████| 50/50 [00:00<00:00, 151.94it/s]\n",
      "Evaluating: 100%|██████████| 30/30 [00:00<00:00, 725.44it/s]\n",
      "Training:  38%|███▊      | 19/50 [00:00<00:00, 179.23it/s]"
     ]
    },
    {
     "name": "stdout",
     "output_type": "stream",
     "text": [
      "9.566666666666666\n"
     ]
    },
    {
     "name": "stderr",
     "output_type": "stream",
     "text": [
      "Training: 100%|██████████| 50/50 [00:00<00:00, 159.82it/s]\n",
      "Evaluating: 100%|██████████| 30/30 [00:00<00:00, 754.71it/s]\n",
      "Training:  32%|███▏      | 16/50 [00:00<00:00, 146.75it/s]"
     ]
    },
    {
     "name": "stdout",
     "output_type": "stream",
     "text": [
      "9.5\n"
     ]
    },
    {
     "name": "stderr",
     "output_type": "stream",
     "text": [
      "Training: 100%|██████████| 50/50 [00:00<00:00, 145.49it/s]\n",
      "Evaluating: 100%|██████████| 30/30 [00:00<00:00, 750.40it/s]\n",
      "Training:  24%|██▍       | 12/50 [00:00<00:00, 119.85it/s]"
     ]
    },
    {
     "name": "stdout",
     "output_type": "stream",
     "text": [
      "9.4\n"
     ]
    },
    {
     "name": "stderr",
     "output_type": "stream",
     "text": [
      "Training: 100%|██████████| 50/50 [00:00<00:00, 126.52it/s]\n",
      "Evaluating: 100%|██████████| 30/30 [00:00<00:00, 776.50it/s]\n",
      "Training:  24%|██▍       | 12/50 [00:00<00:00, 118.57it/s]"
     ]
    },
    {
     "name": "stdout",
     "output_type": "stream",
     "text": [
      "9.066666666666666\n"
     ]
    },
    {
     "name": "stderr",
     "output_type": "stream",
     "text": [
      "Training: 100%|██████████| 50/50 [00:00<00:00, 111.25it/s]\n",
      "Evaluating: 100%|██████████| 30/30 [00:00<00:00, 588.60it/s]\n",
      "Training:  26%|██▌       | 13/50 [00:00<00:00, 121.70it/s]"
     ]
    },
    {
     "name": "stdout",
     "output_type": "stream",
     "text": [
      "9.4\n"
     ]
    },
    {
     "name": "stderr",
     "output_type": "stream",
     "text": [
      "Training: 100%|██████████| 50/50 [00:00<00:00, 147.83it/s]\n",
      "Evaluating: 100%|██████████| 30/30 [00:00<00:00, 749.65it/s]\n",
      "Training:  28%|██▊       | 14/50 [00:00<00:00, 139.55it/s]"
     ]
    },
    {
     "name": "stdout",
     "output_type": "stream",
     "text": [
      "9.433333333333334\n"
     ]
    },
    {
     "name": "stderr",
     "output_type": "stream",
     "text": [
      "Training: 100%|██████████| 50/50 [00:00<00:00, 161.40it/s]\n",
      "Evaluating: 100%|██████████| 30/30 [00:00<00:00, 784.46it/s]\n",
      "Training:  28%|██▊       | 14/50 [00:00<00:00, 134.77it/s]"
     ]
    },
    {
     "name": "stdout",
     "output_type": "stream",
     "text": [
      "9.2\n"
     ]
    },
    {
     "name": "stderr",
     "output_type": "stream",
     "text": [
      "Training: 100%|██████████| 50/50 [00:00<00:00, 155.37it/s]\n",
      "Evaluating: 100%|██████████| 30/30 [00:00<00:00, 762.57it/s]\n",
      "Training:  20%|██        | 10/50 [00:00<00:00, 94.09it/s]"
     ]
    },
    {
     "name": "stdout",
     "output_type": "stream",
     "text": [
      "9.266666666666667\n"
     ]
    },
    {
     "name": "stderr",
     "output_type": "stream",
     "text": [
      "Training: 100%|██████████| 50/50 [00:00<00:00, 133.20it/s]\n",
      "Evaluating: 100%|██████████| 30/30 [00:00<00:00, 707.64it/s]\n",
      "Training:  32%|███▏      | 16/50 [00:00<00:00, 159.23it/s]"
     ]
    },
    {
     "name": "stdout",
     "output_type": "stream",
     "text": [
      "9.333333333333334\n"
     ]
    },
    {
     "name": "stderr",
     "output_type": "stream",
     "text": [
      "Training: 100%|██████████| 50/50 [00:00<00:00, 148.72it/s]\n",
      "Evaluating: 100%|██████████| 30/30 [00:00<00:00, 768.52it/s]\n",
      "Training:  20%|██        | 10/50 [00:00<00:00, 90.40it/s]"
     ]
    },
    {
     "name": "stdout",
     "output_type": "stream",
     "text": [
      "9.1\n"
     ]
    },
    {
     "name": "stderr",
     "output_type": "stream",
     "text": [
      "Training: 100%|██████████| 50/50 [00:00<00:00, 109.50it/s]\n",
      "Evaluating: 100%|██████████| 30/30 [00:00<00:00, 584.75it/s]\n",
      "Training:  26%|██▌       | 13/50 [00:00<00:00, 120.66it/s]"
     ]
    },
    {
     "name": "stdout",
     "output_type": "stream",
     "text": [
      "9.233333333333333\n"
     ]
    },
    {
     "name": "stderr",
     "output_type": "stream",
     "text": [
      "Training: 100%|██████████| 50/50 [00:00<00:00, 149.18it/s]\n",
      "Evaluating: 100%|██████████| 30/30 [00:00<00:00, 746.19it/s]\n",
      "Training:  30%|███       | 15/50 [00:00<00:00, 142.71it/s]"
     ]
    },
    {
     "name": "stdout",
     "output_type": "stream",
     "text": [
      "9.4\n"
     ]
    },
    {
     "name": "stderr",
     "output_type": "stream",
     "text": [
      "Training: 100%|██████████| 50/50 [00:00<00:00, 154.84it/s]\n",
      "Evaluating: 100%|██████████| 30/30 [00:00<00:00, 744.21it/s]\n",
      "Training:  36%|███▌      | 18/50 [00:00<00:00, 178.17it/s]"
     ]
    },
    {
     "name": "stdout",
     "output_type": "stream",
     "text": [
      "9.3\n"
     ]
    },
    {
     "name": "stderr",
     "output_type": "stream",
     "text": [
      "Training: 100%|██████████| 50/50 [00:00<00:00, 161.00it/s]\n",
      "Evaluating: 100%|██████████| 30/30 [00:00<00:00, 729.61it/s]\n",
      "Training:  32%|███▏      | 16/50 [00:00<00:00, 158.61it/s]"
     ]
    },
    {
     "name": "stdout",
     "output_type": "stream",
     "text": [
      "9.533333333333333\n"
     ]
    },
    {
     "name": "stderr",
     "output_type": "stream",
     "text": [
      "Training: 100%|██████████| 50/50 [00:00<00:00, 152.83it/s]\n",
      "Evaluating: 100%|██████████| 30/30 [00:00<00:00, 745.85it/s]\n",
      "Training:  32%|███▏      | 16/50 [00:00<00:00, 158.78it/s]"
     ]
    },
    {
     "name": "stdout",
     "output_type": "stream",
     "text": [
      "9.433333333333334\n"
     ]
    },
    {
     "name": "stderr",
     "output_type": "stream",
     "text": [
      "Training: 100%|██████████| 50/50 [00:00<00:00, 165.43it/s]\n",
      "Evaluating: 100%|██████████| 30/30 [00:00<00:00, 742.57it/s]\n",
      "Training:  38%|███▊      | 19/50 [00:00<00:00, 189.17it/s]"
     ]
    },
    {
     "name": "stdout",
     "output_type": "stream",
     "text": [
      "9.333333333333334\n"
     ]
    },
    {
     "name": "stderr",
     "output_type": "stream",
     "text": [
      "Training: 100%|██████████| 50/50 [00:00<00:00, 165.46it/s]\n",
      "Evaluating: 100%|██████████| 30/30 [00:00<00:00, 760.74it/s]\n",
      "Training:  28%|██▊       | 14/50 [00:00<00:00, 134.24it/s]"
     ]
    },
    {
     "name": "stdout",
     "output_type": "stream",
     "text": [
      "9.233333333333333\n"
     ]
    },
    {
     "name": "stderr",
     "output_type": "stream",
     "text": [
      "Training: 100%|██████████| 50/50 [00:00<00:00, 142.87it/s]\n",
      "Evaluating: 100%|██████████| 30/30 [00:00<00:00, 754.87it/s]\n",
      "Training:  26%|██▌       | 13/50 [00:00<00:00, 129.09it/s]"
     ]
    },
    {
     "name": "stdout",
     "output_type": "stream",
     "text": [
      "9.266666666666667\n"
     ]
    },
    {
     "name": "stderr",
     "output_type": "stream",
     "text": [
      "Training: 100%|██████████| 50/50 [00:00<00:00, 118.76it/s]\n",
      "Evaluating: 100%|██████████| 30/30 [00:00<00:00, 589.70it/s]\n",
      "Training:  32%|███▏      | 16/50 [00:00<00:00, 155.56it/s]"
     ]
    },
    {
     "name": "stdout",
     "output_type": "stream",
     "text": [
      "9.366666666666667\n"
     ]
    },
    {
     "name": "stderr",
     "output_type": "stream",
     "text": [
      "Training: 100%|██████████| 50/50 [00:00<00:00, 165.89it/s]\n",
      "Evaluating: 100%|██████████| 30/30 [00:00<00:00, 743.97it/s]\n",
      "Training:  22%|██▏       | 11/50 [00:00<00:00, 106.72it/s]"
     ]
    },
    {
     "name": "stdout",
     "output_type": "stream",
     "text": [
      "9.333333333333334\n"
     ]
    },
    {
     "name": "stderr",
     "output_type": "stream",
     "text": [
      "Training: 100%|██████████| 50/50 [00:00<00:00, 154.27it/s]\n",
      "Evaluating: 100%|██████████| 30/30 [00:00<00:00, 736.16it/s]\n",
      "Training:  34%|███▍      | 17/50 [00:00<00:00, 158.01it/s]"
     ]
    },
    {
     "name": "stdout",
     "output_type": "stream",
     "text": [
      "9.233333333333333\n"
     ]
    },
    {
     "name": "stderr",
     "output_type": "stream",
     "text": [
      "Training: 100%|██████████| 50/50 [00:00<00:00, 161.14it/s]\n",
      "Evaluating: 100%|██████████| 30/30 [00:00<00:00, 766.40it/s]\n",
      "Training:  26%|██▌       | 13/50 [00:00<00:00, 128.70it/s]"
     ]
    },
    {
     "name": "stdout",
     "output_type": "stream",
     "text": [
      "9.466666666666667\n"
     ]
    },
    {
     "name": "stderr",
     "output_type": "stream",
     "text": [
      "Training: 100%|██████████| 50/50 [00:00<00:00, 148.93it/s]\n",
      "Evaluating: 100%|██████████| 30/30 [00:00<00:00, 743.98it/s]\n",
      "Training:  32%|███▏      | 16/50 [00:00<00:00, 157.60it/s]"
     ]
    },
    {
     "name": "stdout",
     "output_type": "stream",
     "text": [
      "9.333333333333334\n"
     ]
    },
    {
     "name": "stderr",
     "output_type": "stream",
     "text": [
      "Training: 100%|██████████| 50/50 [00:00<00:00, 159.71it/s]\n",
      "Evaluating: 100%|██████████| 30/30 [00:00<00:00, 768.67it/s]\n",
      "Training:  28%|██▊       | 14/50 [00:00<00:00, 138.26it/s]"
     ]
    },
    {
     "name": "stdout",
     "output_type": "stream",
     "text": [
      "9.2\n"
     ]
    },
    {
     "name": "stderr",
     "output_type": "stream",
     "text": [
      "Training: 100%|██████████| 50/50 [00:00<00:00, 169.88it/s]\n",
      "Evaluating: 100%|██████████| 30/30 [00:00<00:00, 739.41it/s]\n",
      "Training:  24%|██▍       | 12/50 [00:00<00:00, 118.75it/s]"
     ]
    },
    {
     "name": "stdout",
     "output_type": "stream",
     "text": [
      "9.166666666666666\n"
     ]
    },
    {
     "name": "stderr",
     "output_type": "stream",
     "text": [
      "Training: 100%|██████████| 50/50 [00:00<00:00, 126.55it/s]\n",
      "Evaluating: 100%|██████████| 30/30 [00:00<00:00, 586.92it/s]\n",
      "Training:  36%|███▌      | 18/50 [00:00<00:00, 170.67it/s]"
     ]
    },
    {
     "name": "stdout",
     "output_type": "stream",
     "text": [
      "9.4\n"
     ]
    },
    {
     "name": "stderr",
     "output_type": "stream",
     "text": [
      "Training: 100%|██████████| 50/50 [00:00<00:00, 177.02it/s]\n",
      "Evaluating: 100%|██████████| 30/30 [00:00<00:00, 771.58it/s]\n",
      "Training:  30%|███       | 15/50 [00:00<00:00, 144.14it/s]"
     ]
    },
    {
     "name": "stdout",
     "output_type": "stream",
     "text": [
      "9.033333333333333\n"
     ]
    },
    {
     "name": "stderr",
     "output_type": "stream",
     "text": [
      "Training: 100%|██████████| 50/50 [00:00<00:00, 180.77it/s]\n",
      "Evaluating: 100%|██████████| 30/30 [00:00<00:00, 733.58it/s]\n",
      "Training:  34%|███▍      | 17/50 [00:00<00:00, 165.76it/s]"
     ]
    },
    {
     "name": "stdout",
     "output_type": "stream",
     "text": [
      "9.4\n"
     ]
    },
    {
     "name": "stderr",
     "output_type": "stream",
     "text": [
      "Training: 100%|██████████| 50/50 [00:00<00:00, 173.78it/s]\n",
      "Evaluating: 100%|██████████| 30/30 [00:00<00:00, 703.35it/s]\n",
      "Training:  32%|███▏      | 16/50 [00:00<00:00, 142.90it/s]"
     ]
    },
    {
     "name": "stdout",
     "output_type": "stream",
     "text": [
      "9.466666666666667\n"
     ]
    },
    {
     "name": "stderr",
     "output_type": "stream",
     "text": [
      "Training: 100%|██████████| 50/50 [00:00<00:00, 167.76it/s]\n",
      "Evaluating: 100%|██████████| 30/30 [00:00<00:00, 741.28it/s]\n",
      "Training:  24%|██▍       | 12/50 [00:00<00:00, 110.17it/s]"
     ]
    },
    {
     "name": "stdout",
     "output_type": "stream",
     "text": [
      "9.233333333333333\n"
     ]
    },
    {
     "name": "stderr",
     "output_type": "stream",
     "text": [
      "Training: 100%|██████████| 50/50 [00:00<00:00, 142.52it/s]\n",
      "Evaluating: 100%|██████████| 30/30 [00:00<00:00, 603.50it/s]\n",
      "Training:  26%|██▌       | 13/50 [00:00<00:00, 116.60it/s]"
     ]
    },
    {
     "name": "stdout",
     "output_type": "stream",
     "text": [
      "9.3\n"
     ]
    },
    {
     "name": "stderr",
     "output_type": "stream",
     "text": [
      "Training: 100%|██████████| 50/50 [00:00<00:00, 136.68it/s]\n",
      "Evaluating: 100%|██████████| 30/30 [00:00<00:00, 593.02it/s]\n",
      "Training:  36%|███▌      | 18/50 [00:00<00:00, 176.41it/s]"
     ]
    },
    {
     "name": "stdout",
     "output_type": "stream",
     "text": [
      "9.366666666666667\n"
     ]
    },
    {
     "name": "stderr",
     "output_type": "stream",
     "text": [
      "Training: 100%|██████████| 50/50 [00:00<00:00, 185.68it/s]\n",
      "Evaluating: 100%|██████████| 30/30 [00:00<00:00, 728.88it/s]\n",
      "Training:  32%|███▏      | 16/50 [00:00<00:00, 153.73it/s]"
     ]
    },
    {
     "name": "stdout",
     "output_type": "stream",
     "text": [
      "9.633333333333333\n"
     ]
    },
    {
     "name": "stderr",
     "output_type": "stream",
     "text": [
      "Training: 100%|██████████| 50/50 [00:00<00:00, 183.42it/s]\n",
      "Evaluating: 100%|██████████| 30/30 [00:00<00:00, 768.40it/s]\n",
      "Training:  38%|███▊      | 19/50 [00:00<00:00, 180.10it/s]"
     ]
    },
    {
     "name": "stdout",
     "output_type": "stream",
     "text": [
      "9.066666666666666\n"
     ]
    },
    {
     "name": "stderr",
     "output_type": "stream",
     "text": [
      "Training: 100%|██████████| 50/50 [00:00<00:00, 169.60it/s]\n",
      "Evaluating: 100%|██████████| 30/30 [00:00<00:00, 736.63it/s]\n",
      "Training:  36%|███▌      | 18/50 [00:00<00:00, 173.96it/s]"
     ]
    },
    {
     "name": "stdout",
     "output_type": "stream",
     "text": [
      "9.366666666666667\n"
     ]
    },
    {
     "name": "stderr",
     "output_type": "stream",
     "text": [
      "Training: 100%|██████████| 50/50 [00:00<00:00, 172.86it/s]\n",
      "Evaluating: 100%|██████████| 30/30 [00:00<00:00, 731.66it/s]\n",
      "Training:  26%|██▌       | 13/50 [00:00<00:00, 127.70it/s]"
     ]
    },
    {
     "name": "stdout",
     "output_type": "stream",
     "text": [
      "9.366666666666667\n"
     ]
    },
    {
     "name": "stderr",
     "output_type": "stream",
     "text": [
      "Training: 100%|██████████| 50/50 [00:00<00:00, 141.30it/s]\n",
      "Evaluating: 100%|██████████| 30/30 [00:00<00:00, 561.66it/s]\n",
      "Training:  34%|███▍      | 17/50 [00:00<00:00, 163.14it/s]"
     ]
    },
    {
     "name": "stdout",
     "output_type": "stream",
     "text": [
      "9.333333333333334\n"
     ]
    },
    {
     "name": "stderr",
     "output_type": "stream",
     "text": [
      "Training: 100%|██████████| 50/50 [00:00<00:00, 187.49it/s]\n",
      "Evaluating: 100%|██████████| 30/30 [00:00<00:00, 719.57it/s]\n",
      "Training:  30%|███       | 15/50 [00:00<00:00, 149.86it/s]"
     ]
    },
    {
     "name": "stdout",
     "output_type": "stream",
     "text": [
      "9.433333333333334\n"
     ]
    },
    {
     "name": "stderr",
     "output_type": "stream",
     "text": [
      "Training: 100%|██████████| 50/50 [00:00<00:00, 181.21it/s]\n",
      "Evaluating: 100%|██████████| 30/30 [00:00<00:00, 704.12it/s]\n",
      "Training:  36%|███▌      | 18/50 [00:00<00:00, 169.63it/s]"
     ]
    },
    {
     "name": "stdout",
     "output_type": "stream",
     "text": [
      "9.266666666666667\n"
     ]
    },
    {
     "name": "stderr",
     "output_type": "stream",
     "text": [
      "Training: 100%|██████████| 50/50 [00:00<00:00, 170.39it/s]\n",
      "Evaluating: 100%|██████████| 30/30 [00:00<00:00, 717.74it/s]\n",
      "Training:  34%|███▍      | 17/50 [00:00<00:00, 157.02it/s]"
     ]
    },
    {
     "name": "stdout",
     "output_type": "stream",
     "text": [
      "9.566666666666666\n"
     ]
    },
    {
     "name": "stderr",
     "output_type": "stream",
     "text": [
      "Training: 100%|██████████| 50/50 [00:00<00:00, 174.85it/s]\n",
      "Evaluating: 100%|██████████| 30/30 [00:00<00:00, 744.21it/s]\n",
      "Training:  30%|███       | 15/50 [00:00<00:00, 148.24it/s]"
     ]
    },
    {
     "name": "stdout",
     "output_type": "stream",
     "text": [
      "9.366666666666667\n"
     ]
    },
    {
     "name": "stderr",
     "output_type": "stream",
     "text": [
      "Training: 100%|██████████| 50/50 [00:00<00:00, 178.43it/s]\n",
      "Evaluating: 100%|██████████| 30/30 [00:00<00:00, 804.00it/s]\n",
      "Training:  26%|██▌       | 13/50 [00:00<00:00, 128.02it/s]"
     ]
    },
    {
     "name": "stdout",
     "output_type": "stream",
     "text": [
      "9.1\n"
     ]
    },
    {
     "name": "stderr",
     "output_type": "stream",
     "text": [
      "Training: 100%|██████████| 50/50 [00:00<00:00, 137.17it/s]\n",
      "Evaluating: 100%|██████████| 30/30 [00:00<00:00, 576.47it/s]\n",
      "Training:  30%|███       | 15/50 [00:00<00:00, 149.74it/s]"
     ]
    },
    {
     "name": "stdout",
     "output_type": "stream",
     "text": [
      "9.3\n"
     ]
    },
    {
     "name": "stderr",
     "output_type": "stream",
     "text": [
      "Training: 100%|██████████| 50/50 [00:00<00:00, 174.29it/s]\n",
      "Evaluating: 100%|██████████| 30/30 [00:00<00:00, 745.66it/s]\n",
      "Training:  34%|███▍      | 17/50 [00:00<00:00, 169.17it/s]"
     ]
    },
    {
     "name": "stdout",
     "output_type": "stream",
     "text": [
      "9.233333333333333\n"
     ]
    },
    {
     "name": "stderr",
     "output_type": "stream",
     "text": [
      "Training: 100%|██████████| 50/50 [00:00<00:00, 173.22it/s]\n",
      "Evaluating: 100%|██████████| 30/30 [00:00<00:00, 751.26it/s]\n",
      "Training:  38%|███▊      | 19/50 [00:00<00:00, 184.74it/s]"
     ]
    },
    {
     "name": "stdout",
     "output_type": "stream",
     "text": [
      "9.266666666666667\n"
     ]
    },
    {
     "name": "stderr",
     "output_type": "stream",
     "text": [
      "Training: 100%|██████████| 50/50 [00:00<00:00, 192.25it/s]\n",
      "Evaluating: 100%|██████████| 30/30 [00:00<00:00, 744.88it/s]\n",
      "Training:  36%|███▌      | 18/50 [00:00<00:00, 177.21it/s]"
     ]
    },
    {
     "name": "stdout",
     "output_type": "stream",
     "text": [
      "9.2\n"
     ]
    },
    {
     "name": "stderr",
     "output_type": "stream",
     "text": [
      "Training: 100%|██████████| 50/50 [00:00<00:00, 174.43it/s]\n",
      "Evaluating: 100%|██████████| 30/30 [00:00<00:00, 712.92it/s]\n",
      "Training:  40%|████      | 20/50 [00:00<00:00, 193.56it/s]"
     ]
    },
    {
     "name": "stdout",
     "output_type": "stream",
     "text": [
      "9.533333333333333\n"
     ]
    },
    {
     "name": "stderr",
     "output_type": "stream",
     "text": [
      "Training: 100%|██████████| 50/50 [00:00<00:00, 190.08it/s]\n",
      "Evaluating: 100%|██████████| 30/30 [00:00<00:00, 731.47it/s]\n",
      "Training:  28%|██▊       | 14/50 [00:00<00:00, 139.55it/s]"
     ]
    },
    {
     "name": "stdout",
     "output_type": "stream",
     "text": [
      "9.4\n"
     ]
    },
    {
     "name": "stderr",
     "output_type": "stream",
     "text": [
      "Training: 100%|██████████| 50/50 [00:00<00:00, 135.62it/s]\n",
      "Evaluating: 100%|██████████| 30/30 [00:00<00:00, 595.27it/s]\n",
      "Training:  28%|██▊       | 14/50 [00:00<00:00, 139.32it/s]"
     ]
    },
    {
     "name": "stdout",
     "output_type": "stream",
     "text": [
      "9.2\n"
     ]
    },
    {
     "name": "stderr",
     "output_type": "stream",
     "text": [
      "Training: 100%|██████████| 50/50 [00:00<00:00, 145.90it/s]\n",
      "Evaluating: 100%|██████████| 30/30 [00:00<00:00, 574.95it/s]\n",
      "Training:  30%|███       | 15/50 [00:00<00:00, 147.18it/s]"
     ]
    },
    {
     "name": "stdout",
     "output_type": "stream",
     "text": [
      "9.566666666666666\n"
     ]
    },
    {
     "name": "stderr",
     "output_type": "stream",
     "text": [
      "Training: 100%|██████████| 50/50 [00:00<00:00, 145.94it/s]\n",
      "Evaluating: 100%|██████████| 30/30 [00:00<00:00, 603.20it/s]\n",
      "Training:  30%|███       | 15/50 [00:00<00:00, 143.71it/s]"
     ]
    },
    {
     "name": "stdout",
     "output_type": "stream",
     "text": [
      "9.466666666666667\n"
     ]
    },
    {
     "name": "stderr",
     "output_type": "stream",
     "text": [
      "Training: 100%|██████████| 50/50 [00:00<00:00, 145.10it/s]\n",
      "Evaluating: 100%|██████████| 30/30 [00:00<00:00, 609.18it/s]\n",
      "Training:  36%|███▌      | 18/50 [00:00<00:00, 172.68it/s]"
     ]
    },
    {
     "name": "stdout",
     "output_type": "stream",
     "text": [
      "9.433333333333334\n"
     ]
    },
    {
     "name": "stderr",
     "output_type": "stream",
     "text": [
      "Training: 100%|██████████| 50/50 [00:00<00:00, 167.11it/s]\n",
      "Evaluating: 100%|██████████| 30/30 [00:00<00:00, 767.84it/s]\n",
      "Training:  34%|███▍      | 17/50 [00:00<00:00, 164.01it/s]"
     ]
    },
    {
     "name": "stdout",
     "output_type": "stream",
     "text": [
      "9.5\n"
     ]
    },
    {
     "name": "stderr",
     "output_type": "stream",
     "text": [
      "Training: 100%|██████████| 50/50 [00:00<00:00, 170.39it/s]\n",
      "Evaluating: 100%|██████████| 30/30 [00:00<00:00, 772.63it/s]\n",
      "Training:  36%|███▌      | 18/50 [00:00<00:00, 173.87it/s]"
     ]
    },
    {
     "name": "stdout",
     "output_type": "stream",
     "text": [
      "9.333333333333334\n"
     ]
    },
    {
     "name": "stderr",
     "output_type": "stream",
     "text": [
      "Training: 100%|██████████| 50/50 [00:00<00:00, 189.22it/s]\n",
      "Evaluating: 100%|██████████| 30/30 [00:00<00:00, 732.39it/s]\n",
      "Training:  38%|███▊      | 19/50 [00:00<00:00, 178.21it/s]"
     ]
    },
    {
     "name": "stdout",
     "output_type": "stream",
     "text": [
      "9.466666666666667\n"
     ]
    },
    {
     "name": "stderr",
     "output_type": "stream",
     "text": [
      "Training: 100%|██████████| 50/50 [00:00<00:00, 191.77it/s]\n",
      "Evaluating: 100%|██████████| 30/30 [00:00<00:00, 769.20it/s]\n",
      "Training:  36%|███▌      | 18/50 [00:00<00:00, 179.48it/s]"
     ]
    },
    {
     "name": "stdout",
     "output_type": "stream",
     "text": [
      "9.333333333333334\n"
     ]
    },
    {
     "name": "stderr",
     "output_type": "stream",
     "text": [
      "Training: 100%|██████████| 50/50 [00:00<00:00, 197.92it/s]\n",
      "Evaluating: 100%|██████████| 30/30 [00:00<00:00, 754.16it/s]\n",
      "Training:  32%|███▏      | 16/50 [00:00<00:00, 155.72it/s]"
     ]
    },
    {
     "name": "stdout",
     "output_type": "stream",
     "text": [
      "9.333333333333334\n"
     ]
    },
    {
     "name": "stderr",
     "output_type": "stream",
     "text": [
      "Training: 100%|██████████| 50/50 [00:00<00:00, 169.82it/s]\n",
      "Evaluating: 100%|██████████| 30/30 [00:00<00:00, 734.71it/s]\n",
      "Training:  36%|███▌      | 18/50 [00:00<00:00, 169.67it/s]"
     ]
    },
    {
     "name": "stdout",
     "output_type": "stream",
     "text": [
      "9.5\n"
     ]
    },
    {
     "name": "stderr",
     "output_type": "stream",
     "text": [
      "Training: 100%|██████████| 50/50 [00:00<00:00, 192.56it/s]\n",
      "Evaluating: 100%|██████████| 30/30 [00:00<00:00, 752.31it/s]\n",
      "Training:  30%|███       | 15/50 [00:00<00:00, 146.35it/s]"
     ]
    },
    {
     "name": "stdout",
     "output_type": "stream",
     "text": [
      "9.133333333333333\n"
     ]
    },
    {
     "name": "stderr",
     "output_type": "stream",
     "text": [
      "Training: 100%|██████████| 50/50 [00:00<00:00, 151.01it/s]\n",
      "Evaluating: 100%|██████████| 30/30 [00:00<00:00, 594.29it/s]\n",
      "Training:  32%|███▏      | 16/50 [00:00<00:00, 159.87it/s]"
     ]
    },
    {
     "name": "stdout",
     "output_type": "stream",
     "text": [
      "9.233333333333333\n"
     ]
    },
    {
     "name": "stderr",
     "output_type": "stream",
     "text": [
      "Training: 100%|██████████| 50/50 [00:00<00:00, 189.80it/s]\n",
      "Evaluating: 100%|██████████| 30/30 [00:00<00:00, 736.08it/s]\n",
      "Training:  42%|████▏     | 21/50 [00:00<00:00, 197.29it/s]"
     ]
    },
    {
     "name": "stdout",
     "output_type": "stream",
     "text": [
      "9.4\n"
     ]
    },
    {
     "name": "stderr",
     "output_type": "stream",
     "text": [
      "Training: 100%|██████████| 50/50 [00:00<00:00, 198.48it/s]\n",
      "Evaluating: 100%|██████████| 30/30 [00:00<00:00, 764.79it/s]\n",
      "Training:  40%|████      | 20/50 [00:00<00:00, 198.64it/s]"
     ]
    },
    {
     "name": "stdout",
     "output_type": "stream",
     "text": [
      "9.166666666666666\n"
     ]
    },
    {
     "name": "stderr",
     "output_type": "stream",
     "text": [
      "Training: 100%|██████████| 50/50 [00:00<00:00, 154.39it/s]\n",
      "Evaluating: 100%|██████████| 30/30 [00:00<00:00, 328.31it/s]\n",
      "Training:  20%|██        | 10/50 [00:00<00:00, 92.99it/s]"
     ]
    },
    {
     "name": "stdout",
     "output_type": "stream",
     "text": [
      "22.133333333333333\n"
     ]
    },
    {
     "name": "stderr",
     "output_type": "stream",
     "text": [
      "Training: 100%|██████████| 50/50 [00:00<00:00, 90.58it/s]\n",
      "Evaluating: 100%|██████████| 30/30 [00:00<00:00, 171.44it/s]\n",
      "Training:   6%|▌         | 3/50 [00:00<00:01, 27.14it/s]"
     ]
    },
    {
     "name": "stdout",
     "output_type": "stream",
     "text": [
      "43.43333333333333\n"
     ]
    },
    {
     "name": "stderr",
     "output_type": "stream",
     "text": [
      "Training: 100%|██████████| 50/50 [00:01<00:00, 38.44it/s]\n",
      "Evaluating: 100%|██████████| 30/30 [00:00<00:00, 73.79it/s]\n",
      "Training:   4%|▍         | 2/50 [00:00<00:02, 16.74it/s]"
     ]
    },
    {
     "name": "stdout",
     "output_type": "stream",
     "text": [
      "102.76666666666667\n"
     ]
    },
    {
     "name": "stderr",
     "output_type": "stream",
     "text": [
      "Training: 100%|██████████| 50/50 [00:00<00:00, 52.59it/s]\n",
      "Evaluating: 100%|██████████| 30/30 [00:00<00:00, 209.43it/s]\n",
      "Training:   2%|▏         | 1/50 [00:00<00:06,  7.73it/s]"
     ]
    },
    {
     "name": "stdout",
     "output_type": "stream",
     "text": [
      "35.0\n"
     ]
    },
    {
     "name": "stderr",
     "output_type": "stream",
     "text": [
      "Training: 100%|██████████| 50/50 [00:00<00:00, 55.55it/s]\n",
      "Evaluating: 100%|██████████| 30/30 [00:00<00:00, 89.62it/s]\n",
      "Training:   4%|▍         | 2/50 [00:00<00:02, 19.03it/s]"
     ]
    },
    {
     "name": "stdout",
     "output_type": "stream",
     "text": [
      "72.36666666666666\n"
     ]
    },
    {
     "name": "stderr",
     "output_type": "stream",
     "text": [
      "Training: 100%|██████████| 50/50 [00:00<00:00, 68.02it/s]\n",
      "Evaluating: 100%|██████████| 30/30 [00:00<00:00, 273.46it/s]\n",
      "Training:   4%|▍         | 2/50 [00:00<00:03, 14.71it/s]"
     ]
    },
    {
     "name": "stdout",
     "output_type": "stream",
     "text": [
      "25.333333333333332\n"
     ]
    },
    {
     "name": "stderr",
     "output_type": "stream",
     "text": [
      "Training: 100%|██████████| 50/50 [00:01<00:00, 39.68it/s]\n",
      "Evaluating: 100%|██████████| 30/30 [00:00<00:00, 106.35it/s]\n",
      "Training:   8%|▊         | 4/50 [00:00<00:01, 36.19it/s]"
     ]
    },
    {
     "name": "stdout",
     "output_type": "stream",
     "text": [
      "67.76666666666667\n"
     ]
    },
    {
     "name": "stderr",
     "output_type": "stream",
     "text": [
      "Training: 100%|██████████| 50/50 [00:01<00:00, 42.04it/s]\n",
      "Evaluating: 100%|██████████| 30/30 [00:00<00:00, 156.81it/s]\n",
      "Training:  10%|█         | 5/50 [00:00<00:00, 48.73it/s]"
     ]
    },
    {
     "name": "stdout",
     "output_type": "stream",
     "text": [
      "45.7\n"
     ]
    },
    {
     "name": "stderr",
     "output_type": "stream",
     "text": [
      "Training: 100%|██████████| 50/50 [00:00<00:00, 66.09it/s]\n",
      "Evaluating: 100%|██████████| 30/30 [00:00<00:00, 127.50it/s]\n",
      "Training:   4%|▍         | 2/50 [00:00<00:02, 19.17it/s]"
     ]
    },
    {
     "name": "stdout",
     "output_type": "stream",
     "text": [
      "51.36666666666667\n"
     ]
    },
    {
     "name": "stderr",
     "output_type": "stream",
     "text": [
      "Training: 100%|██████████| 50/50 [00:00<00:00, 51.68it/s]\n",
      "Evaluating: 100%|██████████| 30/30 [00:00<00:00, 157.40it/s]\n",
      "Training:   8%|▊         | 4/50 [00:00<00:01, 34.11it/s]"
     ]
    },
    {
     "name": "stdout",
     "output_type": "stream",
     "text": [
      "46.8\n"
     ]
    },
    {
     "name": "stderr",
     "output_type": "stream",
     "text": [
      "Training: 100%|██████████| 50/50 [00:01<00:00, 39.62it/s]\n",
      "Evaluating: 100%|██████████| 30/30 [00:00<00:00, 94.93it/s]\n",
      "Training:   4%|▍         | 2/50 [00:00<00:02, 18.33it/s]"
     ]
    },
    {
     "name": "stdout",
     "output_type": "stream",
     "text": [
      "78.4\n"
     ]
    },
    {
     "name": "stderr",
     "output_type": "stream",
     "text": [
      "Training: 100%|██████████| 50/50 [00:01<00:00, 36.18it/s]\n",
      "Evaluating: 100%|██████████| 30/30 [00:00<00:00, 44.69it/s]\n",
      "Training:   2%|▏         | 1/50 [00:00<00:07,  6.67it/s]"
     ]
    },
    {
     "name": "stdout",
     "output_type": "stream",
     "text": [
      "150.6\n"
     ]
    },
    {
     "name": "stderr",
     "output_type": "stream",
     "text": [
      "Training: 100%|██████████| 50/50 [00:01<00:00, 32.51it/s]\n",
      "Evaluating: 100%|██████████| 30/30 [00:00<00:00, 175.57it/s]\n",
      "Training:   6%|▌         | 3/50 [00:00<00:02, 20.94it/s]"
     ]
    },
    {
     "name": "stdout",
     "output_type": "stream",
     "text": [
      "39.6\n"
     ]
    },
    {
     "name": "stderr",
     "output_type": "stream",
     "text": [
      "Training: 100%|██████████| 50/50 [00:01<00:00, 23.90it/s]\n",
      "Evaluating: 100%|██████████| 30/30 [00:00<00:00, 89.93it/s]\n",
      "Training:   2%|▏         | 1/50 [00:00<00:08,  5.81it/s]"
     ]
    },
    {
     "name": "stdout",
     "output_type": "stream",
     "text": [
      "73.5\n"
     ]
    },
    {
     "name": "stderr",
     "output_type": "stream",
     "text": [
      "Training: 100%|██████████| 50/50 [00:01<00:00, 26.21it/s]\n",
      "Evaluating: 100%|██████████| 30/30 [00:00<00:00, 152.83it/s]\n",
      "Training:  12%|█▏        | 6/50 [00:00<00:00, 58.78it/s]"
     ]
    },
    {
     "name": "stdout",
     "output_type": "stream",
     "text": [
      "37.166666666666664\n"
     ]
    },
    {
     "name": "stderr",
     "output_type": "stream",
     "text": [
      "Training: 100%|██████████| 50/50 [00:01<00:00, 24.33it/s]\n",
      "Evaluating: 100%|██████████| 30/30 [00:00<00:00, 282.41it/s]\n",
      "Training:   8%|▊         | 4/50 [00:00<00:01, 33.50it/s]"
     ]
    },
    {
     "name": "stdout",
     "output_type": "stream",
     "text": [
      "21.7\n"
     ]
    },
    {
     "name": "stderr",
     "output_type": "stream",
     "text": [
      "Training: 100%|██████████| 50/50 [00:01<00:00, 19.95it/s]\n",
      "Evaluating: 100%|██████████| 30/30 [00:00<00:00, 40.84it/s]\n",
      "Training:   2%|▏         | 1/50 [00:00<00:05,  9.41it/s]"
     ]
    },
    {
     "name": "stdout",
     "output_type": "stream",
     "text": [
      "162.43333333333334\n"
     ]
    },
    {
     "name": "stderr",
     "output_type": "stream",
     "text": [
      "Training: 100%|██████████| 50/50 [00:02<00:00, 17.52it/s]\n",
      "Evaluating: 100%|██████████| 30/30 [00:00<00:00, 149.46it/s]\n",
      "Training:   4%|▍         | 2/50 [00:00<00:02, 17.11it/s]"
     ]
    },
    {
     "name": "stdout",
     "output_type": "stream",
     "text": [
      "46.733333333333334\n"
     ]
    },
    {
     "name": "stderr",
     "output_type": "stream",
     "text": [
      "Training: 100%|██████████| 50/50 [00:02<00:00, 24.91it/s]\n",
      "Evaluating: 100%|██████████| 30/30 [00:00<00:00, 166.55it/s]\n",
      "Training:   4%|▍         | 2/50 [00:00<00:04, 10.80it/s]"
     ]
    },
    {
     "name": "stdout",
     "output_type": "stream",
     "text": [
      "46.3\n"
     ]
    },
    {
     "name": "stderr",
     "output_type": "stream",
     "text": [
      "Training: 100%|██████████| 50/50 [00:01<00:00, 27.86it/s]\n",
      "Evaluating: 100%|██████████| 30/30 [00:00<00:00, 591.60it/s]\n",
      "Training:  14%|█▍        | 7/50 [00:00<00:00, 51.30it/s]"
     ]
    },
    {
     "name": "stdout",
     "output_type": "stream",
     "text": [
      "9.3\n"
     ]
    },
    {
     "name": "stderr",
     "output_type": "stream",
     "text": [
      "Training: 100%|██████████| 50/50 [00:01<00:00, 48.35it/s]\n",
      "Evaluating: 100%|██████████| 30/30 [00:00<00:00, 726.01it/s]\n",
      "Training:  10%|█         | 5/50 [00:00<00:01, 37.19it/s]"
     ]
    },
    {
     "name": "stdout",
     "output_type": "stream",
     "text": [
      "9.366666666666667\n"
     ]
    },
    {
     "name": "stderr",
     "output_type": "stream",
     "text": [
      "Training: 100%|██████████| 50/50 [00:01<00:00, 36.93it/s]\n",
      "Evaluating: 100%|██████████| 30/30 [00:00<00:00, 683.03it/s]\n",
      "Training:  14%|█▍        | 7/50 [00:00<00:00, 53.55it/s]"
     ]
    },
    {
     "name": "stdout",
     "output_type": "stream",
     "text": [
      "9.3\n"
     ]
    },
    {
     "name": "stderr",
     "output_type": "stream",
     "text": [
      "Training: 100%|██████████| 50/50 [00:01<00:00, 41.47it/s]\n",
      "Evaluating: 100%|██████████| 30/30 [00:00<00:00, 181.13it/s]\n",
      "Training:   4%|▍         | 2/50 [00:00<00:02, 17.48it/s]"
     ]
    },
    {
     "name": "stdout",
     "output_type": "stream",
     "text": [
      "39.2\n"
     ]
    },
    {
     "name": "stderr",
     "output_type": "stream",
     "text": [
      "Training: 100%|██████████| 50/50 [00:01<00:00, 34.83it/s]\n",
      "Evaluating: 100%|██████████| 30/30 [00:00<00:00, 49.11it/s]\n",
      "Training:   4%|▍         | 2/50 [00:00<00:03, 14.78it/s]"
     ]
    },
    {
     "name": "stdout",
     "output_type": "stream",
     "text": [
      "141.1\n"
     ]
    },
    {
     "name": "stderr",
     "output_type": "stream",
     "text": [
      "Training: 100%|██████████| 50/50 [00:04<00:00, 11.50it/s]\n",
      "Evaluating: 100%|██████████| 30/30 [00:00<00:00, 40.24it/s]\n",
      "Training:   0%|          | 0/50 [00:00<?, ?it/s]"
     ]
    },
    {
     "name": "stdout",
     "output_type": "stream",
     "text": [
      "151.93333333333334\n"
     ]
    },
    {
     "name": "stderr",
     "output_type": "stream",
     "text": [
      "Training: 100%|██████████| 50/50 [00:01<00:00, 27.09it/s]\n",
      "Evaluating: 100%|██████████| 30/30 [00:00<00:00, 32.85it/s]\n",
      "Training:   0%|          | 0/50 [00:00<?, ?it/s]"
     ]
    },
    {
     "name": "stdout",
     "output_type": "stream",
     "text": [
      "200.0\n"
     ]
    },
    {
     "name": "stderr",
     "output_type": "stream",
     "text": [
      "Training: 100%|██████████| 50/50 [00:01<00:00, 41.45it/s]\n",
      "Evaluating: 100%|██████████| 30/30 [00:00<00:00, 747.71it/s]\n",
      "Training:  10%|█         | 5/50 [00:00<00:01, 34.10it/s]"
     ]
    },
    {
     "name": "stdout",
     "output_type": "stream",
     "text": [
      "9.266666666666667\n"
     ]
    },
    {
     "name": "stderr",
     "output_type": "stream",
     "text": [
      "Training: 100%|██████████| 50/50 [00:00<00:00, 100.28it/s]\n",
      "Evaluating: 100%|██████████| 30/30 [00:00<00:00, 738.35it/s]\n",
      "Training:  28%|██▊       | 14/50 [00:00<00:00, 134.70it/s]"
     ]
    },
    {
     "name": "stdout",
     "output_type": "stream",
     "text": [
      "9.433333333333334\n"
     ]
    },
    {
     "name": "stderr",
     "output_type": "stream",
     "text": [
      "Training: 100%|██████████| 50/50 [00:01<00:00, 48.78it/s] \n",
      "Evaluating: 100%|██████████| 30/30 [00:00<00:00, 615.14it/s]\n",
      "Training:   6%|▌         | 3/50 [00:00<00:01, 26.84it/s]"
     ]
    },
    {
     "name": "stdout",
     "output_type": "stream",
     "text": [
      "11.366666666666667\n"
     ]
    },
    {
     "name": "stderr",
     "output_type": "stream",
     "text": [
      "Training: 100%|██████████| 50/50 [00:02<00:00, 19.36it/s]\n",
      "Evaluating: 100%|██████████| 30/30 [00:00<00:00, 49.95it/s]\n",
      "Training:   2%|▏         | 1/50 [00:00<00:06,  7.11it/s]"
     ]
    },
    {
     "name": "stdout",
     "output_type": "stream",
     "text": [
      "141.9\n"
     ]
    },
    {
     "name": "stderr",
     "output_type": "stream",
     "text": [
      "Training: 100%|██████████| 50/50 [00:03<00:00, 12.40it/s]\n",
      "Evaluating: 100%|██████████| 30/30 [00:00<00:00, 43.44it/s]\n",
      "Training:   0%|          | 0/50 [00:00<?, ?it/s]"
     ]
    },
    {
     "name": "stdout",
     "output_type": "stream",
     "text": [
      "155.5\n"
     ]
    },
    {
     "name": "stderr",
     "output_type": "stream",
     "text": [
      "Training: 100%|██████████| 50/50 [00:02<00:00, 20.49it/s]\n",
      "Evaluating: 100%|██████████| 30/30 [00:00<00:00, 439.35it/s]\n",
      "Training:   8%|▊         | 4/50 [00:00<00:01, 37.54it/s]"
     ]
    },
    {
     "name": "stdout",
     "output_type": "stream",
     "text": [
      "12.733333333333333\n"
     ]
    },
    {
     "name": "stderr",
     "output_type": "stream",
     "text": [
      "Training: 100%|██████████| 50/50 [00:02<00:00, 12.90it/s]\n",
      "Evaluating: 100%|██████████| 30/30 [00:00<00:00, 33.26it/s]\n",
      "Training:   0%|          | 0/50 [00:00<?, ?it/s]"
     ]
    },
    {
     "name": "stdout",
     "output_type": "stream",
     "text": [
      "200.0\n"
     ]
    },
    {
     "name": "stderr",
     "output_type": "stream",
     "text": [
      "Training: 100%|██████████| 50/50 [00:04<00:00, 10.96it/s]\n",
      "Evaluating: 100%|██████████| 30/30 [00:00<00:00, 82.59it/s]\n",
      "Training:   2%|▏         | 1/50 [00:00<00:06,  7.19it/s]"
     ]
    },
    {
     "name": "stdout",
     "output_type": "stream",
     "text": [
      "83.23333333333333\n"
     ]
    },
    {
     "name": "stderr",
     "output_type": "stream",
     "text": [
      "Training: 100%|██████████| 50/50 [00:04<00:00, 11.33it/s]\n",
      "Evaluating: 100%|██████████| 30/30 [00:00<00:00, 33.66it/s]\n",
      "Training:   2%|▏         | 1/50 [00:00<00:05,  9.43it/s]"
     ]
    },
    {
     "name": "stdout",
     "output_type": "stream",
     "text": [
      "200.0\n"
     ]
    },
    {
     "name": "stderr",
     "output_type": "stream",
     "text": [
      "Training: 100%|██████████| 50/50 [00:04<00:00, 11.37it/s]\n",
      "Evaluating: 100%|██████████| 30/30 [00:00<00:00, 33.69it/s]\n",
      "Training:   0%|          | 0/50 [00:00<?, ?it/s]"
     ]
    },
    {
     "name": "stdout",
     "output_type": "stream",
     "text": [
      "200.0\n"
     ]
    },
    {
     "name": "stderr",
     "output_type": "stream",
     "text": [
      "Training: 100%|██████████| 50/50 [00:05<00:00,  8.60it/s]\n",
      "Evaluating: 100%|██████████| 30/30 [00:00<00:00, 32.53it/s]\n",
      "Training:   2%|▏         | 1/50 [00:00<00:07,  6.84it/s]"
     ]
    },
    {
     "name": "stdout",
     "output_type": "stream",
     "text": [
      "200.0\n"
     ]
    },
    {
     "name": "stderr",
     "output_type": "stream",
     "text": [
      "Training: 100%|██████████| 50/50 [00:04<00:00, 11.60it/s]\n",
      "Evaluating: 100%|██████████| 30/30 [00:00<00:00, 32.89it/s]\n",
      "Training:   2%|▏         | 1/50 [00:00<00:08,  5.93it/s]"
     ]
    },
    {
     "name": "stdout",
     "output_type": "stream",
     "text": [
      "200.0\n"
     ]
    },
    {
     "name": "stderr",
     "output_type": "stream",
     "text": [
      "Training: 100%|██████████| 50/50 [00:03<00:00, 15.22it/s]\n",
      "Evaluating: 100%|██████████| 30/30 [00:00<00:00, 61.55it/s]\n",
      "Training:   0%|          | 0/50 [00:00<?, ?it/s]"
     ]
    },
    {
     "name": "stdout",
     "output_type": "stream",
     "text": [
      "112.96666666666667\n"
     ]
    },
    {
     "name": "stderr",
     "output_type": "stream",
     "text": [
      "Training: 100%|██████████| 50/50 [00:02<00:00, 12.06it/s]\n",
      "Evaluating: 100%|██████████| 30/30 [00:00<00:00, 33.93it/s]\n",
      "Training:   0%|          | 0/50 [00:00<?, ?it/s]"
     ]
    },
    {
     "name": "stdout",
     "output_type": "stream",
     "text": [
      "200.0\n"
     ]
    },
    {
     "name": "stderr",
     "output_type": "stream",
     "text": [
      "Training: 100%|██████████| 50/50 [00:06<00:00,  8.56it/s]\n",
      "Evaluating: 100%|██████████| 30/30 [00:00<00:00, 32.31it/s]\n",
      "Training:   2%|▏         | 1/50 [00:00<00:08,  5.52it/s]"
     ]
    },
    {
     "name": "stdout",
     "output_type": "stream",
     "text": [
      "200.0\n"
     ]
    },
    {
     "name": "stderr",
     "output_type": "stream",
     "text": [
      "Training: 100%|██████████| 50/50 [00:05<00:00,  9.19it/s]\n",
      "Evaluating: 100%|██████████| 30/30 [00:01<00:00, 26.52it/s]\n",
      "Training:   0%|          | 0/50 [00:00<?, ?it/s]"
     ]
    },
    {
     "name": "stdout",
     "output_type": "stream",
     "text": [
      "200.0\n"
     ]
    },
    {
     "name": "stderr",
     "output_type": "stream",
     "text": [
      "Training: 100%|██████████| 50/50 [00:04<00:00, 10.79it/s]\n",
      "Evaluating: 100%|██████████| 30/30 [00:00<00:00, 33.66it/s]\n",
      "Training:   0%|          | 0/50 [00:00<?, ?it/s]"
     ]
    },
    {
     "name": "stdout",
     "output_type": "stream",
     "text": [
      "200.0\n"
     ]
    },
    {
     "name": "stderr",
     "output_type": "stream",
     "text": [
      "Training: 100%|██████████| 50/50 [00:04<00:00, 10.80it/s]\n",
      "Evaluating: 100%|██████████| 30/30 [00:00<00:00, 33.69it/s]\n",
      "Training:   0%|          | 0/50 [00:00<?, ?it/s]"
     ]
    },
    {
     "name": "stdout",
     "output_type": "stream",
     "text": [
      "200.0\n"
     ]
    },
    {
     "name": "stderr",
     "output_type": "stream",
     "text": [
      "Training: 100%|██████████| 50/50 [00:04<00:00, 11.02it/s]\n",
      "Evaluating: 100%|██████████| 30/30 [00:00<00:00, 33.58it/s]\n",
      "Training:   0%|          | 0/50 [00:00<?, ?it/s]"
     ]
    },
    {
     "name": "stdout",
     "output_type": "stream",
     "text": [
      "200.0\n"
     ]
    },
    {
     "name": "stderr",
     "output_type": "stream",
     "text": [
      "Training: 100%|██████████| 50/50 [00:04<00:00, 10.84it/s]\n",
      "Evaluating: 100%|██████████| 30/30 [00:00<00:00, 33.45it/s]\n",
      "Training:   0%|          | 0/50 [00:00<?, ?it/s]"
     ]
    },
    {
     "name": "stdout",
     "output_type": "stream",
     "text": [
      "200.0\n"
     ]
    },
    {
     "name": "stderr",
     "output_type": "stream",
     "text": [
      "Training: 100%|██████████| 50/50 [00:04<00:00, 10.74it/s]\n",
      "Evaluating: 100%|██████████| 30/30 [00:00<00:00, 33.50it/s]\n",
      "Training:   2%|▏         | 1/50 [00:00<00:06,  7.19it/s]"
     ]
    },
    {
     "name": "stdout",
     "output_type": "stream",
     "text": [
      "200.0\n"
     ]
    },
    {
     "name": "stderr",
     "output_type": "stream",
     "text": [
      "Training: 100%|██████████| 50/50 [00:04<00:00, 11.16it/s]\n",
      "Evaluating: 100%|██████████| 30/30 [00:00<00:00, 33.87it/s]\n",
      "Training:   0%|          | 0/50 [00:00<?, ?it/s]"
     ]
    },
    {
     "name": "stdout",
     "output_type": "stream",
     "text": [
      "200.0\n"
     ]
    },
    {
     "name": "stderr",
     "output_type": "stream",
     "text": [
      "Training: 100%|██████████| 50/50 [00:04<00:00, 10.90it/s]\n",
      "Evaluating: 100%|██████████| 30/30 [00:00<00:00, 33.56it/s]\n",
      "Training:   0%|          | 0/50 [00:00<?, ?it/s]"
     ]
    },
    {
     "name": "stdout",
     "output_type": "stream",
     "text": [
      "200.0\n"
     ]
    },
    {
     "name": "stderr",
     "output_type": "stream",
     "text": [
      "Training: 100%|██████████| 50/50 [00:04<00:00, 10.89it/s]\n",
      "Evaluating: 100%|██████████| 30/30 [00:00<00:00, 36.24it/s]\n",
      "Training:   0%|          | 0/50 [00:00<?, ?it/s]"
     ]
    },
    {
     "name": "stdout",
     "output_type": "stream",
     "text": [
      "200.0\n"
     ]
    },
    {
     "name": "stderr",
     "output_type": "stream",
     "text": [
      "Training: 100%|██████████| 50/50 [00:04<00:00, 10.99it/s]\n",
      "Evaluating: 100%|██████████| 30/30 [00:00<00:00, 34.90it/s]\n",
      "Training:   2%|▏         | 1/50 [00:00<00:06,  7.99it/s]"
     ]
    },
    {
     "name": "stdout",
     "output_type": "stream",
     "text": [
      "200.0\n"
     ]
    },
    {
     "name": "stderr",
     "output_type": "stream",
     "text": [
      "Training: 100%|██████████| 50/50 [00:04<00:00, 11.15it/s]\n",
      "Evaluating: 100%|██████████| 30/30 [00:00<00:00, 33.16it/s]\n",
      "Training:   2%|▏         | 1/50 [00:00<00:08,  5.78it/s]"
     ]
    },
    {
     "name": "stdout",
     "output_type": "stream",
     "text": [
      "200.0\n"
     ]
    },
    {
     "name": "stderr",
     "output_type": "stream",
     "text": [
      "Training: 100%|██████████| 50/50 [00:04<00:00, 11.02it/s]\n",
      "Evaluating: 100%|██████████| 30/30 [00:01<00:00, 26.11it/s]\n",
      "Training:   0%|          | 0/50 [00:00<?, ?it/s]"
     ]
    },
    {
     "name": "stdout",
     "output_type": "stream",
     "text": [
      "200.0\n"
     ]
    },
    {
     "name": "stderr",
     "output_type": "stream",
     "text": [
      "Training: 100%|██████████| 50/50 [00:04<00:00, 12.34it/s]\n",
      "Evaluating: 100%|██████████| 30/30 [00:00<00:00, 35.63it/s]\n",
      "Training:   2%|▏         | 1/50 [00:00<00:07,  6.73it/s]"
     ]
    },
    {
     "name": "stdout",
     "output_type": "stream",
     "text": [
      "200.0\n"
     ]
    },
    {
     "name": "stderr",
     "output_type": "stream",
     "text": [
      "Training: 100%|██████████| 50/50 [00:04<00:00, 11.13it/s]\n",
      "Evaluating: 100%|██████████| 30/30 [00:00<00:00, 34.31it/s]\n",
      "Training:   2%|▏         | 1/50 [00:00<00:05,  8.29it/s]"
     ]
    },
    {
     "name": "stdout",
     "output_type": "stream",
     "text": [
      "200.0\n"
     ]
    },
    {
     "name": "stderr",
     "output_type": "stream",
     "text": [
      "Training: 100%|██████████| 50/50 [00:02<00:00, 17.04it/s]\n",
      "Evaluating: 100%|██████████| 30/30 [00:00<00:00, 137.27it/s]\n",
      "Training:   0%|          | 0/50 [00:00<?, ?it/s]"
     ]
    },
    {
     "name": "stdout",
     "output_type": "stream",
     "text": [
      "51.733333333333334\n"
     ]
    },
    {
     "name": "stderr",
     "output_type": "stream",
     "text": [
      "Training: 100%|██████████| 50/50 [00:00<00:00, 74.77it/s]\n",
      "Evaluating: 100%|██████████| 30/30 [00:00<00:00, 651.66it/s]\n",
      "Training:  40%|████      | 20/50 [00:00<00:00, 192.30it/s]"
     ]
    },
    {
     "name": "stdout",
     "output_type": "stream",
     "text": [
      "9.9\n"
     ]
    },
    {
     "name": "stderr",
     "output_type": "stream",
     "text": [
      "Training: 100%|██████████| 50/50 [00:00<00:00, 147.80it/s]\n",
      "Evaluating: 100%|██████████| 30/30 [00:00<00:00, 356.63it/s]\n",
      "Training:  14%|█▍        | 7/50 [00:00<00:00, 63.81it/s]"
     ]
    },
    {
     "name": "stdout",
     "output_type": "stream",
     "text": [
      "18.4\n"
     ]
    },
    {
     "name": "stderr",
     "output_type": "stream",
     "text": [
      "Training: 100%|██████████| 50/50 [00:01<00:00, 47.21it/s]\n",
      "Evaluating: 100%|██████████| 30/30 [00:00<00:00, 130.14it/s]\n",
      "Training:   8%|▊         | 4/50 [00:00<00:01, 31.91it/s]"
     ]
    },
    {
     "name": "stdout",
     "output_type": "stream",
     "text": [
      "50.63333333333333\n"
     ]
    },
    {
     "name": "stderr",
     "output_type": "stream",
     "text": [
      "Training: 100%|██████████| 50/50 [00:00<00:00, 57.44it/s]\n",
      "Evaluating: 100%|██████████| 30/30 [00:00<00:00, 200.33it/s]\n",
      "Training:   4%|▍         | 2/50 [00:00<00:02, 18.47it/s]"
     ]
    },
    {
     "name": "stdout",
     "output_type": "stream",
     "text": [
      "34.56666666666667\n"
     ]
    },
    {
     "name": "stderr",
     "output_type": "stream",
     "text": [
      "Training: 100%|██████████| 50/50 [00:00<00:00, 52.56it/s]\n",
      "Evaluating: 100%|██████████| 30/30 [00:00<00:00, 227.94it/s]\n",
      "Training:   4%|▍         | 2/50 [00:00<00:02, 17.09it/s]"
     ]
    },
    {
     "name": "stdout",
     "output_type": "stream",
     "text": [
      "30.966666666666665\n"
     ]
    },
    {
     "name": "stderr",
     "output_type": "stream",
     "text": [
      "Training: 100%|██████████| 50/50 [00:00<00:00, 72.72it/s]\n",
      "Evaluating: 100%|██████████| 30/30 [00:00<00:00, 283.21it/s]\n",
      "Training:  18%|█▊        | 9/50 [00:00<00:00, 87.41it/s]"
     ]
    },
    {
     "name": "stdout",
     "output_type": "stream",
     "text": [
      "21.766666666666666\n"
     ]
    },
    {
     "name": "stderr",
     "output_type": "stream",
     "text": [
      "Training: 100%|██████████| 50/50 [00:00<00:00, 50.45it/s]\n",
      "Evaluating: 100%|██████████| 30/30 [00:00<00:00, 75.41it/s]\n",
      "Training:   6%|▌         | 3/50 [00:00<00:02, 19.85it/s]"
     ]
    },
    {
     "name": "stdout",
     "output_type": "stream",
     "text": [
      "87.66666666666667\n"
     ]
    },
    {
     "name": "stderr",
     "output_type": "stream",
     "text": [
      "Training: 100%|██████████| 50/50 [00:02<00:00, 18.62it/s]\n",
      "Evaluating: 100%|██████████| 30/30 [00:00<00:00, 32.49it/s]\n",
      "Training:   2%|▏         | 1/50 [00:00<00:06,  7.44it/s]"
     ]
    },
    {
     "name": "stdout",
     "output_type": "stream",
     "text": [
      "200.0\n"
     ]
    },
    {
     "name": "stderr",
     "output_type": "stream",
     "text": [
      "Training: 100%|██████████| 50/50 [00:04<00:00, 11.31it/s]\n",
      "Evaluating: 100%|██████████| 30/30 [00:01<00:00, 25.92it/s]\n",
      "Training:   2%|▏         | 1/50 [00:00<00:07,  6.13it/s]"
     ]
    },
    {
     "name": "stdout",
     "output_type": "stream",
     "text": [
      "200.0\n"
     ]
    },
    {
     "name": "stderr",
     "output_type": "stream",
     "text": [
      "Training: 100%|██████████| 50/50 [00:04<00:00, 11.49it/s]\n",
      "Evaluating: 100%|██████████| 30/30 [00:00<00:00, 33.72it/s]\n",
      "Training:   0%|          | 0/50 [00:00<?, ?it/s]"
     ]
    },
    {
     "name": "stdout",
     "output_type": "stream",
     "text": [
      "200.0\n"
     ]
    },
    {
     "name": "stderr",
     "output_type": "stream",
     "text": [
      "Training: 100%|██████████| 50/50 [00:04<00:00, 11.18it/s]\n",
      "Evaluating: 100%|██████████| 30/30 [00:00<00:00, 33.95it/s]\n",
      "Training:   2%|▏         | 1/50 [00:00<00:05,  8.21it/s]"
     ]
    },
    {
     "name": "stdout",
     "output_type": "stream",
     "text": [
      "200.0\n"
     ]
    },
    {
     "name": "stderr",
     "output_type": "stream",
     "text": [
      "Training: 100%|██████████| 50/50 [00:04<00:00, 11.44it/s]\n",
      "Evaluating: 100%|██████████| 30/30 [00:00<00:00, 32.95it/s]\n",
      "Training:   0%|          | 0/50 [00:00<?, ?it/s]"
     ]
    },
    {
     "name": "stdout",
     "output_type": "stream",
     "text": [
      "200.0\n"
     ]
    },
    {
     "name": "stderr",
     "output_type": "stream",
     "text": [
      "Training: 100%|██████████| 50/50 [00:04<00:00, 11.15it/s]\n",
      "Evaluating: 100%|██████████| 30/30 [00:01<00:00, 25.85it/s]\n",
      "Training:   4%|▍         | 2/50 [00:00<00:04, 10.75it/s]"
     ]
    },
    {
     "name": "stdout",
     "output_type": "stream",
     "text": [
      "200.0\n"
     ]
    },
    {
     "name": "stderr",
     "output_type": "stream",
     "text": [
      "Training: 100%|██████████| 50/50 [00:04<00:00, 11.55it/s]\n",
      "Evaluating: 100%|██████████| 30/30 [00:00<00:00, 33.22it/s]\n",
      "Training:   0%|          | 0/50 [00:00<?, ?it/s]"
     ]
    },
    {
     "name": "stdout",
     "output_type": "stream",
     "text": [
      "200.0\n"
     ]
    },
    {
     "name": "stderr",
     "output_type": "stream",
     "text": [
      "Training: 100%|██████████| 50/50 [00:03<00:00, 11.46it/s]\n",
      "Evaluating: 100%|██████████| 30/30 [00:00<00:00, 33.99it/s]\n",
      "Training:   2%|▏         | 1/50 [00:00<00:07,  6.64it/s]"
     ]
    },
    {
     "name": "stdout",
     "output_type": "stream",
     "text": [
      "200.0\n"
     ]
    },
    {
     "name": "stderr",
     "output_type": "stream",
     "text": [
      "Training: 100%|██████████| 50/50 [00:04<00:00, 11.13it/s]\n",
      "Evaluating: 100%|██████████| 30/30 [00:00<00:00, 32.66it/s]\n",
      "Training:   2%|▏         | 1/50 [00:00<00:07,  6.27it/s]"
     ]
    },
    {
     "name": "stdout",
     "output_type": "stream",
     "text": [
      "200.0\n"
     ]
    },
    {
     "name": "stderr",
     "output_type": "stream",
     "text": [
      "Training: 100%|██████████| 50/50 [00:04<00:00, 11.17it/s]\n",
      "Evaluating: 100%|██████████| 30/30 [00:00<00:00, 34.13it/s]\n",
      "Training:   0%|          | 0/50 [00:00<?, ?it/s]"
     ]
    },
    {
     "name": "stdout",
     "output_type": "stream",
     "text": [
      "200.0\n"
     ]
    },
    {
     "name": "stderr",
     "output_type": "stream",
     "text": [
      "Training: 100%|██████████| 50/50 [00:06<00:00,  8.42it/s]\n",
      "Evaluating: 100%|██████████| 30/30 [00:00<00:00, 32.25it/s]\n",
      "Training:   0%|          | 0/50 [00:00<?, ?it/s]"
     ]
    },
    {
     "name": "stdout",
     "output_type": "stream",
     "text": [
      "200.0\n"
     ]
    },
    {
     "name": "stderr",
     "output_type": "stream",
     "text": [
      "Training: 100%|██████████| 50/50 [00:04<00:00, 10.71it/s]\n",
      "Evaluating: 100%|██████████| 30/30 [00:00<00:00, 33.39it/s]\n",
      "Training:   2%|▏         | 1/50 [00:00<00:06,  7.52it/s]"
     ]
    },
    {
     "name": "stdout",
     "output_type": "stream",
     "text": [
      "200.0\n"
     ]
    },
    {
     "name": "stderr",
     "output_type": "stream",
     "text": [
      "Training: 100%|██████████| 50/50 [00:04<00:00, 10.90it/s]\n",
      "Evaluating: 100%|██████████| 30/30 [00:00<00:00, 33.84it/s]\n",
      "Training:   0%|          | 0/50 [00:00<?, ?it/s]"
     ]
    },
    {
     "name": "stdout",
     "output_type": "stream",
     "text": [
      "200.0\n"
     ]
    },
    {
     "name": "stderr",
     "output_type": "stream",
     "text": [
      "Training: 100%|██████████| 50/50 [00:05<00:00,  8.50it/s]\n",
      "Evaluating: 100%|██████████| 30/30 [00:00<00:00, 33.60it/s]\n",
      "Training:   0%|          | 0/50 [00:00<?, ?it/s]"
     ]
    },
    {
     "name": "stdout",
     "output_type": "stream",
     "text": [
      "200.0\n"
     ]
    },
    {
     "name": "stderr",
     "output_type": "stream",
     "text": [
      "Training: 100%|██████████| 50/50 [00:04<00:00, 10.78it/s]\n",
      "Evaluating: 100%|██████████| 30/30 [00:00<00:00, 33.97it/s]\n",
      "Training:   0%|          | 0/50 [00:00<?, ?it/s]"
     ]
    },
    {
     "name": "stdout",
     "output_type": "stream",
     "text": [
      "200.0\n"
     ]
    },
    {
     "name": "stderr",
     "output_type": "stream",
     "text": [
      "Training: 100%|██████████| 50/50 [00:04<00:00, 10.90it/s]\n",
      "Evaluating: 100%|██████████| 30/30 [00:00<00:00, 32.78it/s]\n",
      "Training:   0%|          | 0/50 [00:00<?, ?it/s]"
     ]
    },
    {
     "name": "stdout",
     "output_type": "stream",
     "text": [
      "200.0\n"
     ]
    },
    {
     "name": "stderr",
     "output_type": "stream",
     "text": [
      "Training: 100%|██████████| 50/50 [00:04<00:00, 10.85it/s]\n",
      "Evaluating: 100%|██████████| 30/30 [00:00<00:00, 33.67it/s]\n",
      "Training:   2%|▏         | 1/50 [00:00<00:05,  9.49it/s]"
     ]
    },
    {
     "name": "stdout",
     "output_type": "stream",
     "text": [
      "200.0\n"
     ]
    },
    {
     "name": "stderr",
     "output_type": "stream",
     "text": [
      "Training: 100%|██████████| 50/50 [00:03<00:00, 16.60it/s]\n",
      "Evaluating: 100%|██████████| 30/30 [00:01<00:00, 29.42it/s]\n",
      "Training:   2%|▏         | 1/50 [00:00<00:07,  6.85it/s]"
     ]
    },
    {
     "name": "stdout",
     "output_type": "stream",
     "text": [
      "200.0\n"
     ]
    },
    {
     "name": "stderr",
     "output_type": "stream",
     "text": [
      "Training: 100%|██████████| 50/50 [00:02<00:00, 17.30it/s]\n",
      "Evaluating: 100%|██████████| 30/30 [00:00<00:00, 252.06it/s]\n",
      "Training:   6%|▌         | 3/50 [00:00<00:01, 28.95it/s]"
     ]
    },
    {
     "name": "stdout",
     "output_type": "stream",
     "text": [
      "28.366666666666667\n"
     ]
    },
    {
     "name": "stderr",
     "output_type": "stream",
     "text": [
      "Training: 100%|██████████| 50/50 [00:00<00:00, 33.35it/s]\n",
      "Evaluating: 100%|██████████| 30/30 [00:00<00:00, 33.90it/s]\n",
      "Training:   2%|▏         | 1/50 [00:00<00:05,  9.66it/s]"
     ]
    },
    {
     "name": "stdout",
     "output_type": "stream",
     "text": [
      "200.0\n"
     ]
    },
    {
     "name": "stderr",
     "output_type": "stream",
     "text": [
      "Training: 100%|██████████| 50/50 [00:04<00:00, 11.31it/s]\n",
      "Evaluating: 100%|██████████| 30/30 [00:00<00:00, 33.13it/s]\n",
      "Training:   0%|          | 0/50 [00:00<?, ?it/s]"
     ]
    },
    {
     "name": "stdout",
     "output_type": "stream",
     "text": [
      "200.0\n"
     ]
    },
    {
     "name": "stderr",
     "output_type": "stream",
     "text": [
      "Training: 100%|██████████| 50/50 [00:05<00:00,  9.33it/s]\n",
      "Evaluating: 100%|██████████| 30/30 [00:00<00:00, 33.42it/s]\n",
      "Training:   2%|▏         | 1/50 [00:00<00:06,  8.07it/s]"
     ]
    },
    {
     "name": "stdout",
     "output_type": "stream",
     "text": [
      "200.0\n"
     ]
    },
    {
     "name": "stderr",
     "output_type": "stream",
     "text": [
      "Training: 100%|██████████| 50/50 [00:03<00:00, 12.83it/s]\n",
      "Evaluating: 100%|██████████| 30/30 [00:00<00:00, 33.40it/s]\n",
      "Training:   0%|          | 0/50 [00:00<?, ?it/s]"
     ]
    },
    {
     "name": "stdout",
     "output_type": "stream",
     "text": [
      "200.0\n"
     ]
    },
    {
     "name": "stderr",
     "output_type": "stream",
     "text": [
      "Training: 100%|██████████| 50/50 [00:03<00:00, 12.54it/s]\n",
      "Evaluating: 100%|██████████| 30/30 [00:00<00:00, 33.94it/s]\n",
      "Training:   2%|▏         | 1/50 [00:00<00:06,  7.23it/s]"
     ]
    },
    {
     "name": "stdout",
     "output_type": "stream",
     "text": [
      "200.0\n"
     ]
    },
    {
     "name": "stderr",
     "output_type": "stream",
     "text": [
      "Training: 100%|██████████| 50/50 [00:04<00:00, 12.57it/s]\n",
      "Evaluating: 100%|██████████| 30/30 [00:00<00:00, 33.94it/s]\n",
      "Training:   0%|          | 0/50 [00:00<?, ?it/s]"
     ]
    },
    {
     "name": "stdout",
     "output_type": "stream",
     "text": [
      "200.0\n"
     ]
    },
    {
     "name": "stderr",
     "output_type": "stream",
     "text": [
      "Training: 100%|██████████| 50/50 [00:04<00:00, 11.53it/s]\n",
      "Evaluating: 100%|██████████| 30/30 [00:00<00:00, 32.92it/s]\n",
      "Training:   2%|▏         | 1/50 [00:00<00:07,  6.63it/s]"
     ]
    },
    {
     "name": "stdout",
     "output_type": "stream",
     "text": [
      "200.0\n"
     ]
    },
    {
     "name": "stderr",
     "output_type": "stream",
     "text": [
      "Training: 100%|██████████| 50/50 [00:04<00:00, 11.08it/s]\n",
      "Evaluating: 100%|██████████| 30/30 [00:00<00:00, 33.43it/s]\n",
      "Training:   2%|▏         | 1/50 [00:00<00:07,  6.71it/s]"
     ]
    },
    {
     "name": "stdout",
     "output_type": "stream",
     "text": [
      "200.0\n"
     ]
    },
    {
     "name": "stderr",
     "output_type": "stream",
     "text": [
      "Training: 100%|██████████| 50/50 [00:05<00:00,  8.45it/s]\n",
      "Evaluating: 100%|██████████| 30/30 [00:00<00:00, 31.92it/s]\n",
      "Training:   2%|▏         | 1/50 [00:00<00:07,  6.79it/s]"
     ]
    },
    {
     "name": "stdout",
     "output_type": "stream",
     "text": [
      "200.0\n"
     ]
    },
    {
     "name": "stderr",
     "output_type": "stream",
     "text": [
      "Training: 100%|██████████| 50/50 [00:04<00:00, 11.09it/s]\n",
      "Evaluating: 100%|██████████| 30/30 [00:00<00:00, 33.19it/s]\n",
      "Training:   0%|          | 0/50 [00:00<?, ?it/s]"
     ]
    },
    {
     "name": "stdout",
     "output_type": "stream",
     "text": [
      "200.0\n"
     ]
    },
    {
     "name": "stderr",
     "output_type": "stream",
     "text": [
      "Training: 100%|██████████| 50/50 [00:02<00:00, 17.45it/s]\n",
      "Evaluating: 100%|██████████| 30/30 [00:00<00:00, 33.23it/s]\n",
      "Training:   2%|▏         | 1/50 [00:00<00:08,  5.68it/s]"
     ]
    },
    {
     "name": "stdout",
     "output_type": "stream",
     "text": [
      "200.0\n"
     ]
    },
    {
     "name": "stderr",
     "output_type": "stream",
     "text": [
      "Training: 100%|██████████| 50/50 [00:04<00:00, 10.94it/s]\n",
      "Evaluating: 100%|██████████| 30/30 [00:00<00:00, 33.59it/s]\n",
      "Training:   0%|          | 0/50 [00:00<?, ?it/s]"
     ]
    },
    {
     "name": "stdout",
     "output_type": "stream",
     "text": [
      "200.0\n"
     ]
    },
    {
     "name": "stderr",
     "output_type": "stream",
     "text": [
      "Training: 100%|██████████| 50/50 [00:04<00:00, 11.22it/s]\n",
      "Evaluating: 100%|██████████| 30/30 [00:00<00:00, 34.55it/s]\n",
      "Training:   0%|          | 0/50 [00:00<?, ?it/s]"
     ]
    },
    {
     "name": "stdout",
     "output_type": "stream",
     "text": [
      "200.0\n"
     ]
    },
    {
     "name": "stderr",
     "output_type": "stream",
     "text": [
      "Training: 100%|██████████| 50/50 [00:04<00:00, 11.24it/s]\n",
      "Evaluating: 100%|██████████| 30/30 [00:00<00:00, 33.96it/s]\n",
      "Training:   2%|▏         | 1/50 [00:00<00:07,  6.74it/s]"
     ]
    },
    {
     "name": "stdout",
     "output_type": "stream",
     "text": [
      "200.0\n"
     ]
    },
    {
     "name": "stderr",
     "output_type": "stream",
     "text": [
      "Training: 100%|██████████| 50/50 [00:04<00:00, 11.11it/s]\n",
      "Evaluating: 100%|██████████| 30/30 [00:00<00:00, 33.48it/s]\n",
      "Training:   0%|          | 0/50 [00:00<?, ?it/s]"
     ]
    },
    {
     "name": "stdout",
     "output_type": "stream",
     "text": [
      "200.0\n"
     ]
    },
    {
     "name": "stderr",
     "output_type": "stream",
     "text": [
      "Training: 100%|██████████| 50/50 [00:04<00:00, 11.89it/s]\n",
      "Evaluating: 100%|██████████| 30/30 [00:00<00:00, 59.46it/s]\n",
      "Training:   2%|▏         | 1/50 [00:00<00:08,  5.59it/s]"
     ]
    },
    {
     "name": "stdout",
     "output_type": "stream",
     "text": [
      "91.66666666666667\n"
     ]
    },
    {
     "name": "stderr",
     "output_type": "stream",
     "text": [
      "Training: 100%|██████████| 50/50 [00:04<00:00,  8.52it/s]\n",
      "Evaluating: 100%|██████████| 30/30 [00:01<00:00, 25.79it/s]\n",
      "Training:   2%|▏         | 1/50 [00:00<00:05,  9.70it/s]"
     ]
    },
    {
     "name": "stdout",
     "output_type": "stream",
     "text": [
      "200.0\n"
     ]
    },
    {
     "name": "stderr",
     "output_type": "stream",
     "text": [
      "Training: 100%|██████████| 50/50 [00:03<00:00, 13.87it/s]\n",
      "Evaluating: 100%|██████████| 30/30 [00:00<00:00, 50.02it/s]\n",
      "Training:   0%|          | 0/50 [00:00<?, ?it/s]"
     ]
    },
    {
     "name": "stdout",
     "output_type": "stream",
     "text": [
      "132.03333333333333\n"
     ]
    },
    {
     "name": "stderr",
     "output_type": "stream",
     "text": [
      "Training: 100%|██████████| 50/50 [00:03<00:00, 16.39it/s]\n",
      "Evaluating: 100%|██████████| 30/30 [00:00<00:00, 45.44it/s]\n",
      "Training:   2%|▏         | 1/50 [00:00<00:05,  9.19it/s]"
     ]
    },
    {
     "name": "stdout",
     "output_type": "stream",
     "text": [
      "114.13333333333334\n"
     ]
    },
    {
     "name": "stderr",
     "output_type": "stream",
     "text": [
      "Training: 100%|██████████| 50/50 [00:03<00:00, 15.54it/s]\n",
      "Evaluating: 100%|██████████| 30/30 [00:00<00:00, 155.19it/s]\n",
      "Training:   8%|▊         | 4/50 [00:00<00:01, 33.85it/s]"
     ]
    },
    {
     "name": "stdout",
     "output_type": "stream",
     "text": [
      "41.86666666666667\n"
     ]
    },
    {
     "name": "stderr",
     "output_type": "stream",
     "text": [
      "Training: 100%|██████████| 50/50 [00:03<00:00, 15.39it/s]\n",
      "Evaluating: 100%|██████████| 30/30 [00:00<00:00, 33.36it/s]\n",
      "Training:   2%|▏         | 1/50 [00:00<00:04,  9.98it/s]"
     ]
    },
    {
     "name": "stdout",
     "output_type": "stream",
     "text": [
      "197.03333333333333\n"
     ]
    },
    {
     "name": "stderr",
     "output_type": "stream",
     "text": [
      "Training: 100%|██████████| 50/50 [00:04<00:00, 11.57it/s]\n",
      "Evaluating: 100%|██████████| 30/30 [00:00<00:00, 33.14it/s]\n",
      "Training:   2%|▏         | 1/50 [00:00<00:07,  6.48it/s]"
     ]
    },
    {
     "name": "stdout",
     "output_type": "stream",
     "text": [
      "200.0\n"
     ]
    },
    {
     "name": "stderr",
     "output_type": "stream",
     "text": [
      "Training: 100%|██████████| 50/50 [00:04<00:00, 11.12it/s]\n",
      "Evaluating: 100%|██████████| 30/30 [00:00<00:00, 33.43it/s]\n",
      "Training:   0%|          | 0/50 [00:00<?, ?it/s]"
     ]
    },
    {
     "name": "stdout",
     "output_type": "stream",
     "text": [
      "200.0\n"
     ]
    },
    {
     "name": "stderr",
     "output_type": "stream",
     "text": [
      "Training: 100%|██████████| 50/50 [00:04<00:00, 10.85it/s]\n",
      "Evaluating: 100%|██████████| 30/30 [00:00<00:00, 32.65it/s]\n",
      "Training:   0%|          | 0/50 [00:00<?, ?it/s]"
     ]
    },
    {
     "name": "stdout",
     "output_type": "stream",
     "text": [
      "200.0\n"
     ]
    },
    {
     "name": "stderr",
     "output_type": "stream",
     "text": [
      "Training: 100%|██████████| 50/50 [00:04<00:00, 11.34it/s]\n",
      "Evaluating: 100%|██████████| 30/30 [00:00<00:00, 34.00it/s]\n",
      "Training:   0%|          | 0/50 [00:00<?, ?it/s]"
     ]
    },
    {
     "name": "stdout",
     "output_type": "stream",
     "text": [
      "200.0\n"
     ]
    },
    {
     "name": "stderr",
     "output_type": "stream",
     "text": [
      "Training: 100%|██████████| 50/50 [00:04<00:00, 11.26it/s]\n",
      "Evaluating: 100%|██████████| 30/30 [00:00<00:00, 33.95it/s]\n",
      "Training:   0%|          | 0/50 [00:00<?, ?it/s]"
     ]
    },
    {
     "name": "stdout",
     "output_type": "stream",
     "text": [
      "200.0\n"
     ]
    },
    {
     "name": "stderr",
     "output_type": "stream",
     "text": [
      "Training: 100%|██████████| 50/50 [00:05<00:00,  8.52it/s]\n",
      "Evaluating: 100%|██████████| 30/30 [00:00<00:00, 32.84it/s]\n",
      "Training:   2%|▏         | 1/50 [00:00<00:05,  9.50it/s]"
     ]
    },
    {
     "name": "stdout",
     "output_type": "stream",
     "text": [
      "200.0\n"
     ]
    },
    {
     "name": "stderr",
     "output_type": "stream",
     "text": [
      "Training: 100%|██████████| 50/50 [00:04<00:00, 11.26it/s]\n",
      "Evaluating: 100%|██████████| 30/30 [00:00<00:00, 32.57it/s]\n",
      "Training:   0%|          | 0/50 [00:00<?, ?it/s]"
     ]
    },
    {
     "name": "stdout",
     "output_type": "stream",
     "text": [
      "200.0\n"
     ]
    },
    {
     "name": "stderr",
     "output_type": "stream",
     "text": [
      "Training: 100%|██████████| 50/50 [00:03<00:00, 13.43it/s]\n",
      "Evaluating: 100%|██████████| 30/30 [00:00<00:00, 59.26it/s]\n",
      "Training:   4%|▍         | 2/50 [00:00<00:03, 14.01it/s]"
     ]
    },
    {
     "name": "stdout",
     "output_type": "stream",
     "text": [
      "114.6\n"
     ]
    },
    {
     "name": "stderr",
     "output_type": "stream",
     "text": [
      "Training: 100%|██████████| 50/50 [00:04<00:00, 11.26it/s]\n",
      "Evaluating: 100%|██████████| 30/30 [00:00<00:00, 33.03it/s]\n",
      "Training:   2%|▏         | 1/50 [00:00<00:06,  7.08it/s]"
     ]
    },
    {
     "name": "stdout",
     "output_type": "stream",
     "text": [
      "200.0\n"
     ]
    },
    {
     "name": "stderr",
     "output_type": "stream",
     "text": [
      "Training: 100%|██████████| 50/50 [00:04<00:00, 11.35it/s]\n",
      "Evaluating: 100%|██████████| 30/30 [00:00<00:00, 33.54it/s]\n",
      "Training:   0%|          | 0/50 [00:00<?, ?it/s]"
     ]
    },
    {
     "name": "stdout",
     "output_type": "stream",
     "text": [
      "200.0\n"
     ]
    },
    {
     "name": "stderr",
     "output_type": "stream",
     "text": [
      "Training: 100%|██████████| 50/50 [00:04<00:00, 10.77it/s]\n",
      "Evaluating: 100%|██████████| 30/30 [00:00<00:00, 33.51it/s]\n",
      "Training:   0%|          | 0/50 [00:00<?, ?it/s]"
     ]
    },
    {
     "name": "stdout",
     "output_type": "stream",
     "text": [
      "200.0\n"
     ]
    },
    {
     "name": "stderr",
     "output_type": "stream",
     "text": [
      "Training: 100%|██████████| 50/50 [00:03<00:00, 14.54it/s]\n",
      "Evaluating: 100%|██████████| 30/30 [00:00<00:00, 100.70it/s]\n",
      "Training:   6%|▌         | 3/50 [00:00<00:01, 27.60it/s]"
     ]
    },
    {
     "name": "stdout",
     "output_type": "stream",
     "text": [
      "68.2\n"
     ]
    },
    {
     "name": "stderr",
     "output_type": "stream",
     "text": [
      "Training: 100%|██████████| 50/50 [00:02<00:00, 19.45it/s]\n",
      "Evaluating: 100%|██████████| 30/30 [00:01<00:00, 25.98it/s]\n",
      "Training:   0%|          | 0/50 [00:00<?, ?it/s]"
     ]
    },
    {
     "name": "stdout",
     "output_type": "stream",
     "text": [
      "200.0\n"
     ]
    },
    {
     "name": "stderr",
     "output_type": "stream",
     "text": [
      "Training: 100%|██████████| 50/50 [00:04<00:00, 10.69it/s]\n",
      "Evaluating: 100%|██████████| 30/30 [00:00<00:00, 33.74it/s]\n",
      "Training:   2%|▏         | 1/50 [00:00<00:05,  8.74it/s]"
     ]
    },
    {
     "name": "stdout",
     "output_type": "stream",
     "text": [
      "200.0\n"
     ]
    },
    {
     "name": "stderr",
     "output_type": "stream",
     "text": [
      "Training: 100%|██████████| 50/50 [00:04<00:00, 11.16it/s]\n",
      "Evaluating: 100%|██████████| 30/30 [00:00<00:00, 33.36it/s]\n",
      "Training:   2%|▏         | 1/50 [00:00<00:05,  9.27it/s]"
     ]
    },
    {
     "name": "stdout",
     "output_type": "stream",
     "text": [
      "200.0\n"
     ]
    },
    {
     "name": "stderr",
     "output_type": "stream",
     "text": [
      "Training: 100%|██████████| 50/50 [00:04<00:00, 11.15it/s]\n",
      "Evaluating: 100%|██████████| 30/30 [00:00<00:00, 33.48it/s]\n",
      "Training:   2%|▏         | 1/50 [00:00<00:05,  8.76it/s]"
     ]
    },
    {
     "name": "stdout",
     "output_type": "stream",
     "text": [
      "200.0\n"
     ]
    },
    {
     "name": "stderr",
     "output_type": "stream",
     "text": [
      "Training: 100%|██████████| 50/50 [00:04<00:00, 11.91it/s]\n",
      "Evaluating: 100%|██████████| 30/30 [00:00<00:00, 33.57it/s]\n",
      "Training:   2%|▏         | 1/50 [00:00<00:09,  5.20it/s]"
     ]
    },
    {
     "name": "stdout",
     "output_type": "stream",
     "text": [
      "200.0\n"
     ]
    },
    {
     "name": "stderr",
     "output_type": "stream",
     "text": [
      "Training: 100%|██████████| 50/50 [00:04<00:00, 11.08it/s]\n",
      "Evaluating: 100%|██████████| 30/30 [00:00<00:00, 33.26it/s]\n",
      "Training:   2%|▏         | 1/50 [00:00<00:04,  9.81it/s]"
     ]
    },
    {
     "name": "stdout",
     "output_type": "stream",
     "text": [
      "200.0\n"
     ]
    },
    {
     "name": "stderr",
     "output_type": "stream",
     "text": [
      "Training: 100%|██████████| 50/50 [00:04<00:00, 11.18it/s]\n",
      "Evaluating: 100%|██████████| 30/30 [00:00<00:00, 32.94it/s]\n",
      "Training:   0%|          | 0/50 [00:00<?, ?it/s]"
     ]
    },
    {
     "name": "stdout",
     "output_type": "stream",
     "text": [
      "200.0\n"
     ]
    },
    {
     "name": "stderr",
     "output_type": "stream",
     "text": [
      "Training: 100%|██████████| 50/50 [00:04<00:00, 11.00it/s]\n",
      "Evaluating: 100%|██████████| 30/30 [00:00<00:00, 33.41it/s]\n",
      "Training:   0%|          | 0/50 [00:00<?, ?it/s]"
     ]
    },
    {
     "name": "stdout",
     "output_type": "stream",
     "text": [
      "200.0\n"
     ]
    },
    {
     "name": "stderr",
     "output_type": "stream",
     "text": [
      "Training: 100%|██████████| 50/50 [00:04<00:00, 10.80it/s]\n",
      "Evaluating: 100%|██████████| 30/30 [00:00<00:00, 33.38it/s]\n",
      "Training:   2%|▏         | 1/50 [00:00<00:06,  7.33it/s]"
     ]
    },
    {
     "name": "stdout",
     "output_type": "stream",
     "text": [
      "200.0\n"
     ]
    },
    {
     "name": "stderr",
     "output_type": "stream",
     "text": [
      "Training: 100%|██████████| 50/50 [00:03<00:00, 14.09it/s]\n",
      "Evaluating: 100%|██████████| 30/30 [00:00<00:00, 64.88it/s]\n",
      "Training:   2%|▏         | 1/50 [00:00<00:05,  9.37it/s]"
     ]
    },
    {
     "name": "stdout",
     "output_type": "stream",
     "text": [
      "104.3\n"
     ]
    },
    {
     "name": "stderr",
     "output_type": "stream",
     "text": [
      "Training: 100%|██████████| 50/50 [00:03<00:00, 12.54it/s]\n",
      "Evaluating: 100%|██████████| 30/30 [00:00<00:00, 33.29it/s]\n",
      "Training:   2%|▏         | 1/50 [00:00<00:09,  5.30it/s]"
     ]
    },
    {
     "name": "stdout",
     "output_type": "stream",
     "text": [
      "200.0\n"
     ]
    },
    {
     "name": "stderr",
     "output_type": "stream",
     "text": [
      "Training: 100%|██████████| 50/50 [00:05<00:00,  8.94it/s]\n",
      "Evaluating: 100%|██████████| 30/30 [00:01<00:00, 25.87it/s]\n",
      "Training:   4%|▍         | 2/50 [00:00<00:04, 11.09it/s]"
     ]
    },
    {
     "name": "stdout",
     "output_type": "stream",
     "text": [
      "200.0\n"
     ]
    },
    {
     "name": "stderr",
     "output_type": "stream",
     "text": [
      "Training: 100%|██████████| 50/50 [00:04<00:00, 11.26it/s]\n",
      "Evaluating: 100%|██████████| 30/30 [00:00<00:00, 33.21it/s]\n"
     ]
    },
    {
     "name": "stdout",
     "output_type": "stream",
     "text": [
      "200.0\n",
      "\n",
      "Learning Performance:\n",
      "\n"
     ]
    },
    {
     "data": {
      "text/plain": [
       "<Figure size 432x288 with 0 Axes>"
      ]
     },
     "metadata": {},
     "output_type": "display_data"
    },
    {
     "data": {
      "image/png": "[encoded data removed]",
      "text/plain": [
       "<Figure size 432x288 with 1 Axes>"
      ]
     },
     "metadata": {},
     "output_type": "display_data"
    }
   ],
   "source": [
    "#-----------------------------------------------------RUN-----------------------------------\n",
    "training_episodes, test_interval = 10000, 50\n",
    "agent = DQN_agent(env_CartPole, hyperparams_CartPole)\n",
    "result = agent.learn_and_evaluate(training_episodes, test_interval)\n",
    "plot_result(result, test_interval, [\"batch_update with target_model\"])"
   ]
  },
  {
   "cell_type": "raw",
   "metadata": {},
   "source": [
    "Full DQN"
   ]
  },
  {
   "cell_type": "code",
   "execution_count": 7,
   "metadata": {},
   "outputs": [],
   "source": [
    "class DQN_agent(object):\n",
    "    def __init__(self, env, hyper_params, action_space = len(ACTION_DICT)):\n",
    "        \n",
    "        self.env = env\n",
    "        self.max_episode_steps = env._max_episode_steps\n",
    "        \n",
    "        \"\"\"\n",
    "            beta: The discounted factor of Q-value function\n",
    "            (epsilon): The explore or exploit policy epsilon. \n",
    "            initial_epsilon: When the 'steps' is 0, the epsilon is initial_epsilon, 1\n",
    "            final_epsilon: After the number of 'steps' reach 'epsilon_decay_steps', \n",
    "                The epsilon set to the 'final_epsilon' determinately.\n",
    "            epsilon_decay_steps: The epsilon will decrease linearly along with the steps from 0 to 'epsilon_decay_steps'.\n",
    "        \"\"\"\n",
    "        self.beta = hyper_params['beta']\n",
    "        self.initial_epsilon = 1\n",
    "        self.final_epsilon = hyper_params['final_epsilon']\n",
    "        self.epsilon_decay_steps = hyper_params['epsilon_decay_steps']\n",
    "\n",
    "        \"\"\"\n",
    "            episode: Record training episode\n",
    "            steps: Add 1 when predicting an action\n",
    "            learning: The trigger of agent learning. It is on while training agent. It is off while testing agent.\n",
    "            action_space: The action space of the current environment, e.g 2.\n",
    "        \"\"\"\n",
    "        self.episode = 0\n",
    "        self.steps = 0\n",
    "        self.best_reward = 0#-------------may be recording the max reward obtained in an episode\n",
    "        self.learning = True\n",
    "        self.action_space = action_space\n",
    "\n",
    "        \"\"\"\n",
    "            input_len The input length of the neural network. It equals to the length of the state vector.\n",
    "            output_len: The output length of the neural network. It is equal to the action space.\n",
    "            eval_model: The model for predicting action for the agent.\n",
    "            target_model: The model for calculating Q-value of next_state to update 'eval_model'.\n",
    "            use_target_model: Trigger for turn 'target_model' on/off\n",
    "        \"\"\"\n",
    "        state = env.reset()\n",
    "        \n",
    "        input_len = len(state)\n",
    "        output_len = action_space#---------action_space here is the length of the action space\n",
    "        self.eval_model = DQNModel(input_len, output_len, learning_rate = hyper_params['learning_rate'])\n",
    "        self.use_target_model = hyper_params['use_target_model']\n",
    "        if self.use_target_model:\n",
    "            self.target_model = DQNModel(input_len, output_len)#-----------each agent has one DQNModel()\n",
    "#         memory: Store and sample experience replay.\n",
    "        self.memory = ReplayBuffer(hyper_params['memory_size'])\n",
    "        \n",
    "        \"\"\"\n",
    "            batch_size: Mini batch size for training model.\n",
    "            update_steps: The frequence of traning model\n",
    "            model_replace_freq: The frequence of replacing 'target_model' by 'eval_model'\n",
    "        \"\"\"\n",
    "        self.batch_size = hyper_params['batch_size']\n",
    "        self.update_steps = hyper_params['update_steps']\n",
    "        self.model_replace_freq = hyper_params['model_replace_freq']#---------for each agent\n",
    "        \n",
    "    # Linear decrease function for epsilon for each agent\n",
    "    def linear_decrease(self, initial_value, final_value, curr_steps, final_decay_steps):\n",
    "        decay_rate = curr_steps / final_decay_steps\n",
    "        if decay_rate > 1:\n",
    "            decay_rate = 1\n",
    "        return initial_value - (initial_value - final_value) * decay_rate\n",
    "    \n",
    "    def explore_or_exploit_policy(self, state):#-----------Note:Experience generated by the learning network\n",
    "        p = uniform(0, 1)\n",
    "        # Get decreased epsilon\n",
    "        epsilon = self.linear_decrease(self.initial_epsilon, \n",
    "                               self.final_epsilon,\n",
    "                               self.steps,\n",
    "                               self.epsilon_decay_steps)\n",
    "        \n",
    "        if p < epsilon:\n",
    "            #return action\n",
    "            return randint(0, self.action_space - 1)#---Return random integers from low (inclusive) to high (exclusive).\n",
    "        else:\n",
    "            #return action\n",
    "            return self.greedy_policy(state)\n",
    "        \n",
    "    def greedy_policy(self, state):\n",
    "        return self.eval_model.predict(state)\n",
    "    \n",
    "    # This next function will be called in the main RL loop to update the neural network model given a batch of\n",
    "    #experience\n",
    "    # 1) Sample a 'batch_size' batch of experiences from the memory.\n",
    "    # 2) Predict the Q-value from the 'eval_model' based on (states, actions)\n",
    "    # 3) Predict the Q-value from the 'target_model' base on (next_states), and take the max of each Q-value \n",
    "    # vector, Q_max\n",
    "    # 4)  If is_terminal == 0 for a sample in the batch u took from the replay buffer,\n",
    "            #q_target = reward + discounted factor * Q_max, otherwise, q_target = reward\n",
    "    # 5) Call fit() to do the back-propagation for 'eval_model'.\n",
    "    \n",
    "    def update_batch(self):\n",
    "        if len(self.memory) < self.batch_size or self.steps % self.update_steps != 0:\n",
    "            return #means return if either you dont have sufficient number of experiences to batch from or this\n",
    "                    #timestep is not a multiple of the frequency of time steps because u need to do this after only\n",
    "                    #a certain number of timesteps in an episode\n",
    "\n",
    "        batch = self.memory.sample(self.batch_size) #get samples from the experience replay\n",
    "\n",
    "        (states, actions, reward, next_states, is_terminal) = batch\n",
    "        #each of these is a vector of length the same as the length of a batch sampled from the replay buffer\n",
    "        \n",
    "        states = states\n",
    "        next_states = next_states\n",
    "        reward = FloatTensor(reward) \n",
    "        \n",
    "        #create an array to denote if the next state is terminal or not so as to assign approirate target\n",
    "        terminal = FloatTensor([1 if t else 0 for t in is_terminal])\n",
    "        #need to do this conversion because its not 1 and 0 in the is_terminal vector but it is True and False\n",
    "        \n",
    "        \n",
    "        \n",
    "        \n",
    "        batch_index = torch.arange(self.batch_size, dtype=torch.long)\n",
    "        #Returns a 1-D tensor of size ((end-start)/step) with values from the interval (start,end) taken \n",
    "        #with common difference \"step\" beginning from start\n",
    "        #default --> torch.arange(start=0, end, step=1)\n",
    "        #dtype parameter is the desired data type of returned tensor\n",
    "        #end is a non-optional argument for arange()\n",
    "        #by default, the step is 1\n",
    "        \n",
    "        # Current Q Values\n",
    "        _, q_values = self.eval_model.predict_batch(states)#used to predict both the Q-values and best actions for a batch of states. \n",
    "        #returns a matrix, each row is the set of Q values for all the actions in this particular state\n",
    "                \n",
    "        \n",
    "        q_values = q_values[batch_index, actions]\n",
    "        \n",
    "        \n",
    "        # Calculate target\n",
    "        # predict_batch() : This is used to predict both the Q-values and best actions for a batch of states. \n",
    "        #Given a batch of states, the function returns: 1) 'best_actions' a vector containing the best action \n",
    "        #for each input state, and 2) 'q_values' a matrix where each row gives the Q-value for all actions of \n",
    "        #each state (one row per state).\n",
    "        \n",
    "        if self.use_target_model:\n",
    "            actions, q_next = self.target_model.predict_batch(next_states) #to get the training samples as well as \n",
    "            #the Q value of the next state we can bootstrap from\n",
    "        else:   \n",
    "            actions, q_next = self.eval_model.predict_batch(next_states) #use the learning model for getting\n",
    "            #the q values of the current state\n",
    "        #--------------------------------------------------------------------------\n",
    "        \n",
    "        #INSERT YOUR CODE HERE --- neet to compute 'q_targets' used below\n",
    "        \n",
    "        #calculate the Qmax from next_states that you need to calculate the target in the update equation\n",
    "        \n",
    "        #q_next calculated above is a matrix\n",
    "        max_Q_per_state, index_of_argmax = torch.max(q_next,dim = 1)\n",
    "        \n",
    "        q_target_list= []\n",
    "        import time\n",
    "       \n",
    "        for item in range(len(terminal)):\n",
    "            #print(batch[0])\n",
    "            #time.sleep(2222)\n",
    "            if terminal[item]==1:\n",
    "                q_target_list.append(reward[item])\n",
    "            else:\n",
    "                q_target_list.append(reward[item]+ self.beta * max_Q_per_state[item] )\n",
    "        \n",
    "        \n",
    "        \n",
    "        #----------------------------------------------------------------------------\n",
    "        q_target_list = FloatTensor(q_target_list)\n",
    "        # update model\n",
    "        self.eval_model.fit(q_values, q_target_list)\n",
    "    \n",
    "    def learn_and_evaluate(self, training_episodes, test_interval):\n",
    "        test_number = training_episodes // test_interval\n",
    "        all_results = []\n",
    "        \n",
    "        for i in range(test_number):\n",
    "            # learn\n",
    "            self.learn(test_interval)\n",
    "            \n",
    "            # evaluate\n",
    "            avg_reward = self.evaluate()\n",
    "            all_results.append(avg_reward)\n",
    "            \n",
    "        return all_results\n",
    "    \n",
    "        \n",
    "    \n",
    "    def learn(self, test_interval):\n",
    "        for episode in tqdm(range(test_interval), desc=\"Training\"):\n",
    "            state = self.env.reset()\n",
    "            done = False\n",
    "            steps = 0\n",
    "            self.episode += 1\n",
    "            while steps < self.max_episode_steps and not done: \n",
    "                #INSERT YOUR CODE HERE\n",
    "                # add experience from explore-exploit policy to memory\n",
    "                #put this state action pair into the replay buffer\n",
    "                #memory.add(state, action, reward, state', is_terminal) takes one example as input, and store it into its storage.\n",
    "                # update the model every 'update_steps' of experience\n",
    "                \n",
    "                action = self.explore_or_exploit_policy(state)\n",
    "                new_state,reward, done,_ = self.env.step(action)\n",
    "                self.memory.add(state, action,reward,new_state,done)\n",
    "                \n",
    "                self.steps = self.steps + 1\n",
    "                steps = steps + 1\n",
    "                if (self.steps % self.update_steps) == 0 :\n",
    "                    self.update_batch()\n",
    "                \n",
    "                # update the target network (if the target network is being used) every 'model_replace_freq' of experiences \n",
    "                if (self.steps % self.model_replace_freq) == 0:\n",
    "                    self.target_model.replace(self.eval_model)\n",
    "                \n",
    "                \n",
    "                #------------update the state to new state\n",
    "                state = new_state\n",
    "                \n",
    "                \n",
    "                #----------------------------------------------------------------------------\n",
    "    def evaluate(self, trials = 30):\n",
    "        total_reward = 0\n",
    "        for _ in tqdm(range(trials), desc=\"Evaluating\"):\n",
    "            state = self.env.reset()\n",
    "            done = False\n",
    "            steps = 0\n",
    "\n",
    "            while steps < self.max_episode_steps and not done:\n",
    "                steps += 1\n",
    "                action = self.greedy_policy(state)\n",
    "                state, reward, done, _ = self.env.step(action)\n",
    "                total_reward += reward\n",
    "\n",
    "        avg_reward = total_reward / trials\n",
    "        print(avg_reward)\n",
    "        f = open(result_file, \"a+\")\n",
    "        f.write(str(avg_reward) + \"\\n\")\n",
    "        f.close()\n",
    "        if avg_reward >= self.best_reward:\n",
    "            self.best_reward = avg_reward\n",
    "            self.save_model()\n",
    "        return avg_reward\n",
    "\n",
    "    # save model\n",
    "    def save_model(self):\n",
    "        self.eval_model.save(result_folder + '/best_model.pt')\n",
    "        \n",
    "    # load model\n",
    "    def load_model(self):\n",
    "        self.eval_model.load(result_folder + '/best_model.pt')"
   ]
  },
  {
   "cell_type": "code",
   "execution_count": 8,
   "metadata": {},
   "outputs": [],
   "source": [
    "hyperparams_CartPole = {\n",
    "    'epsilon_decay_steps' : 100000, \n",
    "    'final_epsilon' : 0.1,\n",
    "    'batch_size' : 32, \n",
    "    'update_steps' : 10, \n",
    "    'memory_size' : 2000, \n",
    "    'beta' : 0.99, \n",
    "    'model_replace_freq' : 2000,\n",
    "    'learning_rate' : 0.0003,\n",
    "    'use_target_model': True\n",
    "}"
   ]
  },
  {
   "cell_type": "code",
   "execution_count": 9,
   "metadata": {},
   "outputs": [
    {
     "name": "stderr",
     "output_type": "stream",
     "text": [
      "Training: 100%|██████████| 50/50 [00:00<00:00, 110.08it/s]\n",
      "Evaluating: 100%|██████████| 30/30 [00:00<00:00, 665.59it/s]\n",
      "Training:  34%|███▍      | 17/50 [00:00<00:00, 167.64it/s]"
     ]
    },
    {
     "name": "stdout",
     "output_type": "stream",
     "text": [
      "9.466666666666667\n"
     ]
    },
    {
     "name": "stderr",
     "output_type": "stream",
     "text": [
      "Training: 100%|██████████| 50/50 [00:00<00:00, 147.30it/s]\n",
      "Evaluating: 100%|██████████| 30/30 [00:00<00:00, 677.77it/s]\n",
      "Training:  26%|██▌       | 13/50 [00:00<00:00, 123.55it/s]"
     ]
    },
    {
     "name": "stdout",
     "output_type": "stream",
     "text": [
      "9.4\n"
     ]
    },
    {
     "name": "stderr",
     "output_type": "stream",
     "text": [
      "Training: 100%|██████████| 50/50 [00:00<00:00, 164.72it/s]\n",
      "Evaluating: 100%|██████████| 30/30 [00:00<00:00, 658.56it/s]\n",
      "Training:  34%|███▍      | 17/50 [00:00<00:00, 156.72it/s]"
     ]
    },
    {
     "name": "stdout",
     "output_type": "stream",
     "text": [
      "9.633333333333333\n"
     ]
    },
    {
     "name": "stderr",
     "output_type": "stream",
     "text": [
      "Training: 100%|██████████| 50/50 [00:00<00:00, 153.57it/s]\n",
      "Evaluating: 100%|██████████| 30/30 [00:00<00:00, 680.82it/s]\n",
      "Training:  34%|███▍      | 17/50 [00:00<00:00, 169.17it/s]"
     ]
    },
    {
     "name": "stdout",
     "output_type": "stream",
     "text": [
      "9.233333333333333\n"
     ]
    },
    {
     "name": "stderr",
     "output_type": "stream",
     "text": [
      "Training: 100%|██████████| 50/50 [00:00<00:00, 146.42it/s]\n",
      "Evaluating: 100%|██████████| 30/30 [00:00<00:00, 715.21it/s]\n",
      "Training:  22%|██▏       | 11/50 [00:00<00:00, 108.85it/s]"
     ]
    },
    {
     "name": "stdout",
     "output_type": "stream",
     "text": [
      "9.166666666666666\n"
     ]
    },
    {
     "name": "stderr",
     "output_type": "stream",
     "text": [
      "Training: 100%|██████████| 50/50 [00:00<00:00, 112.24it/s]\n",
      "Evaluating: 100%|██████████| 30/30 [00:00<00:00, 356.91it/s]\n",
      "Training:  20%|██        | 10/50 [00:00<00:00, 98.50it/s]"
     ]
    },
    {
     "name": "stdout",
     "output_type": "stream",
     "text": [
      "15.333333333333334\n"
     ]
    },
    {
     "name": "stderr",
     "output_type": "stream",
     "text": [
      "Training: 100%|██████████| 50/50 [00:00<00:00, 139.00it/s]\n",
      "Evaluating: 100%|██████████| 30/30 [00:00<00:00, 377.20it/s]\n",
      "Training:  28%|██▊       | 14/50 [00:00<00:00, 134.25it/s]"
     ]
    },
    {
     "name": "stdout",
     "output_type": "stream",
     "text": [
      "17.133333333333333\n"
     ]
    },
    {
     "name": "stderr",
     "output_type": "stream",
     "text": [
      "Training: 100%|██████████| 50/50 [00:00<00:00, 132.01it/s]\n",
      "Evaluating: 100%|██████████| 30/30 [00:00<00:00, 245.32it/s]\n",
      "Training:  36%|███▌      | 18/50 [00:00<00:00, 177.58it/s]"
     ]
    },
    {
     "name": "stdout",
     "output_type": "stream",
     "text": [
      "26.433333333333334\n"
     ]
    },
    {
     "name": "stderr",
     "output_type": "stream",
     "text": [
      "Training: 100%|██████████| 50/50 [00:00<00:00, 161.09it/s]\n",
      "Evaluating: 100%|██████████| 30/30 [00:00<00:00, 291.36it/s]\n",
      "Training:  22%|██▏       | 11/50 [00:00<00:00, 109.33it/s]"
     ]
    },
    {
     "name": "stdout",
     "output_type": "stream",
     "text": [
      "22.366666666666667\n"
     ]
    },
    {
     "name": "stderr",
     "output_type": "stream",
     "text": [
      "Training: 100%|██████████| 50/50 [00:00<00:00, 136.25it/s]\n",
      "Evaluating: 100%|██████████| 30/30 [00:00<00:00, 184.91it/s]\n",
      "Training:  20%|██        | 10/50 [00:00<00:00, 98.41it/s]"
     ]
    },
    {
     "name": "stdout",
     "output_type": "stream",
     "text": [
      "33.56666666666667\n"
     ]
    },
    {
     "name": "stderr",
     "output_type": "stream",
     "text": [
      "Training: 100%|██████████| 50/50 [00:00<00:00, 111.91it/s]\n",
      "Evaluating: 100%|██████████| 30/30 [00:00<00:00, 57.21it/s]\n",
      "Training:  18%|█▊        | 9/50 [00:00<00:00, 88.86it/s]"
     ]
    },
    {
     "name": "stdout",
     "output_type": "stream",
     "text": [
      "115.7\n"
     ]
    },
    {
     "name": "stderr",
     "output_type": "stream",
     "text": [
      "Training: 100%|██████████| 50/50 [00:00<00:00, 108.68it/s]\n",
      "Evaluating: 100%|██████████| 30/30 [00:00<00:00, 70.31it/s]\n",
      "Training:  12%|█▏        | 6/50 [00:00<00:00, 54.72it/s]"
     ]
    },
    {
     "name": "stdout",
     "output_type": "stream",
     "text": [
      "90.8\n"
     ]
    },
    {
     "name": "stderr",
     "output_type": "stream",
     "text": [
      "Training: 100%|██████████| 50/50 [00:00<00:00, 107.42it/s]\n",
      "Evaluating: 100%|██████████| 30/30 [00:00<00:00, 40.72it/s]\n",
      "Training:  22%|██▏       | 11/50 [00:00<00:00, 104.84it/s]"
     ]
    },
    {
     "name": "stdout",
     "output_type": "stream",
     "text": [
      "166.36666666666667\n"
     ]
    },
    {
     "name": "stderr",
     "output_type": "stream",
     "text": [
      "Training: 100%|██████████| 50/50 [00:00<00:00, 92.42it/s] \n",
      "Evaluating: 100%|██████████| 30/30 [00:00<00:00, 36.38it/s]\n",
      "Training:  10%|█         | 5/50 [00:00<00:00, 49.17it/s]"
     ]
    },
    {
     "name": "stdout",
     "output_type": "stream",
     "text": [
      "183.26666666666668\n"
     ]
    },
    {
     "name": "stderr",
     "output_type": "stream",
     "text": [
      "Training: 100%|██████████| 50/50 [00:00<00:00, 90.94it/s]\n",
      "Evaluating: 100%|██████████| 30/30 [00:00<00:00, 37.28it/s]\n",
      "Training:  22%|██▏       | 11/50 [00:00<00:00, 94.35it/s]"
     ]
    },
    {
     "name": "stdout",
     "output_type": "stream",
     "text": [
      "178.0\n"
     ]
    },
    {
     "name": "stderr",
     "output_type": "stream",
     "text": [
      "Training: 100%|██████████| 50/50 [00:00<00:00, 96.46it/s]\n",
      "Evaluating: 100%|██████████| 30/30 [00:00<00:00, 33.37it/s]\n",
      "Training:  16%|█▌        | 8/50 [00:00<00:00, 78.46it/s]"
     ]
    },
    {
     "name": "stdout",
     "output_type": "stream",
     "text": [
      "198.93333333333334\n"
     ]
    },
    {
     "name": "stderr",
     "output_type": "stream",
     "text": [
      "Training: 100%|██████████| 50/50 [00:00<00:00, 87.14it/s]\n",
      "Evaluating: 100%|██████████| 30/30 [00:00<00:00, 36.57it/s]\n",
      "Training:   4%|▍         | 2/50 [00:00<00:02, 17.23it/s]"
     ]
    },
    {
     "name": "stdout",
     "output_type": "stream",
     "text": [
      "177.53333333333333\n"
     ]
    },
    {
     "name": "stderr",
     "output_type": "stream",
     "text": [
      "Training: 100%|██████████| 50/50 [00:00<00:00, 59.42it/s]\n",
      "Evaluating: 100%|██████████| 30/30 [00:00<00:00, 50.59it/s]\n",
      "Training:   8%|▊         | 4/50 [00:00<00:01, 39.26it/s]"
     ]
    },
    {
     "name": "stdout",
     "output_type": "stream",
     "text": [
      "132.23333333333332\n"
     ]
    },
    {
     "name": "stderr",
     "output_type": "stream",
     "text": [
      "Training: 100%|██████████| 50/50 [00:00<00:00, 75.18it/s]\n",
      "Evaluating: 100%|██████████| 30/30 [00:00<00:00, 38.82it/s]\n",
      "Training:   2%|▏         | 1/50 [00:00<00:06,  7.75it/s]"
     ]
    },
    {
     "name": "stdout",
     "output_type": "stream",
     "text": [
      "174.6\n"
     ]
    },
    {
     "name": "stderr",
     "output_type": "stream",
     "text": [
      "Training: 100%|██████████| 50/50 [00:00<00:00, 60.51it/s]\n",
      "Evaluating: 100%|██████████| 30/30 [00:00<00:00, 34.29it/s]\n",
      "Training:   0%|          | 0/50 [00:00<?, ?it/s]"
     ]
    },
    {
     "name": "stdout",
     "output_type": "stream",
     "text": [
      "192.13333333333333\n"
     ]
    },
    {
     "name": "stderr",
     "output_type": "stream",
     "text": [
      "Training: 100%|██████████| 50/50 [00:01<00:00, 39.64it/s]\n",
      "Evaluating: 100%|██████████| 30/30 [00:00<00:00, 33.88it/s]\n",
      "Training:   8%|▊         | 4/50 [00:00<00:01, 30.74it/s]"
     ]
    },
    {
     "name": "stdout",
     "output_type": "stream",
     "text": [
      "193.1\n"
     ]
    },
    {
     "name": "stderr",
     "output_type": "stream",
     "text": [
      "Training: 100%|██████████| 50/50 [00:01<00:00, 49.02it/s]\n",
      "Evaluating: 100%|██████████| 30/30 [00:00<00:00, 37.80it/s]\n",
      "Training:  12%|█▏        | 6/50 [00:00<00:00, 51.41it/s]"
     ]
    },
    {
     "name": "stdout",
     "output_type": "stream",
     "text": [
      "170.9\n"
     ]
    },
    {
     "name": "stderr",
     "output_type": "stream",
     "text": [
      "Training: 100%|██████████| 50/50 [00:01<00:00, 44.44it/s]\n",
      "Evaluating: 100%|██████████| 30/30 [00:01<00:00, 27.35it/s]\n",
      "Training:   8%|▊         | 4/50 [00:00<00:01, 39.90it/s]"
     ]
    },
    {
     "name": "stdout",
     "output_type": "stream",
     "text": [
      "191.23333333333332\n"
     ]
    },
    {
     "name": "stderr",
     "output_type": "stream",
     "text": [
      "Training: 100%|██████████| 50/50 [00:01<00:00, 43.42it/s]\n",
      "Evaluating: 100%|██████████| 30/30 [00:00<00:00, 38.19it/s]\n",
      "Training:  12%|█▏        | 6/50 [00:00<00:00, 56.33it/s]"
     ]
    },
    {
     "name": "stdout",
     "output_type": "stream",
     "text": [
      "175.73333333333332\n"
     ]
    },
    {
     "name": "stderr",
     "output_type": "stream",
     "text": [
      "Training: 100%|██████████| 50/50 [00:01<00:00, 47.53it/s]\n",
      "Evaluating: 100%|██████████| 30/30 [00:00<00:00, 34.81it/s]\n",
      "Training:  10%|█         | 5/50 [00:00<00:00, 45.62it/s]"
     ]
    },
    {
     "name": "stdout",
     "output_type": "stream",
     "text": [
      "191.63333333333333\n"
     ]
    },
    {
     "name": "stderr",
     "output_type": "stream",
     "text": [
      "Training: 100%|██████████| 50/50 [00:01<00:00, 37.15it/s]\n",
      "Evaluating: 100%|██████████| 30/30 [00:00<00:00, 33.21it/s]\n",
      "Training:  12%|█▏        | 6/50 [00:00<00:01, 36.21it/s]"
     ]
    },
    {
     "name": "stdout",
     "output_type": "stream",
     "text": [
      "198.46666666666667\n"
     ]
    },
    {
     "name": "stderr",
     "output_type": "stream",
     "text": [
      "Training: 100%|██████████| 50/50 [00:01<00:00, 22.06it/s]\n",
      "Evaluating: 100%|██████████| 30/30 [00:00<00:00, 32.99it/s]\n",
      "Training:   6%|▌         | 3/50 [00:00<00:02, 22.76it/s]"
     ]
    },
    {
     "name": "stdout",
     "output_type": "stream",
     "text": [
      "200.0\n"
     ]
    },
    {
     "name": "stderr",
     "output_type": "stream",
     "text": [
      "Training: 100%|██████████| 50/50 [00:02<00:00, 22.00it/s]\n",
      "Evaluating: 100%|██████████| 30/30 [00:00<00:00, 32.26it/s]\n",
      "Training:   4%|▍         | 2/50 [00:00<00:03, 14.68it/s]"
     ]
    },
    {
     "name": "stdout",
     "output_type": "stream",
     "text": [
      "200.0\n"
     ]
    },
    {
     "name": "stderr",
     "output_type": "stream",
     "text": [
      "Training: 100%|██████████| 50/50 [00:02<00:00, 18.66it/s]\n",
      "Evaluating: 100%|██████████| 30/30 [00:00<00:00, 32.71it/s]\n",
      "Training:   6%|▌         | 3/50 [00:00<00:02, 21.52it/s]"
     ]
    },
    {
     "name": "stdout",
     "output_type": "stream",
     "text": [
      "199.8\n"
     ]
    },
    {
     "name": "stderr",
     "output_type": "stream",
     "text": [
      "Training: 100%|██████████| 50/50 [00:02<00:00, 17.45it/s]\n",
      "Evaluating: 100%|██████████| 30/30 [00:00<00:00, 33.16it/s]\n",
      "Training:   2%|▏         | 1/50 [00:00<00:08,  5.75it/s]"
     ]
    },
    {
     "name": "stdout",
     "output_type": "stream",
     "text": [
      "199.76666666666668\n"
     ]
    },
    {
     "name": "stderr",
     "output_type": "stream",
     "text": [
      "Training: 100%|██████████| 50/50 [00:04<00:00, 11.33it/s]\n",
      "Evaluating: 100%|██████████| 30/30 [00:00<00:00, 33.36it/s]\n",
      "Training:   0%|          | 0/50 [00:00<?, ?it/s]"
     ]
    },
    {
     "name": "stdout",
     "output_type": "stream",
     "text": [
      "200.0\n"
     ]
    },
    {
     "name": "stderr",
     "output_type": "stream",
     "text": [
      "Training: 100%|██████████| 50/50 [00:03<00:00, 16.08it/s]\n",
      "Evaluating: 100%|██████████| 30/30 [00:00<00:00, 49.21it/s]\n",
      "Training:   4%|▍         | 2/50 [00:00<00:03, 14.73it/s]"
     ]
    },
    {
     "name": "stdout",
     "output_type": "stream",
     "text": [
      "135.53333333333333\n"
     ]
    },
    {
     "name": "stderr",
     "output_type": "stream",
     "text": [
      "Training: 100%|██████████| 50/50 [00:03<00:00, 17.53it/s]\n",
      "Evaluating: 100%|██████████| 30/30 [00:00<00:00, 56.75it/s]\n",
      "Training:   2%|▏         | 1/50 [00:00<00:07,  6.60it/s]"
     ]
    },
    {
     "name": "stdout",
     "output_type": "stream",
     "text": [
      "115.86666666666666\n"
     ]
    },
    {
     "name": "stderr",
     "output_type": "stream",
     "text": [
      "Training: 100%|██████████| 50/50 [00:02<00:00, 19.36it/s]\n",
      "Evaluating: 100%|██████████| 30/30 [00:00<00:00, 46.64it/s]\n",
      "Training:   0%|          | 0/50 [00:00<?, ?it/s]"
     ]
    },
    {
     "name": "stdout",
     "output_type": "stream",
     "text": [
      "130.4\n"
     ]
    },
    {
     "name": "stderr",
     "output_type": "stream",
     "text": [
      "Training: 100%|██████████| 50/50 [00:02<00:00, 18.80it/s]\n",
      "Evaluating: 100%|██████████| 30/30 [00:00<00:00, 481.24it/s]\n",
      "Training:  30%|███       | 15/50 [00:00<00:00, 141.83it/s]"
     ]
    },
    {
     "name": "stdout",
     "output_type": "stream",
     "text": [
      "13.4\n"
     ]
    },
    {
     "name": "stderr",
     "output_type": "stream",
     "text": [
      "Training: 100%|██████████| 50/50 [00:01<00:00, 35.72it/s] \n",
      "Evaluating: 100%|██████████| 30/30 [00:00<00:00, 57.88it/s]\n",
      "Training:   4%|▍         | 2/50 [00:00<00:03, 15.13it/s]"
     ]
    },
    {
     "name": "stdout",
     "output_type": "stream",
     "text": [
      "114.16666666666667\n"
     ]
    },
    {
     "name": "stderr",
     "output_type": "stream",
     "text": [
      "Training: 100%|██████████| 50/50 [00:02<00:00, 21.23it/s]\n",
      "Evaluating: 100%|██████████| 30/30 [00:00<00:00, 43.25it/s]\n",
      "Training:   4%|▍         | 2/50 [00:00<00:03, 13.47it/s]"
     ]
    },
    {
     "name": "stdout",
     "output_type": "stream",
     "text": [
      "119.23333333333333\n"
     ]
    },
    {
     "name": "stderr",
     "output_type": "stream",
     "text": [
      "Training: 100%|██████████| 50/50 [00:02<00:00, 17.42it/s]\n",
      "Evaluating: 100%|██████████| 30/30 [00:00<00:00, 54.88it/s]\n",
      "Training:   4%|▍         | 2/50 [00:00<00:03, 15.27it/s]"
     ]
    },
    {
     "name": "stdout",
     "output_type": "stream",
     "text": [
      "94.66666666666667\n"
     ]
    },
    {
     "name": "stderr",
     "output_type": "stream",
     "text": [
      "Training: 100%|██████████| 50/50 [00:01<00:00, 27.67it/s]\n",
      "Evaluating: 100%|██████████| 30/30 [00:00<00:00, 412.83it/s]\n",
      "Training:  12%|█▏        | 6/50 [00:00<00:00, 45.83it/s]"
     ]
    },
    {
     "name": "stdout",
     "output_type": "stream",
     "text": [
      "15.5\n"
     ]
    },
    {
     "name": "stderr",
     "output_type": "stream",
     "text": [
      "Training: 100%|██████████| 50/50 [00:01<00:00, 28.87it/s]\n",
      "Evaluating: 100%|██████████| 30/30 [00:00<00:00, 79.88it/s]\n",
      "Training:   6%|▌         | 3/50 [00:00<00:01, 27.77it/s]"
     ]
    },
    {
     "name": "stdout",
     "output_type": "stream",
     "text": [
      "82.6\n"
     ]
    },
    {
     "name": "stderr",
     "output_type": "stream",
     "text": [
      "Training: 100%|██████████| 50/50 [00:03<00:00, 13.24it/s]\n",
      "Evaluating: 100%|██████████| 30/30 [00:01<00:00, 26.10it/s]\n",
      "Training:   0%|          | 0/50 [00:00<?, ?it/s]"
     ]
    },
    {
     "name": "stdout",
     "output_type": "stream",
     "text": [
      "199.73333333333332\n"
     ]
    },
    {
     "name": "stderr",
     "output_type": "stream",
     "text": [
      "Training: 100%|██████████| 50/50 [00:04<00:00, 12.31it/s]\n",
      "Evaluating: 100%|██████████| 30/30 [00:00<00:00, 45.07it/s]\n",
      "Training:   2%|▏         | 1/50 [00:00<00:09,  5.24it/s]"
     ]
    },
    {
     "name": "stdout",
     "output_type": "stream",
     "text": [
      "151.03333333333333\n"
     ]
    },
    {
     "name": "stderr",
     "output_type": "stream",
     "text": [
      "Training: 100%|██████████| 50/50 [00:04<00:00, 12.18it/s]\n",
      "Evaluating: 100%|██████████| 30/30 [00:00<00:00, 33.13it/s]\n",
      "Training:   0%|          | 0/50 [00:00<?, ?it/s]"
     ]
    },
    {
     "name": "stdout",
     "output_type": "stream",
     "text": [
      "200.0\n"
     ]
    },
    {
     "name": "stderr",
     "output_type": "stream",
     "text": [
      "Training: 100%|██████████| 50/50 [00:03<00:00, 12.60it/s]\n",
      "Evaluating: 100%|██████████| 30/30 [00:00<00:00, 397.23it/s]\n",
      "Training:  16%|█▌        | 8/50 [00:00<00:00, 59.81it/s]"
     ]
    },
    {
     "name": "stdout",
     "output_type": "stream",
     "text": [
      "16.4\n"
     ]
    },
    {
     "name": "stderr",
     "output_type": "stream",
     "text": [
      "Training: 100%|██████████| 50/50 [00:03<00:00, 13.97it/s]\n",
      "Evaluating: 100%|██████████| 30/30 [00:00<00:00, 32.87it/s]\n",
      "Training:   0%|          | 0/50 [00:00<?, ?it/s]"
     ]
    },
    {
     "name": "stdout",
     "output_type": "stream",
     "text": [
      "200.0\n"
     ]
    },
    {
     "name": "stderr",
     "output_type": "stream",
     "text": [
      "Training: 100%|██████████| 50/50 [00:04<00:00, 11.28it/s]\n",
      "Evaluating: 100%|██████████| 30/30 [00:00<00:00, 40.49it/s]\n",
      "Training:   0%|          | 0/50 [00:00<?, ?it/s]"
     ]
    },
    {
     "name": "stdout",
     "output_type": "stream",
     "text": [
      "147.96666666666667\n"
     ]
    },
    {
     "name": "stderr",
     "output_type": "stream",
     "text": [
      "Training: 100%|██████████| 50/50 [00:04<00:00, 11.86it/s]\n",
      "Evaluating: 100%|██████████| 30/30 [00:00<00:00, 48.64it/s]\n",
      "Training:   4%|▍         | 2/50 [00:00<00:04, 11.74it/s]"
     ]
    },
    {
     "name": "stdout",
     "output_type": "stream",
     "text": [
      "136.2\n"
     ]
    },
    {
     "name": "stderr",
     "output_type": "stream",
     "text": [
      "Training: 100%|██████████| 50/50 [00:03<00:00, 12.89it/s]\n",
      "Evaluating: 100%|██████████| 30/30 [00:01<00:00, 26.02it/s]\n",
      "Training:   0%|          | 0/50 [00:00<?, ?it/s]"
     ]
    },
    {
     "name": "stdout",
     "output_type": "stream",
     "text": [
      "200.0\n"
     ]
    },
    {
     "name": "stderr",
     "output_type": "stream",
     "text": [
      "Training: 100%|██████████| 50/50 [00:04<00:00, 12.76it/s]\n",
      "Evaluating: 100%|██████████| 30/30 [00:00<00:00, 36.53it/s]\n",
      "Training:   0%|          | 0/50 [00:00<?, ?it/s]"
     ]
    },
    {
     "name": "stdout",
     "output_type": "stream",
     "text": [
      "168.1\n"
     ]
    },
    {
     "name": "stderr",
     "output_type": "stream",
     "text": [
      "Training: 100%|██████████| 50/50 [00:04<00:00, 12.02it/s]\n",
      "Evaluating: 100%|██████████| 30/30 [00:00<00:00, 33.17it/s]\n",
      "Training:   0%|          | 0/50 [00:00<?, ?it/s]"
     ]
    },
    {
     "name": "stdout",
     "output_type": "stream",
     "text": [
      "200.0\n"
     ]
    },
    {
     "name": "stderr",
     "output_type": "stream",
     "text": [
      "Training: 100%|██████████| 50/50 [00:03<00:00, 14.38it/s]\n",
      "Evaluating: 100%|██████████| 30/30 [00:00<00:00, 56.15it/s]\n",
      "Training:   2%|▏         | 1/50 [00:00<00:05,  9.59it/s]"
     ]
    },
    {
     "name": "stdout",
     "output_type": "stream",
     "text": [
      "117.76666666666667\n"
     ]
    },
    {
     "name": "stderr",
     "output_type": "stream",
     "text": [
      "Training: 100%|██████████| 50/50 [00:03<00:00, 12.72it/s]\n",
      "Evaluating: 100%|██████████| 30/30 [00:00<00:00, 45.07it/s]\n",
      "Training:   0%|          | 0/50 [00:00<?, ?it/s]"
     ]
    },
    {
     "name": "stdout",
     "output_type": "stream",
     "text": [
      "149.46666666666667\n"
     ]
    },
    {
     "name": "stderr",
     "output_type": "stream",
     "text": [
      "Training: 100%|██████████| 50/50 [00:03<00:00, 13.66it/s]\n",
      "Evaluating: 100%|██████████| 30/30 [00:00<00:00, 33.49it/s]\n",
      "Training:   2%|▏         | 1/50 [00:00<00:05,  8.32it/s]"
     ]
    },
    {
     "name": "stdout",
     "output_type": "stream",
     "text": [
      "200.0\n"
     ]
    },
    {
     "name": "stderr",
     "output_type": "stream",
     "text": [
      "Training: 100%|██████████| 50/50 [00:03<00:00, 12.57it/s]\n",
      "Evaluating: 100%|██████████| 30/30 [00:00<00:00, 33.18it/s]\n",
      "Training:   2%|▏         | 1/50 [00:00<00:05,  9.55it/s]"
     ]
    },
    {
     "name": "stdout",
     "output_type": "stream",
     "text": [
      "200.0\n"
     ]
    },
    {
     "name": "stderr",
     "output_type": "stream",
     "text": [
      "Training: 100%|██████████| 50/50 [00:03<00:00, 13.28it/s]\n",
      "Evaluating: 100%|██████████| 30/30 [00:00<00:00, 32.54it/s]\n",
      "Training:   0%|          | 0/50 [00:00<?, ?it/s]"
     ]
    },
    {
     "name": "stdout",
     "output_type": "stream",
     "text": [
      "200.0\n"
     ]
    },
    {
     "name": "stderr",
     "output_type": "stream",
     "text": [
      "Training: 100%|██████████| 50/50 [00:03<00:00, 16.01it/s]\n",
      "Evaluating: 100%|██████████| 30/30 [00:00<00:00, 51.28it/s]\n",
      "Training:   0%|          | 0/50 [00:00<?, ?it/s]"
     ]
    },
    {
     "name": "stdout",
     "output_type": "stream",
     "text": [
      "128.66666666666666\n"
     ]
    },
    {
     "name": "stderr",
     "output_type": "stream",
     "text": [
      "Training: 100%|██████████| 50/50 [00:04<00:00, 12.29it/s]\n",
      "Evaluating: 100%|██████████| 30/30 [00:00<00:00, 40.73it/s]\n",
      "Training:   2%|▏         | 1/50 [00:00<00:06,  7.54it/s]"
     ]
    },
    {
     "name": "stdout",
     "output_type": "stream",
     "text": [
      "150.86666666666667\n"
     ]
    },
    {
     "name": "stderr",
     "output_type": "stream",
     "text": [
      "Training: 100%|██████████| 50/50 [00:03<00:00, 11.01it/s]\n",
      "Evaluating: 100%|██████████| 30/30 [00:00<00:00, 32.74it/s]\n",
      "Training:   2%|▏         | 1/50 [00:00<00:06,  7.85it/s]"
     ]
    },
    {
     "name": "stdout",
     "output_type": "stream",
     "text": [
      "200.0\n"
     ]
    },
    {
     "name": "stderr",
     "output_type": "stream",
     "text": [
      "Training: 100%|██████████| 50/50 [00:04<00:00, 12.43it/s]\n",
      "Evaluating: 100%|██████████| 30/30 [00:00<00:00, 38.80it/s]\n",
      "Training:   0%|          | 0/50 [00:00<?, ?it/s]"
     ]
    },
    {
     "name": "stdout",
     "output_type": "stream",
     "text": [
      "160.4\n"
     ]
    },
    {
     "name": "stderr",
     "output_type": "stream",
     "text": [
      "Training: 100%|██████████| 50/50 [00:04<00:00, 12.34it/s]\n",
      "Evaluating: 100%|██████████| 30/30 [00:00<00:00, 34.08it/s]\n",
      "Training:   2%|▏         | 1/50 [00:00<00:09,  5.39it/s]"
     ]
    },
    {
     "name": "stdout",
     "output_type": "stream",
     "text": [
      "200.0\n"
     ]
    },
    {
     "name": "stderr",
     "output_type": "stream",
     "text": [
      "Training: 100%|██████████| 50/50 [00:04<00:00, 11.15it/s]\n",
      "Evaluating: 100%|██████████| 30/30 [00:00<00:00, 33.51it/s]\n",
      "Training:   4%|▍         | 2/50 [00:00<00:04, 11.14it/s]"
     ]
    },
    {
     "name": "stdout",
     "output_type": "stream",
     "text": [
      "200.0\n"
     ]
    },
    {
     "name": "stderr",
     "output_type": "stream",
     "text": [
      "Training: 100%|██████████| 50/50 [00:04<00:00, 11.62it/s]\n",
      "Evaluating: 100%|██████████| 30/30 [00:00<00:00, 32.74it/s]\n",
      "Training:   2%|▏         | 1/50 [00:00<00:07,  6.83it/s]"
     ]
    },
    {
     "name": "stdout",
     "output_type": "stream",
     "text": [
      "200.0\n"
     ]
    },
    {
     "name": "stderr",
     "output_type": "stream",
     "text": [
      "Training: 100%|██████████| 50/50 [00:03<00:00, 13.27it/s]\n",
      "Evaluating: 100%|██████████| 30/30 [00:00<00:00, 33.37it/s]\n",
      "Training:   0%|          | 0/50 [00:00<?, ?it/s]"
     ]
    },
    {
     "name": "stdout",
     "output_type": "stream",
     "text": [
      "200.0\n"
     ]
    },
    {
     "name": "stderr",
     "output_type": "stream",
     "text": [
      "Training: 100%|██████████| 50/50 [00:04<00:00, 12.38it/s]\n",
      "Evaluating: 100%|██████████| 30/30 [00:00<00:00, 33.01it/s]\n",
      "Training:   2%|▏         | 1/50 [00:00<00:06,  7.51it/s]"
     ]
    },
    {
     "name": "stdout",
     "output_type": "stream",
     "text": [
      "200.0\n"
     ]
    },
    {
     "name": "stderr",
     "output_type": "stream",
     "text": [
      "Training: 100%|██████████| 50/50 [00:04<00:00, 11.21it/s]\n",
      "Evaluating: 100%|██████████| 30/30 [00:00<00:00, 33.57it/s]\n",
      "Training:   2%|▏         | 1/50 [00:00<00:08,  5.91it/s]"
     ]
    },
    {
     "name": "stdout",
     "output_type": "stream",
     "text": [
      "200.0\n"
     ]
    },
    {
     "name": "stderr",
     "output_type": "stream",
     "text": [
      "Training: 100%|██████████| 50/50 [00:04<00:00, 13.75it/s]\n",
      "Evaluating: 100%|██████████| 30/30 [00:00<00:00, 33.23it/s]\n",
      "Training:   0%|          | 0/50 [00:00<?, ?it/s]"
     ]
    },
    {
     "name": "stdout",
     "output_type": "stream",
     "text": [
      "200.0\n"
     ]
    },
    {
     "name": "stderr",
     "output_type": "stream",
     "text": [
      "Training: 100%|██████████| 50/50 [00:03<00:00, 13.32it/s]\n",
      "Evaluating: 100%|██████████| 30/30 [00:00<00:00, 32.59it/s]\n",
      "Training:   2%|▏         | 1/50 [00:00<00:07,  6.41it/s]"
     ]
    },
    {
     "name": "stdout",
     "output_type": "stream",
     "text": [
      "200.0\n"
     ]
    },
    {
     "name": "stderr",
     "output_type": "stream",
     "text": [
      "Training: 100%|██████████| 50/50 [00:04<00:00, 11.97it/s]\n",
      "Evaluating: 100%|██████████| 30/30 [00:00<00:00, 33.41it/s]\n",
      "Training:   2%|▏         | 1/50 [00:00<00:06,  7.22it/s]"
     ]
    },
    {
     "name": "stdout",
     "output_type": "stream",
     "text": [
      "200.0\n"
     ]
    },
    {
     "name": "stderr",
     "output_type": "stream",
     "text": [
      "Training: 100%|██████████| 50/50 [00:03<00:00, 12.18it/s]\n",
      "Evaluating: 100%|██████████| 30/30 [00:00<00:00, 32.49it/s]\n",
      "Training:   2%|▏         | 1/50 [00:00<00:06,  7.69it/s]"
     ]
    },
    {
     "name": "stdout",
     "output_type": "stream",
     "text": [
      "200.0\n"
     ]
    },
    {
     "name": "stderr",
     "output_type": "stream",
     "text": [
      "Training: 100%|██████████| 50/50 [00:02<00:00, 19.21it/s]\n",
      "Evaluating: 100%|██████████| 30/30 [00:00<00:00, 31.87it/s]\n",
      "Training:   2%|▏         | 1/50 [00:00<00:05,  9.26it/s]"
     ]
    },
    {
     "name": "stdout",
     "output_type": "stream",
     "text": [
      "200.0\n"
     ]
    },
    {
     "name": "stderr",
     "output_type": "stream",
     "text": [
      "Training: 100%|██████████| 50/50 [00:03<00:00, 12.94it/s]\n",
      "Evaluating: 100%|██████████| 30/30 [00:00<00:00, 33.02it/s]\n",
      "Training:   2%|▏         | 1/50 [00:00<00:07,  6.34it/s]"
     ]
    },
    {
     "name": "stdout",
     "output_type": "stream",
     "text": [
      "200.0\n"
     ]
    },
    {
     "name": "stderr",
     "output_type": "stream",
     "text": [
      "Training: 100%|██████████| 50/50 [00:04<00:00, 11.86it/s]\n",
      "Evaluating: 100%|██████████| 30/30 [00:00<00:00, 47.44it/s]\n",
      "Training:   0%|          | 0/50 [00:00<?, ?it/s]"
     ]
    },
    {
     "name": "stdout",
     "output_type": "stream",
     "text": [
      "132.0\n"
     ]
    },
    {
     "name": "stderr",
     "output_type": "stream",
     "text": [
      "Training: 100%|██████████| 50/50 [00:03<00:00, 13.84it/s]\n",
      "Evaluating: 100%|██████████| 30/30 [00:00<00:00, 37.18it/s]\n",
      "Training:   0%|          | 0/50 [00:00<?, ?it/s]"
     ]
    },
    {
     "name": "stdout",
     "output_type": "stream",
     "text": [
      "179.0\n"
     ]
    },
    {
     "name": "stderr",
     "output_type": "stream",
     "text": [
      "Training: 100%|██████████| 50/50 [00:03<00:00, 14.69it/s]\n",
      "Evaluating: 100%|██████████| 30/30 [00:00<00:00, 63.30it/s]\n",
      "Training:   2%|▏         | 1/50 [00:00<00:06,  8.13it/s]"
     ]
    },
    {
     "name": "stdout",
     "output_type": "stream",
     "text": [
      "105.66666666666667\n"
     ]
    },
    {
     "name": "stderr",
     "output_type": "stream",
     "text": [
      "Training: 100%|██████████| 50/50 [00:03<00:00, 14.44it/s]\n",
      "Evaluating: 100%|██████████| 30/30 [00:00<00:00, 50.21it/s]\n",
      "Training:   0%|          | 0/50 [00:00<?, ?it/s]"
     ]
    },
    {
     "name": "stdout",
     "output_type": "stream",
     "text": [
      "137.3\n"
     ]
    },
    {
     "name": "stderr",
     "output_type": "stream",
     "text": [
      "Training: 100%|██████████| 50/50 [00:03<00:00, 14.02it/s]\n",
      "Evaluating: 100%|██████████| 30/30 [00:00<00:00, 51.39it/s]\n",
      "Training:   2%|▏         | 1/50 [00:00<00:09,  5.18it/s]"
     ]
    },
    {
     "name": "stdout",
     "output_type": "stream",
     "text": [
      "131.46666666666667\n"
     ]
    },
    {
     "name": "stderr",
     "output_type": "stream",
     "text": [
      "Training: 100%|██████████| 50/50 [00:03<00:00, 13.04it/s]\n",
      "Evaluating: 100%|██████████| 30/30 [00:00<00:00, 35.60it/s]\n",
      "Training:   0%|          | 0/50 [00:00<?, ?it/s]"
     ]
    },
    {
     "name": "stdout",
     "output_type": "stream",
     "text": [
      "185.56666666666666\n"
     ]
    },
    {
     "name": "stderr",
     "output_type": "stream",
     "text": [
      "Training: 100%|██████████| 50/50 [00:04<00:00, 12.36it/s]\n",
      "Evaluating: 100%|██████████| 30/30 [00:00<00:00, 34.16it/s]\n",
      "Training:   2%|▏         | 1/50 [00:00<00:05,  8.75it/s]"
     ]
    },
    {
     "name": "stdout",
     "output_type": "stream",
     "text": [
      "198.16666666666666\n"
     ]
    },
    {
     "name": "stderr",
     "output_type": "stream",
     "text": [
      "Training: 100%|██████████| 50/50 [00:03<00:00, 12.58it/s]\n",
      "Evaluating: 100%|██████████| 30/30 [00:00<00:00, 47.76it/s]\n",
      "Training:   4%|▍         | 2/50 [00:00<00:03, 13.50it/s]"
     ]
    },
    {
     "name": "stdout",
     "output_type": "stream",
     "text": [
      "134.76666666666668\n"
     ]
    },
    {
     "name": "stderr",
     "output_type": "stream",
     "text": [
      "Training: 100%|██████████| 50/50 [00:04<00:00, 12.28it/s]\n",
      "Evaluating: 100%|██████████| 30/30 [00:00<00:00, 32.83it/s]\n",
      "Training:   2%|▏         | 1/50 [00:00<00:05,  9.55it/s]"
     ]
    },
    {
     "name": "stdout",
     "output_type": "stream",
     "text": [
      "200.0\n"
     ]
    },
    {
     "name": "stderr",
     "output_type": "stream",
     "text": [
      "Training: 100%|██████████| 50/50 [00:04<00:00, 12.40it/s]\n",
      "Evaluating: 100%|██████████| 30/30 [00:00<00:00, 33.57it/s]\n",
      "Training:   2%|▏         | 1/50 [00:00<00:07,  6.63it/s]"
     ]
    },
    {
     "name": "stdout",
     "output_type": "stream",
     "text": [
      "200.0\n"
     ]
    },
    {
     "name": "stderr",
     "output_type": "stream",
     "text": [
      "Training: 100%|██████████| 50/50 [00:04<00:00, 11.55it/s]\n",
      "Evaluating: 100%|██████████| 30/30 [00:00<00:00, 33.18it/s]\n",
      "Training:   2%|▏         | 1/50 [00:00<00:08,  5.95it/s]"
     ]
    },
    {
     "name": "stdout",
     "output_type": "stream",
     "text": [
      "200.0\n"
     ]
    },
    {
     "name": "stderr",
     "output_type": "stream",
     "text": [
      "Training: 100%|██████████| 50/50 [00:04<00:00, 11.38it/s]\n",
      "Evaluating: 100%|██████████| 30/30 [00:00<00:00, 33.60it/s]\n",
      "Training:   2%|▏         | 1/50 [00:00<00:05,  9.77it/s]"
     ]
    },
    {
     "name": "stdout",
     "output_type": "stream",
     "text": [
      "200.0\n"
     ]
    },
    {
     "name": "stderr",
     "output_type": "stream",
     "text": [
      "Training: 100%|██████████| 50/50 [00:04<00:00, 12.23it/s]\n",
      "Evaluating: 100%|██████████| 30/30 [00:00<00:00, 33.62it/s]\n",
      "Training:   2%|▏         | 1/50 [00:00<00:06,  7.40it/s]"
     ]
    },
    {
     "name": "stdout",
     "output_type": "stream",
     "text": [
      "200.0\n"
     ]
    },
    {
     "name": "stderr",
     "output_type": "stream",
     "text": [
      "Training: 100%|██████████| 50/50 [00:04<00:00, 11.29it/s]\n",
      "Evaluating: 100%|██████████| 30/30 [00:00<00:00, 33.34it/s]\n",
      "Training:   4%|▍         | 2/50 [00:00<00:04, 11.07it/s]"
     ]
    },
    {
     "name": "stdout",
     "output_type": "stream",
     "text": [
      "200.0\n"
     ]
    },
    {
     "name": "stderr",
     "output_type": "stream",
     "text": [
      "Training: 100%|██████████| 50/50 [00:04<00:00, 11.40it/s]\n",
      "Evaluating: 100%|██████████| 30/30 [00:00<00:00, 33.32it/s]\n",
      "Training:   4%|▍         | 2/50 [00:00<00:04, 10.74it/s]"
     ]
    },
    {
     "name": "stdout",
     "output_type": "stream",
     "text": [
      "200.0\n"
     ]
    },
    {
     "name": "stderr",
     "output_type": "stream",
     "text": [
      "Training: 100%|██████████| 50/50 [00:03<00:00, 11.55it/s]\n",
      "Evaluating: 100%|██████████| 30/30 [00:00<00:00, 32.99it/s]\n",
      "Training:   0%|          | 0/50 [00:00<?, ?it/s]"
     ]
    },
    {
     "name": "stdout",
     "output_type": "stream",
     "text": [
      "200.0\n"
     ]
    },
    {
     "name": "stderr",
     "output_type": "stream",
     "text": [
      "Training: 100%|██████████| 50/50 [00:04<00:00, 11.14it/s]\n",
      "Evaluating: 100%|██████████| 30/30 [00:00<00:00, 33.48it/s]\n",
      "Training:   2%|▏         | 1/50 [00:00<00:07,  6.31it/s]"
     ]
    },
    {
     "name": "stdout",
     "output_type": "stream",
     "text": [
      "200.0\n"
     ]
    },
    {
     "name": "stderr",
     "output_type": "stream",
     "text": [
      "Training: 100%|██████████| 50/50 [00:05<00:00,  8.67it/s]\n",
      "Evaluating: 100%|██████████| 30/30 [00:00<00:00, 32.12it/s]\n",
      "Training:   0%|          | 0/50 [00:00<?, ?it/s]"
     ]
    },
    {
     "name": "stdout",
     "output_type": "stream",
     "text": [
      "200.0\n"
     ]
    },
    {
     "name": "stderr",
     "output_type": "stream",
     "text": [
      "Training: 100%|██████████| 50/50 [00:05<00:00,  8.68it/s]\n",
      "Evaluating: 100%|██████████| 30/30 [00:00<00:00, 32.35it/s]\n",
      "Training:   2%|▏         | 1/50 [00:00<00:06,  7.31it/s]"
     ]
    },
    {
     "name": "stdout",
     "output_type": "stream",
     "text": [
      "200.0\n"
     ]
    },
    {
     "name": "stderr",
     "output_type": "stream",
     "text": [
      "Training: 100%|██████████| 50/50 [00:03<00:00, 14.16it/s]\n",
      "Evaluating: 100%|██████████| 30/30 [00:00<00:00, 33.09it/s]\n",
      "Training:   0%|          | 0/50 [00:00<?, ?it/s]"
     ]
    },
    {
     "name": "stdout",
     "output_type": "stream",
     "text": [
      "200.0\n"
     ]
    },
    {
     "name": "stderr",
     "output_type": "stream",
     "text": [
      "Training: 100%|██████████| 50/50 [00:04<00:00, 11.26it/s]\n",
      "Evaluating: 100%|██████████| 30/30 [00:00<00:00, 32.97it/s]\n",
      "Training:   2%|▏         | 1/50 [00:00<00:05,  8.25it/s]"
     ]
    },
    {
     "name": "stdout",
     "output_type": "stream",
     "text": [
      "200.0\n"
     ]
    },
    {
     "name": "stderr",
     "output_type": "stream",
     "text": [
      "Training: 100%|██████████| 50/50 [00:04<00:00, 11.29it/s]\n",
      "Evaluating: 100%|██████████| 30/30 [00:00<00:00, 33.19it/s]\n",
      "Training:   0%|          | 0/50 [00:00<?, ?it/s]"
     ]
    },
    {
     "name": "stdout",
     "output_type": "stream",
     "text": [
      "200.0\n"
     ]
    },
    {
     "name": "stderr",
     "output_type": "stream",
     "text": [
      "Training: 100%|██████████| 50/50 [00:04<00:00, 12.44it/s]\n",
      "Evaluating: 100%|██████████| 30/30 [00:00<00:00, 32.63it/s]\n",
      "Training:   0%|          | 0/50 [00:00<?, ?it/s]"
     ]
    },
    {
     "name": "stdout",
     "output_type": "stream",
     "text": [
      "200.0\n"
     ]
    },
    {
     "name": "stderr",
     "output_type": "stream",
     "text": [
      "Training: 100%|██████████| 50/50 [00:05<00:00,  9.03it/s]\n",
      "Evaluating: 100%|██████████| 30/30 [00:00<00:00, 32.44it/s]\n",
      "Training:   0%|          | 0/50 [00:00<?, ?it/s]"
     ]
    },
    {
     "name": "stdout",
     "output_type": "stream",
     "text": [
      "200.0\n"
     ]
    },
    {
     "name": "stderr",
     "output_type": "stream",
     "text": [
      "Training: 100%|██████████| 50/50 [00:05<00:00,  8.70it/s]\n",
      "Evaluating: 100%|██████████| 30/30 [00:00<00:00, 31.10it/s]\n",
      "Training:   2%|▏         | 1/50 [00:00<00:07,  6.31it/s]"
     ]
    },
    {
     "name": "stdout",
     "output_type": "stream",
     "text": [
      "200.0\n"
     ]
    },
    {
     "name": "stderr",
     "output_type": "stream",
     "text": [
      "Training: 100%|██████████| 50/50 [00:04<00:00, 11.68it/s]\n",
      "Evaluating: 100%|██████████| 30/30 [00:00<00:00, 33.59it/s]\n",
      "Training:   2%|▏         | 1/50 [00:00<00:08,  5.88it/s]"
     ]
    },
    {
     "name": "stdout",
     "output_type": "stream",
     "text": [
      "200.0\n"
     ]
    },
    {
     "name": "stderr",
     "output_type": "stream",
     "text": [
      "Training: 100%|██████████| 50/50 [00:04<00:00, 11.12it/s]\n",
      "Evaluating: 100%|██████████| 30/30 [00:01<00:00, 26.17it/s]\n",
      "Training:   0%|          | 0/50 [00:00<?, ?it/s]"
     ]
    },
    {
     "name": "stdout",
     "output_type": "stream",
     "text": [
      "200.0\n"
     ]
    },
    {
     "name": "stderr",
     "output_type": "stream",
     "text": [
      "Training: 100%|██████████| 50/50 [00:05<00:00,  9.06it/s]\n",
      "Evaluating: 100%|██████████| 30/30 [00:00<00:00, 32.38it/s]\n",
      "Training:   0%|          | 0/50 [00:00<?, ?it/s]"
     ]
    },
    {
     "name": "stdout",
     "output_type": "stream",
     "text": [
      "200.0\n"
     ]
    },
    {
     "name": "stderr",
     "output_type": "stream",
     "text": [
      "Training: 100%|██████████| 50/50 [00:04<00:00, 11.25it/s]\n",
      "Evaluating: 100%|██████████| 30/30 [00:00<00:00, 32.75it/s]\n",
      "Training:   2%|▏         | 1/50 [00:00<00:06,  7.37it/s]"
     ]
    },
    {
     "name": "stdout",
     "output_type": "stream",
     "text": [
      "200.0\n"
     ]
    },
    {
     "name": "stderr",
     "output_type": "stream",
     "text": [
      "Training: 100%|██████████| 50/50 [00:04<00:00, 11.42it/s]\n",
      "Evaluating: 100%|██████████| 30/30 [00:00<00:00, 32.61it/s]\n",
      "Training:   2%|▏         | 1/50 [00:00<00:07,  6.64it/s]"
     ]
    },
    {
     "name": "stdout",
     "output_type": "stream",
     "text": [
      "200.0\n"
     ]
    },
    {
     "name": "stderr",
     "output_type": "stream",
     "text": [
      "Training: 100%|██████████| 50/50 [00:04<00:00, 12.30it/s]\n",
      "Evaluating: 100%|██████████| 30/30 [00:00<00:00, 32.23it/s]\n",
      "Training:   0%|          | 0/50 [00:00<?, ?it/s]"
     ]
    },
    {
     "name": "stdout",
     "output_type": "stream",
     "text": [
      "200.0\n"
     ]
    },
    {
     "name": "stderr",
     "output_type": "stream",
     "text": [
      "Training: 100%|██████████| 50/50 [00:04<00:00, 10.92it/s]\n",
      "Evaluating: 100%|██████████| 30/30 [00:00<00:00, 33.50it/s]\n",
      "Training:   0%|          | 0/50 [00:00<?, ?it/s]"
     ]
    },
    {
     "name": "stdout",
     "output_type": "stream",
     "text": [
      "200.0\n"
     ]
    },
    {
     "name": "stderr",
     "output_type": "stream",
     "text": [
      "Training: 100%|██████████| 50/50 [00:04<00:00, 11.87it/s]\n",
      "Evaluating: 100%|██████████| 30/30 [00:01<00:00, 26.18it/s]\n",
      "Training:   0%|          | 0/50 [00:00<?, ?it/s]"
     ]
    },
    {
     "name": "stdout",
     "output_type": "stream",
     "text": [
      "200.0\n"
     ]
    },
    {
     "name": "stderr",
     "output_type": "stream",
     "text": [
      "Training: 100%|██████████| 50/50 [00:05<00:00,  8.63it/s]\n",
      "Evaluating: 100%|██████████| 30/30 [00:01<00:00, 26.14it/s]\n",
      "Training:   2%|▏         | 1/50 [00:00<00:07,  6.74it/s]"
     ]
    },
    {
     "name": "stdout",
     "output_type": "stream",
     "text": [
      "200.0\n"
     ]
    },
    {
     "name": "stderr",
     "output_type": "stream",
     "text": [
      "Training: 100%|██████████| 50/50 [00:04<00:00,  9.27it/s]\n",
      "Evaluating: 100%|██████████| 30/30 [00:01<00:00, 26.15it/s]\n",
      "Training:   0%|          | 0/50 [00:00<?, ?it/s]"
     ]
    },
    {
     "name": "stdout",
     "output_type": "stream",
     "text": [
      "200.0\n"
     ]
    },
    {
     "name": "stderr",
     "output_type": "stream",
     "text": [
      "Training: 100%|██████████| 50/50 [00:04<00:00, 10.59it/s]\n",
      "Evaluating: 100%|██████████| 30/30 [00:00<00:00, 32.26it/s]\n",
      "Training:   4%|▍         | 2/50 [00:00<00:02, 18.00it/s]"
     ]
    },
    {
     "name": "stdout",
     "output_type": "stream",
     "text": [
      "200.0\n"
     ]
    },
    {
     "name": "stderr",
     "output_type": "stream",
     "text": [
      "Training: 100%|██████████| 50/50 [00:04<00:00, 11.46it/s]\n",
      "Evaluating: 100%|██████████| 30/30 [00:00<00:00, 34.26it/s]\n",
      "Training:   0%|          | 0/50 [00:00<?, ?it/s]"
     ]
    },
    {
     "name": "stdout",
     "output_type": "stream",
     "text": [
      "200.0\n"
     ]
    },
    {
     "name": "stderr",
     "output_type": "stream",
     "text": [
      "Training: 100%|██████████| 50/50 [00:05<00:00,  8.71it/s]\n",
      "Evaluating: 100%|██████████| 30/30 [00:00<00:00, 33.24it/s]\n",
      "Training:   0%|          | 0/50 [00:00<?, ?it/s]"
     ]
    },
    {
     "name": "stdout",
     "output_type": "stream",
     "text": [
      "200.0\n"
     ]
    },
    {
     "name": "stderr",
     "output_type": "stream",
     "text": [
      "Training: 100%|██████████| 50/50 [00:04<00:00, 11.80it/s]\n",
      "Evaluating: 100%|██████████| 30/30 [00:00<00:00, 33.23it/s]\n",
      "Training:   2%|▏         | 1/50 [00:00<00:07,  6.72it/s]"
     ]
    },
    {
     "name": "stdout",
     "output_type": "stream",
     "text": [
      "200.0\n"
     ]
    },
    {
     "name": "stderr",
     "output_type": "stream",
     "text": [
      "Training: 100%|██████████| 50/50 [00:04<00:00, 11.30it/s]\n",
      "Evaluating: 100%|██████████| 30/30 [00:00<00:00, 33.79it/s]\n",
      "Training:   2%|▏         | 1/50 [00:00<00:07,  6.58it/s]"
     ]
    },
    {
     "name": "stdout",
     "output_type": "stream",
     "text": [
      "200.0\n"
     ]
    },
    {
     "name": "stderr",
     "output_type": "stream",
     "text": [
      "Training: 100%|██████████| 50/50 [00:04<00:00, 11.84it/s]\n",
      "Evaluating: 100%|██████████| 30/30 [00:01<00:00, 27.17it/s]\n",
      "Training:   2%|▏         | 1/50 [00:00<00:07,  6.66it/s]"
     ]
    },
    {
     "name": "stdout",
     "output_type": "stream",
     "text": [
      "200.0\n"
     ]
    },
    {
     "name": "stderr",
     "output_type": "stream",
     "text": [
      "Training: 100%|██████████| 50/50 [00:03<00:00, 12.80it/s]\n",
      "Evaluating: 100%|██████████| 30/30 [00:00<00:00, 33.28it/s]\n",
      "Training:   0%|          | 0/50 [00:00<?, ?it/s]"
     ]
    },
    {
     "name": "stdout",
     "output_type": "stream",
     "text": [
      "200.0\n"
     ]
    },
    {
     "name": "stderr",
     "output_type": "stream",
     "text": [
      "Training: 100%|██████████| 50/50 [00:04<00:00, 11.86it/s]\n",
      "Evaluating: 100%|██████████| 30/30 [00:00<00:00, 33.60it/s]\n",
      "Training:   2%|▏         | 1/50 [00:00<00:07,  6.14it/s]"
     ]
    },
    {
     "name": "stdout",
     "output_type": "stream",
     "text": [
      "200.0\n"
     ]
    },
    {
     "name": "stderr",
     "output_type": "stream",
     "text": [
      "Training: 100%|██████████| 50/50 [00:04<00:00, 11.50it/s]\n",
      "Evaluating: 100%|██████████| 30/30 [00:00<00:00, 33.96it/s]\n",
      "Training:   2%|▏         | 1/50 [00:00<00:06,  7.56it/s]"
     ]
    },
    {
     "name": "stdout",
     "output_type": "stream",
     "text": [
      "200.0\n"
     ]
    },
    {
     "name": "stderr",
     "output_type": "stream",
     "text": [
      "Training: 100%|██████████| 50/50 [00:03<00:00, 12.69it/s]\n",
      "Evaluating: 100%|██████████| 30/30 [00:00<00:00, 34.07it/s]\n",
      "Training:   2%|▏         | 1/50 [00:00<00:06,  7.50it/s]"
     ]
    },
    {
     "name": "stdout",
     "output_type": "stream",
     "text": [
      "200.0\n"
     ]
    },
    {
     "name": "stderr",
     "output_type": "stream",
     "text": [
      "Training: 100%|██████████| 50/50 [00:04<00:00, 11.45it/s]\n",
      "Evaluating: 100%|██████████| 30/30 [00:00<00:00, 33.13it/s]\n",
      "Training:   0%|          | 0/50 [00:00<?, ?it/s]"
     ]
    },
    {
     "name": "stdout",
     "output_type": "stream",
     "text": [
      "200.0\n"
     ]
    },
    {
     "name": "stderr",
     "output_type": "stream",
     "text": [
      "Training: 100%|██████████| 50/50 [00:05<00:00,  8.93it/s]\n",
      "Evaluating: 100%|██████████| 30/30 [00:00<00:00, 30.66it/s]\n",
      "Training:   0%|          | 0/50 [00:00<?, ?it/s]"
     ]
    },
    {
     "name": "stdout",
     "output_type": "stream",
     "text": [
      "200.0\n"
     ]
    },
    {
     "name": "stderr",
     "output_type": "stream",
     "text": [
      "Training: 100%|██████████| 50/50 [00:04<00:00, 11.52it/s]\n",
      "Evaluating: 100%|██████████| 30/30 [00:00<00:00, 33.66it/s]\n",
      "Training:   0%|          | 0/50 [00:00<?, ?it/s]"
     ]
    },
    {
     "name": "stdout",
     "output_type": "stream",
     "text": [
      "200.0\n"
     ]
    },
    {
     "name": "stderr",
     "output_type": "stream",
     "text": [
      "Training: 100%|██████████| 50/50 [00:04<00:00, 11.39it/s]\n",
      "Evaluating: 100%|██████████| 30/30 [00:00<00:00, 34.00it/s]\n",
      "Training:   0%|          | 0/50 [00:00<?, ?it/s]"
     ]
    },
    {
     "name": "stdout",
     "output_type": "stream",
     "text": [
      "200.0\n"
     ]
    },
    {
     "name": "stderr",
     "output_type": "stream",
     "text": [
      "Training: 100%|██████████| 50/50 [00:04<00:00, 12.47it/s]\n",
      "Evaluating: 100%|██████████| 30/30 [00:00<00:00, 33.67it/s]\n",
      "Training:   0%|          | 0/50 [00:00<?, ?it/s]"
     ]
    },
    {
     "name": "stdout",
     "output_type": "stream",
     "text": [
      "200.0\n"
     ]
    },
    {
     "name": "stderr",
     "output_type": "stream",
     "text": [
      "Training: 100%|██████████| 50/50 [00:05<00:00,  8.57it/s]\n",
      "Evaluating: 100%|██████████| 30/30 [00:00<00:00, 32.73it/s]\n",
      "Training:   2%|▏         | 1/50 [00:00<00:07,  6.24it/s]"
     ]
    },
    {
     "name": "stdout",
     "output_type": "stream",
     "text": [
      "200.0\n"
     ]
    },
    {
     "name": "stderr",
     "output_type": "stream",
     "text": [
      "Training: 100%|██████████| 50/50 [00:04<00:00, 11.39it/s]\n",
      "Evaluating: 100%|██████████| 30/30 [00:00<00:00, 32.52it/s]\n",
      "Training:   0%|          | 0/50 [00:00<?, ?it/s]"
     ]
    },
    {
     "name": "stdout",
     "output_type": "stream",
     "text": [
      "200.0\n"
     ]
    },
    {
     "name": "stderr",
     "output_type": "stream",
     "text": [
      "Training: 100%|██████████| 50/50 [00:04<00:00, 12.13it/s]\n",
      "Evaluating: 100%|██████████| 30/30 [00:00<00:00, 32.81it/s]\n",
      "Training:   2%|▏         | 1/50 [00:00<00:06,  7.98it/s]"
     ]
    },
    {
     "name": "stdout",
     "output_type": "stream",
     "text": [
      "200.0\n"
     ]
    },
    {
     "name": "stderr",
     "output_type": "stream",
     "text": [
      "Training: 100%|██████████| 50/50 [00:04<00:00, 11.35it/s]\n",
      "Evaluating: 100%|██████████| 30/30 [00:00<00:00, 33.55it/s]\n",
      "Training:   2%|▏         | 1/50 [00:00<00:06,  7.01it/s]"
     ]
    },
    {
     "name": "stdout",
     "output_type": "stream",
     "text": [
      "200.0\n"
     ]
    },
    {
     "name": "stderr",
     "output_type": "stream",
     "text": [
      "Training: 100%|██████████| 50/50 [00:04<00:00, 11.21it/s]\n",
      "Evaluating: 100%|██████████| 30/30 [00:00<00:00, 32.57it/s]\n",
      "Training:   0%|          | 0/50 [00:00<?, ?it/s]"
     ]
    },
    {
     "name": "stdout",
     "output_type": "stream",
     "text": [
      "200.0\n"
     ]
    },
    {
     "name": "stderr",
     "output_type": "stream",
     "text": [
      "Training: 100%|██████████| 50/50 [00:04<00:00, 11.21it/s]\n",
      "Evaluating: 100%|██████████| 30/30 [00:00<00:00, 31.92it/s]\n",
      "Training:   2%|▏         | 1/50 [00:00<00:07,  6.31it/s]"
     ]
    },
    {
     "name": "stdout",
     "output_type": "stream",
     "text": [
      "200.0\n"
     ]
    },
    {
     "name": "stderr",
     "output_type": "stream",
     "text": [
      "Training: 100%|██████████| 50/50 [00:05<00:00,  8.68it/s]\n",
      "Evaluating: 100%|██████████| 30/30 [00:00<00:00, 32.93it/s]\n",
      "Training:   2%|▏         | 1/50 [00:00<00:08,  5.65it/s]"
     ]
    },
    {
     "name": "stdout",
     "output_type": "stream",
     "text": [
      "200.0\n"
     ]
    },
    {
     "name": "stderr",
     "output_type": "stream",
     "text": [
      "Training: 100%|██████████| 50/50 [00:04<00:00, 11.24it/s]\n",
      "Evaluating: 100%|██████████| 30/30 [00:00<00:00, 35.37it/s]\n",
      "Training:   2%|▏         | 1/50 [00:00<00:06,  7.05it/s]"
     ]
    },
    {
     "name": "stdout",
     "output_type": "stream",
     "text": [
      "200.0\n"
     ]
    },
    {
     "name": "stderr",
     "output_type": "stream",
     "text": [
      "Training: 100%|██████████| 50/50 [00:04<00:00, 11.70it/s]\n",
      "Evaluating: 100%|██████████| 30/30 [00:00<00:00, 33.56it/s]\n",
      "Training:   2%|▏         | 1/50 [00:00<00:08,  5.96it/s]"
     ]
    },
    {
     "name": "stdout",
     "output_type": "stream",
     "text": [
      "200.0\n"
     ]
    },
    {
     "name": "stderr",
     "output_type": "stream",
     "text": [
      "Training: 100%|██████████| 50/50 [00:04<00:00, 11.40it/s]\n",
      "Evaluating: 100%|██████████| 30/30 [00:00<00:00, 33.25it/s]\n",
      "Training:   2%|▏         | 1/50 [00:00<00:06,  8.12it/s]"
     ]
    },
    {
     "name": "stdout",
     "output_type": "stream",
     "text": [
      "200.0\n"
     ]
    },
    {
     "name": "stderr",
     "output_type": "stream",
     "text": [
      "Training: 100%|██████████| 50/50 [00:03<00:00, 12.63it/s]\n",
      "Evaluating: 100%|██████████| 30/30 [00:00<00:00, 301.64it/s]\n",
      "Training:   6%|▌         | 3/50 [00:00<00:01, 28.72it/s]"
     ]
    },
    {
     "name": "stdout",
     "output_type": "stream",
     "text": [
      "22.533333333333335\n"
     ]
    },
    {
     "name": "stderr",
     "output_type": "stream",
     "text": [
      "Training: 100%|██████████| 50/50 [00:02<00:00, 24.17it/s]\n",
      "Evaluating: 100%|██████████| 30/30 [00:00<00:00, 32.96it/s]\n",
      "Training:   2%|▏         | 1/50 [00:00<00:07,  6.57it/s]"
     ]
    },
    {
     "name": "stdout",
     "output_type": "stream",
     "text": [
      "200.0\n"
     ]
    },
    {
     "name": "stderr",
     "output_type": "stream",
     "text": [
      "Training: 100%|██████████| 50/50 [00:05<00:00,  8.97it/s]\n",
      "Evaluating: 100%|██████████| 30/30 [00:01<00:00, 26.02it/s]\n",
      "Training:   2%|▏         | 1/50 [00:00<00:06,  7.44it/s]"
     ]
    },
    {
     "name": "stdout",
     "output_type": "stream",
     "text": [
      "200.0\n"
     ]
    },
    {
     "name": "stderr",
     "output_type": "stream",
     "text": [
      "Training: 100%|██████████| 50/50 [00:04<00:00, 11.45it/s]\n",
      "Evaluating: 100%|██████████| 30/30 [00:00<00:00, 34.87it/s]\n",
      "Training:   0%|          | 0/50 [00:00<?, ?it/s]"
     ]
    },
    {
     "name": "stdout",
     "output_type": "stream",
     "text": [
      "200.0\n"
     ]
    },
    {
     "name": "stderr",
     "output_type": "stream",
     "text": [
      "Training: 100%|██████████| 50/50 [00:03<00:00, 12.82it/s]\n",
      "Evaluating: 100%|██████████| 30/30 [00:00<00:00, 33.11it/s]\n",
      "Training:   2%|▏         | 1/50 [00:00<00:06,  7.47it/s]"
     ]
    },
    {
     "name": "stdout",
     "output_type": "stream",
     "text": [
      "200.0\n"
     ]
    },
    {
     "name": "stderr",
     "output_type": "stream",
     "text": [
      "Training: 100%|██████████| 50/50 [00:04<00:00, 11.56it/s]\n",
      "Evaluating: 100%|██████████| 30/30 [00:00<00:00, 33.67it/s]\n",
      "Training:   2%|▏         | 1/50 [00:00<00:08,  5.80it/s]"
     ]
    },
    {
     "name": "stdout",
     "output_type": "stream",
     "text": [
      "200.0\n"
     ]
    },
    {
     "name": "stderr",
     "output_type": "stream",
     "text": [
      "Training: 100%|██████████| 50/50 [00:04<00:00, 11.60it/s]\n",
      "Evaluating: 100%|██████████| 30/30 [00:00<00:00, 33.13it/s]\n",
      "Training:   0%|          | 0/50 [00:00<?, ?it/s]"
     ]
    },
    {
     "name": "stdout",
     "output_type": "stream",
     "text": [
      "200.0\n"
     ]
    },
    {
     "name": "stderr",
     "output_type": "stream",
     "text": [
      "Training: 100%|██████████| 50/50 [00:04<00:00, 11.51it/s]\n",
      "Evaluating: 100%|██████████| 30/30 [00:00<00:00, 33.55it/s]\n",
      "Training:   2%|▏         | 1/50 [00:00<00:06,  7.84it/s]"
     ]
    },
    {
     "name": "stdout",
     "output_type": "stream",
     "text": [
      "200.0\n"
     ]
    },
    {
     "name": "stderr",
     "output_type": "stream",
     "text": [
      "Training: 100%|██████████| 50/50 [00:04<00:00, 12.33it/s]\n",
      "Evaluating: 100%|██████████| 30/30 [00:00<00:00, 166.84it/s]\n",
      "Training:  10%|█         | 5/50 [00:00<00:01, 38.30it/s]"
     ]
    },
    {
     "name": "stdout",
     "output_type": "stream",
     "text": [
      "41.233333333333334\n"
     ]
    },
    {
     "name": "stderr",
     "output_type": "stream",
     "text": [
      "Training: 100%|██████████| 50/50 [00:03<00:00, 12.06it/s]\n",
      "Evaluating: 100%|██████████| 30/30 [00:00<00:00, 32.55it/s]\n",
      "Training:   4%|▍         | 2/50 [00:00<00:03, 12.38it/s]"
     ]
    },
    {
     "name": "stdout",
     "output_type": "stream",
     "text": [
      "200.0\n"
     ]
    },
    {
     "name": "stderr",
     "output_type": "stream",
     "text": [
      "Training: 100%|██████████| 50/50 [00:03<00:00, 11.41it/s]\n",
      "Evaluating: 100%|██████████| 30/30 [00:00<00:00, 32.48it/s]\n",
      "Training:   0%|          | 0/50 [00:00<?, ?it/s]"
     ]
    },
    {
     "name": "stdout",
     "output_type": "stream",
     "text": [
      "200.0\n"
     ]
    },
    {
     "name": "stderr",
     "output_type": "stream",
     "text": [
      "Training: 100%|██████████| 50/50 [00:04<00:00, 11.23it/s]\n",
      "Evaluating: 100%|██████████| 30/30 [00:00<00:00, 33.74it/s]\n",
      "Training:   0%|          | 0/50 [00:00<?, ?it/s]"
     ]
    },
    {
     "name": "stdout",
     "output_type": "stream",
     "text": [
      "200.0\n"
     ]
    },
    {
     "name": "stderr",
     "output_type": "stream",
     "text": [
      "Training: 100%|██████████| 50/50 [00:04<00:00, 11.29it/s]\n",
      "Evaluating: 100%|██████████| 30/30 [00:00<00:00, 32.85it/s]\n",
      "Training:   2%|▏         | 1/50 [00:00<00:05,  9.68it/s]"
     ]
    },
    {
     "name": "stdout",
     "output_type": "stream",
     "text": [
      "200.0\n"
     ]
    },
    {
     "name": "stderr",
     "output_type": "stream",
     "text": [
      "Training: 100%|██████████| 50/50 [00:03<00:00, 13.95it/s]\n",
      "Evaluating: 100%|██████████| 30/30 [00:00<00:00, 32.53it/s]\n",
      "Training:   0%|          | 0/50 [00:00<?, ?it/s]"
     ]
    },
    {
     "name": "stdout",
     "output_type": "stream",
     "text": [
      "200.0\n"
     ]
    },
    {
     "name": "stderr",
     "output_type": "stream",
     "text": [
      "Training: 100%|██████████| 50/50 [00:04<00:00, 11.27it/s]\n",
      "Evaluating: 100%|██████████| 30/30 [00:00<00:00, 31.05it/s]\n",
      "Training:   0%|          | 0/50 [00:00<?, ?it/s]"
     ]
    },
    {
     "name": "stdout",
     "output_type": "stream",
     "text": [
      "200.0\n"
     ]
    },
    {
     "name": "stderr",
     "output_type": "stream",
     "text": [
      "Training: 100%|██████████| 50/50 [00:04<00:00, 12.07it/s]\n",
      "Evaluating: 100%|██████████| 30/30 [00:00<00:00, 31.97it/s]\n",
      "Training:   2%|▏         | 1/50 [00:00<00:07,  6.20it/s]"
     ]
    },
    {
     "name": "stdout",
     "output_type": "stream",
     "text": [
      "200.0\n"
     ]
    },
    {
     "name": "stderr",
     "output_type": "stream",
     "text": [
      "Training: 100%|██████████| 50/50 [00:03<00:00, 12.06it/s]\n",
      "Evaluating: 100%|██████████| 30/30 [00:00<00:00, 33.22it/s]\n",
      "Training:   2%|▏         | 1/50 [00:00<00:06,  7.32it/s]"
     ]
    },
    {
     "name": "stdout",
     "output_type": "stream",
     "text": [
      "199.8\n"
     ]
    },
    {
     "name": "stderr",
     "output_type": "stream",
     "text": [
      "Training: 100%|██████████| 50/50 [00:05<00:00, 10.35it/s]\n",
      "Evaluating: 100%|██████████| 30/30 [00:01<00:00, 26.13it/s]\n",
      "Training:   2%|▏         | 1/50 [00:00<00:07,  6.44it/s]"
     ]
    },
    {
     "name": "stdout",
     "output_type": "stream",
     "text": [
      "200.0\n"
     ]
    },
    {
     "name": "stderr",
     "output_type": "stream",
     "text": [
      "Training: 100%|██████████| 50/50 [00:05<00:00,  8.88it/s]\n",
      "Evaluating: 100%|██████████| 30/30 [00:00<00:00, 33.63it/s]\n",
      "Training:   2%|▏         | 1/50 [00:00<00:06,  8.06it/s]"
     ]
    },
    {
     "name": "stdout",
     "output_type": "stream",
     "text": [
      "190.03333333333333\n"
     ]
    },
    {
     "name": "stderr",
     "output_type": "stream",
     "text": [
      "Training: 100%|██████████| 50/50 [00:04<00:00, 11.39it/s]\n",
      "Evaluating: 100%|██████████| 30/30 [00:00<00:00, 33.55it/s]\n",
      "Training:   0%|          | 0/50 [00:00<?, ?it/s]"
     ]
    },
    {
     "name": "stdout",
     "output_type": "stream",
     "text": [
      "200.0\n"
     ]
    },
    {
     "name": "stderr",
     "output_type": "stream",
     "text": [
      "Training: 100%|██████████| 50/50 [00:04<00:00, 11.58it/s]\n",
      "Evaluating: 100%|██████████| 30/30 [00:00<00:00, 33.77it/s]\n",
      "Training:   0%|          | 0/50 [00:00<?, ?it/s]"
     ]
    },
    {
     "name": "stdout",
     "output_type": "stream",
     "text": [
      "200.0\n"
     ]
    },
    {
     "name": "stderr",
     "output_type": "stream",
     "text": [
      "Training: 100%|██████████| 50/50 [00:04<00:00, 11.17it/s]\n",
      "Evaluating: 100%|██████████| 30/30 [00:00<00:00, 30.03it/s]\n",
      "Training:   0%|          | 0/50 [00:00<?, ?it/s]"
     ]
    },
    {
     "name": "stdout",
     "output_type": "stream",
     "text": [
      "200.0\n"
     ]
    },
    {
     "name": "stderr",
     "output_type": "stream",
     "text": [
      "Training: 100%|██████████| 50/50 [00:04<00:00, 12.20it/s]\n",
      "Evaluating: 100%|██████████| 30/30 [00:01<00:00, 26.01it/s]\n",
      "Training:   2%|▏         | 1/50 [00:00<00:05,  8.77it/s]"
     ]
    },
    {
     "name": "stdout",
     "output_type": "stream",
     "text": [
      "200.0\n"
     ]
    },
    {
     "name": "stderr",
     "output_type": "stream",
     "text": [
      "Training: 100%|██████████| 50/50 [00:04<00:00, 12.50it/s]\n",
      "Evaluating: 100%|██████████| 30/30 [00:00<00:00, 32.90it/s]\n",
      "Training:   4%|▍         | 2/50 [00:00<00:04, 10.85it/s]"
     ]
    },
    {
     "name": "stdout",
     "output_type": "stream",
     "text": [
      "200.0\n"
     ]
    },
    {
     "name": "stderr",
     "output_type": "stream",
     "text": [
      "Training: 100%|██████████| 50/50 [00:04<00:00, 11.28it/s]\n",
      "Evaluating: 100%|██████████| 30/30 [00:00<00:00, 33.08it/s]\n",
      "Training:   4%|▍         | 2/50 [00:00<00:04, 11.26it/s]"
     ]
    },
    {
     "name": "stdout",
     "output_type": "stream",
     "text": [
      "200.0\n"
     ]
    },
    {
     "name": "stderr",
     "output_type": "stream",
     "text": [
      "Training: 100%|██████████| 50/50 [00:04<00:00, 11.67it/s]\n",
      "Evaluating: 100%|██████████| 30/30 [00:00<00:00, 31.78it/s]\n",
      "Training:   2%|▏         | 1/50 [00:00<00:05,  8.60it/s]"
     ]
    },
    {
     "name": "stdout",
     "output_type": "stream",
     "text": [
      "200.0\n"
     ]
    },
    {
     "name": "stderr",
     "output_type": "stream",
     "text": [
      "Training: 100%|██████████| 50/50 [00:05<00:00,  8.76it/s]\n",
      "Evaluating: 100%|██████████| 30/30 [00:00<00:00, 32.59it/s]\n",
      "Training:   2%|▏         | 1/50 [00:00<00:05,  8.29it/s]"
     ]
    },
    {
     "name": "stdout",
     "output_type": "stream",
     "text": [
      "200.0\n"
     ]
    },
    {
     "name": "stderr",
     "output_type": "stream",
     "text": [
      "Training: 100%|██████████| 50/50 [00:05<00:00,  8.65it/s]\n",
      "Evaluating: 100%|██████████| 30/30 [00:00<00:00, 32.06it/s]\n",
      "Training:   2%|▏         | 1/50 [00:00<00:05,  8.89it/s]"
     ]
    },
    {
     "name": "stdout",
     "output_type": "stream",
     "text": [
      "200.0\n"
     ]
    },
    {
     "name": "stderr",
     "output_type": "stream",
     "text": [
      "Training: 100%|██████████| 50/50 [00:04<00:00, 11.38it/s]\n",
      "Evaluating: 100%|██████████| 30/30 [00:00<00:00, 33.73it/s]\n",
      "Training:   2%|▏         | 1/50 [00:00<00:06,  7.85it/s]"
     ]
    },
    {
     "name": "stdout",
     "output_type": "stream",
     "text": [
      "200.0\n"
     ]
    },
    {
     "name": "stderr",
     "output_type": "stream",
     "text": [
      "Training: 100%|██████████| 50/50 [00:04<00:00, 11.30it/s]\n",
      "Evaluating: 100%|██████████| 30/30 [00:00<00:00, 34.36it/s]\n",
      "Training:   2%|▏         | 1/50 [00:00<00:07,  6.22it/s]"
     ]
    },
    {
     "name": "stdout",
     "output_type": "stream",
     "text": [
      "200.0\n"
     ]
    },
    {
     "name": "stderr",
     "output_type": "stream",
     "text": [
      "Training: 100%|██████████| 50/50 [00:05<00:00,  8.77it/s]\n",
      "Evaluating: 100%|██████████| 30/30 [00:01<00:00, 26.09it/s]\n",
      "Training:   2%|▏         | 1/50 [00:00<00:06,  7.94it/s]"
     ]
    },
    {
     "name": "stdout",
     "output_type": "stream",
     "text": [
      "200.0\n"
     ]
    },
    {
     "name": "stderr",
     "output_type": "stream",
     "text": [
      "Training: 100%|██████████| 50/50 [00:04<00:00, 11.76it/s]\n",
      "Evaluating: 100%|██████████| 30/30 [00:00<00:00, 34.62it/s]\n",
      "Training:   2%|▏         | 1/50 [00:00<00:07,  6.90it/s]"
     ]
    },
    {
     "name": "stdout",
     "output_type": "stream",
     "text": [
      "200.0\n"
     ]
    },
    {
     "name": "stderr",
     "output_type": "stream",
     "text": [
      "Training: 100%|██████████| 50/50 [00:04<00:00, 11.28it/s]\n",
      "Evaluating: 100%|██████████| 30/30 [00:00<00:00, 33.77it/s]\n",
      "Training:   2%|▏         | 1/50 [00:00<00:06,  7.74it/s]"
     ]
    },
    {
     "name": "stdout",
     "output_type": "stream",
     "text": [
      "200.0\n"
     ]
    },
    {
     "name": "stderr",
     "output_type": "stream",
     "text": [
      "Training: 100%|██████████| 50/50 [00:04<00:00, 11.51it/s]\n",
      "Evaluating: 100%|██████████| 30/30 [00:01<00:00, 26.19it/s]\n",
      "Training:   2%|▏         | 1/50 [00:00<00:07,  6.70it/s]"
     ]
    },
    {
     "name": "stdout",
     "output_type": "stream",
     "text": [
      "200.0\n"
     ]
    },
    {
     "name": "stderr",
     "output_type": "stream",
     "text": [
      "Training: 100%|██████████| 50/50 [00:04<00:00, 11.45it/s]\n",
      "Evaluating: 100%|██████████| 30/30 [00:00<00:00, 34.34it/s]\n",
      "Training:   2%|▏         | 1/50 [00:00<00:08,  5.85it/s]"
     ]
    },
    {
     "name": "stdout",
     "output_type": "stream",
     "text": [
      "200.0\n"
     ]
    },
    {
     "name": "stderr",
     "output_type": "stream",
     "text": [
      "Training: 100%|██████████| 50/50 [00:04<00:00, 11.21it/s]\n",
      "Evaluating: 100%|██████████| 30/30 [00:00<00:00, 33.57it/s]\n",
      "Training:   2%|▏         | 1/50 [00:00<00:07,  6.89it/s]"
     ]
    },
    {
     "name": "stdout",
     "output_type": "stream",
     "text": [
      "200.0\n"
     ]
    },
    {
     "name": "stderr",
     "output_type": "stream",
     "text": [
      "Training: 100%|██████████| 50/50 [00:04<00:00, 11.35it/s]\n",
      "Evaluating: 100%|██████████| 30/30 [00:01<00:00, 26.17it/s]\n",
      "Training:   2%|▏         | 1/50 [00:00<00:06,  7.96it/s]"
     ]
    },
    {
     "name": "stdout",
     "output_type": "stream",
     "text": [
      "200.0\n"
     ]
    },
    {
     "name": "stderr",
     "output_type": "stream",
     "text": [
      "Training: 100%|██████████| 50/50 [00:04<00:00, 12.86it/s]\n",
      "Evaluating: 100%|██████████| 30/30 [00:00<00:00, 47.52it/s]\n",
      "Training:   4%|▍         | 2/50 [00:00<00:04, 11.01it/s]"
     ]
    },
    {
     "name": "stdout",
     "output_type": "stream",
     "text": [
      "139.63333333333333\n"
     ]
    },
    {
     "name": "stderr",
     "output_type": "stream",
     "text": [
      "Training: 100%|██████████| 50/50 [00:03<00:00, 14.81it/s]\n",
      "Evaluating: 100%|██████████| 30/30 [00:00<00:00, 33.22it/s]\n",
      "Training:   2%|▏         | 1/50 [00:00<00:08,  6.10it/s]"
     ]
    },
    {
     "name": "stdout",
     "output_type": "stream",
     "text": [
      "200.0\n"
     ]
    },
    {
     "name": "stderr",
     "output_type": "stream",
     "text": [
      "Training: 100%|██████████| 50/50 [00:05<00:00,  8.89it/s]\n",
      "Evaluating: 100%|██████████| 30/30 [00:00<00:00, 53.27it/s]\n",
      "Training:   2%|▏         | 1/50 [00:00<00:06,  7.97it/s]"
     ]
    },
    {
     "name": "stdout",
     "output_type": "stream",
     "text": [
      "116.36666666666666\n"
     ]
    },
    {
     "name": "stderr",
     "output_type": "stream",
     "text": [
      "Training: 100%|██████████| 50/50 [00:03<00:00, 12.52it/s]\n",
      "Evaluating: 100%|██████████| 30/30 [00:00<00:00, 34.51it/s]\n",
      "Training:   2%|▏         | 1/50 [00:00<00:07,  6.96it/s]"
     ]
    },
    {
     "name": "stdout",
     "output_type": "stream",
     "text": [
      "200.0\n"
     ]
    },
    {
     "name": "stderr",
     "output_type": "stream",
     "text": [
      "Training: 100%|██████████| 50/50 [00:04<00:00, 12.35it/s]\n",
      "Evaluating: 100%|██████████| 30/30 [00:00<00:00, 34.27it/s]\n",
      "Training:   2%|▏         | 1/50 [00:00<00:08,  5.56it/s]"
     ]
    },
    {
     "name": "stdout",
     "output_type": "stream",
     "text": [
      "200.0\n"
     ]
    },
    {
     "name": "stderr",
     "output_type": "stream",
     "text": [
      "Training: 100%|██████████| 50/50 [00:04<00:00, 12.51it/s]\n",
      "Evaluating: 100%|██████████| 30/30 [00:00<00:00, 34.19it/s]\n",
      "Training:   2%|▏         | 1/50 [00:00<00:07,  6.81it/s]"
     ]
    },
    {
     "name": "stdout",
     "output_type": "stream",
     "text": [
      "200.0\n"
     ]
    },
    {
     "name": "stderr",
     "output_type": "stream",
     "text": [
      "Training: 100%|██████████| 50/50 [00:03<00:00, 12.80it/s]\n",
      "Evaluating: 100%|██████████| 30/30 [00:00<00:00, 33.54it/s]\n",
      "Training:   0%|          | 0/50 [00:00<?, ?it/s]"
     ]
    },
    {
     "name": "stdout",
     "output_type": "stream",
     "text": [
      "200.0\n"
     ]
    },
    {
     "name": "stderr",
     "output_type": "stream",
     "text": [
      "Training: 100%|██████████| 50/50 [00:04<00:00, 11.23it/s]\n",
      "Evaluating: 100%|██████████| 30/30 [00:00<00:00, 33.71it/s]\n",
      "Training:   2%|▏         | 1/50 [00:00<00:08,  5.57it/s]"
     ]
    },
    {
     "name": "stdout",
     "output_type": "stream",
     "text": [
      "196.83333333333334\n"
     ]
    },
    {
     "name": "stderr",
     "output_type": "stream",
     "text": [
      "Training: 100%|██████████| 50/50 [00:04<00:00, 12.25it/s]\n",
      "Evaluating: 100%|██████████| 30/30 [00:00<00:00, 33.56it/s]\n",
      "Training:   0%|          | 0/50 [00:00<?, ?it/s]"
     ]
    },
    {
     "name": "stdout",
     "output_type": "stream",
     "text": [
      "200.0\n"
     ]
    },
    {
     "name": "stderr",
     "output_type": "stream",
     "text": [
      "Training: 100%|██████████| 50/50 [00:04<00:00, 11.06it/s]\n",
      "Evaluating: 100%|██████████| 30/30 [00:00<00:00, 36.14it/s]\n",
      "Training:   2%|▏         | 1/50 [00:00<00:07,  6.93it/s]"
     ]
    },
    {
     "name": "stdout",
     "output_type": "stream",
     "text": [
      "200.0\n"
     ]
    },
    {
     "name": "stderr",
     "output_type": "stream",
     "text": [
      "Training: 100%|██████████| 50/50 [00:05<00:00,  8.75it/s]\n",
      "Evaluating: 100%|██████████| 30/30 [00:00<00:00, 32.54it/s]\n",
      "Training:   2%|▏         | 1/50 [00:00<00:07,  6.70it/s]"
     ]
    },
    {
     "name": "stdout",
     "output_type": "stream",
     "text": [
      "200.0\n"
     ]
    },
    {
     "name": "stderr",
     "output_type": "stream",
     "text": [
      "Training: 100%|██████████| 50/50 [00:04<00:00, 11.25it/s]\n",
      "Evaluating: 100%|██████████| 30/30 [00:00<00:00, 34.14it/s]\n",
      "Training:   2%|▏         | 1/50 [00:00<00:06,  7.06it/s]"
     ]
    },
    {
     "name": "stdout",
     "output_type": "stream",
     "text": [
      "200.0\n"
     ]
    },
    {
     "name": "stderr",
     "output_type": "stream",
     "text": [
      "Training: 100%|██████████| 50/50 [00:04<00:00, 11.60it/s]\n",
      "Evaluating: 100%|██████████| 30/30 [00:01<00:00, 26.34it/s]\n",
      "Training:   2%|▏         | 1/50 [00:00<00:05,  9.09it/s]"
     ]
    },
    {
     "name": "stdout",
     "output_type": "stream",
     "text": [
      "200.0\n"
     ]
    },
    {
     "name": "stderr",
     "output_type": "stream",
     "text": [
      "Training: 100%|██████████| 50/50 [00:04<00:00, 11.40it/s]\n",
      "Evaluating: 100%|██████████| 30/30 [00:00<00:00, 33.83it/s]\n",
      "Training:   0%|          | 0/50 [00:00<?, ?it/s]"
     ]
    },
    {
     "name": "stdout",
     "output_type": "stream",
     "text": [
      "200.0\n"
     ]
    },
    {
     "name": "stderr",
     "output_type": "stream",
     "text": [
      "Training: 100%|██████████| 50/50 [00:04<00:00, 11.51it/s]\n",
      "Evaluating: 100%|██████████| 30/30 [00:00<00:00, 33.67it/s]\n",
      "Training:   2%|▏         | 1/50 [00:00<00:06,  7.31it/s]"
     ]
    },
    {
     "name": "stdout",
     "output_type": "stream",
     "text": [
      "200.0\n"
     ]
    },
    {
     "name": "stderr",
     "output_type": "stream",
     "text": [
      "Training: 100%|██████████| 50/50 [00:04<00:00, 11.51it/s]\n",
      "Evaluating: 100%|██████████| 30/30 [00:00<00:00, 34.07it/s]\n",
      "Training:   2%|▏         | 1/50 [00:00<00:07,  6.82it/s]"
     ]
    },
    {
     "name": "stdout",
     "output_type": "stream",
     "text": [
      "200.0\n"
     ]
    },
    {
     "name": "stderr",
     "output_type": "stream",
     "text": [
      "Training: 100%|██████████| 50/50 [00:04<00:00, 11.34it/s]\n",
      "Evaluating: 100%|██████████| 30/30 [00:00<00:00, 33.39it/s]\n",
      "Training:   0%|          | 0/50 [00:00<?, ?it/s]"
     ]
    },
    {
     "name": "stdout",
     "output_type": "stream",
     "text": [
      "200.0\n"
     ]
    },
    {
     "name": "stderr",
     "output_type": "stream",
     "text": [
      "Training: 100%|██████████| 50/50 [00:04<00:00, 11.16it/s]\n",
      "Evaluating: 100%|██████████| 30/30 [00:00<00:00, 34.29it/s]\n",
      "Training:   0%|          | 0/50 [00:00<?, ?it/s]"
     ]
    },
    {
     "name": "stdout",
     "output_type": "stream",
     "text": [
      "200.0\n"
     ]
    },
    {
     "name": "stderr",
     "output_type": "stream",
     "text": [
      "Training: 100%|██████████| 50/50 [00:04<00:00, 11.12it/s]\n",
      "Evaluating: 100%|██████████| 30/30 [00:00<00:00, 34.47it/s]\n",
      "Training:   2%|▏         | 1/50 [00:00<00:07,  6.43it/s]"
     ]
    },
    {
     "name": "stdout",
     "output_type": "stream",
     "text": [
      "200.0\n"
     ]
    },
    {
     "name": "stderr",
     "output_type": "stream",
     "text": [
      "Training: 100%|██████████| 50/50 [00:04<00:00, 11.25it/s]\n",
      "Evaluating: 100%|██████████| 30/30 [00:00<00:00, 34.17it/s]\n",
      "Training:   2%|▏         | 1/50 [00:00<00:07,  6.80it/s]"
     ]
    },
    {
     "name": "stdout",
     "output_type": "stream",
     "text": [
      "200.0\n"
     ]
    },
    {
     "name": "stderr",
     "output_type": "stream",
     "text": [
      "Training: 100%|██████████| 50/50 [00:04<00:00, 11.28it/s]\n",
      "Evaluating: 100%|██████████| 30/30 [00:00<00:00, 34.38it/s]\n",
      "Training:   0%|          | 0/50 [00:00<?, ?it/s]"
     ]
    },
    {
     "name": "stdout",
     "output_type": "stream",
     "text": [
      "200.0\n"
     ]
    },
    {
     "name": "stderr",
     "output_type": "stream",
     "text": [
      "Training: 100%|██████████| 50/50 [00:05<00:00,  8.65it/s]\n",
      "Evaluating: 100%|██████████| 30/30 [00:00<00:00, 32.47it/s]\n",
      "Training:   2%|▏         | 1/50 [00:00<00:06,  8.11it/s]"
     ]
    },
    {
     "name": "stdout",
     "output_type": "stream",
     "text": [
      "200.0\n"
     ]
    },
    {
     "name": "stderr",
     "output_type": "stream",
     "text": [
      "Training: 100%|██████████| 50/50 [00:04<00:00, 11.36it/s]\n",
      "Evaluating: 100%|██████████| 30/30 [00:00<00:00, 33.88it/s]\n",
      "Training:   0%|          | 0/50 [00:00<?, ?it/s]"
     ]
    },
    {
     "name": "stdout",
     "output_type": "stream",
     "text": [
      "200.0\n"
     ]
    },
    {
     "name": "stderr",
     "output_type": "stream",
     "text": [
      "Training: 100%|██████████| 50/50 [00:04<00:00, 11.07it/s]\n",
      "Evaluating: 100%|██████████| 30/30 [00:00<00:00, 33.66it/s]\n",
      "Training:   0%|          | 0/50 [00:00<?, ?it/s]"
     ]
    },
    {
     "name": "stdout",
     "output_type": "stream",
     "text": [
      "200.0\n"
     ]
    },
    {
     "name": "stderr",
     "output_type": "stream",
     "text": [
      "Training: 100%|██████████| 50/50 [00:04<00:00, 11.68it/s]\n",
      "Evaluating: 100%|██████████| 30/30 [00:00<00:00, 37.56it/s]\n",
      "Training:   0%|          | 0/50 [00:00<?, ?it/s]"
     ]
    },
    {
     "name": "stdout",
     "output_type": "stream",
     "text": [
      "188.26666666666668\n"
     ]
    },
    {
     "name": "stderr",
     "output_type": "stream",
     "text": [
      "Training: 100%|██████████| 50/50 [00:04<00:00, 11.18it/s]\n",
      "Evaluating: 100%|██████████| 30/30 [00:00<00:00, 33.11it/s]\n",
      "Training:   0%|          | 0/50 [00:00<?, ?it/s]"
     ]
    },
    {
     "name": "stdout",
     "output_type": "stream",
     "text": [
      "200.0\n"
     ]
    },
    {
     "name": "stderr",
     "output_type": "stream",
     "text": [
      "Training: 100%|██████████| 50/50 [00:04<00:00, 10.86it/s]\n",
      "Evaluating: 100%|██████████| 30/30 [00:00<00:00, 33.98it/s]\n",
      "Training:   0%|          | 0/50 [00:00<?, ?it/s]"
     ]
    },
    {
     "name": "stdout",
     "output_type": "stream",
     "text": [
      "200.0\n"
     ]
    },
    {
     "name": "stderr",
     "output_type": "stream",
     "text": [
      "Training: 100%|██████████| 50/50 [00:04<00:00, 11.17it/s]\n",
      "Evaluating: 100%|██████████| 30/30 [00:00<00:00, 35.75it/s]\n",
      "Training:   4%|▍         | 2/50 [00:00<00:04, 10.86it/s]"
     ]
    },
    {
     "name": "stdout",
     "output_type": "stream",
     "text": [
      "200.0\n"
     ]
    },
    {
     "name": "stderr",
     "output_type": "stream",
     "text": [
      "Training: 100%|██████████| 50/50 [00:04<00:00, 11.32it/s]\n",
      "Evaluating: 100%|██████████| 30/30 [00:00<00:00, 32.34it/s]\n",
      "Training:   0%|          | 0/50 [00:00<?, ?it/s]"
     ]
    },
    {
     "name": "stdout",
     "output_type": "stream",
     "text": [
      "200.0\n"
     ]
    },
    {
     "name": "stderr",
     "output_type": "stream",
     "text": [
      "Training: 100%|██████████| 50/50 [00:04<00:00, 11.12it/s]\n",
      "Evaluating: 100%|██████████| 30/30 [00:00<00:00, 34.03it/s]\n",
      "Training:   2%|▏         | 1/50 [00:00<00:07,  6.65it/s]"
     ]
    },
    {
     "name": "stdout",
     "output_type": "stream",
     "text": [
      "200.0\n"
     ]
    },
    {
     "name": "stderr",
     "output_type": "stream",
     "text": [
      "Training: 100%|██████████| 50/50 [00:04<00:00, 11.38it/s]\n",
      "Evaluating: 100%|██████████| 30/30 [00:00<00:00, 33.71it/s]\n",
      "Training:   2%|▏         | 1/50 [00:00<00:09,  5.33it/s]"
     ]
    },
    {
     "name": "stdout",
     "output_type": "stream",
     "text": [
      "200.0\n"
     ]
    },
    {
     "name": "stderr",
     "output_type": "stream",
     "text": [
      "Training: 100%|██████████| 50/50 [00:04<00:00, 11.32it/s]\n",
      "Evaluating: 100%|██████████| 30/30 [00:00<00:00, 34.02it/s]\n"
     ]
    },
    {
     "name": "stdout",
     "output_type": "stream",
     "text": [
      "200.0\n",
      "\n",
      "Learning Performance:\n",
      "\n"
     ]
    },
    {
     "data": {
      "text/plain": [
       "<Figure size 432x288 with 0 Axes>"
      ]
     },
     "metadata": {},
     "output_type": "display_data"
    },
    {
     "data": {
      "image/png": "[encoded data removed]",
      "text/plain": [
       "<Figure size 432x288 with 1 Axes>"
      ]
     },
     "metadata": {},
     "output_type": "display_data"
    }
   ],
   "source": [
    "#-----------------------------------------------------RUN-----------------------------------\n",
    "training_episodes, test_interval = 10000, 50\n",
    "agent = DQN_agent(env_CartPole, hyperparams_CartPole)\n",
    "result = agent.learn_and_evaluate(training_episodes, test_interval)\n",
    "plot_result(result, test_interval, [\"batch_update with target_model\"])"
   ]
  },
  {
   "cell_type": "markdown",
   "metadata": {},
   "source": [
    "***\n",
    "# Part 2: Distributed DQN\n",
    "***\n",
    "\n",
    "Here you will implement a distributed version of the above DQN approach. The distribution approach can be the same as that used for the table-based distribution Q-learning algorithm from homework 3."
   ]
  },
  {
   "cell_type": "markdown",
   "metadata": {},
   "source": [
    "## init Ray"
   ]
  },
  {
   "cell_type": "code",
   "execution_count": null,
   "metadata": {},
   "outputs": [],
   "source": [
    "ray.shutdown()\n",
    "ray.init(include_webui=False, ignore_reinit_error=True, redis_max_memory=500000000, object_store_memory=5000000000)"
   ]
  },
  {
   "cell_type": "markdown",
   "metadata": {},
   "source": [
    "## Distributed DQN agent\n",
    "The idea is to speedup learning by creating actors to collect data and a model_server to update the neural network model.\n",
    "- Collector: There is a simulator inside each collector. Their job is to collect exprience from the simulator, and send them to the memory server. They follow the explore_or_exploit policy, getting greedy action from model server. Also, call update function of model server to update the model.  \n",
    "- Evaluator: There is a simulator inside the evaluator. It is called by the the Model Server, taking eval_model from it, and test its performance.\n",
    "- Model Server: Stores the evalation and target networks. It Takes experiences from Memory Server and updates the Q-network, also replacing target Q-network periodically. It also interfaces to the evaluator periodically. \n",
    "- Memory Server: It is used to store/sample experience relays.\n",
    "\n",
    "An image of this architecture is below. \n",
    "\n",
    "For this part, you should use our custom_cartpole as your enviroment. This version of cartpole is slower, which allows for the benefits of distributed experience collection to be observed. In particular, the time to generate an experience tuple needs to be non-trivial compared to the time needed to do a neural network model update. \n",
    "\n",
    "<span style=\"color:green\">It is better to run the distributed DQN agent in exclusive node, not in Jupyter notebook</span>\n",
    "```\n",
    "Store all of your distrited DQN code into a python file.\n",
    "ssh colfax (get access to the Devcloud on terminal)\n",
    "qsub -I -lselect=1\n",
    "python3 distributed_dqn.py\n",
    "```\n",
    "\n",
    "<img src=\"distributed DQN.png\">\n",
    "\n",
    "For this part of the homework you need to submit your code for distributed DQN and run experiments that vary the number of workers involved. Produce some learning curves and timing results and discuss your observations. "
   ]
  },
  {
   "cell_type": "code",
   "execution_count": null,
   "metadata": {},
   "outputs": [],
   "source": [
    "from memory_remote import ReplayBuffer_remote\n",
    "from dqn_model import _DQNModel\n",
    "import torch\n",
    "from custom_cartpole import CartPoleEnv"
   ]
  },
  {
   "cell_type": "code",
   "execution_count": null,
   "metadata": {},
   "outputs": [],
   "source": [
    "# Set the Env name and action space for CartPole\n",
    "ENV_NAME = 'CartPole_distributed'\n",
    "\n",
    "# Set result saveing floder\n",
    "result_floder = ENV_NAME + \"_distributed\"\n",
    "result_file = ENV_NAME + \"/results.txt\"\n",
    "if not os.path.isdir(result_floder):\n",
    "    os.mkdir(result_floder)\n",
    "torch.set_num_threads(12)"
   ]
  }
 ],
 "metadata": {
  "kernelspec": {
   "display_name": "Python 3 (Intel, 2019 update 1)",
   "language": "python",
   "name": "c009-intel_distribution_of_python_3_2019u1"
  },
  "language_info": {
   "codemirror_mode": {
    "name": "ipython",
    "version": 3
   },
   "file_extension": ".py",
   "mimetype": "text/x-python",
   "name": "python",
   "nbconvert_exporter": "python",
   "pygments_lexer": "ipython3",
   "version": "3.6.5"
  }
 },
 "nbformat": 4,
 "nbformat_minor": 2
}
